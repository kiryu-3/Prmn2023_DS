{
  "nbformat": 4,
  "nbformat_minor": 0,
  "metadata": {
    "colab": {
      "provenance": [],
      "toc_visible": true,
      "authorship_tag": "ABX9TyO/m8M/4cFsgOHOaKWZbFXM",
      "include_colab_link": true
    },
    "kernelspec": {
      "name": "python3",
      "display_name": "Python 3"
    },
    "language_info": {
      "name": "python"
    }
  },
  "cells": [
    {
      "cell_type": "markdown",
      "metadata": {
        "id": "view-in-github",
        "colab_type": "text"
      },
      "source": [
        "<a href=\"https://colab.research.google.com/github/kiryu-3/Prmn2023_DS/blob/main/Python/Streamlit/Streamlit_basic_3.ipynb\" target=\"_parent\"><img src=\"https://colab.research.google.com/assets/colab-badge.svg\" alt=\"Open In Colab\"/></a>"
      ]
    },
    {
      "cell_type": "markdown",
      "source": [
        "# Streamlit入門編③"
      ],
      "metadata": {
        "id": "VihB252MNBiG"
      }
    },
    {
      "cell_type": "markdown",
      "source": [
        "本資料作成において、参考にしたページは[こちら](https://data-analytics.fun/2022/08/28/streamlit-recap/#toc10)になります。  \n",
        "かなりこのサイト通りに進めています。"
      ],
      "metadata": {
        "id": "l6I0c-EQz9-O"
      }
    },
    {
      "cell_type": "code",
      "source": [
        "# 最初に実行してください\n",
        "# ライブラリのインストール\n",
        "!pip install Streamlit\n",
        "!pip install yfinance"
      ],
      "metadata": {
        "id": "a6CuhvlE_rfr"
      },
      "execution_count": null,
      "outputs": []
    },
    {
      "cell_type": "code",
      "execution_count": null,
      "metadata": {
        "id": "15jCf052Kd37"
      },
      "outputs": [],
      "source": [
        "# 最初に実行してください\n",
        "# モジュールのインポート\n",
        "import streamlit as st"
      ]
    },
    {
      "cell_type": "markdown",
      "source": [
        "## レイアウト設定"
      ],
      "metadata": {
        "id": "YKXClWsxXreO"
      }
    },
    {
      "cell_type": "markdown",
      "source": [
        "全体のレイアウトを調整する方法を学びます。"
      ],
      "metadata": {
        "id": "wEzS2CzmwTkv"
      }
    },
    {
      "cell_type": "markdown",
      "source": [
        "[こちら](https://data-analytics.fun/2022/07/04/streamlit-layout/)のページを参考にしました。  \n"
      ],
      "metadata": {
        "id": "tC1Hf6DJ0PdF"
      }
    },
    {
      "cell_type": "markdown",
      "source": [
        "### サイドバーの設定"
      ],
      "metadata": {
        "id": "GJ375wqPTZL_"
      }
    },
    {
      "cell_type": "markdown",
      "source": [
        "`st.sidebar()`で、サイドバーを設定することができます。\n"
      ],
      "metadata": {
        "id": "8_pZuJ0RiO3h"
      }
    },
    {
      "cell_type": "markdown",
      "source": [
        "では表示してみましょう。"
      ],
      "metadata": {
        "id": "iQzkQILSyqND"
      }
    },
    {
      "cell_type": "code",
      "source": [
        "# sample1.pyというファイルに記述する\n",
        "\n",
        "%%writefile sample1.py\n",
        "import streamlit as st\n",
        "import yfinance as yf\n",
        "import pandas as pd\n",
        "from datetime import datetime, timedelta\n",
        "\n",
        "# 株価情報の取得\n",
        "tickers = [\"GOOGL\", \"AAPL\", \"META\", \"AMZN\"]  # Google、Apple、Facebook、Amazonの銘柄コード\n",
        "start_date = \"2021-12-31\"  # 取得開始日\n",
        "end_date = \"2022-12-31\"  # 取得終了日\n",
        "\n",
        "price_data = yf.download(tickers, start=start_date, end=end_date)[\"Close\"]\n",
        "\n",
        "# データフレームの作成\n",
        "df = pd.DataFrame({\n",
        "    \"Google\": price_data[tickers[0]],\n",
        "    \"Apple\": price_data[tickers[1]],\n",
        "    \"Facebook\": price_data[tickers[2]],\n",
        "    \"Amazon\": price_data[tickers[3]]\n",
        "})\n",
        "\n",
        "st.title(\"Streamlit入門\")\n",
        "st.caption(\"これはStreamlitのテストアプリです\")\n",
        "\n",
        "with st.sidebar:\n",
        "  stocks = st.multiselect(label=\"銘柄を選んでください\",\n",
        "             options=df.columns,\n",
        "             default=[\"Google\", \"Apple\"]\n",
        "  )\n",
        "\n",
        "  dates = st.date_input(\n",
        "          label=\"日付を選択してください\",\n",
        "          value=(datetime(2022, 1, 1), datetime(2022, 12, 31)),\n",
        "          min_value=datetime(2022, 1, 1),\n",
        "          max_value=datetime(2022, 12, 31),\n",
        "              )\n",
        "\n",
        "if len(dates) == 2:\n",
        "  start_date, end_date = dates \n",
        "  str_start_date = start_date.strftime('%Y-%m-%d')\n",
        "  str_end_date = end_date.strftime('%Y-%m-%d')\n",
        "  st.subheader(f'{start_date.strftime(\"%Y年%m月%d日\")}から{end_date.strftime(\"%Y年%m月%d日\")}までの株価推移')\n",
        "  st.line_chart(df.loc[str_start_date: str_end_date][stocks])"
      ],
      "metadata": {
        "id": "wsXBm21DVMCA"
      },
      "execution_count": null,
      "outputs": []
    },
    {
      "cell_type": "code",
      "source": [
        "# Streamlitで表示\n",
        "\n",
        "!streamlit run sample1.py & sleep 3 && npx localtunnel --port 8501"
      ],
      "metadata": {
        "id": "rJFhyg0TWE_Y"
      },
      "execution_count": null,
      "outputs": []
    },
    {
      "cell_type": "markdown",
      "source": [
        "以下のように表示されたでしょうか。  \n",
        "\n",
        "\n",
        "![](https://imgur.com/dmorFvq.png)"
      ],
      "metadata": {
        "id": "FXAaeftC05jt"
      }
    },
    {
      "cell_type": "markdown",
      "source": [
        "### 列の設定"
      ],
      "metadata": {
        "id": "4rPmxUmjbeVy"
      }
    },
    {
      "cell_type": "markdown",
      "source": [
        "`st.columns()`で、1行に複数列を横に並べることができるようになります。\n"
      ],
      "metadata": {
        "id": "TQg72iYcbeWD"
      }
    },
    {
      "cell_type": "markdown",
      "source": [
        "・**整数**を指定：引数で渡された数の分**等間隔**の列を作成する   \n",
        "　　　 　　　　`st.columns(2)`とすると、幅が同じ2列が作成される  \n",
        "\n",
        "・**整数のリスト**を指定：要素の大きさに準する幅で、要素分の列を作成する  \n",
        "　　　　　　　　　　　`st.columns([3,7])`とすると、幅の比が3対7で分割される"
      ],
      "metadata": {
        "id": "f12cuVudb9aP"
      }
    },
    {
      "cell_type": "markdown",
      "source": [
        "では表示してみましょう。"
      ],
      "metadata": {
        "id": "dETsQz_WbeWE"
      }
    },
    {
      "cell_type": "code",
      "source": [
        "# sample2.pyというファイルに記述する\n",
        "\n",
        "%%writefile sample2.py\n",
        "import streamlit as st\n",
        "import yfinance as yf\n",
        "import pandas as pd\n",
        "from datetime import datetime, timedelta\n",
        "\n",
        "# 株価情報の取得\n",
        "tickers = [\"GOOGL\", \"AAPL\", \"META\", \"AMZN\"]  # Google、Apple、Facebook、Amazonの銘柄コード\n",
        "start_date = \"2021-12-31\"  # 取得開始日\n",
        "end_date = \"2022-12-31\"  # 取得終了日\n",
        "\n",
        "price_data = yf.download(tickers, start=start_date, end=end_date)[\"Close\"]\n",
        "\n",
        "# データフレームの作成\n",
        "df = pd.DataFrame({\n",
        "    \"Google\": price_data[tickers[0]],\n",
        "    \"Apple\": price_data[tickers[1]],\n",
        "    \"Facebook\": price_data[tickers[2]],\n",
        "    \"Amazon\": price_data[tickers[3]]\n",
        "})\n",
        "\n",
        "st.title(\"Streamlit入門\")\n",
        "st.caption(\"これはStreamlitのテストアプリです\")\n",
        "\n",
        "col = st.columns([7, 3])\n",
        "stocks = col[0].multiselect(label=\"銘柄を選んでください\",\n",
        "            options=df.columns,\n",
        "            default=[\"Google\", \"Apple\"]\n",
        ")\n",
        "\n",
        "dates = col[1].date_input(\n",
        "        label=\"期間を選択してください\",\n",
        "        value=(datetime(2022, 1, 1), datetime(2022, 12, 31)),\n",
        "        min_value=datetime(2022, 1, 1),\n",
        "        max_value=datetime(2022, 12, 31),\n",
        "            )\n",
        "\n",
        "if (st.button('表示')) and (len(dates) == 2):\n",
        "  start_date, end_date = dates \n",
        "  str_start_date = start_date.strftime('%Y-%m-%d')\n",
        "  str_end_date = end_date.strftime('%Y-%m-%d')\n",
        "  st.subheader(f'{start_date.strftime(\"%Y年%m月%d日\")}から{end_date.strftime(\"%Y年%m月%d日\")}までの株価推移')\n",
        "  st.line_chart(df.loc[str_start_date: str_end_date][stocks])"
      ],
      "metadata": {
        "id": "m8aRbpubbeWE"
      },
      "execution_count": null,
      "outputs": []
    },
    {
      "cell_type": "code",
      "source": [
        "# Streamlitで表示\n",
        "\n",
        "!streamlit run sample2.py & sleep 3 && npx localtunnel --port 8501"
      ],
      "metadata": {
        "id": "x0nZby8CbeWF"
      },
      "execution_count": null,
      "outputs": []
    },
    {
      "cell_type": "markdown",
      "source": [
        "以下のように表示されたでしょうか。  \n",
        "\n",
        "\n",
        "![](https://imgur.com/AJoqN6D.png)"
      ],
      "metadata": {
        "id": "bxP_xNu71AGU"
      }
    },
    {
      "cell_type": "markdown",
      "source": [
        "### エクスパンダーの設定"
      ],
      "metadata": {
        "id": "Jx6GH2s8jIqw"
      }
    },
    {
      "cell_type": "markdown",
      "source": [
        "`st.expander()`で、エクスパンダーを設定できるようになります。\n",
        "\n",
        "\n",
        "デフォルトは非表示ですが \"+\" ボタンを押すことによって開くものです。"
      ],
      "metadata": {
        "id": "zko8Q8rljIq4"
      }
    },
    {
      "cell_type": "markdown",
      "source": [
        "では表示してみましょう。"
      ],
      "metadata": {
        "id": "t4u603bAjIq5"
      }
    },
    {
      "cell_type": "code",
      "source": [
        "# sample3.pyというファイルに記述する\n",
        "\n",
        "%%writefile sample3.py\n",
        "import streamlit as st\n",
        "import yfinance as yf\n",
        "import pandas as pd\n",
        "from datetime import datetime, timedelta\n",
        "\n",
        "# 株価情報の取得\n",
        "tickers = [\"GOOGL\", \"AAPL\", \"META\", \"AMZN\"]  # Google、Apple、Facebook、Amazonの銘柄コード\n",
        "start_date = \"2021-12-31\"  # 取得開始日\n",
        "end_date = \"2022-12-31\"  # 取得終了日\n",
        "\n",
        "price_data = yf.download(tickers, start=start_date, end=end_date)[\"Close\"]\n",
        "\n",
        "# データフレームの作成\n",
        "df = pd.DataFrame({\n",
        "    \"Google\": price_data[tickers[0]],\n",
        "    \"Apple\": price_data[tickers[1]],\n",
        "    \"Facebook\": price_data[tickers[2]],\n",
        "    \"Amazon\": price_data[tickers[3]]\n",
        "})\n",
        "\n",
        "st.title(\"Streamlit入門\")\n",
        "st.caption(\"これはStreamlitのテストアプリです\")\n",
        "\n",
        "# 2022年の株価推移（線グラフ）\n",
        "st.subheader(\"2022年の株価推移（線グラフ）\")\n",
        "st.line_chart(df)\n",
        "\n",
        "with st.expander(\"解説を見る\"):\n",
        "     st.subheader(\"Meta社の株価の下落(2月3日)\")\n",
        "     st.write(\"Meta社の株価が１日で約26％も急落した。米企業の１日の減少幅として史上最大規模であるという。\")\n",
        "     st.write(\"原因は、2021年10～12月期の決算が約2年ぶりの減益となったことなどがあるという。\")\n",
        "     st.subheader(\"Meta社の株価の下落(10月27日)\")\n",
        "     st.write(\"Meta社の株価が１日で約20％も急落した。この日はMeta社の決算発表の日だった。\")\n",
        "     st.write(\"原因は、あまりうまくいっているとはいえないメタバース産業をやめない旨を、CEOが発信したことなどがあるという。\")"
      ],
      "metadata": {
        "id": "-ZiDj9anjIq5"
      },
      "execution_count": null,
      "outputs": []
    },
    {
      "cell_type": "code",
      "source": [
        "# Streamlitで表示\n",
        "\n",
        "!streamlit run sample3.py & sleep 3 && npx localtunnel --port 8501"
      ],
      "metadata": {
        "id": "JMH98-f3jIq6"
      },
      "execution_count": null,
      "outputs": []
    },
    {
      "cell_type": "markdown",
      "source": [
        "以下のように表示されたでしょうか。  \n",
        "\n",
        "\n",
        "![](https://imgur.com/dAgXf4s.png)"
      ],
      "metadata": {
        "id": "Vi4XPZ1Y1hLi"
      }
    },
    {
      "cell_type": "markdown",
      "source": [
        "### コンテナの設定"
      ],
      "metadata": {
        "id": "CcbarhDcv3M7"
      }
    },
    {
      "cell_type": "markdown",
      "source": [
        "`st.container()`で、複数のStreamlitコンポーネントをまとめてグループ化できるようになります。\n",
        "\n",
        "\n",
        "コンテナを使用することで、コンポーネントを分類し、視覚的に区別することができます。"
      ],
      "metadata": {
        "id": "WTZCoR1Vv3NK"
      }
    },
    {
      "cell_type": "markdown",
      "source": [
        "では表示してみましょう。"
      ],
      "metadata": {
        "id": "J5zypmXvv3NL"
      }
    },
    {
      "cell_type": "code",
      "source": [
        "# sample4.pyというファイルに記述する\n",
        "\n",
        "%%writefile sample4.py\n",
        "import streamlit as st\n",
        "import yfinance as yf\n",
        "import pandas as pd\n",
        "from datetime import datetime, timedelta\n",
        "\n",
        "# 株価情報の取得\n",
        "tickers = [\"GOOGL\", \"AAPL\", \"META\", \"AMZN\"]  # Google、Apple、Facebook、Amazonの銘柄コード\n",
        "start_date = \"2021-12-31\"  # 取得開始日\n",
        "end_date = \"2022-12-31\"  # 取得終了日\n",
        "\n",
        "price_data = yf.download(tickers, start=start_date, end=end_date)[\"Close\"]\n",
        "\n",
        "# データフレームの作成\n",
        "df = pd.DataFrame({\n",
        "    \"Google\": price_data[tickers[0]],\n",
        "    \"Apple\": price_data[tickers[1]],\n",
        "    \"Facebook\": price_data[tickers[2]],\n",
        "    \"Amazon\": price_data[tickers[3]]\n",
        "})\n",
        "\n",
        "st.title(\"Streamlit入門\")\n",
        "st.caption(\"これはStreamlitのテストアプリです\")\n",
        "\n",
        "cols = st.columns([3, 7])\n",
        "with cols[0].container(): # 左の列にコンテナを設定\n",
        "  stocks = st.multiselect(label=\"銘柄を選んでください\",\n",
        "              options=df.columns,\n",
        "              default=[\"Google\", \"Apple\"]\n",
        "  )\n",
        "\n",
        "  dates = st.date_input(\n",
        "          label=\"期間を選択してください\",\n",
        "          value=(datetime(2022, 1, 1), datetime(2022, 12, 31)),\n",
        "          min_value=datetime(2022, 1, 1),\n",
        "          max_value=datetime(2022, 12, 31),\n",
        "              )\n",
        "\n",
        "if len(dates) == 2:\n",
        "  start_date, end_date = dates \n",
        "  str_start_date = start_date.strftime('%Y-%m-%d')\n",
        "  str_end_date = end_date.strftime('%Y-%m-%d')\n",
        "  cols[1].subheader(f'{start_date.strftime(\"%Y年%m月%d日\")}から{end_date.strftime(\"%Y年%m月%d日\")}までの株価推移')\n",
        "  # 右の列にはグラフを設定\n",
        "  cols[1].line_chart(df.loc[str_start_date: str_end_date][stocks])"
      ],
      "metadata": {
        "id": "VI1dFCnrv3NL"
      },
      "execution_count": null,
      "outputs": []
    },
    {
      "cell_type": "code",
      "source": [
        "# Streamlitで表示\n",
        "\n",
        "!streamlit run sample4.py & sleep 3 && npx localtunnel --port 8501"
      ],
      "metadata": {
        "id": "QKr5FuHAv3NM"
      },
      "execution_count": null,
      "outputs": []
    },
    {
      "cell_type": "markdown",
      "source": [
        "以下のように表示されたでしょうか。  \n",
        "\n",
        "\n",
        "![](https://imgur.com/J8Q5RPD.png)"
      ],
      "metadata": {
        "id": "bWc_wS3V2DeZ"
      }
    },
    {
      "cell_type": "markdown",
      "source": [
        "### 空のウィジェットの設定"
      ],
      "metadata": {
        "id": "iImgMZSq3CYO"
      }
    },
    {
      "cell_type": "markdown",
      "source": [
        "`st.empty()`で、空のウィジェットを作成できるようになります。\n"
      ],
      "metadata": {
        "id": "VorIo2I33CYe"
      }
    },
    {
      "cell_type": "markdown",
      "source": [
        "`st.empty()` を使用すると、例えば以下のような場合に便利です。\n",
        "\n",
        "・複数のウィジェットを一度に表示したい場合に、  \n",
        " 　ウィジェットを作成し、後で表示する値を設定することができる  \n",
        "・条件に基づいてウィジェットの表示を切り替えたい場合に、  \n",
        "　条件に応じてウィジェットを作成し、表示するかどうかを切り替えることができます。"
      ],
      "metadata": {
        "id": "Ta5-fthc3wOw"
      }
    },
    {
      "cell_type": "markdown",
      "source": [
        " \n",
        "では表示してみましょう。  \n",
        "最初はテキスト情報を表示していますが、それをグラフに置き換えています。 "
      ],
      "metadata": {
        "id": "GFiiv0u13CYe"
      }
    },
    {
      "cell_type": "code",
      "source": [
        "# sample5.pyというファイルに記述する\n",
        "\n",
        "%%writefile sample5.py\n",
        "import streamlit as st\n",
        "import yfinance as yf\n",
        "import pandas as pd\n",
        "from datetime import datetime, timedelta\n",
        "import time\n",
        "\n",
        "# 株価情報の取得\n",
        "tickers = [\"GOOGL\", \"AAPL\", \"META\", \"AMZN\"]  # Google、Apple、Facebook、Amazonの銘柄コード\n",
        "start_date = \"2021-12-31\"  # 取得開始日\n",
        "end_date = \"2022-12-31\"  # 取得終了日\n",
        "\n",
        "price_data = yf.download(tickers, start=start_date, end=end_date)[\"Close\"]\n",
        "\n",
        "# データフレームの作成\n",
        "df = pd.DataFrame({\n",
        "    \"Google\": price_data[tickers[0]],\n",
        "    \"Apple\": price_data[tickers[1]],\n",
        "    \"Facebook\": price_data[tickers[2]],\n",
        "    \"Amazon\": price_data[tickers[3]]\n",
        "})\n",
        "\n",
        "st.title(\"Streamlit入門\")\n",
        "st.caption(\"これはStreamlitのテストアプリです\")\n",
        "\n",
        "cols = st.columns(2)\n",
        "graph_button = cols[0].button('グラフ描画')\n",
        "delete_button = cols[1].button('グラフを削除')\n",
        " \n",
        "graph_area = st.empty()\n",
        "graph_area.subheader(\"ここにグラフを挿入します。\")\n",
        " \n",
        "if graph_button:\n",
        "     graph_area.subheader(\"グラフ描画中 ...\")\n",
        "     time.sleep(2)\n",
        "     graph_area.line_chart(df)\n",
        " \n",
        "if delete_button:\n",
        "     graph_area.subheader(\"deleted!!\")"
      ],
      "metadata": {
        "id": "LBQIDvd53CYf"
      },
      "execution_count": null,
      "outputs": []
    },
    {
      "cell_type": "code",
      "source": [
        "# Streamlitで表示\n",
        "\n",
        "!streamlit run sample5.py & sleep 3 && npx localtunnel --port 8501"
      ],
      "metadata": {
        "id": "d2zfr9E_3CYg"
      },
      "execution_count": null,
      "outputs": []
    },
    {
      "cell_type": "markdown",
      "source": [
        "以下のように表示されたでしょうか。  \n",
        "\n",
        "![](https://imgur.com/k75INDP.png)  \n",
        "![](https://imgur.com/DrlaA1n.png)  \n",
        "![](https://imgur.com/RnwsRx6.png)"
      ],
      "metadata": {
        "id": "wXeBOeFe2ZOx"
      }
    },
    {
      "cell_type": "markdown",
      "source": [
        "## フォーム設定"
      ],
      "metadata": {
        "id": "sWhCfJ0W5q1L"
      }
    },
    {
      "cell_type": "markdown",
      "source": [
        "Streamlitでは、フォームの作成とその受け取りを、素早く行うことができます。"
      ],
      "metadata": {
        "id": "9xRBzTg45q1M"
      }
    },
    {
      "cell_type": "markdown",
      "source": [
        "[こちら](https://data-analytics.fun/2022/07/09/streamlit-form/)のページを参考にしました。  \n"
      ],
      "metadata": {
        "id": "Efmplz5j34_d"
      }
    },
    {
      "cell_type": "markdown",
      "source": [
        "### フォーム作成①"
      ],
      "metadata": {
        "id": "qVLze65W5q1M"
      }
    },
    {
      "cell_type": "markdown",
      "source": [
        "まずはいったんこれまで学んできた知識でフォームを作ってみましょう。\n"
      ],
      "metadata": {
        "id": "BA2vvsHq5q1N"
      }
    },
    {
      "cell_type": "markdown",
      "source": [
        "フォームでは、名前と誕生日を入力してもらって、その情報をもとに  \n",
        "成人までの日数あるいは成人してからの日数を表示しています。"
      ],
      "metadata": {
        "id": "FgfxWD235q1N"
      }
    },
    {
      "cell_type": "code",
      "source": [
        "# sample6.pyというファイルに記述する\n",
        "\n",
        "%%writefile sample6.py\n",
        "import streamlit as st\n",
        "from datetime import datetime, timedelta, date\n",
        "\n",
        "st.title(\"成人日数計算\")\n",
        "st.caption(\"成人までの残り日数、または、成人を迎えてからの日数を計算します\")\n",
        "\n",
        "# ユーザー入力の受け取り\n",
        "name = st.text_input(\"名前を入力してください\")\n",
        "birthday = st.date_input(\n",
        "        label=\"日付を選択してください\",\n",
        "        value=datetime(2003, 1, 1),\n",
        "        min_value=datetime(1900, 1, 1),\n",
        "        max_value=datetime(2022, 12, 31),\n",
        "            )\n",
        "\n",
        "# 成人になる日付を計算\n",
        "adult_age = 20  # 成人の年齢\n",
        "adult_date = date(birthday.year + adult_age, birthday.month, birthday.day)\n",
        "\n",
        "# 現在日付との日数の差を計算\n",
        "today = date.today()\n",
        "days_to_adult = (adult_date - today).days\n",
        "days_since_adult = (today - adult_date).days\n",
        "\n",
        "# ボタンの設置\n",
        "submit_btn = st.button(\"送信\")\n",
        "cancel_btn = st.button(\"キャンセル\")\n",
        "\n",
        "# 結果の出力\n",
        "if (submit_btn) and (days_to_adult > 0):\n",
        "    st.write(f\"{name}さんは、あと{days_to_adult}日で成人します。\")\n",
        "elif (submit_btn) and (days_to_adult <= 0):\n",
        "    st.write(f\"{name}さんは、{days_since_adult}日前に成人しました。\")\n"
      ],
      "metadata": {
        "id": "1JDqQ81g-yWy"
      },
      "execution_count": null,
      "outputs": []
    },
    {
      "cell_type": "code",
      "source": [
        "# Streamlitで表示\n",
        "\n",
        "!streamlit run sample6.py & sleep 3 && npx localtunnel --port 8501"
      ],
      "metadata": {
        "id": "-tULuAVJ-5BL"
      },
      "execution_count": null,
      "outputs": []
    },
    {
      "cell_type": "markdown",
      "source": [
        "以下のように表示されたでしょうか。  \n",
        "\n",
        "![](https://imgur.com/RLEAyPk.png)  \n",
        "![](https://imgur.com/nLtqNi4.png)  "
      ],
      "metadata": {
        "id": "y33F3P6c32s_"
      }
    },
    {
      "cell_type": "markdown",
      "source": [
        "### フォーム作成②"
      ],
      "metadata": {
        "id": "l9hp8cjLDO1m"
      }
    },
    {
      "cell_type": "markdown",
      "source": [
        "`st.form()`は、Streamlitでフォームを作成するための便利な機能です。"
      ],
      "metadata": {
        "id": "cwpTB4gmDO1n"
      }
    },
    {
      "cell_type": "markdown",
      "source": [
        "`st.form()` 内にフォームの要素を配置するメリットは以下の通りです。\n",
        "\n",
        "・submitボタンが押されるまでの入力内容の保持できる  \n",
        "・必須項目のバリデーション、入力内容の確認画面の生成などを実装できる  \n",
        "・フォームの要素を独自のスタイルでレイアウトすることができる"
      ],
      "metadata": {
        "id": "Z0-6UBXEDO1n"
      }
    },
    {
      "cell_type": "markdown",
      "source": [
        "では先ほどのコードを実際に書き換えてみましょう。  \n",
        "\n",
        "変更点についてはのちに述べます。"
      ],
      "metadata": {
        "id": "Borp-FuADO1o"
      }
    },
    {
      "cell_type": "code",
      "source": [
        "# sample7.pyというファイルに記述する\n",
        "\n",
        "%%writefile sample7.py\n",
        "import streamlit as st\n",
        "from datetime import datetime, timedelta, date\n",
        "\n",
        "st.title(\"成人日数計算\")\n",
        "st.caption(\"成人までの残り日数、または、成人を迎えてからの日数を計算します\")\n",
        "\n",
        "# フォームの開始\n",
        "with st.form(\"my_form\"):\n",
        "    name = st.text_input(\"名前を入力してください\")\n",
        "    birthday = st.date_input(\n",
        "        label=\"日付を選択してください\",\n",
        "        value=datetime(2003, 1, 1),\n",
        "        min_value=datetime(1900, 1, 1),\n",
        "        max_value=datetime(2022, 12, 31),\n",
        "    )\n",
        "\n",
        "    # 成人になる日付を計算\n",
        "    adult_age = 20  # 成人の年齢\n",
        "    adult_date = date(birthday.year + adult_age, birthday.month, birthday.day)\n",
        "\n",
        "    # submitボタンの生成\n",
        "    submitted = st.form_submit_button(\"送信\")\n",
        "\n",
        "# submitボタンが押されたときの処理\n",
        "if submitted:\n",
        "  # 現在日付との日数の差を計算\n",
        "  today = date.today()\n",
        "  days_to_adult = (adult_date - today).days\n",
        "  days_since_adult = (today - adult_date).days\n",
        "\n",
        "  # 結果の出力\n",
        "  if (days_to_adult > 0):\n",
        "    st.write(f\"{name}さんは、あと{days_to_adult}日で成人します。\")\n",
        "  else:\n",
        "    st.write(f\"{name}さんは、{days_since_adult}日前に成人しました。\")\n"
      ],
      "metadata": {
        "id": "eJdEJjPCEgTD"
      },
      "execution_count": null,
      "outputs": []
    },
    {
      "cell_type": "code",
      "source": [
        "# Streamlitで表示\n",
        "\n",
        "!streamlit run sample7.py & sleep 3 && npx localtunnel --port 8501"
      ],
      "metadata": {
        "id": "2c7TTxXSEmPP"
      },
      "execution_count": null,
      "outputs": []
    },
    {
      "cell_type": "markdown",
      "source": [
        "以下のように表示されたでしょうか。  \n",
        "\n",
        "![](https://imgur.com/fykxiRD.png)   "
      ],
      "metadata": {
        "id": "ZzCn7TI84-dE"
      }
    },
    {
      "cell_type": "markdown",
      "source": [
        "#### st.form()"
      ],
      "metadata": {
        "id": "kEtV8z0ODztp"
      }
    },
    {
      "cell_type": "markdown",
      "source": [
        "`st.form()`を使うことで、フォーム全体が一つのコンテナとして扱われます。\n",
        "\n",
        "また、実際にフォーム部分が線で囲まれます。"
      ],
      "metadata": {
        "id": "tiBk8SwRD5i8"
      }
    },
    {
      "cell_type": "markdown",
      "source": [
        "引数`clear_on_submit`をTrueにすると、ボタンを押したときに値がクリアされます。  \n",
        "デフォルトはFalseです。"
      ],
      "metadata": {
        "id": "uiiS3BNZENIp"
      }
    },
    {
      "cell_type": "markdown",
      "source": [
        "#### st.form_submit_button()"
      ],
      "metadata": {
        "id": "HbH4_YywDIHT"
      }
    },
    {
      "cell_type": "markdown",
      "source": [
        "`st.form_submit_button()`は、フォームの内容を一括で渡すsubmitボタンです。\n",
        "\n",
        "**フォーム内でst.form_submit_buttonがないとエラーになります**。"
      ],
      "metadata": {
        "id": "o1ePZ6NiIDXp"
      }
    },
    {
      "cell_type": "markdown",
      "source": [
        "## 状態の保持とコールバック"
      ],
      "metadata": {
        "id": "niGhwBBdJWz-"
      }
    },
    {
      "cell_type": "markdown",
      "source": [
        "Streamlitは、普通にするとウィジェットの値が変わると、  \n",
        "すべての処理が1から再度実行されます。"
      ],
      "metadata": {
        "id": "-SE9B304Jb7b"
      }
    },
    {
      "cell_type": "markdown",
      "source": [
        "そのため、ウィジェットの状態を記憶するために、  \n",
        "**状態を保持する方法**を学ぶ必要があります。  \n",
        "\n",
        "またその際に、**コールバック**という機能を使えると便利です。\n"
      ],
      "metadata": {
        "id": "1Nohg8AmKNsc"
      }
    },
    {
      "cell_type": "markdown",
      "source": [
        "[こちら](https://data-analytics.fun/2022/07/11/streamlit-state-callback/)のページを参考にしました。  \n"
      ],
      "metadata": {
        "id": "WhxDZ81z5Ik7"
      }
    },
    {
      "cell_type": "markdown",
      "source": [
        "### 状態の保持"
      ],
      "metadata": {
        "id": "yYNy_sxHJb7b"
      }
    },
    {
      "cell_type": "markdown",
      "source": [
        "まずは、以下のようにボタンを押すと1を足していくプログラムを作成しましょう。\n"
      ],
      "metadata": {
        "id": "TcxPHLlVJb7c"
      }
    },
    {
      "cell_type": "code",
      "source": [
        "# sample8-1.pyというファイルに記述する\n",
        "\n",
        "%%writefile sample8-1.py\n",
        "import streamlit as st\n",
        " \n",
        "value = 0\n",
        "st.subheader(f'初期値は{value}です。')\n",
        "btn = st.button('+1する')\n",
        "if btn:\n",
        "    value += 1\n",
        "    st.write(f'{value}になりました。')"
      ],
      "metadata": {
        "id": "wJrTT2bcLHTv"
      },
      "execution_count": null,
      "outputs": []
    },
    {
      "cell_type": "code",
      "source": [
        "# Streamlitで表示\n",
        "\n",
        "!streamlit run sample8-1.py & sleep 3 && npx localtunnel --port 8501"
      ],
      "metadata": {
        "id": "3ltioosWLx9Z"
      },
      "execution_count": null,
      "outputs": []
    },
    {
      "cell_type": "markdown",
      "source": [
        "以下のように表示されたでしょうか。  \n",
        "\n",
        "![](https://imgur.com/bQlIJsp.png)   "
      ],
      "metadata": {
        "id": "0k_dIuKi5Dhz"
      }
    },
    {
      "cell_type": "markdown",
      "source": [
        "しかしながら、何度「+1をする」ボタンを押しても値は1のままで増えません。"
      ],
      "metadata": {
        "id": "lIip3kZeJb7c"
      }
    },
    {
      "cell_type": "markdown",
      "source": [
        "これはボタンを押すたびに毎回すべての処理が実行されるからです。\n",
        "\n",
        "毎回`value`がゼロに初期化され、その状態で`value`が \"+1\" されています。"
      ],
      "metadata": {
        "id": "sg00daHkMWVR"
      }
    },
    {
      "cell_type": "markdown",
      "source": [
        "押すたびに1, 2, 3と増えていくようにするにしたいので、  \n",
        "今の状態を覚えている必要があります。"
      ],
      "metadata": {
        "id": "5McVn1E-Mkn0"
      }
    },
    {
      "cell_type": "markdown",
      "source": [
        "**`st.session_state`**という辞書型の変数を用いることで、  \n",
        "値を保持したり、保持された値を取りだしたりすることができます。"
      ],
      "metadata": {
        "id": "ZIJvtPf4Mver"
      }
    },
    {
      "cell_type": "markdown",
      "source": [
        "`session_state`への値の設定方法は、以下の2通りあります。  \n",
        "\n",
        "``` py\n",
        "st.session_state['key_1'] = 'value_1'\n",
        "st.session_state.key_2 = 'value_2'\n",
        "```"
      ],
      "metadata": {
        "id": "A3YJsbO5NFu-"
      }
    },
    {
      "cell_type": "markdown",
      "source": [
        "この変数は、ページがリロードされるまでクリアされません。\n",
        "\n",
        "この機能を使って、ボタンを押すと1ずつ増やしていく機能を作ってみましょう。"
      ],
      "metadata": {
        "id": "ZlPWpCXGRsIu"
      }
    },
    {
      "cell_type": "code",
      "source": [
        "# sample8-2.pyというファイルに記述する\n",
        "\n",
        "%%writefile sample8-2.py\n",
        "import streamlit as st\n",
        "\n",
        "value = 0\n",
        "btn = st.button('+1する')\n",
        "if 'increment' not in st.session_state: # 初期化\n",
        "    st.session_state['increment'] = 0\n",
        "    st.subheader(f\"初期値は{st.session_state['increment']}です。\")\n",
        "     \n",
        "if btn:\n",
        "    st.subheader(f'初期値は{value}です。')\n",
        "    st.session_state['increment'] += 1 # 値を増やす\n",
        "    st.write(f\"{st.session_state['increment']}になりました。\")"
      ],
      "metadata": {
        "id": "GSFafRMKR2T7"
      },
      "execution_count": null,
      "outputs": []
    },
    {
      "cell_type": "code",
      "source": [
        "# Streamlitで表示\n",
        "\n",
        "!streamlit run sample8-2.py & sleep 3 && npx localtunnel --port 8501"
      ],
      "metadata": {
        "id": "Z11WmcdXR2T7"
      },
      "execution_count": null,
      "outputs": []
    },
    {
      "cell_type": "markdown",
      "source": [
        "以下のように表示されたでしょうか。  \n",
        "\n",
        "![](https://imgur.com/0eP2sQd.png)   "
      ],
      "metadata": {
        "id": "qMnE57mN5rL1"
      }
    },
    {
      "cell_type": "markdown",
      "source": [
        "ここでは、`st.session_state`を使って、ヒットアンドブローというゲームを作ってみましょう。  \n",
        "\n",
        "ゲーム自体の説明はコードの中に記載しています。"
      ],
      "metadata": {
        "id": "XYOMa8RpSW3b"
      }
    },
    {
      "cell_type": "code",
      "source": [
        "# sample9.pyというファイルに記述する\n",
        "\n",
        "%%writefile sample9.py\n",
        "import streamlit as st\n",
        "import random\n",
        "import datetime\n",
        "import time\n",
        "\n",
        "def judge_hit_blow(guess, answer):\n",
        "    # ヒットアンドブローの判定を行う関数\n",
        "    hit = 0\n",
        "    blow = 0\n",
        "    for i, digit in enumerate(guess):\n",
        "        if digit == answer[i]:\n",
        "            hit += 1\n",
        "        elif digit in answer:\n",
        "            blow += 1\n",
        "    return hit, blow\n",
        "\n",
        "markdown = \"\"\"\n",
        "【ヒットアンドブローとは】\\r\\n\n",
        "ヒットアンドブローは、4桁の数字を当てるゲームです。\\r\\n\n",
        "プレイヤーは、コンピュータが用意した数字を予想し、\\r\\n\n",
        "その結果に対して、ヒット（数字と位置が一致）、ブロー（数字のみが一致）の数を教えてもらいます。\\r\\n\n",
        "この情報をもとに、次の予想を立てて、正解を目指しましょう。\\r\\n\n",
        "\n",
        "【ルール】\\r\\n\n",
        "ゲーム開始時に、コンピュータが4桁の数字を用意します。\\r\\n\n",
        "プレイヤーは、4桁の数字を予想し、入力します。\\r\\n\n",
        "コンピュータは、プレイヤーの予想に対して、ヒットとブローの数を教えます。\\r\\n\n",
        "プレイヤーは、この情報をもとに、次の予想を立てます。\\r\\n\n",
        "ヒットが4つになるまで、3〜4を繰り返します。\\r\\n\n",
        "ヒットが4つになったら、ゲーム終了です。\\r\\n\n",
        "\n",
        "【例】\\r\\n\n",
        "コンピュータが用意した数字が「1234」だとします。\\r\\n\n",
        "プレイヤーが「4567」を予想した場合、コンピュータは「0ヒット1ブロー」と教えます。\\r\\n\n",
        "つまり、数字「4」が答えに含まれていることを教えてくれます。\\r\\n\n",
        "この情報をもとに、次の予想を立てて、正解を目指しましょう。\\r\\n\n",
        "\"\"\"\n",
        "\n",
        "st.title(\"ヒットアンドブロー\")\n",
        "with st.expander(\"ルールを見る\"):\n",
        "  st.write(markdown)\n",
        "\n",
        "# ゲームの開始\n",
        "st.write(\"4桁の数字を当ててください！\")\n",
        "guess = st.text_input(\"数字を入力してください\", max_chars=4)\n",
        "btn = st.button('送信する')\n",
        "\n",
        "# 試行回数と答えを管理する変数\n",
        "if 'count' not in st.session_state:\n",
        "    st.session_state.count = 0\n",
        "    # 4桁のランダムな数字を作成\n",
        "    st.session_state.answer = ''.join(random.sample('0123456789', 4))\n",
        "\n",
        "# ゲームのループ\n",
        "if (guess is not None) and (len(guess) == 4) and (btn):\n",
        "    st.session_state.count += 1\n",
        "    print(st.session_state.answer)  # デバッグ用\n",
        "    if guess == st.session_state.answer:\n",
        "        st.write(f\"正解！{st.session_state.count}回目の試行で当てました！\")\n",
        "        del st.session_state['count']  # キー'count'を削除\n",
        "        st.write(\"15秒後に最初の画面に遷移します\")\n",
        "        time.sleep(15)\n",
        "        st.experimental_rerun()  # 現在のスクリプトの再実行をトリガーする\n",
        "    else:\n",
        "        hit, blow = judge_hit_blow(guess, st.session_state.answer)\n",
        "        st.write(f\"{guess}: {hit}ヒット, {blow}ブロー\")\n",
        "elif btn:\n",
        "    st.write(\"4桁の数字を入力してください。\")"
      ],
      "metadata": {
        "id": "5CF0fQZLQRXw",
        "colab": {
          "base_uri": "https://localhost:8080/"
        },
        "outputId": "bca1a5c5-7d21-4cf7-84c4-34126880d45a"
      },
      "execution_count": null,
      "outputs": [
        {
          "output_type": "stream",
          "name": "stdout",
          "text": [
            "Overwriting sample9.py\n"
          ]
        }
      ]
    },
    {
      "cell_type": "code",
      "source": [
        "# Streamlitで表示\n",
        "\n",
        "!streamlit run sample9.py & sleep 3 && npx localtunnel --port 8501"
      ],
      "metadata": {
        "id": "XSWYp2UoSlHk"
      },
      "execution_count": null,
      "outputs": []
    },
    {
      "cell_type": "markdown",
      "source": [
        "以下のように表示されたでしょうか。  \n",
        "\n",
        "![](https://imgur.com/EL96liK.png)  \n",
        "![](https://imgur.com/lidcW1P.png)      "
      ],
      "metadata": {
        "id": "ix_2itJ27wPo"
      }
    },
    {
      "cell_type": "markdown",
      "source": [
        "### コールバック"
      ],
      "metadata": {
        "id": "NG0q_eOHRcVn"
      }
    },
    {
      "cell_type": "markdown",
      "source": [
        "ボタンがクリックされたとき、ウィジェットの値が変わったときに呼び出される関数を、  \n",
        "**コールバック関数**といいます。  \n",
        "\n",
        "クリックされたとき、値が変わったときに、  \n",
        "**真っ先に指定した関数が呼び出される**点がポイントです。"
      ],
      "metadata": {
        "id": "YPNruZ67hYJ-"
      }
    },
    {
      "cell_type": "markdown",
      "source": [
        "例えばコールバックを使わない例を見てみましょう。\n",
        "\n",
        "上に株価を表示し、エクスパンダ―にデータを表示しています。\n",
        "\n",
        "そして、「さらに見る」ボタンをクリックすると、5件追加で表示されます。"
      ],
      "metadata": {
        "id": "p0JgmseYih31"
      }
    },
    {
      "cell_type": "markdown",
      "source": [
        "``` py\n",
        "if 'num_of_data' not in st.session_state.keys():\n",
        "    st.session_state['num_of_data'] = 5\n",
        " \n",
        "st.header('2022年の株価推移')\n",
        "st.line_chart(df)\n",
        "with st.expander('データを見る'):\n",
        "    st.table(df.head(st.session_state['num_of_data']))\n",
        "    btn = st.button('さらに見る')\n",
        "    if btn:\n",
        "        st.session_state['num_of_data'] += 5\n",
        "```"
      ],
      "metadata": {
        "id": "nK7e8Sfnil3d"
      }
    },
    {
      "cell_type": "markdown",
      "source": [
        "実際にこれを実行してみます。  \n",
        "\n",
        "1回目に「さらに見る」ボタンを押しても表示件数が増えていません。  \n",
        "\n",
        "これは、ボタンを押したあとにnum_of_dataを更新していることが原因です。  \n",
        "**Steamlitでは、ボタンを押された際に上から順番にすべての処理を行います。**"
      ],
      "metadata": {
        "id": "OT1QdIMIiyPs"
      }
    },
    {
      "cell_type": "markdown",
      "source": [
        "ここで、必ず最初に呼び出される、コールバックを指定していきましょう。\n",
        "\n",
        "各インプットウィジェットに引数として設定します。"
      ],
      "metadata": {
        "id": "P8Lw6nmjj3Ta"
      }
    },
    {
      "cell_type": "markdown",
      "source": [
        "引数は、ボタンの場合は**`on_click`**、  \n",
        "ンプットボックスやセレクトボックス(ドロップダウン)の場合は**`on_change`**を設定します。\n",
        "\n",
        "その前にコールバック関数を書いておき、  \n",
        "  `on_click`の引数として作成したコールバック関数名を指定します。"
      ],
      "metadata": {
        "id": "HbrxwfBLkM6T"
      }
    },
    {
      "cell_type": "markdown",
      "source": [
        "では表示してみましょう。   \n",
        "以前も扱っていた株価のデータに戻ります。"
      ],
      "metadata": {
        "id": "_bp2PGYLkr6Y"
      }
    },
    {
      "cell_type": "code",
      "source": [
        "# sample10.pyというファイルに記述する\n",
        "\n",
        "%%writefile sample10.py\n",
        "import streamlit as st\n",
        "import yfinance as yf\n",
        "import pandas as pd\n",
        "from datetime import datetime, timedelta\n",
        "\n",
        "# 株価情報の取得\n",
        "tickers = [\"GOOGL\", \"AAPL\", \"META\", \"AMZN\"]  # Google、Apple、Facebook、Amazonの銘柄コード\n",
        "start_date = \"2023-01-01\"  # 取得開始日\n",
        "end_date = (datetime.today() + timedelta(hours=9)).strftime('%Y-%m-%d')  # 取得終了日\n",
        "\n",
        "price_data = yf.download(tickers, start=start_date, end=end_date)[\"Close\"]\n",
        "\n",
        "# データフレームの作成\n",
        "df = pd.DataFrame({\n",
        "    \"Google\": price_data[tickers[0]],\n",
        "    \"Apple\": price_data[tickers[1]],\n",
        "    \"Facebook\": price_data[tickers[2]],\n",
        "    \"Amazon\": price_data[tickers[3]]\n",
        "})\n",
        "\n",
        "st.title(\"Streamlit入門\")\n",
        "st.caption(\"これはStreamlitのテストアプリです\")\n",
        "\n",
        "if 'num_of_data' not in st.session_state:\n",
        "    st.session_state['num_of_data'] = 5\n",
        " \n",
        "# コールバック関数\n",
        "def update_num_of_data():\n",
        "    st.session_state['num_of_data'] += 5\n",
        " \n",
        "# 2023年の株価推移（線グラフ）\n",
        "st.header('2023年の株価推移')\n",
        "st.line_chart(df)\n",
        "\n",
        "with st.expander('データを見る'):\n",
        "    st.table(df.head(st.session_state['num_of_data']))\n",
        "    # on_clickでコールバック関数を指定\n",
        "    btn = st.button('さらに見る', on_click=update_num_of_data)"
      ],
      "metadata": {
        "id": "uzxjA4GUk0Vo"
      },
      "execution_count": null,
      "outputs": []
    },
    {
      "cell_type": "code",
      "source": [
        "# Streamlitで表示\n",
        "\n",
        "!streamlit run sample10.py & sleep 3 && npx localtunnel --port 8501"
      ],
      "metadata": {
        "id": "nxM5hkUJlPiZ"
      },
      "execution_count": null,
      "outputs": []
    },
    {
      "cell_type": "markdown",
      "source": [
        "以下のように表示されたでしょうか。  \n",
        "\n",
        "![](https://imgur.com/jN5o4yg.png)  \n",
        "![](https://imgur.com/KXAnx8f.png)  \n",
        "![](https://imgur.com/lA4zQ0L.png)      "
      ],
      "metadata": {
        "id": "4b2siMl48aXF"
      }
    },
    {
      "cell_type": "markdown",
      "source": [
        "コールバック関数には引数を渡すことができますが、ここでは省略します。\n",
        "\n",
        "[こちら](https://bit.ly/3nvggxg)を参考にしてください。"
      ],
      "metadata": {
        "id": "hm82qO1BmPGZ"
      }
    }
  ]
}