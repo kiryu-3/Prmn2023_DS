{
  "nbformat": 4,
  "nbformat_minor": 0,
  "metadata": {
    "colab": {
      "provenance": [],
      "toc_visible": true,
      "authorship_tag": "ABX9TyMNTwaQbILtpB/8KOWGXio4",
      "include_colab_link": true
    },
    "kernelspec": {
      "name": "python3",
      "display_name": "Python 3"
    },
    "language_info": {
      "name": "python"
    }
  },
  "cells": [
    {
      "cell_type": "markdown",
      "metadata": {
        "id": "view-in-github",
        "colab_type": "text"
      },
      "source": [
        "<a href=\"https://colab.research.google.com/github/kiryu-3/Prmn2023_DS/blob/main/Python/Streamlit/Streamlit_basic_1.ipynb\" target=\"_parent\"><img src=\"https://colab.research.google.com/assets/colab-badge.svg\" alt=\"Open In Colab\"/></a>"
      ]
    },
    {
      "cell_type": "markdown",
      "source": [
        "# Streamlit入門編①"
      ],
      "metadata": {
        "id": "VihB252MNBiG"
      }
    },
    {
      "cell_type": "code",
      "source": [
        "# 最初に実行してください\n",
        "# ライブラリのインストール\n",
        "!pip install Streamlit\n",
        "!pip install yfinance"
      ],
      "metadata": {
        "id": "a6CuhvlE_rfr"
      },
      "execution_count": null,
      "outputs": []
    },
    {
      "cell_type": "code",
      "execution_count": null,
      "metadata": {
        "id": "15jCf052Kd37"
      },
      "outputs": [],
      "source": [
        "# 最初に実行してください\n",
        "# モジュールのインポート\n",
        "import streamlit as st"
      ]
    },
    {
      "cell_type": "markdown",
      "source": [
        "## Streamlitとは"
      ],
      "metadata": {
        "id": "utZpMrmBND6M"
      }
    },
    {
      "cell_type": "markdown",
      "source": [
        "[**Streamlit**](https://streamlit.io/)とは、Pythonのライブラリであり、Webアプリケーションを作成するためのフレームワークです。\n",
        "\n",
        "PythonでWebアプリ開発を行いたい場合、[**Flask**](https://msiz07-flask-docs-ja.readthedocs.io/ja/latest/index.html)や[**Django**](https://docs.djangoproject.com/ja/4.1/)といったライブラリが真っ先に挙げられます。  \n",
        "しかし、それらを学ぶには、HTML・CSS・JavaScriptなどのフロントエンドの知識がある程度必要になります。"
      ],
      "metadata": {
        "id": "3vIeBjRKNlTp"
      }
    },
    {
      "cell_type": "markdown",
      "source": [
        "Streamlitを使えば、爆速で簡単に動くアプリを作ることができます。  \n",
        "\n",
        "主にデータサイエンス分野で利用され、データの可視化や解析に利用されます。\n"
      ],
      "metadata": {
        "id": "kg6E4F-PO3-q"
      }
    },
    {
      "cell_type": "markdown",
      "source": [
        "Streamlitは、シンプルで直感的なインターフェースを提供することが目的です。  \n",
        "そのため、細かな設定はあまりできません。  \n",
        "\n",
        "それだけは念頭に置いてもらえればと思います。"
      ],
      "metadata": {
        "id": "RH9xUpSsP7Ys"
      }
    },
    {
      "cell_type": "markdown",
      "source": [
        "本資料作成において、参考にしたページは[こちら](https://data-analytics.fun/2022/08/28/streamlit-recap/#toc10)になります。  \n",
        "かなりこのサイト通りに進めています。"
      ],
      "metadata": {
        "id": "n10I8mJZaLBX"
      }
    },
    {
      "cell_type": "markdown",
      "source": [
        "## Streamlitの基本的な使い方"
      ],
      "metadata": {
        "id": "SxqIC-dmQvZr"
      }
    },
    {
      "cell_type": "markdown",
      "source": [
        "百聞は一見に如かず！  \n",
        "ということで、まずは一回プログラムを表示してみましょう。"
      ],
      "metadata": {
        "id": "C09rqYZUQzuC"
      }
    },
    {
      "cell_type": "markdown",
      "source": [
        "### pyファイルにコードを記述する\n",
        "\n",
        "　実行しましょう。  \n",
        "　`/content/sample1.py`にアップロードされたはずです。\n",
        "\n"
      ],
      "metadata": {
        "id": "uD4pcnTKSyBv"
      }
    },
    {
      "cell_type": "code",
      "source": [
        "# sample1.pyというファイルに記述する\n",
        "\n",
        "%%writefile sample1.py\n",
        "import streamlit as st\n",
        "\n",
        "st.title(\"Streamlit入門\")"
      ],
      "metadata": {
        "id": "wvwEj6vBRESN"
      },
      "execution_count": null,
      "outputs": []
    },
    {
      "cell_type": "markdown",
      "source": [
        "### Streamlitで表示\n",
        "以下のコマンドを入力してください。  \n",
        "\n",
        "your url is: **ここにアクセスしてください**"
      ],
      "metadata": {
        "id": "5Y3tI2L8Tu2W"
      }
    },
    {
      "cell_type": "markdown",
      "source": [
        "![Streamlit1.png](https://imgur.com/DFOsNMP.png)"
      ],
      "metadata": {
        "id": "s4Bl7VsCTa-x"
      }
    },
    {
      "cell_type": "code",
      "source": [
        "# Streamlitで表示\n",
        "\n",
        "!streamlit run sample1.py & sleep 3 && npx localtunnel --port 8501"
      ],
      "metadata": {
        "id": "9gSX3ac3RfQR"
      },
      "execution_count": null,
      "outputs": []
    },
    {
      "cell_type": "markdown",
      "source": [
        "### アクセスする\n",
        "\n",
        "「click to Continue」となっているところからアクセスしましょう。\n",
        "\n",
        "![リンクテキスト](https://imgur.com/us69czF.png)"
      ],
      "metadata": {
        "id": "46hU88oHUS4c"
      }
    },
    {
      "cell_type": "markdown",
      "source": [
        "以下のように表示されたでしょうか。\n",
        "\n",
        "![リンクテキスト](https://imgur.com/o1gQlzh.png)"
      ],
      "metadata": {
        "id": "ah9V4py-eyaq"
      }
    },
    {
      "cell_type": "markdown",
      "source": [
        "## テキストの表示"
      ],
      "metadata": {
        "id": "YKXClWsxXreO"
      }
    },
    {
      "cell_type": "markdown",
      "source": [
        "[こちら](https://data-analytics.fun/2022/01/29/understanding-streamlit-1/)のページを参考にしました。  \n",
        "公式ページは[こちら](https://docs.streamlit.io/library/api-reference)になります。  \n"
      ],
      "metadata": {
        "id": "1LjQBAffiLZJ"
      }
    },
    {
      "cell_type": "markdown",
      "source": [
        "### タイトルの表示\n"
      ],
      "metadata": {
        "id": "fOUbEH7mXyf1"
      }
    },
    {
      "cell_type": "markdown",
      "source": [
        "`st.title()`で、タイトルを設定します。"
      ],
      "metadata": {
        "id": "8_pZuJ0RiO3h"
      }
    },
    {
      "cell_type": "markdown",
      "source": [
        "### キャプションを表示\n"
      ],
      "metadata": {
        "id": "Xd0ZjAY9ZGSy"
      }
    },
    {
      "cell_type": "markdown",
      "source": [
        "`st.caption()`で、小さな文字を表示します。"
      ],
      "metadata": {
        "id": "ChL6ou7tiQVp"
      }
    },
    {
      "cell_type": "markdown",
      "source": [
        "### ヘッダを表示\n"
      ],
      "metadata": {
        "id": "C9eSggIpY6BV"
      }
    },
    {
      "cell_type": "markdown",
      "source": [
        "`st.header()`で、ヘッダを表示します。"
      ],
      "metadata": {
        "id": "R6A4lZdviTEA"
      }
    },
    {
      "cell_type": "markdown",
      "source": [
        "### サブヘッダを表示\n"
      ],
      "metadata": {
        "id": "pV559r2lZB3j"
      }
    },
    {
      "cell_type": "markdown",
      "source": [
        "`st.subheader()`で、少し小さいヘッダを表示します。"
      ],
      "metadata": {
        "id": "02hA5IUPiU4h"
      }
    },
    {
      "cell_type": "markdown",
      "source": [
        "### 純粋なテキストを表示\n"
      ],
      "metadata": {
        "id": "5-UDCcNhZYsB"
      }
    },
    {
      "cell_type": "markdown",
      "source": [
        "`st.text()`で、純粋なテキストを表示します。"
      ],
      "metadata": {
        "id": "hfCsdphtiWmY"
      }
    },
    {
      "cell_type": "markdown",
      "source": [
        "### 実行①\n"
      ],
      "metadata": {
        "id": "We3Qsr_Ic6cb"
      }
    },
    {
      "cell_type": "markdown",
      "source": [
        "いったんここまでのものを使って表示してみましょう。  \n"
      ],
      "metadata": {
        "id": "UIkQlS8riYD4"
      }
    },
    {
      "cell_type": "code",
      "source": [
        "# sample2.pyというファイルに記述する\n",
        "\n",
        "%%writefile sample2.py\n",
        "import streamlit as st\n",
        "\n",
        "st.title(\"Streamlit入門\")\n",
        "st.caption(\"これはStreamlitのテストアプリです\")\n",
        "st.header(\"ヘッダーを表示\")\n",
        "st.subheader(\"サブヘッダーを表示\")\n",
        "st.text(\"テキストを表示\")"
      ],
      "metadata": {
        "id": "Y3jp417tdDzZ"
      },
      "execution_count": null,
      "outputs": []
    },
    {
      "cell_type": "code",
      "source": [
        "# Streamlitで表示\n",
        "\n",
        "!streamlit run sample2.py & sleep 3 && npx localtunnel --port 8501"
      ],
      "metadata": {
        "id": "UB3q-ikmdcIK"
      },
      "execution_count": null,
      "outputs": []
    },
    {
      "cell_type": "markdown",
      "source": [
        "以下のように表示されたでしょうか。\n",
        "\n",
        "![](https://imgur.com/qqt5tYH.png)"
      ],
      "metadata": {
        "id": "JWsIURbBeDYZ"
      }
    },
    {
      "cell_type": "markdown",
      "source": [
        "### Markdownの表示\n",
        "\n"
      ],
      "metadata": {
        "id": "lEWG0watfSZX"
      }
    },
    {
      "cell_type": "markdown",
      "source": [
        "**Markdown**という表記法を使うと、きれいな文章を作成したい際に非常に便利です。  \n",
        "[こちら](https://qiita.com/shizuma/items/8616bbe3ebe8ab0b6ca1)の記事などを参考にしてみてください。\n",
        "\n",
        "`st.markdown()`で、Markdownを表示します。"
      ],
      "metadata": {
        "id": "kog9BPAtia9a"
      }
    },
    {
      "cell_type": "markdown",
      "source": [
        "### プログラムコードの表示\n",
        "\n"
      ],
      "metadata": {
        "id": "RnvMgHbrg1Mh"
      }
    },
    {
      "cell_type": "markdown",
      "source": [
        "`st.code()`で、プログラムコードを表示します。\n",
        "\n",
        "一つ目の引数が表示したいコード、二つ目の引数がプログラミング言語になります。  \n",
        "デフォルトは\"Python\"です。"
      ],
      "metadata": {
        "id": "OkVnuKPticuA"
      }
    },
    {
      "cell_type": "markdown",
      "source": [
        "### Latexの表示\n"
      ],
      "metadata": {
        "id": "278YPbWDhoAS"
      }
    },
    {
      "cell_type": "markdown",
      "source": [
        "**Latex**という表記法を使うと、数式を書くことができます。  \n",
        "[こちら](https://qiita.com/PlanetMeron/items/63ac58898541cbe81ada)の記事などを参考にしてみてください。\n",
        "\n",
        "`st.latex()`で、Texを表示します。"
      ],
      "metadata": {
        "id": "gavIcez1ieYQ"
      }
    },
    {
      "cell_type": "markdown",
      "source": [
        "### 実行②"
      ],
      "metadata": {
        "id": "pjiwvgGCi0vy"
      }
    },
    {
      "cell_type": "markdown",
      "source": [
        "いったんここまでのものを使って表示してみましょう。  \n"
      ],
      "metadata": {
        "id": "SyVoM6mKivEL"
      }
    },
    {
      "cell_type": "code",
      "source": [
        "# sample3.pyというファイルに記述する\n",
        "\n",
        "%%writefile sample3.py\n",
        "import streamlit as st\n",
        "\n",
        "st.title(\"Streamlit入門\")\n",
        "st.caption(\"これはStreamlitのテストアプリです\")\n",
        "\n",
        "markdown = \"\"\"\n",
        "### pythonによるHello, world!\n",
        "``` py\n",
        "print(\"Hello, world!\")\n",
        "````\n",
        "\"\"\"\n",
        "\n",
        "code = \"\"\"\n",
        "#include <stdio.h>\n",
        "\n",
        "int main() {\n",
        "    printf(\"Hello, world!\\\\n\");\n",
        "    return 0;\n",
        "}\n",
        "\"\"\"\n",
        "\n",
        "st.markdown(markdown)\n",
        "st.subheader(\"C言語によるHello, world!\")\n",
        "st.code(code, language=\"c\")\n",
        "st.subheader(\"運動方程式\")\n",
        "st.latex(\"M\\ddot{x}=F\")"
      ],
      "metadata": {
        "id": "tCD115qBivEM"
      },
      "execution_count": null,
      "outputs": []
    },
    {
      "cell_type": "code",
      "source": [
        "# Streamlitで表示\n",
        "\n",
        "!streamlit run sample3.py & sleep 3 && npx localtunnel --port 8501"
      ],
      "metadata": {
        "id": "6hzpmLyQivEO"
      },
      "execution_count": null,
      "outputs": []
    },
    {
      "cell_type": "markdown",
      "source": [
        "以下のように表示されたでしょうか。\n",
        "\n",
        "![](https://imgur.com/0UyVaNS.png)"
      ],
      "metadata": {
        "id": "w5TxcX12ivEP"
      }
    },
    {
      "cell_type": "markdown",
      "source": [
        "## 表の表示"
      ],
      "metadata": {
        "id": "YENIg6WSiqfb"
      }
    },
    {
      "cell_type": "markdown",
      "source": [
        "[こちら](https://data-analytics.fun/2022/01/29/understanding-streamlit-1/)のページを参考にしました。  "
      ],
      "metadata": {
        "id": "PfREBR7ukUKa"
      }
    },
    {
      "cell_type": "markdown",
      "source": [
        "### インタラクティブな表を表示する"
      ],
      "metadata": {
        "id": "aXAhDXMZ_gW0"
      }
    },
    {
      "cell_type": "markdown",
      "source": [
        "Pandasのデータフレームをそのまま渡して、インタラクティブな表を表示することができます。\n",
        "\n",
        "`st.dataframe()`で、インタラクティブな表をを表示します。  \n",
        "引数`width`と`height`で幅・高さを変更できます。"
      ],
      "metadata": {
        "id": "00B3ffYrB1V3"
      }
    },
    {
      "cell_type": "markdown",
      "source": [
        "### 静的な表を表示する"
      ],
      "metadata": {
        "id": "_Y3vFgZQ49nE"
      }
    },
    {
      "cell_type": "markdown",
      "source": [
        "`st.table()`で、静的な表を表示します。  \n"
      ],
      "metadata": {
        "id": "H5RGhtEU5TG8"
      }
    },
    {
      "cell_type": "markdown",
      "source": [
        "### なんでも表示する"
      ],
      "metadata": {
        "id": "n-INNjwI63xS"
      }
    },
    {
      "cell_type": "markdown",
      "source": [
        "`st.write()`とすると、形式を渡されたデータに自動で合わせて出力してくれます。  \n",
        "\n",
        "通常の文字列、Markdown、DataFrame、何でもOKです。"
      ],
      "metadata": {
        "id": "S3uuIU2667ex"
      }
    },
    {
      "cell_type": "markdown",
      "source": [
        "### 実行①"
      ],
      "metadata": {
        "id": "Yk_l-ppx5cE7"
      }
    },
    {
      "cell_type": "markdown",
      "source": [
        "いったんここまでのものを使って表示してみましょう。  \n"
      ],
      "metadata": {
        "id": "-uHtDMZLJ3Ye"
      }
    },
    {
      "cell_type": "markdown",
      "source": [
        "ここでは、2023年のGAFAの株価の時系列情報を取得します。  \n",
        "（参考にしたサイトは[こちら](https://toukei-lab.com/python_stock)）\n",
        "\n",
        "・G：**Google**のこと。親会社は**Alphabet**。  \n",
        "・A：**Apple**のこと。  \n",
        "・F：**Facebook**のこと。2021年に社名を**Meta**に変更している。  \n",
        "・A：**Amazon**のこと。"
      ],
      "metadata": {
        "id": "xei7rsyOCMoQ"
      }
    },
    {
      "cell_type": "markdown",
      "source": [
        "`datatime`モジュールを使って、本日の日付までの株価を確認します。  \n",
        "（3日ほどずれると思います）"
      ],
      "metadata": {
        "id": "_GFxpDO-86I_"
      }
    },
    {
      "cell_type": "code",
      "source": [
        "import streamlit as st\n",
        "import yfinance as yf\n",
        "import pandas as pd\n",
        "from datetime import datetime, timedelta\n",
        "\n",
        "# 株価情報の取得\n",
        "tickers = [\"GOOGL\", \"AAPL\", \"META\", \"AMZN\"]  # Google、Apple、Facebook、Amazonの銘柄コード\n",
        "start_date = \"2023-01-01\"  # 取得開始日\n",
        "end_date = (datetime.today() + timedelta(hours=9)).strftime('%Y-%m-%d')  # 取得終了日\n",
        "\n",
        "price_data = yf.download(tickers, start=start_date, end=end_date)[\"Close\"]\n",
        "\n",
        "# データフレームの作成\n",
        "df = pd.DataFrame({\n",
        "    \"Google\": price_data[tickers[0]],\n",
        "    \"Apple\": price_data[tickers[1]],\n",
        "    \"Facebook\": price_data[tickers[2]],\n",
        "    \"Amazon\": price_data[tickers[3]]\n",
        "})\n",
        "\n",
        "# DataFrameの表示\n",
        "df.iloc[-8:-1]"
      ],
      "metadata": {
        "id": "vXVH_HvjrIs5"
      },
      "execution_count": null,
      "outputs": []
    },
    {
      "cell_type": "markdown",
      "source": [
        "このデータフレームを表示してみましょう。  \n"
      ],
      "metadata": {
        "id": "d3KPrclDreE6"
      }
    },
    {
      "cell_type": "code",
      "source": [
        "# sample4.pyというファイルに記述する\n",
        "\n",
        "%%writefile sample4.py\n",
        "import streamlit as st\n",
        "import yfinance as yf\n",
        "import pandas as pd\n",
        "from datetime import datetime, timedelta\n",
        "\n",
        "# 株価情報の取得\n",
        "tickers = [\"GOOGL\", \"AAPL\", \"META\", \"AMZN\"]  # Google、Apple、Facebook、Amazonの銘柄コード\n",
        "start_date = \"2023-01-01\"  # 取得開始日\n",
        "end_date = (datetime.today() + timedelta(hours=9)).strftime('%Y-%m-%d')  # 取得終了日\n",
        "\n",
        "price_data = yf.download(tickers, start=start_date, end=end_date)[\"Close\"]\n",
        "\n",
        "# データフレームの作成\n",
        "df = pd.DataFrame({\n",
        "    \"Google\": price_data[tickers[0]],\n",
        "    \"Apple\": price_data[tickers[1]],\n",
        "    \"Facebook\": price_data[tickers[2]],\n",
        "    \"Amazon\": price_data[tickers[3]]\n",
        "})\n",
        "\n",
        "markdown_dataframe = \"\"\"\n",
        "以下のコードでインタラクティブな表を表示します\n",
        "```python\n",
        "st.dataframe(df)\n",
        "```\n",
        "結果はこちら↓\n",
        "\"\"\"\n",
        "\n",
        "markdown_table = \"\"\"\n",
        "以下のコードで静的な表を表示します\n",
        "```python\n",
        "st.table(df)\n",
        "```\n",
        "結果はこちら↓\n",
        "\"\"\"\n",
        "\n",
        "st.title(\"Streamlit入門\")\n",
        "st.caption(\"これはStreamlitのテストアプリです\")\n",
        "\n",
        "st.write(markdown_dataframe)\n",
        "st.dataframe(df, width=None, height=500)\n",
        "\n",
        "st.write(markdown_table)\n",
        "st.table(df.iloc[-8:-1])"
      ],
      "metadata": {
        "id": "1bUPKoW0DMFB"
      },
      "execution_count": null,
      "outputs": []
    },
    {
      "cell_type": "code",
      "source": [
        "# Streamlitで表示\n",
        "\n",
        "!streamlit run sample4.py & sleep 3 && npx localtunnel --port 8501"
      ],
      "metadata": {
        "id": "ttXhKqH4_WAZ"
      },
      "execution_count": null,
      "outputs": []
    },
    {
      "cell_type": "markdown",
      "source": [
        "以下のように表示されたでしょうか。\n",
        "\n",
        "![](https://imgur.com/IvqyQSu.png)"
      ],
      "metadata": {
        "id": "oWdPIXCHkB35"
      }
    },
    {
      "cell_type": "markdown",
      "source": [
        "### 指標を表示する"
      ],
      "metadata": {
        "id": "z6G4OTtnAgWe"
      }
    },
    {
      "cell_type": "markdown",
      "source": [
        "`st.metric()` は、Streamlitで数値を表示するための関数です。  \n",
        "主に、比較的シンプルなデータの可視化に使用されます。"
      ],
      "metadata": {
        "id": "XD06529yAwvv"
      }
    },
    {
      "cell_type": "markdown",
      "source": [
        "主に以下のような引数を取ります。\n",
        "\n",
        "・`label`：数値の説明  \n",
        "・`value`：表示する数値  \n",
        "・`delta`：直前の値との差分（省略可能）  \n",
        "・`delta_color`：\n",
        "\n",
        "1.   `normal`：プラスであれば緑色、マイナスであれば赤色\n",
        "2.   `reverse`：normalの逆\n",
        "3.   `off`：色を変えない\n",
        "\n"
      ],
      "metadata": {
        "id": "8vUV1yA6Bv-e"
      }
    },
    {
      "cell_type": "markdown",
      "source": [
        "### 複数表示する"
      ],
      "metadata": {
        "id": "DeNMMDGBC2Cy"
      }
    },
    {
      "cell_type": "markdown",
      "source": [
        "`st.columns()` は、引数の数で分割する個数を指定することができます。\n"
      ],
      "metadata": {
        "id": "TDHNnYJ-C_-x"
      }
    },
    {
      "cell_type": "markdown",
      "source": [
        "### 実行②"
      ],
      "metadata": {
        "id": "syHfO8rXDQ_D"
      }
    },
    {
      "cell_type": "markdown",
      "source": [
        "いったんここまでのものを使って表示してみましょう。  \n"
      ],
      "metadata": {
        "id": "Gvevof7GJ4Ql"
      }
    },
    {
      "cell_type": "markdown",
      "source": [
        "本日の日付までの株価を確認します。  \n",
        "（3日ほどずれると思います）\n",
        "\n",
        "Googleの株価の確認と、4社の株価の確認を以下で行います。"
      ],
      "metadata": {
        "id": "3ylKD3aDDa_o"
      }
    },
    {
      "cell_type": "code",
      "source": [
        "# sample5.pyというファイルに記述する\n",
        "\n",
        "%%writefile sample5.py\n",
        "import streamlit as st\n",
        "import yfinance as yf\n",
        "import pandas as pd\n",
        "from datetime import datetime, timedelta\n",
        "\n",
        "# 株価情報の取得\n",
        "tickers = [\"GOOGL\", \"AAPL\", \"META\", \"AMZN\"]  # Google、Apple、Facebook、Amazonの銘柄コード\n",
        "start_date = \"2023-01-01\"  # 取得開始日\n",
        "end_date = (datetime.today() + timedelta(hours=9)).strftime('%Y-%m-%d')  # 取得終了日\n",
        "\n",
        "price_data = yf.download(tickers, start=start_date, end=end_date)[\"Close\"]\n",
        "\n",
        "# データフレームの作成\n",
        "df = pd.DataFrame({\n",
        "    \"Google\": price_data[tickers[0]],\n",
        "    \"Apple\": price_data[tickers[1]],\n",
        "    \"Facebook\": price_data[tickers[2]],\n",
        "    \"Amazon\": price_data[tickers[3]]\n",
        "})\n",
        "\n",
        "st.title(\"Streamlit入門\")\n",
        "st.caption(\"これはStreamlitのテストアプリです\")\n",
        "\n",
        "# Googleの株価\n",
        "today_date = (datetime.today() + timedelta(hours=9)).strftime('%m/%d')  # 本日の日付\n",
        "st.subheader(today_date + \"のGoogleの株価\")\n",
        "\n",
        "value = round(df[\"Google\"][-1],1)\n",
        "delta = round(df[\"Google\"][-1] - df[\"Google\"][-2],1)\n",
        "st.metric(label='株価', value=f'{value} ドル', delta=f'{delta} ドル')\n",
        "\n",
        "# 4社の株価\n",
        "names = [\"Google\", \"Apple\", \"Facebook\", \"Amazon\"]\n",
        "num_columns = len(names)\n",
        "st.subheader(f'{today_date}の株価')\n",
        "cols = st.columns(num_columns)\n",
        "for name, col in zip(names, cols):\n",
        "    value = round(df.iloc[-1][name],1)\n",
        "    delta = round(df.iloc[-1][name] - df.iloc[-2][name],1)\n",
        "    col.metric(label=name, value=f'{value} ドル', delta=f'{delta} ドル')"
      ],
      "metadata": {
        "id": "7nPP6Tc-DjpN"
      },
      "execution_count": null,
      "outputs": []
    },
    {
      "cell_type": "code",
      "source": [
        "# Streamlitで表示\n",
        "\n",
        "!streamlit run sample5.py & sleep 3 && npx localtunnel --port 8501"
      ],
      "metadata": {
        "id": "nSd3Ure9Fk-k"
      },
      "execution_count": null,
      "outputs": []
    },
    {
      "cell_type": "markdown",
      "source": [
        "以下のように表示されたでしょうか。  \n",
        "（日時は多少ズレがあると思います）\n",
        "\n",
        "![](https://imgur.com/6Z9JKYX.png)"
      ],
      "metadata": {
        "id": "RDw_UTHRkIJ6"
      }
    },
    {
      "cell_type": "markdown",
      "source": [
        "## グラフの表示"
      ],
      "metadata": {
        "id": "QwL3aAsQHyU4"
      }
    },
    {
      "cell_type": "markdown",
      "source": [
        "[こちら](https://data-analytics.fun/2022/01/29/understanding-streamlit-1/)のページを参考にしました。 "
      ],
      "metadata": {
        "id": "_KAkWosolBdC"
      }
    },
    {
      "cell_type": "markdown",
      "source": [
        "### 折れ線グラフの表示"
      ],
      "metadata": {
        "id": "Q78IkXgyIEfo"
      }
    },
    {
      "cell_type": "markdown",
      "source": [
        "`st.line_chart()`で、折れ線グラフを表示します。  \n",
        "\n",
        "引数は、`width`、`height`で幅や高さを設定できます。"
      ],
      "metadata": {
        "id": "5mzq6m-SIHHn"
      }
    },
    {
      "cell_type": "markdown",
      "source": [
        "### エリアグラフの表示"
      ],
      "metadata": {
        "id": "QXRK5kqOIaYI"
      }
    },
    {
      "cell_type": "markdown",
      "source": [
        "`st.area_chart()`で、エリアチャートを表示します。  \n",
        "\n",
        "引数は、`line_chart()`と同じです。"
      ],
      "metadata": {
        "id": "H1SsXo5KIgI_"
      }
    },
    {
      "cell_type": "markdown",
      "source": [
        "### 実行①"
      ],
      "metadata": {
        "id": "FShMybdwJ1qj"
      }
    },
    {
      "cell_type": "markdown",
      "source": [
        "いったんここまでのものを使って表示してみましょう。  \n"
      ],
      "metadata": {
        "id": "wA_yC5p7J5CE"
      }
    },
    {
      "cell_type": "markdown",
      "source": [
        "引き続き、2023年のGAFAの株価の時系列情報を取得します。\n",
        "\n",
        "株価推移を2パターンで確認します。"
      ],
      "metadata": {
        "id": "g_cWOR_zJ9gu"
      }
    },
    {
      "cell_type": "code",
      "source": [
        "# sample6.pyというファイルに記述する\n",
        "\n",
        "%%writefile sample6.py\n",
        "import streamlit as st\n",
        "import yfinance as yf\n",
        "import pandas as pd\n",
        "from datetime import datetime, timedelta\n",
        "\n",
        "# 株価情報の取得\n",
        "tickers = [\"GOOGL\", \"AAPL\", \"META\", \"AMZN\"]  # Google、Apple、Facebook、Amazonの銘柄コード\n",
        "start_date = \"2023-01-01\"  # 取得開始日\n",
        "end_date = (datetime.today() + timedelta(hours=9)).strftime('%Y-%m-%d')  # 取得終了日\n",
        "\n",
        "price_data = yf.download(tickers, start=start_date, end=end_date)[\"Close\"]\n",
        "\n",
        "# データフレームの作成\n",
        "df = pd.DataFrame({\n",
        "    \"Google\": price_data[tickers[0]],\n",
        "    \"Apple\": price_data[tickers[1]],\n",
        "    \"Facebook\": price_data[tickers[2]],\n",
        "    \"Amazon\": price_data[tickers[3]]\n",
        "})\n",
        "\n",
        "st.title(\"Streamlit入門\")\n",
        "st.caption(\"これはStreamlitのテストアプリです\")\n",
        "\n",
        "# 2023年の株価推移（線グラフ）\n",
        "st.subheader(\"2023年の株価推移（線グラフ）\")\n",
        "st.line_chart(df)\n",
        "\n",
        "# 2023年の株価推移（エリアグラフ）\n",
        "st.subheader(\"2023年の株価推移（エリアグラフ）\")\n",
        "st.area_chart(df)"
      ],
      "metadata": {
        "id": "xA1vcitGLK_q"
      },
      "execution_count": null,
      "outputs": []
    },
    {
      "cell_type": "code",
      "source": [
        "# Streamlitで表示\n",
        "\n",
        "!streamlit run sample6.py & sleep 3 && npx localtunnel --port 8501"
      ],
      "metadata": {
        "id": "6DtW4_3oMLiv"
      },
      "execution_count": null,
      "outputs": []
    },
    {
      "cell_type": "markdown",
      "source": [
        "以下のように表示されたでしょうか。  \n",
        "（日時は多少ズレがあると思います）\n",
        "\n",
        "![](https://imgur.com/u97r4Gr.png)"
      ],
      "metadata": {
        "id": "bAxpYXlLnb13"
      }
    },
    {
      "cell_type": "markdown",
      "source": [
        "### 棒グラフの表示"
      ],
      "metadata": {
        "id": "E3UbvIz3I1w1"
      }
    },
    {
      "cell_type": "markdown",
      "source": [
        "`st.bar_chart()`で、エリアチャートを表示します。  \n",
        "\n",
        "引数は、`line_chart()`と同じです。"
      ],
      "metadata": {
        "id": "sc5iwMvEI8wx"
      }
    },
    {
      "cell_type": "markdown",
      "source": [
        "### Matplotlib"
      ],
      "metadata": {
        "id": "mzqLwdXPNr2j"
      }
    },
    {
      "cell_type": "markdown",
      "source": [
        "Matplotlibでグラフを作成し、それをst.pyplotに渡すこともできます。  \n",
        "`st.pyplot()`を使います。\n",
        "\n",
        "今までのグラフは非常に簡単ですが、細かい設定は全くできません。  \n",
        "色の変更など、設定をいじることができます。"
      ],
      "metadata": {
        "id": "aqSnJhHnNtKu"
      }
    },
    {
      "cell_type": "markdown",
      "source": [
        "### Plotly\n",
        "\n",
        "Plotlyはインタラクティブなグラフを作成するためのライブラリです。\n",
        "\n",
        "本資料を作るのに大いに参考にしたサイトの[こちら](https://data-analytics.fun/2021/11/19/plotly-summary/)のページに  \n",
        "詳しく書いてありますので、グラフを凝りたい方は是非。"
      ],
      "metadata": {
        "id": "Kcm256jKPVUh"
      }
    },
    {
      "cell_type": "markdown",
      "source": [
        "### 実行②"
      ],
      "metadata": {
        "id": "nhTHAUdCOFJW"
      }
    },
    {
      "cell_type": "markdown",
      "source": [
        "いったんここまでのものを使って表示してみましょう。  \n"
      ],
      "metadata": {
        "id": "CBCn0rsJOFJW"
      }
    },
    {
      "cell_type": "markdown",
      "source": [
        "引き続き、2023年のGAFAの株価の時系列情報を取得します。\n",
        "\n",
        "2023年の株価変化率の比較を2パターンで確認します。"
      ],
      "metadata": {
        "id": "OyDApLRaOFJW"
      }
    },
    {
      "cell_type": "code",
      "source": [
        "# sample6.pyというファイルに記述する\n",
        "\n",
        "%%writefile sample7.py\n",
        "import streamlit as st\n",
        "import yfinance as yf\n",
        "import pandas as pd\n",
        "from datetime import datetime, timedelta\n",
        "import matplotlib.pyplot as plt\n",
        "\n",
        "# 株価情報の取得\n",
        "tickers = [\"GOOGL\", \"AAPL\", \"META\", \"AMZN\"]  # Google、Apple、Facebook、Amazonの銘柄コード\n",
        "start_date = \"2023-01-01\"  # 取得開始日\n",
        "end_date = (datetime.today() + timedelta(hours=9)).strftime('%Y-%m-%d')  # 取得終了日\n",
        "\n",
        "price_data = yf.download(tickers, start=start_date, end=end_date)[\"Close\"]\n",
        "\n",
        "# データフレームの作成\n",
        "df = pd.DataFrame({\n",
        "    \"Google\": price_data[tickers[0]],\n",
        "    \"Apple\": price_data[tickers[1]],\n",
        "    \"Facebook\": price_data[tickers[2]],\n",
        "    \"Amazon\": price_data[tickers[3]]\n",
        "})\n",
        "\n",
        "# リターンの計算\n",
        "df_return = df.apply(lambda x: (x[-1] - x[0]) / x[0], axis=0)\n",
        "# 各日ごとの比較\n",
        "# returns = df.pct_change().dropna()\n",
        "\n",
        "st.title(\"Streamlit入門\")\n",
        "st.caption(\"これはStreamlitのテストアプリです\")\n",
        "\n",
        "# 2023年の株価推移（線グラフ）\n",
        "st.subheader(\"2023年の株価推移（線グラフ）\")\n",
        "st.line_chart(df)\n",
        "\n",
        "# 2023年の株価変化率の比較\n",
        "st.subheader(\"2023年の株価変化率の比較\")\n",
        "st.bar_chart(df_return)\n",
        "\n",
        "# 2023年の株価変化率の比較\n",
        "names = [\"Google\", \"Apple\", \"Facebook\", \"Amazon\"]\n",
        "fig, ax = plt.subplots()\n",
        "ax.bar(x=[\"Google\", \"Apple\", \"Facebook\", \"Amazon\"], height=df_return[names],\n",
        "       color='green', width=0.6, alpha=0.6)\n",
        "st.subheader('2023年の株価変化率の比較')\n",
        "st.pyplot(fig)"
      ],
      "metadata": {
        "id": "WmrLVyvdOUGj"
      },
      "execution_count": null,
      "outputs": []
    },
    {
      "cell_type": "code",
      "source": [
        "# Streamlitで表示\n",
        "\n",
        "!streamlit run sample7.py & sleep 3 && npx localtunnel --port 8501"
      ],
      "metadata": {
        "id": "bxh8wWMkOUGk"
      },
      "execution_count": null,
      "outputs": []
    },
    {
      "cell_type": "markdown",
      "source": [
        "棒グラフは以下のように表示されたでしょうか。\n",
        "\n",
        "![](https://imgur.com/BZJsrnb.png)"
      ],
      "metadata": {
        "id": "2x1akFmOoPMg"
      }
    }
  ]
}