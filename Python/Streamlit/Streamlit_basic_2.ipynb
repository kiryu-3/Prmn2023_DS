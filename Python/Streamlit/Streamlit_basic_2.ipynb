{
  "nbformat": 4,
  "nbformat_minor": 0,
  "metadata": {
    "colab": {
      "provenance": [],
      "toc_visible": true,
      "authorship_tag": "ABX9TyM5Tf+Ud62LfOnqito90IlC",
      "include_colab_link": true
    },
    "kernelspec": {
      "name": "python3",
      "display_name": "Python 3"
    },
    "language_info": {
      "name": "python"
    },
    "gpuClass": "standard"
  },
  "cells": [
    {
      "cell_type": "markdown",
      "metadata": {
        "id": "view-in-github",
        "colab_type": "text"
      },
      "source": [
        "<a href=\"https://colab.research.google.com/github/kiryu-3/Prmn2023_DS/blob/main/Python/Streamlit/Streamlit_basic_2.ipynb\" target=\"_parent\"><img src=\"https://colab.research.google.com/assets/colab-badge.svg\" alt=\"Open In Colab\"/></a>"
      ]
    },
    {
      "cell_type": "markdown",
      "source": [
        "# Streamlit入門編②"
      ],
      "metadata": {
        "id": "VihB252MNBiG"
      }
    },
    {
      "cell_type": "markdown",
      "source": [
        "本資料作成において、参考にしたページは[こちら](https://data-analytics.fun/2022/08/28/streamlit-recap/#toc10)になります。  \n",
        "かなりこのサイト通りに進めています。"
      ],
      "metadata": {
        "id": "r4x57sGOpBiT"
      }
    },
    {
      "cell_type": "code",
      "source": [
        "# 最初に実行してください\n",
        "# ライブラリのインストール\n",
        "!pip install Streamlit\n",
        "!pip install yfinance"
      ],
      "metadata": {
        "id": "a6CuhvlE_rfr"
      },
      "execution_count": null,
      "outputs": []
    },
    {
      "cell_type": "code",
      "execution_count": null,
      "metadata": {
        "id": "15jCf052Kd37"
      },
      "outputs": [],
      "source": [
        "# 最初に実行してください\n",
        "# モジュールのインポート\n",
        "import streamlit as st"
      ]
    },
    {
      "cell_type": "markdown",
      "source": [
        "## ウィジェットの表示①"
      ],
      "metadata": {
        "id": "YKXClWsxXreO"
      }
    },
    {
      "cell_type": "markdown",
      "source": [
        "普通にウィジェットを作るとHTML、CSS、JavaScriptなどを何行も書かないといけなくなるようですが、  \n",
        "Streamlitを使うとほんの数行で書くことができて非常に便利です。"
      ],
      "metadata": {
        "id": "wEzS2CzmwTkv"
      }
    },
    {
      "cell_type": "markdown",
      "source": [
        "[こちら](https://data-analytics.fun/2022/07/04/streamlit-layout/)のページを参考にしました。  \n",
        "公式ページは[こちら](https://docs.streamlit.io/library/api-reference/widgets)になります。  \n"
      ],
      "metadata": {
        "id": "bSspiZ5eoypC"
      }
    },
    {
      "cell_type": "markdown",
      "source": [
        "### ボタンの表示\n"
      ],
      "metadata": {
        "id": "fOUbEH7mXyf1"
      }
    },
    {
      "cell_type": "markdown",
      "source": [
        "`st.button()`で、ボタンを作成することができます。\n",
        "\n",
        "`label`プロパティにボタンに表示するラベルを指定します。"
      ],
      "metadata": {
        "id": "8_pZuJ0RiO3h"
      }
    },
    {
      "cell_type": "markdown",
      "source": [
        "では表示してみましょう。"
      ],
      "metadata": {
        "id": "iQzkQILSyqND"
      }
    },
    {
      "cell_type": "code",
      "source": [
        "# sample1.pyというファイルに記述する\n",
        "\n",
        "%%writefile sample1.py\n",
        "import streamlit as st\n",
        "import yfinance as yf\n",
        "import pandas as pd\n",
        "from datetime import datetime, timedelta\n",
        "\n",
        "# 株価情報の取得\n",
        "tickers = [\"GOOGL\", \"AAPL\", \"META\", \"AMZN\"]  # Google、Apple、Facebook、Amazonの銘柄コード\n",
        "start_date_2023 = \"2023-01-01\"  # 取得開始日\n",
        "end_date_2023 = (datetime.today() + timedelta(hours=9)).strftime('%Y-%m-%d')  # 取得終了日\n",
        "start_date_2022 = \"2022-01-01\"  # 取得開始日\n",
        "end_date_2022 = \"2022-12-31\"  # 取得終了日\n",
        "start_date_2021 = \"2021-01-01\"  # 取得開始日\n",
        "end_date_2021 = \"2021-12-31\"  # 取得終了日\n",
        "\n",
        "price_data_2023 = yf.download(tickers, start=start_date_2023, end=end_date_2023)[\"Close\"]\n",
        "price_data_2022 = yf.download(tickers, start=start_date_2022, end=end_date_2022)[\"Close\"]\n",
        "price_data_2021 = yf.download(tickers, start=start_date_2021, end=end_date_2021)[\"Close\"]\n",
        "\n",
        "# データフレームの作成\n",
        "df_2023 = pd.DataFrame({\n",
        "    \"Google\": price_data_2023[tickers[0]],\n",
        "    \"Apple\": price_data_2023[tickers[1]],\n",
        "    \"Facebook\": price_data_2023[tickers[2]],\n",
        "    \"Amazon\": price_data_2023[tickers[3]]\n",
        "})\n",
        "\n",
        "df_2022 = pd.DataFrame({\n",
        "    \"Google\": price_data_2022[tickers[0]],\n",
        "    \"Apple\": price_data_2022[tickers[1]],\n",
        "    \"Facebook\": price_data_2022[tickers[2]],\n",
        "    \"Amazon\": price_data_2022[tickers[3]]\n",
        "})\n",
        "\n",
        "df_2021 = pd.DataFrame({\n",
        "    \"Google\": price_data_2021[tickers[0]],\n",
        "    \"Apple\": price_data_2021[tickers[1]],\n",
        "    \"Facebook\": price_data_2021[tickers[2]],\n",
        "    \"Amazon\": price_data_2021[tickers[3]]\n",
        "})\n",
        "\n",
        "st.title(\"Streamlit入門\")\n",
        "st.caption(\"これはStreamlitのテストアプリです\")\n",
        "\n",
        "st.header('株価推移')\n",
        "col = st.columns(3)\n",
        "data_2023 = col[0].button('2023年')\n",
        "data_2022 = col[1].button('2022年')\n",
        "data_2021 = col[2].button('2021年')\n",
        "\n",
        "if data_2023:\n",
        "    st.subheader('2023年の株価推移')\n",
        "    st.line_chart(df_2023)\n",
        "elif data_2022:\n",
        "    st.subheader('2022年の株価推移')\n",
        "    st.line_chart(df_2022)\n",
        "elif data_2021:\n",
        "    st.subheader('2021年の株価推移')\n",
        "    st.line_chart(df_2021)"
      ],
      "metadata": {
        "id": "nGnyu6kzyuT-"
      },
      "execution_count": null,
      "outputs": []
    },
    {
      "cell_type": "code",
      "source": [
        "# Streamlitで表示\n",
        "\n",
        "!streamlit run sample1.py & sleep 3 && npx localtunnel --port 8501"
      ],
      "metadata": {
        "id": "JMerSPcpyuT_"
      },
      "execution_count": null,
      "outputs": []
    },
    {
      "cell_type": "markdown",
      "source": [
        "以下のように表示されたでしょうか。  \n",
        "\n",
        "\n",
        "![](https://imgur.com/7Y5aQLR.png)"
      ],
      "metadata": {
        "id": "QowsgVBhqUKI"
      }
    },
    {
      "cell_type": "markdown",
      "source": [
        "### データ・ダウンロードボタンの表示\n"
      ],
      "metadata": {
        "id": "Xd0ZjAY9ZGSy"
      }
    },
    {
      "cell_type": "markdown",
      "source": [
        "`st.download_button()`で、データをダウンロードすることができます。\n",
        "\n",
        "\n"
      ],
      "metadata": {
        "id": "ChL6ou7tiQVp"
      }
    },
    {
      "cell_type": "markdown",
      "source": [
        "基本的な設定は以下です。  \n",
        "\n",
        "・`label`：ボタンに対するラベル  \n",
        "・`data`：ダウンロードするデータ  \n",
        "・`file_name`：ファイルをダウンロードしたときのファイル名  \n",
        "・`mine`：ファイルの形式を設定  \n",
        "　　　　「`text/csv`」,「`text/plain`」,「`image/png`」などがある"
      ],
      "metadata": {
        "id": "3EP5Apzi5HMW"
      }
    },
    {
      "cell_type": "markdown",
      "source": [
        "では表示してみましょう。"
      ],
      "metadata": {
        "id": "EJLxBjAv5MKN"
      }
    },
    {
      "cell_type": "code",
      "source": [
        "# sample2.pyというファイルに記述する\n",
        "\n",
        "%%writefile sample2.py\n",
        "import streamlit as st\n",
        "import yfinance as yf\n",
        "import pandas as pd\n",
        "from datetime import datetime, timedelta\n",
        "\n",
        "# 株価情報の取得\n",
        "tickers = [\"GOOGL\", \"AAPL\", \"META\", \"AMZN\"]  # Google、Apple、Facebook、Amazonの銘柄コード\n",
        "start_date_2023 = \"2023-01-01\"  # 取得開始日\n",
        "end_date_2023 = (datetime.today() + timedelta(hours=9)).strftime('%Y-%m-%d')  # 取得終了日\n",
        "start_date_2022 = \"2022-01-01\"  # 取得開始日\n",
        "end_date_2022 = \"2022-12-31\"  # 取得終了日\n",
        "start_date_2021 = \"2021-01-01\"  # 取得開始日\n",
        "end_date_2021 = \"2021-12-31\"  # 取得終了日\n",
        "\n",
        "price_data_2023 = yf.download(tickers, start=start_date_2023, end=end_date_2023)[\"Close\"]\n",
        "price_data_2022 = yf.download(tickers, start=start_date_2022, end=end_date_2022)[\"Close\"]\n",
        "price_data_2021 = yf.download(tickers, start=start_date_2021, end=end_date_2021)[\"Close\"]\n",
        "\n",
        "# データフレームの作成\n",
        "df_2023 = pd.DataFrame({\n",
        "    \"Google\": price_data_2023[tickers[0]],\n",
        "    \"Apple\": price_data_2023[tickers[1]],\n",
        "    \"Facebook\": price_data_2023[tickers[2]],\n",
        "    \"Amazon\": price_data_2023[tickers[3]]\n",
        "})\n",
        "\n",
        "df_2022 = pd.DataFrame({\n",
        "    \"Google\": price_data_2022[tickers[0]],\n",
        "    \"Apple\": price_data_2022[tickers[1]],\n",
        "    \"Facebook\": price_data_2022[tickers[2]],\n",
        "    \"Amazon\": price_data_2022[tickers[3]]\n",
        "})\n",
        "\n",
        "df_2021 = pd.DataFrame({\n",
        "    \"Google\": price_data_2021[tickers[0]],\n",
        "    \"Apple\": price_data_2021[tickers[1]],\n",
        "    \"Facebook\": price_data_2021[tickers[2]],\n",
        "    \"Amazon\": price_data_2021[tickers[3]]\n",
        "})\n",
        "\n",
        "st.title(\"Streamlit入門\")\n",
        "st.caption(\"これはStreamlitのテストアプリです\")\n",
        "\n",
        "st.header('株価推移')\n",
        "col = st.columns(3)\n",
        "data_2023 = col[0].button('2023年')\n",
        "data_2022 = col[1].button('2022年')\n",
        "data_2021 = col[2].button('2021年')\n",
        "\n",
        "if data_2023:\n",
        "    st.subheader('2023年の株価推移')\n",
        "    csv = df_2023.to_csv().encode('UTF-8')\n",
        "    st.download_button(label='Data Download', \n",
        "                   data=csv, \n",
        "                   file_name='stock_price_2023.csv',\n",
        "                   mime='text/csv',\n",
        "                   )\n",
        "    st.line_chart(df_2023)\n",
        "elif data_2022:\n",
        "    st.subheader('2022年の株価推移')\n",
        "    csv = df_2022.to_csv().encode('UTF-8')\n",
        "    st.download_button(label='Data Download', \n",
        "                   data=csv, \n",
        "                   file_name='stock_price_2022.csv',\n",
        "                   mime='text/csv',\n",
        "                   )\n",
        "    st.line_chart(df_2022)\n",
        "elif data_2021:\n",
        "    st.subheader('2021年の株価推移')\n",
        "    csv = df_2021.to_csv().encode('UTF-8')\n",
        "    st.download_button(label='Data Download', \n",
        "                   data=csv, \n",
        "                   file_name='stock_price_2021.csv',\n",
        "                   mime='text/csv',\n",
        "                   )\n",
        "    st.line_chart(df_2021)"
      ],
      "metadata": {
        "id": "5ZNSHY_A5PeB"
      },
      "execution_count": null,
      "outputs": []
    },
    {
      "cell_type": "code",
      "source": [
        "# Streamlitで表示\n",
        "\n",
        "!streamlit run sample2.py & sleep 3 && npx localtunnel --port 8501"
      ],
      "metadata": {
        "id": "cL3KwTVB5zGd"
      },
      "execution_count": null,
      "outputs": []
    },
    {
      "cell_type": "markdown",
      "source": [
        "以下のように表示されたでしょうか。  \n",
        "\n",
        "\n",
        "![](https://imgur.com/RThXwww.png)"
      ],
      "metadata": {
        "id": "kEzUtXQgqdsh"
      }
    },
    {
      "cell_type": "markdown",
      "source": [
        "### チェックボックスの表示\n"
      ],
      "metadata": {
        "id": "C9eSggIpY6BV"
      }
    },
    {
      "cell_type": "markdown",
      "source": [
        "`st.checkbox()`で、チェックボックスを表示します。\n",
        "\n",
        "引数`label`に選択肢を指定します。"
      ],
      "metadata": {
        "id": "R6A4lZdviTEA"
      }
    },
    {
      "cell_type": "markdown",
      "source": [
        "では表示してみましょう。"
      ],
      "metadata": {
        "id": "X4THjM53CizT"
      }
    },
    {
      "cell_type": "code",
      "source": [
        "# sample3.pyというファイルに記述する\n",
        "\n",
        "%%writefile sample3.py\n",
        "import streamlit as st\n",
        "import yfinance as yf\n",
        "import pandas as pd\n",
        "from datetime import datetime, timedelta\n",
        "\n",
        "# 株価情報の取得\n",
        "tickers = [\"GOOGL\", \"AAPL\", \"META\", \"AMZN\"]  # Google、Apple、Facebook、Amazonの銘柄コード\n",
        "start_date = \"2023-01-01\"  # 取得開始日\n",
        "end_date = (datetime.today() + timedelta(hours=9)).strftime('%Y-%m-%d')  # 取得終了日\n",
        "\n",
        "price_data = yf.download(tickers, start=start_date, end=end_date)[\"Close\"]\n",
        "\n",
        "# データフレームの作成\n",
        "df = pd.DataFrame({\n",
        "    \"Google\": price_data[tickers[0]],\n",
        "    \"Apple\": price_data[tickers[1]],\n",
        "    \"Facebook\": price_data[tickers[2]],\n",
        "    \"Amazon\": price_data[tickers[3]]\n",
        "})\n",
        "\n",
        "st.title(\"Streamlit入門\")\n",
        "st.caption(\"これはStreamlitのテストアプリです\")\n",
        "\n",
        "st.header('2023年の株価推移')\n",
        "col = st.columns(4)\n",
        "google = col[0].checkbox(label='Google', key='google')\n",
        "apple = col[1].checkbox(label='Apple', key='apple')\n",
        "facebook = col[2].checkbox(label='Facebook', key='facebook')\n",
        "amazon = col[3].checkbox(label='Amazon', key='amazon')\n",
        " \n",
        "stocks = []\n",
        "if google:\n",
        "    stocks.append('Google')\n",
        "if apple:\n",
        "    stocks.append('Apple')\n",
        "if facebook:\n",
        "    stocks.append('Facebook')\n",
        "if amazon:\n",
        "    stocks.append('Amazon')  \n",
        "st.line_chart(df[stocks])"
      ],
      "metadata": {
        "id": "pffLWI3q7S3S"
      },
      "execution_count": null,
      "outputs": []
    },
    {
      "cell_type": "code",
      "source": [
        "# Streamlitで表示\n",
        "\n",
        "!streamlit run sample3.py & sleep 3 && npx localtunnel --port 8501"
      ],
      "metadata": {
        "id": "3lWKstVE8m3f"
      },
      "execution_count": null,
      "outputs": []
    },
    {
      "cell_type": "markdown",
      "source": [
        "以下のように表示されたでしょうか。  \n",
        "\n",
        "\n",
        "![](https://imgur.com/8E55Fc5.png)"
      ],
      "metadata": {
        "id": "5Usu_TPBs2XL"
      }
    },
    {
      "cell_type": "markdown",
      "source": [
        "### ラジオボタンの表示\n"
      ],
      "metadata": {
        "id": "pV559r2lZB3j"
      }
    },
    {
      "cell_type": "markdown",
      "source": [
        "`st.radio()`で、複数の選択肢の中から一つ選ぶボタンを表示できます。"
      ],
      "metadata": {
        "id": "02hA5IUPiU4h"
      }
    },
    {
      "cell_type": "markdown",
      "source": [
        "基本的な設定は以下です。  \n",
        "\n",
        "・`label`：ラジオボタンの上に表示するテキスト  \n",
        "・`options`：選択するリスト  \n",
        "・`index`：デフォルトで選択されている項目  \n",
        "・`horizontal`：Trueにすると横に並べて表示"
      ],
      "metadata": {
        "id": "0x97FdQ2Cgsz"
      }
    },
    {
      "cell_type": "markdown",
      "source": [
        "では表示してみましょう。"
      ],
      "metadata": {
        "id": "KmlSG4bxCjcj"
      }
    },
    {
      "cell_type": "code",
      "source": [
        "# sample4.pyというファイルに記述する\n",
        "\n",
        "%%writefile sample4.py\n",
        "import streamlit as st\n",
        "import yfinance as yf\n",
        "import pandas as pd\n",
        "from datetime import datetime, timedelta\n",
        "\n",
        "# 株価情報の取得\n",
        "tickers = [\"GOOGL\", \"AAPL\", \"META\", \"AMZN\"]  # Google、Apple、Facebook、Amazonの銘柄コード\n",
        "start_date = \"2023-01-01\"  # 取得開始日\n",
        "end_date = (datetime.today() + timedelta(hours=9)).strftime('%Y-%m-%d')  # 取得終了日\n",
        "\n",
        "price_data = yf.download(tickers, start=start_date, end=end_date)[\"Close\"]\n",
        "\n",
        "# データフレームの作成\n",
        "df = pd.DataFrame({\n",
        "    \"Google\": price_data[tickers[0]],\n",
        "    \"Apple\": price_data[tickers[1]],\n",
        "    \"Facebook\": price_data[tickers[2]],\n",
        "    \"Amazon\": price_data[tickers[3]]\n",
        "})\n",
        "\n",
        "st.title(\"Streamlit入門\")\n",
        "st.caption(\"これはStreamlitのテストアプリです\")\n",
        "\n",
        "st.header('2023年の株価推移')\n",
        "\n",
        "stock = st.radio(label='銘柄を選択してください',\n",
        "                 options=('Google', 'Apple', 'Facebook', 'Amazon'),\n",
        "                 index=0,\n",
        "                 horizontal=True,\n",
        ")\n",
        " \n",
        "st.line_chart(df[stock])"
      ],
      "metadata": {
        "id": "9vPwBLM6EdkB"
      },
      "execution_count": null,
      "outputs": []
    },
    {
      "cell_type": "code",
      "source": [
        "# Streamlitで表示\n",
        "\n",
        "!streamlit run sample4.py & sleep 3 && npx localtunnel --port 8501"
      ],
      "metadata": {
        "id": "eA0sVWzUEuBh"
      },
      "execution_count": null,
      "outputs": []
    },
    {
      "cell_type": "markdown",
      "source": [
        "以下のように表示されたでしょうか。  \n",
        "\n",
        "\n",
        "![](https://imgur.com/PJlNuKD.png)"
      ],
      "metadata": {
        "id": "ntY9Ke-UtZNh"
      }
    },
    {
      "cell_type": "markdown",
      "source": [
        "### セレクトボックスの表示\n"
      ],
      "metadata": {
        "id": "5-UDCcNhZYsB"
      }
    },
    {
      "cell_type": "markdown",
      "source": [
        "`st.selectbox()`で、ドロップダウンで選択できるようになります。"
      ],
      "metadata": {
        "id": "hfCsdphtiWmY"
      }
    },
    {
      "cell_type": "markdown",
      "source": [
        "基本的な設定は以下です。  \n",
        "\n",
        "・`label`：セレクトボックスの上に表示するテキスト  \n",
        "・`options`：選択項目を設定（リスト、Series、indexなど）    "
      ],
      "metadata": {
        "id": "M6EFG9KCF9d3"
      }
    },
    {
      "cell_type": "markdown",
      "source": [
        "では表示してみましょう。"
      ],
      "metadata": {
        "id": "ghPyfPgFGKWs"
      }
    },
    {
      "cell_type": "code",
      "source": [
        "# sample5.pyというファイルに記述する\n",
        "\n",
        "%%writefile sample5.py\n",
        "import streamlit as st\n",
        "import yfinance as yf\n",
        "import pandas as pd\n",
        "from datetime import datetime, timedelta\n",
        "\n",
        "# 株価情報の取得\n",
        "tickers = [\"GOOGL\", \"AAPL\", \"META\", \"AMZN\"]  # Google、Apple、Facebook、Amazonの銘柄コード\n",
        "start_date = \"2023-01-01\"  # 取得開始日\n",
        "end_date = (datetime.today() + timedelta(hours=9)).strftime('%Y-%m-%d')  # 取得終了日\n",
        "\n",
        "price_data = yf.download(tickers, start=start_date, end=end_date)[\"Close\"]\n",
        "\n",
        "# データフレームの作成\n",
        "df = pd.DataFrame({\n",
        "    \"Google\": price_data[tickers[0]],\n",
        "    \"Apple\": price_data[tickers[1]],\n",
        "    \"Facebook\": price_data[tickers[2]],\n",
        "    \"Amazon\": price_data[tickers[3]]\n",
        "})\n",
        "\n",
        "st.title(\"Streamlit入門\")\n",
        "st.caption(\"これはStreamlitのテストアプリです\")\n",
        "\n",
        "st.header('2023年の株価推移')\n",
        "\n",
        "stock = st.selectbox(label=\"銘柄を選んでください\",\n",
        "             options=df.columns)\n",
        " \n",
        "st.line_chart(df[stock])"
      ],
      "metadata": {
        "id": "lwI44SxJGQEE"
      },
      "execution_count": null,
      "outputs": []
    },
    {
      "cell_type": "code",
      "source": [
        "# Streamlitで表示\n",
        "\n",
        "!streamlit run sample5.py & sleep 3 && npx localtunnel --port 8501"
      ],
      "metadata": {
        "id": "Ndjn9CewHssB"
      },
      "execution_count": null,
      "outputs": []
    },
    {
      "cell_type": "markdown",
      "source": [
        "以下のように表示されたでしょうか。  \n",
        "\n",
        "\n",
        "![](https://imgur.com/eftUHsi.png)"
      ],
      "metadata": {
        "id": "3SSyobKltfuR"
      }
    },
    {
      "cell_type": "markdown",
      "source": [
        "### マルチ・セレクトボックスの表示\n"
      ],
      "metadata": {
        "id": "_Myh7HX2IDhN"
      }
    },
    {
      "cell_type": "markdown",
      "source": [
        "`st.multiselect()`で、リストから複数選択できるようになります。"
      ],
      "metadata": {
        "id": "1uPbJCBsIDhO"
      }
    },
    {
      "cell_type": "markdown",
      "source": [
        "基本的な設定は以下です。  \n",
        "\n",
        "・`label`：セレクトボックスの上に表示するテキスト  \n",
        "・`options`：選択項目を設定（リスト、Series、indexなど）    \n",
        "・`default`：指定したラベルが最初から選択された状態になる"
      ],
      "metadata": {
        "id": "YiC2g_HRIDhO"
      }
    },
    {
      "cell_type": "markdown",
      "source": [
        "では表示してみましょう。"
      ],
      "metadata": {
        "id": "RwtdqVm6IDhO"
      }
    },
    {
      "cell_type": "code",
      "source": [
        "# sample6.pyというファイルに記述する\n",
        "\n",
        "%%writefile sample6.py\n",
        "import streamlit as st\n",
        "import yfinance as yf\n",
        "import pandas as pd\n",
        "from datetime import datetime, timedelta\n",
        "\n",
        "# 株価情報の取得\n",
        "tickers = [\"GOOGL\", \"AAPL\", \"META\", \"AMZN\"]  # Google、Apple、Facebook、Amazonの銘柄コード\n",
        "start_date = \"2023-01-01\"  # 取得開始日\n",
        "end_date = (datetime.today() + timedelta(hours=9)).strftime('%Y-%m-%d')  # 取得終了日\n",
        "\n",
        "price_data = yf.download(tickers, start=start_date, end=end_date)[\"Close\"]\n",
        "\n",
        "# データフレームの作成\n",
        "df = pd.DataFrame({\n",
        "    \"Google\": price_data[tickers[0]],\n",
        "    \"Apple\": price_data[tickers[1]],\n",
        "    \"Facebook\": price_data[tickers[2]],\n",
        "    \"Amazon\": price_data[tickers[3]]\n",
        "})\n",
        "\n",
        "st.title(\"Streamlit入門\")\n",
        "st.caption(\"これはStreamlitのテストアプリです\")\n",
        "\n",
        "st.header('2023年の株価推移')\n",
        "\n",
        "stocks = st.multiselect(label=\"銘柄を選んでください\",\n",
        "             options=df.columns,\n",
        "             default=[\"Google\", \"Apple\"]\n",
        ")\n",
        " \n",
        "st.line_chart(df[stocks])"
      ],
      "metadata": {
        "id": "yT2X_kpVIDhO"
      },
      "execution_count": null,
      "outputs": []
    },
    {
      "cell_type": "code",
      "source": [
        "# Streamlitで表示\n",
        "\n",
        "!streamlit run sample6.py & sleep 3 && npx localtunnel --port 8501"
      ],
      "metadata": {
        "id": "LkJfrESIIDhP"
      },
      "execution_count": null,
      "outputs": []
    },
    {
      "cell_type": "markdown",
      "source": [
        "以下のように表示されたでしょうか。  \n",
        "\n",
        "\n",
        "![](https://imgur.com/o9dMNNe.png)"
      ],
      "metadata": {
        "id": "1yZbVhgAt12a"
      }
    },
    {
      "cell_type": "markdown",
      "source": [
        "## ウィジェットの表示②"
      ],
      "metadata": {
        "id": "wzSz50ERKixr"
      }
    },
    {
      "cell_type": "markdown",
      "source": [
        "[こちら](https://data-analytics.fun/2022/07/02/streamlit-widget-2/)のページを参考にしました。  \n",
        "公式ページは[こちら](https://docs.streamlit.io/library/api-reference/widgets)になります。  \n"
      ],
      "metadata": {
        "id": "I6uhcPDapQAD"
      }
    },
    {
      "cell_type": "markdown",
      "source": [
        "### スライダーの表示\n"
      ],
      "metadata": {
        "id": "mDy7q3JpKixs"
      }
    },
    {
      "cell_type": "markdown",
      "source": [
        "`st.slider()`で、ボタンを作成することができます。\n"
      ],
      "metadata": {
        "id": "sgtQwy1rKixs"
      }
    },
    {
      "cell_type": "markdown",
      "source": [
        "基本的な設定は以下です。  \n",
        "\n",
        "・`label`：スライダーの上部に表示するテキスト  \n",
        "・`min_value`：選択できる最小の値  \n",
        "・`max_value`：選択できる最大の値  \n",
        "・`step`：選択できる値の間隔  \n",
        "　　　　デフォルトはint型の場合1、float型の場合0.01、日付の場合は1日  \n",
        "・`format`：日付などのフォーマットを指定"
      ],
      "metadata": {
        "id": "5WKK9dGGMRnB"
      }
    },
    {
      "cell_type": "markdown",
      "source": [
        "では表示してみましょう。"
      ],
      "metadata": {
        "id": "zy7CbIriKixs"
      }
    },
    {
      "cell_type": "code",
      "source": [
        "import yfinance as yf\n",
        "import pandas as pd\n",
        "\n",
        "# 株価情報の取得\n",
        "tickers = [\"GOOGL\", \"AAPL\", \"META\", \"AMZN\"]  # Google、Apple、Facebook、Amazonの銘柄コード\n",
        "start_date = \"2021-12-01\"  # 取得開始日\n",
        "end_date = \"2022-12-31\"  # 取得終了日\n",
        "\n",
        "price_data = yf.download(tickers, start=start_date, end=end_date)[\"Close\"]\n",
        "\n",
        "# データフレームの作成\n",
        "df = pd.DataFrame({\n",
        "    \"Google\": price_data[tickers[0]],\n",
        "    \"Apple\": price_data[tickers[1]],\n",
        "    \"Facebook\": price_data[tickers[2]],\n",
        "    \"Amazon\": price_data[tickers[3]]\n",
        "})\n",
        "\n",
        "# 月ごとのリターンを計算\n",
        "df_monthly = df.resample('M').last().pct_change()\n",
        "df_monthly = df_monthly.dropna()\n",
        "\n",
        "# インデックスの変更\n",
        "months = [f\"{i}月\" for i in range(1, 13)]\n",
        "df_monthly.index = months\n",
        "df_monthly"
      ],
      "metadata": {
        "colab": {
          "base_uri": "https://localhost:8080/",
          "height": 444
        },
        "id": "3458LlI7OdMc",
        "outputId": "7bdda3d7-4785-438d-be5e-50f119cae450"
      },
      "execution_count": null,
      "outputs": [
        {
          "output_type": "stream",
          "name": "stdout",
          "text": [
            "[*********************100%***********************]  4 of 4 completed\n"
          ]
        },
        {
          "output_type": "execute_result",
          "data": {
            "text/plain": [
              "       Google     Apple  Facebook    Amazon\n",
              "1月  -0.065919 -0.015712 -0.068649 -0.102830\n",
              "2月  -0.001822 -0.055270 -0.326342  0.026673\n",
              "3月   0.029695  0.057473  0.053689  0.061437\n",
              "4月  -0.179467 -0.097131 -0.098444 -0.237525\n",
              "5月  -0.003045 -0.055883 -0.034070 -0.032764\n",
              "6月  -0.042185 -0.081430 -0.167269 -0.116459\n",
              "7月   0.067518  0.188634 -0.013333  0.270596\n",
              "8月  -0.069635 -0.032552  0.024073 -0.060615\n",
              "9月  -0.116152 -0.120977 -0.167250 -0.108622\n",
              "10月 -0.011918  0.109551 -0.313384 -0.093451\n",
              "11月  0.068564 -0.034629  0.267711 -0.057595\n",
              "12月 -0.126349 -0.122273  0.018967 -0.129894"
            ],
            "text/html": [
              "\n",
              "  <div id=\"df-b01fc7d9-a4af-4fec-a510-74edb904252a\">\n",
              "    <div class=\"colab-df-container\">\n",
              "      <div>\n",
              "<style scoped>\n",
              "    .dataframe tbody tr th:only-of-type {\n",
              "        vertical-align: middle;\n",
              "    }\n",
              "\n",
              "    .dataframe tbody tr th {\n",
              "        vertical-align: top;\n",
              "    }\n",
              "\n",
              "    .dataframe thead th {\n",
              "        text-align: right;\n",
              "    }\n",
              "</style>\n",
              "<table border=\"1\" class=\"dataframe\">\n",
              "  <thead>\n",
              "    <tr style=\"text-align: right;\">\n",
              "      <th></th>\n",
              "      <th>Google</th>\n",
              "      <th>Apple</th>\n",
              "      <th>Facebook</th>\n",
              "      <th>Amazon</th>\n",
              "    </tr>\n",
              "  </thead>\n",
              "  <tbody>\n",
              "    <tr>\n",
              "      <th>1月</th>\n",
              "      <td>-0.065919</td>\n",
              "      <td>-0.015712</td>\n",
              "      <td>-0.068649</td>\n",
              "      <td>-0.102830</td>\n",
              "    </tr>\n",
              "    <tr>\n",
              "      <th>2月</th>\n",
              "      <td>-0.001822</td>\n",
              "      <td>-0.055270</td>\n",
              "      <td>-0.326342</td>\n",
              "      <td>0.026673</td>\n",
              "    </tr>\n",
              "    <tr>\n",
              "      <th>3月</th>\n",
              "      <td>0.029695</td>\n",
              "      <td>0.057473</td>\n",
              "      <td>0.053689</td>\n",
              "      <td>0.061437</td>\n",
              "    </tr>\n",
              "    <tr>\n",
              "      <th>4月</th>\n",
              "      <td>-0.179467</td>\n",
              "      <td>-0.097131</td>\n",
              "      <td>-0.098444</td>\n",
              "      <td>-0.237525</td>\n",
              "    </tr>\n",
              "    <tr>\n",
              "      <th>5月</th>\n",
              "      <td>-0.003045</td>\n",
              "      <td>-0.055883</td>\n",
              "      <td>-0.034070</td>\n",
              "      <td>-0.032764</td>\n",
              "    </tr>\n",
              "    <tr>\n",
              "      <th>6月</th>\n",
              "      <td>-0.042185</td>\n",
              "      <td>-0.081430</td>\n",
              "      <td>-0.167269</td>\n",
              "      <td>-0.116459</td>\n",
              "    </tr>\n",
              "    <tr>\n",
              "      <th>7月</th>\n",
              "      <td>0.067518</td>\n",
              "      <td>0.188634</td>\n",
              "      <td>-0.013333</td>\n",
              "      <td>0.270596</td>\n",
              "    </tr>\n",
              "    <tr>\n",
              "      <th>8月</th>\n",
              "      <td>-0.069635</td>\n",
              "      <td>-0.032552</td>\n",
              "      <td>0.024073</td>\n",
              "      <td>-0.060615</td>\n",
              "    </tr>\n",
              "    <tr>\n",
              "      <th>9月</th>\n",
              "      <td>-0.116152</td>\n",
              "      <td>-0.120977</td>\n",
              "      <td>-0.167250</td>\n",
              "      <td>-0.108622</td>\n",
              "    </tr>\n",
              "    <tr>\n",
              "      <th>10月</th>\n",
              "      <td>-0.011918</td>\n",
              "      <td>0.109551</td>\n",
              "      <td>-0.313384</td>\n",
              "      <td>-0.093451</td>\n",
              "    </tr>\n",
              "    <tr>\n",
              "      <th>11月</th>\n",
              "      <td>0.068564</td>\n",
              "      <td>-0.034629</td>\n",
              "      <td>0.267711</td>\n",
              "      <td>-0.057595</td>\n",
              "    </tr>\n",
              "    <tr>\n",
              "      <th>12月</th>\n",
              "      <td>-0.126349</td>\n",
              "      <td>-0.122273</td>\n",
              "      <td>0.018967</td>\n",
              "      <td>-0.129894</td>\n",
              "    </tr>\n",
              "  </tbody>\n",
              "</table>\n",
              "</div>\n",
              "      <button class=\"colab-df-convert\" onclick=\"convertToInteractive('df-b01fc7d9-a4af-4fec-a510-74edb904252a')\"\n",
              "              title=\"Convert this dataframe to an interactive table.\"\n",
              "              style=\"display:none;\">\n",
              "        \n",
              "  <svg xmlns=\"http://www.w3.org/2000/svg\" height=\"24px\"viewBox=\"0 0 24 24\"\n",
              "       width=\"24px\">\n",
              "    <path d=\"M0 0h24v24H0V0z\" fill=\"none\"/>\n",
              "    <path d=\"M18.56 5.44l.94 2.06.94-2.06 2.06-.94-2.06-.94-.94-2.06-.94 2.06-2.06.94zm-11 1L8.5 8.5l.94-2.06 2.06-.94-2.06-.94L8.5 2.5l-.94 2.06-2.06.94zm10 10l.94 2.06.94-2.06 2.06-.94-2.06-.94-.94-2.06-.94 2.06-2.06.94z\"/><path d=\"M17.41 7.96l-1.37-1.37c-.4-.4-.92-.59-1.43-.59-.52 0-1.04.2-1.43.59L10.3 9.45l-7.72 7.72c-.78.78-.78 2.05 0 2.83L4 21.41c.39.39.9.59 1.41.59.51 0 1.02-.2 1.41-.59l7.78-7.78 2.81-2.81c.8-.78.8-2.07 0-2.86zM5.41 20L4 18.59l7.72-7.72 1.47 1.35L5.41 20z\"/>\n",
              "  </svg>\n",
              "      </button>\n",
              "      \n",
              "  <style>\n",
              "    .colab-df-container {\n",
              "      display:flex;\n",
              "      flex-wrap:wrap;\n",
              "      gap: 12px;\n",
              "    }\n",
              "\n",
              "    .colab-df-convert {\n",
              "      background-color: #E8F0FE;\n",
              "      border: none;\n",
              "      border-radius: 50%;\n",
              "      cursor: pointer;\n",
              "      display: none;\n",
              "      fill: #1967D2;\n",
              "      height: 32px;\n",
              "      padding: 0 0 0 0;\n",
              "      width: 32px;\n",
              "    }\n",
              "\n",
              "    .colab-df-convert:hover {\n",
              "      background-color: #E2EBFA;\n",
              "      box-shadow: 0px 1px 2px rgba(60, 64, 67, 0.3), 0px 1px 3px 1px rgba(60, 64, 67, 0.15);\n",
              "      fill: #174EA6;\n",
              "    }\n",
              "\n",
              "    [theme=dark] .colab-df-convert {\n",
              "      background-color: #3B4455;\n",
              "      fill: #D2E3FC;\n",
              "    }\n",
              "\n",
              "    [theme=dark] .colab-df-convert:hover {\n",
              "      background-color: #434B5C;\n",
              "      box-shadow: 0px 1px 3px 1px rgba(0, 0, 0, 0.15);\n",
              "      filter: drop-shadow(0px 1px 2px rgba(0, 0, 0, 0.3));\n",
              "      fill: #FFFFFF;\n",
              "    }\n",
              "  </style>\n",
              "\n",
              "      <script>\n",
              "        const buttonEl =\n",
              "          document.querySelector('#df-b01fc7d9-a4af-4fec-a510-74edb904252a button.colab-df-convert');\n",
              "        buttonEl.style.display =\n",
              "          google.colab.kernel.accessAllowed ? 'block' : 'none';\n",
              "\n",
              "        async function convertToInteractive(key) {\n",
              "          const element = document.querySelector('#df-b01fc7d9-a4af-4fec-a510-74edb904252a');\n",
              "          const dataTable =\n",
              "            await google.colab.kernel.invokeFunction('convertToInteractive',\n",
              "                                                     [key], {});\n",
              "          if (!dataTable) return;\n",
              "\n",
              "          const docLinkHtml = 'Like what you see? Visit the ' +\n",
              "            '<a target=\"_blank\" href=https://colab.research.google.com/notebooks/data_table.ipynb>data table notebook</a>'\n",
              "            + ' to learn more about interactive tables.';\n",
              "          element.innerHTML = '';\n",
              "          dataTable['output_type'] = 'display_data';\n",
              "          await google.colab.output.renderOutput(dataTable, element);\n",
              "          const docLink = document.createElement('div');\n",
              "          docLink.innerHTML = docLinkHtml;\n",
              "          element.appendChild(docLink);\n",
              "        }\n",
              "      </script>\n",
              "    </div>\n",
              "  </div>\n",
              "  "
            ]
          },
          "metadata": {},
          "execution_count": 17
        }
      ]
    },
    {
      "cell_type": "code",
      "source": [
        "# sample7.pyというファイルに記述する\n",
        "\n",
        "%%writefile sample7.py\n",
        "import streamlit as st\n",
        "import yfinance as yf\n",
        "import pandas as pd\n",
        "from datetime import datetime, timedelta\n",
        "\n",
        "# 株価情報の取得\n",
        "tickers = [\"GOOGL\", \"AAPL\", \"META\", \"AMZN\"]  # Google、Apple、Facebook、Amazonの銘柄コード\n",
        "start_date = \"2021-12-01\"  # 取得開始日\n",
        "end_date = \"2022-12-31\"  # 取得終了日\n",
        "\n",
        "price_data = yf.download(tickers, start=start_date, end=end_date)[\"Close\"]\n",
        "\n",
        "# データフレームの作成\n",
        "df = pd.DataFrame({\n",
        "    \"Google\": price_data[tickers[0]],\n",
        "    \"Apple\": price_data[tickers[1]],\n",
        "    \"Facebook\": price_data[tickers[2]],\n",
        "    \"Amazon\": price_data[tickers[3]]\n",
        "})\n",
        "\n",
        "# 月ごとのリターンを計算\n",
        "df_monthly = df.resample('M').last().pct_change()\n",
        "df_monthly = df_monthly.dropna()\n",
        "\n",
        "# インデックスの変更\n",
        "months = [f\"{i}月\" for i in range(1, 13)]\n",
        "df_monthly.index = months\n",
        "\n",
        "st.title(\"Streamlit入門\")\n",
        "st.caption(\"これはStreamlitのテストアプリです\")\n",
        "\n",
        "st.header(\"スライダー\")\n",
        "value = st.slider(\n",
        "    label=\"from 0 to 100\",\n",
        "    min_value=0, \n",
        "    max_value=100\n",
        ")\n",
        "st.write(f'選択された値: {value}')\n",
        "\n",
        "st.header(\"2022年の株価推移（線グラフ）\")\n",
        "st.line_chart(df)\n",
        "\n",
        "st.header('2022年の株価推移')\n",
        "month = st.slider(label=\"月を選択してください\",\n",
        "    min_value=1,\n",
        "    max_value=12,\n",
        "    step=1,\n",
        "    format='%d月',\n",
        ")\n",
        "st.subheader(f'2022年{month}月')\n",
        "st.bar_chart(df_monthly.loc[f\"{month}月\"])"
      ],
      "metadata": {
        "id": "zClIdaKjN5zl"
      },
      "execution_count": null,
      "outputs": []
    },
    {
      "cell_type": "code",
      "source": [
        "# Streamlitで表示\n",
        "\n",
        "!streamlit run sample7.py & sleep 3 && npx localtunnel --port 8501"
      ],
      "metadata": {
        "id": "8VlI38TWRcpW"
      },
      "execution_count": null,
      "outputs": []
    },
    {
      "cell_type": "markdown",
      "source": [
        "以下のように表示されたでしょうか。  \n",
        "\n",
        "\n",
        "![](https://imgur.com/AIATpeC.png)  \n",
        "![](https://imgur.com/ub0I46s.png)"
      ],
      "metadata": {
        "id": "RArrdMhruxrY"
      }
    },
    {
      "cell_type": "markdown",
      "source": [
        "範囲を指定することもできます。  \n",
        "デフォルトでは最小値から最大値までになっています。\n",
        "\n",
        "引数`value`にリストないしタプルを渡してあげるだけです。  \n",
        "**戻り値はタプルになります。**"
      ],
      "metadata": {
        "id": "1Itsl6hjXqD6"
      }
    },
    {
      "cell_type": "markdown",
      "source": [
        "では表示してみましょう。"
      ],
      "metadata": {
        "id": "AtkKJH08YZYB"
      }
    },
    {
      "cell_type": "code",
      "source": [
        "# sample8.pyというファイルに記述する\n",
        "\n",
        "%%writefile sample8.py\n",
        "import streamlit as st\n",
        "import yfinance as yf\n",
        "import pandas as pd\n",
        "from datetime import datetime, timedelta\n",
        "\n",
        "# 株価情報の取得\n",
        "tickers = [\"GOOGL\", \"AAPL\", \"META\", \"AMZN\"]  # Google、Apple、Facebook、Amazonの銘柄コード\n",
        "start_date = \"2022-01-01\"  # 取得開始日\n",
        "end_date = \"2022-12-31\"  # 取得終了日\n",
        "\n",
        "price_data = yf.download(tickers, start=start_date, end=end_date)[\"Close\"]\n",
        "\n",
        "# データフレームの作成\n",
        "df = pd.DataFrame({\n",
        "    \"Google\": price_data[tickers[0]],\n",
        "    \"Apple\": price_data[tickers[1]],\n",
        "    \"Facebook\": price_data[tickers[2]],\n",
        "    \"Amazon\": price_data[tickers[3]]\n",
        "})\n",
        "\n",
        "\n",
        "st.title(\"Streamlit入門\")\n",
        "st.caption(\"これはStreamlitのテストアプリです\")\n",
        "\n",
        "st.header(\"スライダー\")\n",
        "value = st.slider(\n",
        "    label=\"from 0 to 100\",\n",
        "    min_value=0, \n",
        "    max_value=100,\n",
        "    value = (20, 80)\n",
        ")\n",
        "st.write(f'選択された値: {value}')\n",
        "\n",
        "st.header('2022年の株価推移')\n",
        "dates = st.slider(label=\"スライダー\",\n",
        "    min_value=datetime(2022, 1, 1),\n",
        "    max_value=datetime(2022, 12, 31),\n",
        "    value=(datetime(2022, 1, 1), datetime(2022, 12, 31))\n",
        ")\n",
        "\n",
        "start_date, end_date = dates\n",
        "start_date = start_date.strftime('%Y-%m-%d')\n",
        "end_date = end_date.strftime('%Y-%m-%d')\n",
        "st.line_chart(df.loc[start_date: end_date])"
      ],
      "metadata": {
        "id": "pIE0RGctYarv"
      },
      "execution_count": null,
      "outputs": []
    },
    {
      "cell_type": "code",
      "source": [
        "# Streamlitで表示\n",
        "\n",
        "!streamlit run sample8.py & sleep 3 && npx localtunnel --port 8501"
      ],
      "metadata": {
        "id": "NqWD032JZt23"
      },
      "execution_count": null,
      "outputs": []
    },
    {
      "cell_type": "markdown",
      "source": [
        "以下のように表示されたでしょうか。  \n",
        "\n",
        "\n",
        "![](https://imgur.com/5OUqdhs.png) "
      ],
      "metadata": {
        "id": "-HXRAF6BvJvu"
      }
    },
    {
      "cell_type": "markdown",
      "source": [
        "### 数値のインプットの表示\n"
      ],
      "metadata": {
        "id": "HhLGZhNgoY65"
      }
    },
    {
      "cell_type": "markdown",
      "source": [
        "`st.number_input()`で、数字を入力するウィジェットを作成することができます。\n"
      ],
      "metadata": {
        "id": "HGHOMfWfoY66"
      }
    },
    {
      "cell_type": "markdown",
      "source": [
        "基本的な設定は以下です。  \n",
        "\n",
        "・`label`：スライダーの上部に表示するテキスト  \n",
        "・`min_value`：選択できる最小の値  \n",
        "・`max_value`：選択できる最大の値  \n",
        "・`value`：デフォルトで表示する値    \n",
        "・`step`：選択できる値の間隔  \n",
        "　　　　デフォルトはint型の場合1、float型の場合0.01、日付の場合は1日  \n",
        "・`format`：日付などのフォーマットを指定"
      ],
      "metadata": {
        "id": "6lcUFwlGoY66"
      }
    },
    {
      "cell_type": "markdown",
      "source": [
        "では表示してみましょう。"
      ],
      "metadata": {
        "id": "Z94Yl8z2oY66"
      }
    },
    {
      "cell_type": "code",
      "source": [
        "# sample9.pyというファイルに記述する\n",
        "\n",
        "%%writefile sample9.py\n",
        "import streamlit as st\n",
        "import yfinance as yf\n",
        "import pandas as pd\n",
        "from datetime import datetime, timedelta\n",
        "\n",
        "# 株価情報の取得\n",
        "tickers = [\"GOOGL\", \"AAPL\", \"META\", \"AMZN\"]  # Google、Apple、Facebook、Amazonの銘柄コード\n",
        "start_date = \"2021-12-01\"  # 取得開始日\n",
        "end_date = \"2022-12-31\"  # 取得終了日\n",
        "\n",
        "price_data = yf.download(tickers, start=start_date, end=end_date)[\"Close\"]\n",
        "\n",
        "# データフレームの作成\n",
        "df = pd.DataFrame({\n",
        "    \"Google\": price_data[tickers[0]],\n",
        "    \"Apple\": price_data[tickers[1]],\n",
        "    \"Facebook\": price_data[tickers[2]],\n",
        "    \"Amazon\": price_data[tickers[3]]\n",
        "})\n",
        "\n",
        "# 月ごとのリターンを計算\n",
        "df_monthly = df.resample('M').last().pct_change()\n",
        "df_monthly = df_monthly.dropna()\n",
        "\n",
        "# インデックスの変更\n",
        "months = [f\"{i}月\" for i in range(1, 13)]\n",
        "df_monthly.index = months\n",
        "\n",
        "st.title(\"Streamlit入門\")\n",
        "st.caption(\"これはStreamlitのテストアプリです\")\n",
        "\n",
        "st.header(\"Number Input\")\n",
        "number = st.number_input(\n",
        "    label=\"0から1で0.01刻みの値を選択してください\",\n",
        "    min_value = 0.0,\n",
        "    max_value = 1.0,\n",
        "    value = 0.5,\n",
        "    step=0.01,\n",
        "    format=\"%0.2f\"  # 小数点2桁表示\n",
        ")\n",
        "st.write(f'選択された値: {number}')\n",
        "\n",
        "st.header(\"2022年の株価推移（線グラフ）\")\n",
        "st.line_chart(df)\n",
        "\n",
        "st.header('2022年の株価推移')\n",
        "month = st.number_input(\n",
        "    label=\"月を選択してください\",\n",
        "    min_value = 1,\n",
        "    max_value = 12,\n",
        "    value = 1,\n",
        ")\n",
        "st.subheader(f'2022年{month}月')\n",
        "st.bar_chart(df_monthly.loc[f\"{month}月\"])"
      ],
      "metadata": {
        "id": "EcLNCEY_pfON"
      },
      "execution_count": null,
      "outputs": []
    },
    {
      "cell_type": "code",
      "source": [
        "# Streamlitで表示\n",
        "\n",
        "!streamlit run sample9.py & sleep 3 && npx localtunnel --port 8501"
      ],
      "metadata": {
        "id": "ueCXh7ETqAlC"
      },
      "execution_count": null,
      "outputs": []
    },
    {
      "cell_type": "markdown",
      "source": [
        "以下のように表示されたでしょうか。  \n",
        "\n",
        "\n",
        "![](https://imgur.com/8RKSs05.png) \n",
        "![](https://imgur.com/qQsczr4.png) "
      ],
      "metadata": {
        "id": "7DgDBy3ZvqCw"
      }
    },
    {
      "cell_type": "markdown",
      "source": [
        "### テキストのインプットの表示\n"
      ],
      "metadata": {
        "id": "n2kBq_Wqqzu4"
      }
    },
    {
      "cell_type": "markdown",
      "source": [
        "`st.text_input()`で、テキストを入力するウィジェットを作成することができます。\n"
      ],
      "metadata": {
        "id": "Nc7xNZ5rqzu4"
      }
    },
    {
      "cell_type": "markdown",
      "source": [
        "基本的な設定は以下です。  \n",
        "\n",
        "・`label`：スライダーの上部に表示するテキスト  \n",
        "・`value`： デフォルトで表示されるテキスト   "
      ],
      "metadata": {
        "id": "6NEI3o9Pqzu5"
      }
    },
    {
      "cell_type": "markdown",
      "source": [
        "では表示してみましょう。"
      ],
      "metadata": {
        "id": "go25RZX4qzu5"
      }
    },
    {
      "cell_type": "code",
      "source": [
        "# sample10.pyというファイルに記述する\n",
        "\n",
        "%%writefile sample10.py\n",
        "import streamlit as st\n",
        "import yfinance as yf\n",
        "import pandas as pd\n",
        "from datetime import datetime, timedelta\n",
        "\n",
        "# 株価情報の取得\n",
        "tickers = [\"GOOGL\", \"AAPL\", \"META\", \"AMZN\"]  # Google、Apple、Facebook、Amazonの銘柄コード\n",
        "start_date = \"2021-12-01\"  # 取得開始日\n",
        "end_date = \"2022-12-31\"  # 取得終了日\n",
        "\n",
        "price_data = yf.download(tickers, start=start_date, end=end_date)[\"Close\"]\n",
        "\n",
        "# データフレームの作成\n",
        "df = pd.DataFrame({\n",
        "    \"Google\": price_data[tickers[0]],\n",
        "    \"Apple\": price_data[tickers[1]],\n",
        "    \"Facebook\": price_data[tickers[2]],\n",
        "    \"Amazon\": price_data[tickers[3]]\n",
        "})\n",
        "\n",
        "# 月ごとのリターンを計算\n",
        "df_monthly = df.resample('M').last().pct_change()\n",
        "df_monthly = df_monthly.dropna()\n",
        "\n",
        "# インデックスの変更\n",
        "months = [f\"{i}月\" for i in range(1, 13)]\n",
        "df_monthly.index = months\n",
        "\n",
        "st.title(\"Streamlit入門\")\n",
        "st.caption(\"これはStreamlitのテストアプリです\")\n",
        "\n",
        "text = st.text_input(\n",
        "        label=\"グラフのタイトルを入力してください\",\n",
        "        value=\"タイトル未入力\"\n",
        "    )\n",
        " \n",
        "st.header(text)\n",
        "st.line_chart(df)"
      ],
      "metadata": {
        "id": "jgsWjwi1qzu6"
      },
      "execution_count": null,
      "outputs": []
    },
    {
      "cell_type": "code",
      "source": [
        "# Streamlitで表示\n",
        "\n",
        "!streamlit run sample10.py & sleep 3 && npx localtunnel --port 8501"
      ],
      "metadata": {
        "id": "LZzkLLWVqzu7"
      },
      "execution_count": null,
      "outputs": []
    },
    {
      "cell_type": "markdown",
      "source": [
        "以下のように表示されたでしょうか。  \n",
        "\n",
        "\n",
        "![](https://imgur.com/UjmO8WW.png) "
      ],
      "metadata": {
        "id": "By7rJZahwvC8"
      }
    },
    {
      "cell_type": "markdown",
      "source": [
        "### テキストのエリアの表示\n"
      ],
      "metadata": {
        "id": "8vTEIlR_uR6e"
      }
    },
    {
      "cell_type": "markdown",
      "source": [
        "`st.text_area()`で、`st.text_input()`よりも長い文章を入力しやすくなります。\n",
        "\n",
        "高さと幅を指定できます。"
      ],
      "metadata": {
        "id": "IQo334yKuR6m"
      }
    },
    {
      "cell_type": "markdown",
      "source": [
        "基本的な設定は以下です。  \n",
        "\n",
        "・`label`：スライダーの上部に表示するテキスト  \n",
        "・`value`： デフォルトで表示されるテキスト   \n",
        "・`height`：高さをピクセル単位で指定  \n",
        "・`width`： 幅をピクセル単位で指定   "
      ],
      "metadata": {
        "id": "ZiLLAH5nuR6m"
      }
    },
    {
      "cell_type": "markdown",
      "source": [
        "では表示してみましょう。"
      ],
      "metadata": {
        "id": "5-l506OyuR6m"
      }
    },
    {
      "cell_type": "code",
      "source": [
        "# sample11.pyというファイルに記述する\n",
        "\n",
        "%%writefile sample11.py\n",
        "import streamlit as st\n",
        "import yfinance as yf\n",
        "import pandas as pd\n",
        "from datetime import datetime, timedelta\n",
        "\n",
        "# 株価情報の取得\n",
        "tickers = [\"GOOGL\", \"AAPL\", \"META\", \"AMZN\"]  # Google、Apple、Facebook、Amazonの銘柄コード\n",
        "start_date = \"2021-12-01\"  # 取得開始日\n",
        "end_date = \"2022-12-31\"  # 取得終了日\n",
        "\n",
        "price_data = yf.download(tickers, start=start_date, end=end_date)[\"Close\"]\n",
        "\n",
        "# データフレームの作成\n",
        "df = pd.DataFrame({\n",
        "    \"Google\": price_data[tickers[0]],\n",
        "    \"Apple\": price_data[tickers[1]],\n",
        "    \"Facebook\": price_data[tickers[2]],\n",
        "    \"Amazon\": price_data[tickers[3]]\n",
        "})\n",
        "\n",
        "# 月ごとのリターンを計算\n",
        "df_monthly = df.resample('M').last().pct_change()\n",
        "df_monthly = df_monthly.dropna()\n",
        "\n",
        "# インデックスの変更\n",
        "months = [f\"{i}月\" for i in range(1, 13)]\n",
        "df_monthly.index = months\n",
        "\n",
        "st.title(\"Streamlit入門\")\n",
        "st.caption(\"これはStreamlitのテストアプリです\")\n",
        "\n",
        "long_text = st.text_area(\n",
        "        label=\"コメントを入力してください\",\n",
        "        value=\"コメント未入力\",\n",
        "        height=200\n",
        "    )\n",
        " \n",
        "st.line_chart(df)\n",
        "st.markdown(long_text)"
      ],
      "metadata": {
        "id": "21ezSdR6uR6m"
      },
      "execution_count": null,
      "outputs": []
    },
    {
      "cell_type": "code",
      "source": [
        "# Streamlitで表示\n",
        "\n",
        "!streamlit run sample11.py & sleep 3 && npx localtunnel --port 8501"
      ],
      "metadata": {
        "id": "aLVuWPPxuR6n"
      },
      "execution_count": null,
      "outputs": []
    },
    {
      "cell_type": "markdown",
      "source": [
        "以下のように表示されたでしょうか。  \n",
        "\n",
        "\n",
        "![](https://imgur.com/z1pTY3e.png) "
      ],
      "metadata": {
        "id": "LekVx4zqxdoa"
      }
    },
    {
      "cell_type": "markdown",
      "source": [
        "### 日付のインプットの表示\n"
      ],
      "metadata": {
        "id": "LqJaWKj4vyps"
      }
    },
    {
      "cell_type": "markdown",
      "source": [
        "`st.date_input()`で、日付を選択できるようになります。\n",
        "\n",
        "表示されるカレンダーをもとに日付を指定します。\n"
      ],
      "metadata": {
        "id": "W_lVO9Ugvypt"
      }
    },
    {
      "cell_type": "markdown",
      "source": [
        "基本的な設定は以下です。  \n",
        "\n",
        "・`label`：スライダーの上部に表示するテキスト  \n",
        "・`min_value`：選択できる最小の値  \n",
        "・`max_value`：選択できる最大の値  \n",
        "・`value`：デフォルトで選択される日付"
      ],
      "metadata": {
        "id": "--Y5dVy0vypt"
      }
    },
    {
      "cell_type": "markdown",
      "source": [
        "では表示してみましょう。"
      ],
      "metadata": {
        "id": "6cyZVO-Bvypt"
      }
    },
    {
      "cell_type": "code",
      "source": [
        "import streamlit as st\n",
        "import yfinance as yf\n",
        "import pandas as pd\n",
        "from datetime import datetime, timedelta\n",
        "\n",
        "# 株価情報の取得\n",
        "tickers = [\"GOOGL\", \"AAPL\", \"META\", \"AMZN\"]  # Google、Apple、Facebook、Amazonの銘柄コード\n",
        "start_date = \"2021-12-31\"  # 取得開始日\n",
        "end_date = \"2022-12-31\"  # 取得終了日\n",
        "\n",
        "price_data = yf.download(tickers, start=start_date, end=end_date)[\"Close\"]\n",
        "\n",
        "# データフレームの作成\n",
        "df = pd.DataFrame({\n",
        "    \"Google\": price_data[tickers[0]],\n",
        "    \"Apple\": price_data[tickers[1]],\n",
        "    \"Facebook\": price_data[tickers[2]],\n",
        "    \"Amazon\": price_data[tickers[3]]\n",
        "})\n",
        "\n",
        "# 日ごとのリターンを計算\n",
        "returns = df.pct_change().dropna()\n",
        "returns.head(7)"
      ],
      "metadata": {
        "id": "0BDD5NHoyFl8",
        "colab": {
          "base_uri": "https://localhost:8080/",
          "height": 318
        },
        "outputId": "1cc63a78-8f05-4ac1-8274-fbd0c5251df9"
      },
      "execution_count": null,
      "outputs": [
        {
          "output_type": "stream",
          "name": "stdout",
          "text": [
            "[*********************100%***********************]  4 of 4 completed\n"
          ]
        },
        {
          "output_type": "execute_result",
          "data": {
            "text/plain": [
              "              Google     Apple  Facebook    Amazon\n",
              "Date                                              \n",
              "2022-01-03  0.000963  0.025004  0.006511  0.022118\n",
              "2022-01-04 -0.004083 -0.012692 -0.005937 -0.016916\n",
              "2022-01-05 -0.045876 -0.026600 -0.036728 -0.018893\n",
              "2022-01-06 -0.000200 -0.016693  0.025573 -0.006711\n",
              "2022-01-07 -0.005303  0.000988 -0.002015 -0.004288\n",
              "2022-01-10  0.012061  0.000116 -0.011212 -0.006570\n",
              "2022-01-11  0.007691  0.016784  0.019203  0.024002"
            ],
            "text/html": [
              "\n",
              "  <div id=\"df-466a248b-7ab3-484e-8819-ad6d7af13417\">\n",
              "    <div class=\"colab-df-container\">\n",
              "      <div>\n",
              "<style scoped>\n",
              "    .dataframe tbody tr th:only-of-type {\n",
              "        vertical-align: middle;\n",
              "    }\n",
              "\n",
              "    .dataframe tbody tr th {\n",
              "        vertical-align: top;\n",
              "    }\n",
              "\n",
              "    .dataframe thead th {\n",
              "        text-align: right;\n",
              "    }\n",
              "</style>\n",
              "<table border=\"1\" class=\"dataframe\">\n",
              "  <thead>\n",
              "    <tr style=\"text-align: right;\">\n",
              "      <th></th>\n",
              "      <th>Google</th>\n",
              "      <th>Apple</th>\n",
              "      <th>Facebook</th>\n",
              "      <th>Amazon</th>\n",
              "    </tr>\n",
              "    <tr>\n",
              "      <th>Date</th>\n",
              "      <th></th>\n",
              "      <th></th>\n",
              "      <th></th>\n",
              "      <th></th>\n",
              "    </tr>\n",
              "  </thead>\n",
              "  <tbody>\n",
              "    <tr>\n",
              "      <th>2022-01-03</th>\n",
              "      <td>0.000963</td>\n",
              "      <td>0.025004</td>\n",
              "      <td>0.006511</td>\n",
              "      <td>0.022118</td>\n",
              "    </tr>\n",
              "    <tr>\n",
              "      <th>2022-01-04</th>\n",
              "      <td>-0.004083</td>\n",
              "      <td>-0.012692</td>\n",
              "      <td>-0.005937</td>\n",
              "      <td>-0.016916</td>\n",
              "    </tr>\n",
              "    <tr>\n",
              "      <th>2022-01-05</th>\n",
              "      <td>-0.045876</td>\n",
              "      <td>-0.026600</td>\n",
              "      <td>-0.036728</td>\n",
              "      <td>-0.018893</td>\n",
              "    </tr>\n",
              "    <tr>\n",
              "      <th>2022-01-06</th>\n",
              "      <td>-0.000200</td>\n",
              "      <td>-0.016693</td>\n",
              "      <td>0.025573</td>\n",
              "      <td>-0.006711</td>\n",
              "    </tr>\n",
              "    <tr>\n",
              "      <th>2022-01-07</th>\n",
              "      <td>-0.005303</td>\n",
              "      <td>0.000988</td>\n",
              "      <td>-0.002015</td>\n",
              "      <td>-0.004288</td>\n",
              "    </tr>\n",
              "    <tr>\n",
              "      <th>2022-01-10</th>\n",
              "      <td>0.012061</td>\n",
              "      <td>0.000116</td>\n",
              "      <td>-0.011212</td>\n",
              "      <td>-0.006570</td>\n",
              "    </tr>\n",
              "    <tr>\n",
              "      <th>2022-01-11</th>\n",
              "      <td>0.007691</td>\n",
              "      <td>0.016784</td>\n",
              "      <td>0.019203</td>\n",
              "      <td>0.024002</td>\n",
              "    </tr>\n",
              "  </tbody>\n",
              "</table>\n",
              "</div>\n",
              "      <button class=\"colab-df-convert\" onclick=\"convertToInteractive('df-466a248b-7ab3-484e-8819-ad6d7af13417')\"\n",
              "              title=\"Convert this dataframe to an interactive table.\"\n",
              "              style=\"display:none;\">\n",
              "        \n",
              "  <svg xmlns=\"http://www.w3.org/2000/svg\" height=\"24px\"viewBox=\"0 0 24 24\"\n",
              "       width=\"24px\">\n",
              "    <path d=\"M0 0h24v24H0V0z\" fill=\"none\"/>\n",
              "    <path d=\"M18.56 5.44l.94 2.06.94-2.06 2.06-.94-2.06-.94-.94-2.06-.94 2.06-2.06.94zm-11 1L8.5 8.5l.94-2.06 2.06-.94-2.06-.94L8.5 2.5l-.94 2.06-2.06.94zm10 10l.94 2.06.94-2.06 2.06-.94-2.06-.94-.94-2.06-.94 2.06-2.06.94z\"/><path d=\"M17.41 7.96l-1.37-1.37c-.4-.4-.92-.59-1.43-.59-.52 0-1.04.2-1.43.59L10.3 9.45l-7.72 7.72c-.78.78-.78 2.05 0 2.83L4 21.41c.39.39.9.59 1.41.59.51 0 1.02-.2 1.41-.59l7.78-7.78 2.81-2.81c.8-.78.8-2.07 0-2.86zM5.41 20L4 18.59l7.72-7.72 1.47 1.35L5.41 20z\"/>\n",
              "  </svg>\n",
              "      </button>\n",
              "      \n",
              "  <style>\n",
              "    .colab-df-container {\n",
              "      display:flex;\n",
              "      flex-wrap:wrap;\n",
              "      gap: 12px;\n",
              "    }\n",
              "\n",
              "    .colab-df-convert {\n",
              "      background-color: #E8F0FE;\n",
              "      border: none;\n",
              "      border-radius: 50%;\n",
              "      cursor: pointer;\n",
              "      display: none;\n",
              "      fill: #1967D2;\n",
              "      height: 32px;\n",
              "      padding: 0 0 0 0;\n",
              "      width: 32px;\n",
              "    }\n",
              "\n",
              "    .colab-df-convert:hover {\n",
              "      background-color: #E2EBFA;\n",
              "      box-shadow: 0px 1px 2px rgba(60, 64, 67, 0.3), 0px 1px 3px 1px rgba(60, 64, 67, 0.15);\n",
              "      fill: #174EA6;\n",
              "    }\n",
              "\n",
              "    [theme=dark] .colab-df-convert {\n",
              "      background-color: #3B4455;\n",
              "      fill: #D2E3FC;\n",
              "    }\n",
              "\n",
              "    [theme=dark] .colab-df-convert:hover {\n",
              "      background-color: #434B5C;\n",
              "      box-shadow: 0px 1px 3px 1px rgba(0, 0, 0, 0.15);\n",
              "      filter: drop-shadow(0px 1px 2px rgba(0, 0, 0, 0.3));\n",
              "      fill: #FFFFFF;\n",
              "    }\n",
              "  </style>\n",
              "\n",
              "      <script>\n",
              "        const buttonEl =\n",
              "          document.querySelector('#df-466a248b-7ab3-484e-8819-ad6d7af13417 button.colab-df-convert');\n",
              "        buttonEl.style.display =\n",
              "          google.colab.kernel.accessAllowed ? 'block' : 'none';\n",
              "\n",
              "        async function convertToInteractive(key) {\n",
              "          const element = document.querySelector('#df-466a248b-7ab3-484e-8819-ad6d7af13417');\n",
              "          const dataTable =\n",
              "            await google.colab.kernel.invokeFunction('convertToInteractive',\n",
              "                                                     [key], {});\n",
              "          if (!dataTable) return;\n",
              "\n",
              "          const docLinkHtml = 'Like what you see? Visit the ' +\n",
              "            '<a target=\"_blank\" href=https://colab.research.google.com/notebooks/data_table.ipynb>data table notebook</a>'\n",
              "            + ' to learn more about interactive tables.';\n",
              "          element.innerHTML = '';\n",
              "          dataTable['output_type'] = 'display_data';\n",
              "          await google.colab.output.renderOutput(dataTable, element);\n",
              "          const docLink = document.createElement('div');\n",
              "          docLink.innerHTML = docLinkHtml;\n",
              "          element.appendChild(docLink);\n",
              "        }\n",
              "      </script>\n",
              "    </div>\n",
              "  </div>\n",
              "  "
            ]
          },
          "metadata": {},
          "execution_count": 29
        }
      ]
    },
    {
      "cell_type": "code",
      "source": [
        "# sample12.pyというファイルに記述する\n",
        "\n",
        "%%writefile sample12.py\n",
        "import streamlit as st\n",
        "import yfinance as yf\n",
        "import pandas as pd\n",
        "from datetime import datetime, timedelta\n",
        "\n",
        "# 株価情報の取得\n",
        "tickers = [\"GOOGL\", \"AAPL\", \"META\", \"AMZN\"]  # Google、Apple、Facebook、Amazonの銘柄コード\n",
        "start_date = \"2021-12-31\"  # 取得開始日\n",
        "end_date = \"2022-12-31\"  # 取得終了日\n",
        "\n",
        "price_data = yf.download(tickers, start=start_date, end=end_date)[\"Close\"]\n",
        "\n",
        "# データフレームの作成\n",
        "df = pd.DataFrame({\n",
        "    \"Google\": price_data[tickers[0]],\n",
        "    \"Apple\": price_data[tickers[1]],\n",
        "    \"Facebook\": price_data[tickers[2]],\n",
        "    \"Amazon\": price_data[tickers[3]]\n",
        "})\n",
        "\n",
        "# 日ごとのリターンを計算\n",
        "returns = df.pct_change().dropna()\n",
        "\n",
        "st.title(\"Streamlit入門\")\n",
        "st.caption(\"これはStreamlitのテストアプリです\")\n",
        "\n",
        "st.header('Date Input')\n",
        "date = st.date_input(\n",
        "        label=\"日付を選択してください\",\n",
        "        value=datetime(2022, 1, 1),\n",
        "        min_value=datetime(2022, 1, 1),\n",
        "        max_value=datetime(2022, 12, 31),\n",
        "            )\n",
        " \n",
        "str_date = date.strftime('%Y-%m-%d')\n",
        "if str_date in df.index:\n",
        "    st.subheader(f'{date.strftime(\"%Y年%m月%d日\")}のリターン')\n",
        "    st.bar_chart(returns.loc[str_date])\n",
        "else:\n",
        "    st.subheader(f'{date.strftime(\"%Y年%m月%d日\")}のリターンはありません')"
      ],
      "metadata": {
        "id": "zo8G0grtvypu"
      },
      "execution_count": null,
      "outputs": []
    },
    {
      "cell_type": "code",
      "source": [
        "# Streamlitで表示\n",
        "\n",
        "!streamlit run sample12.py & sleep 3 && npx localtunnel --port 8501"
      ],
      "metadata": {
        "id": "qA2QxItbvypv"
      },
      "execution_count": null,
      "outputs": []
    },
    {
      "cell_type": "markdown",
      "source": [
        "以下のように表示されたでしょうか。  \n",
        "\n",
        "\n",
        "![](https://imgur.com/FE35pDa.png) "
      ],
      "metadata": {
        "id": "c492ysm4yNzI"
      }
    },
    {
      "cell_type": "markdown",
      "source": [
        "範囲を指定することもできます。  \n",
        "デフォルトでは最小値から最大値までになっています。\n",
        "\n",
        "引数`value`にリストないしタプルを渡してあげるだけです。  \n",
        "日付の範囲を指定できるようになります。"
      ],
      "metadata": {
        "id": "E9imGVEQvypv"
      }
    },
    {
      "cell_type": "markdown",
      "source": [
        "では表示してみましょう。"
      ],
      "metadata": {
        "id": "mVGk9eX8vypv"
      }
    },
    {
      "cell_type": "code",
      "source": [
        "# sample13.pyというファイルに記述する\n",
        "\n",
        "%%writefile sample13.py\n",
        "import streamlit as st\n",
        "import yfinance as yf\n",
        "import pandas as pd\n",
        "from datetime import datetime, timedelta\n",
        "\n",
        "# 株価情報の取得\n",
        "tickers = [\"GOOGL\", \"AAPL\", \"META\", \"AMZN\"]  # Google、Apple、Facebook、Amazonの銘柄コード\n",
        "start_date = \"2022-01-01\"  # 取得開始日\n",
        "end_date = \"2022-12-31\"  # 取得終了日\n",
        "\n",
        "price_data = yf.download(tickers, start=start_date, end=end_date)[\"Close\"]\n",
        "\n",
        "# データフレームの作成\n",
        "df = pd.DataFrame({\n",
        "    \"Google\": price_data[tickers[0]],\n",
        "    \"Apple\": price_data[tickers[1]],\n",
        "    \"Facebook\": price_data[tickers[2]],\n",
        "    \"Amazon\": price_data[tickers[3]]\n",
        "})\n",
        "\n",
        "\n",
        "st.title(\"Streamlit入門\")\n",
        "st.caption(\"これはStreamlitのテストアプリです\")\n",
        "\n",
        "dates = st.date_input(\n",
        "        label=\"期間を選択してください\",\n",
        "        value=(datetime(2022, 1, 1), datetime(2022, 12, 31)),\n",
        "        min_value=datetime(2022, 1, 1),\n",
        "        max_value=datetime(2022, 12, 31),\n",
        "            )\n",
        "\n",
        "if len(dates) == 2:\n",
        "  start_date, end_date = dates \n",
        "  str_start_date = start_date.strftime('%Y-%m-%d')\n",
        "  str_end_date = end_date.strftime('%Y-%m-%d')\n",
        "  st.subheader(f'{start_date.strftime(\"%Y年%m月%d日\")}から{end_date.strftime(\"%Y年%m月%d日\")}までの株価推移')\n",
        "  st.line_chart(df.loc[str_start_date: str_end_date])"
      ],
      "metadata": {
        "id": "Mt0Hruydvypv"
      },
      "execution_count": null,
      "outputs": []
    },
    {
      "cell_type": "code",
      "source": [
        "# Streamlitで表示\n",
        "\n",
        "!streamlit run sample13.py & sleep 3 && npx localtunnel --port 8501"
      ],
      "metadata": {
        "id": "JxcFVOfTvypw"
      },
      "execution_count": null,
      "outputs": []
    },
    {
      "cell_type": "markdown",
      "source": [
        "以下のように表示されたでしょうか。  \n",
        "\n",
        "\n",
        "![](https://imgur.com/uYd8fql.png) "
      ],
      "metadata": {
        "id": "0xxn7uDFzIE7"
      }
    },
    {
      "cell_type": "markdown",
      "source": [
        "### ファイルのアップロードの表示"
      ],
      "metadata": {
        "id": "1PAWqsSJoLQe"
      }
    },
    {
      "cell_type": "markdown",
      "source": [
        "`st.file_uploader()`で、ファイルをアップロードできるようになります。\n",
        "\n",
        "任意のCSVのデータを読み込ませて、機械学習モデルを学習させるといったことも簡単にできます。\n"
      ],
      "metadata": {
        "id": "U_QXPqm-7-Vb"
      }
    },
    {
      "cell_type": "markdown",
      "source": [
        "基本的な設定は以下です。  \n",
        "\n",
        "・`label`：ファイルアップローダの上に表示するラベル  \n",
        "・`type`：受け付ける拡張子  \n",
        "・`accept_multiple_files`：複数ファイルの選択を許容するかどうか"
      ],
      "metadata": {
        "id": "n5tDUNYj7-Vi"
      }
    },
    {
      "cell_type": "markdown",
      "source": [
        "では表示してみましょう。  \n",
        "今回はアップロードしたファイル名を表示するだけです。"
      ],
      "metadata": {
        "id": "oPwrZaaf7-Vi"
      }
    },
    {
      "cell_type": "code",
      "source": [
        "# sample14.pyというファイルに記述する\n",
        "\n",
        "%%writefile sample14.py\n",
        "import streamlit as st\n",
        "\n",
        "st.title(\"Streamlit入門\")\n",
        "st.caption(\"これはStreamlitのテストアプリです\")\n",
        "\n",
        "st.header(\"Upload File\")\n",
        "files = st.file_uploader(\n",
        "    label='ファイルをアップロードしてください',\n",
        "    accept_multiple_files=True,\n",
        ")\n",
        "\n",
        "if files is not None:\n",
        "    filenames = [file.name for file in files]\n",
        "    st.write(\"アップロードされたファイル名：\", \", \".join(filenames))"
      ],
      "metadata": {
        "id": "pl1rEv528rDj"
      },
      "execution_count": null,
      "outputs": []
    },
    {
      "cell_type": "code",
      "source": [
        "# Streamlitで表示\n",
        "\n",
        "!streamlit run sample14.py & sleep 3 && npx localtunnel --port 8501"
      ],
      "metadata": {
        "id": "k5EiTinY9Vnx"
      },
      "execution_count": null,
      "outputs": []
    },
    {
      "cell_type": "markdown",
      "source": [
        "以下のように表示されたでしょうか。  \n",
        "\n",
        "\n",
        "![](https://imgur.com/BCFQzJr.png) "
      ],
      "metadata": {
        "id": "To8ul8sczPBn"
      }
    }
  ]
}