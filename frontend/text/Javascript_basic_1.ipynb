{
  "nbformat": 4,
  "nbformat_minor": 0,
  "metadata": {
    "colab": {
      "provenance": [],
      "include_colab_link": true
    },
    "kernelspec": {
      "name": "python3",
      "display_name": "Python 3"
    },
    "language_info": {
      "name": "python"
    }
  },
  "cells": [
    {
      "cell_type": "markdown",
      "metadata": {
        "id": "view-in-github",
        "colab_type": "text"
      },
      "source": [
        "<a href=\"https://colab.research.google.com/github/kiryu-3/Prmn2023_DS/blob/main/frontend/text/Javascript_basic_1.ipynb\" target=\"_parent\"><img src=\"https://colab.research.google.com/assets/colab-badge.svg\" alt=\"Open In Colab\"/></a>"
      ]
    },
    {
      "cell_type": "markdown",
      "source": [
        "# 第1章"
      ],
      "metadata": {
        "id": "VboanSatjTb4"
      }
    },
    {
      "cell_type": "code",
      "source": [
        "# 最初に実行してください\n",
        "!apt-get install -y nodejs"
      ],
      "metadata": {
        "id": "NAGqlHUt2VCq"
      },
      "execution_count": null,
      "outputs": []
    },
    {
      "cell_type": "markdown",
      "source": [
        "## console.log関数"
      ],
      "metadata": {
        "id": "ioSHP54BaFHx"
      }
    },
    {
      "cell_type": "markdown",
      "source": [
        "**`console.log`関数**を使うことで画面に文字を表示することができます。"
      ],
      "metadata": {
        "id": "sqgU0-aLbdxE"
      }
    },
    {
      "cell_type": "code",
      "source": [
        "%%bash\n",
        "\n",
        "# 一時ファイルにコードを書き込む\n",
        "cat <<'EOF' > temp.js\n",
        "console.log(\"Hello World!\");\n",
        "console.log(\"Welcome to JavaScript!\");\n",
        "console.log(25);\n",
        "EOF\n",
        "\n",
        "# 一時ファイルを実行する\n",
        "node temp.js"
      ],
      "metadata": {
        "colab": {
          "base_uri": "https://localhost:8080/"
        },
        "id": "Dyutu80GvvKS",
        "outputId": "b333b2fd-632c-4b55-87f5-b6920b5a9ef4"
      },
      "execution_count": null,
      "outputs": [
        {
          "output_type": "stream",
          "name": "stdout",
          "text": [
            "Hello World!\n",
            "Welcome to JavaScript!\n",
            "25\n"
          ]
        }
      ]
    },
    {
      "cell_type": "markdown",
      "source": [
        "`console.log`関数の途中で改行したいときは、**\" \\n \"** を途中に挿入します。"
      ],
      "metadata": {
        "id": "hbDlQc6ndi8T"
      }
    },
    {
      "cell_type": "code",
      "source": [
        "%%bash\n",
        "\n",
        "# 一時ファイルにコードを書き込む\n",
        "cat <<'EOF' > temp.js\n",
        "console.log(\"Hello World!\\nWelcome to JavaScript!\");\n",
        "EOF\n",
        "\n",
        "# 一時ファイルを実行する\n",
        "node temp.js"
      ],
      "metadata": {
        "colab": {
          "base_uri": "https://localhost:8080/"
        },
        "id": "sKdjZHmmds5g",
        "outputId": "e96d9307-1f4b-4fb5-d12b-1d96ff01a8f9"
      },
      "execution_count": null,
      "outputs": [
        {
          "output_type": "stream",
          "name": "stdout",
          "text": [
            "Hello World!\n",
            "Welcome to JavaScript!\n"
          ]
        }
      ]
    },
    {
      "cell_type": "markdown",
      "source": [
        "**`process.stdout.write`**関数を使用すると、改行を防止することができます。"
      ],
      "metadata": {
        "id": "27dkOBpQcQL2"
      }
    },
    {
      "cell_type": "code",
      "source": [
        "%%bash\n",
        "\n",
        "# 一時ファイルにコードを書き込む\n",
        "cat <<'EOF' > temp.js\n",
        "process.stdout.write(\"Hello World! \");\n",
        "process.stdout.write(\"Welcome to JavaScript!, \");\n",
        "process.stdout.write(\"25\");\n",
        "EOF\n",
        "\n",
        "# 一時ファイルを実行する\n",
        "node temp.js"
      ],
      "metadata": {
        "colab": {
          "base_uri": "https://localhost:8080/"
        },
        "id": "GRPgCvVJdr9X",
        "outputId": "40cc7e75-1aa2-4a6e-9fc7-6124f359fb28"
      },
      "execution_count": null,
      "outputs": [
        {
          "output_type": "stream",
          "name": "stdout",
          "text": [
            "Hello World! Welcome to JavaScript!, 25"
          ]
        }
      ]
    },
    {
      "cell_type": "markdown",
      "source": [
        "## 数値型"
      ],
      "metadata": {
        "id": "4eR3rJY6es2M"
      }
    },
    {
      "cell_type": "markdown",
      "source": [
        "数値型(Number)には**整数(integers)**、**浮動小数点数(floating-point numbers)** の2つがあります。  \n",
        "\n",
        "また、JavaScriptには**BigInt型**という、非常に大きな整数を表すためのデータ型もあります。"
      ],
      "metadata": {
        "id": "-BcsnPJDe8Um"
      }
    },
    {
      "cell_type": "code",
      "source": [
        "%%bash\n",
        "\n",
        "# 一時ファイルにコードを書き込む\n",
        "cat <<'EOF' > temp.js\n",
        "console.log(25);\n",
        "console.log(25.25);\n",
        "EOF\n",
        "\n",
        "# 一時ファイルを実行する\n",
        "node temp.js"
      ],
      "metadata": {
        "id": "hVmCGqpqeud9",
        "colab": {
          "base_uri": "https://localhost:8080/"
        },
        "outputId": "34f3b846-aaf9-4c36-e403-b09f6293d61c"
      },
      "execution_count": null,
      "outputs": [
        {
          "output_type": "stream",
          "name": "stdout",
          "text": [
            "25\n",
            "25.25\n"
          ]
        }
      ]
    },
    {
      "cell_type": "markdown",
      "source": [
        "### 数値型の算術演算子\n",
        "以下表のような四則演算をすることができます。 \n",
        "\n",
        "|演算子|  例  |  概要  |\n",
        "| ---- | ---- | ---- |\n",
        "|  +  |  x+y  |  足し算  |\n",
        "|  -  |  x-y  |  引き算  |\n",
        "|  *  |  x*y  |  掛け算  |\n",
        "|  **  |  x**y  | 階乗  |\n",
        "|  /  |  x/y  |  割り算<br>(商は実数)  |\n",
        "|  //  |  x//y  |  割り算<br>(商は整数)  |\n",
        "|  %  |  x%y  |  剰余算<br>(除算の余り)  |\n"
      ],
      "metadata": {
        "id": "3ZeqJ1cciNPQ"
      }
    },
    {
      "cell_type": "code",
      "source": [
        "%%bash\n",
        "\n",
        "# 一時ファイルにコードを書き込む\n",
        "cat <<'EOF' > temp.js\n",
        "console.log(25 + 1); // 足し算\n",
        "console.log(25 - 1); // 引き算\n",
        "\n",
        "console.log(2 * 4); // 掛け算\n",
        "console.log(2 ** 4); // 階乗\n",
        "\n",
        "console.log(25 / 4); // 割り算（商は実数）\n",
        "console.log(25 % 4); // 剰余算\n",
        "\n",
        "console.log( 25 - 2*5 ); // 演算子の優先順位\n",
        "console.log( (25-2) * 5 ); // 剰余算\n",
        "EOF\n",
        "\n",
        "# 一時ファイルを実行する\n",
        "node temp.js"
      ],
      "metadata": {
        "id": "_RvX5pdEkegC",
        "colab": {
          "base_uri": "https://localhost:8080/"
        },
        "outputId": "6650fcc9-768d-4ace-d574-fb5356b564ee"
      },
      "execution_count": null,
      "outputs": [
        {
          "output_type": "stream",
          "name": "stdout",
          "text": [
            "26\n",
            "24\n",
            "8\n",
            "16\n",
            "6.25\n",
            "1\n",
            "15\n",
            "115\n"
          ]
        }
      ]
    },
    {
      "cell_type": "markdown",
      "source": [
        "## 文字列型"
      ],
      "metadata": {
        "id": "izSWWDRFlxSA"
      }
    },
    {
      "cell_type": "markdown",
      "source": [
        "JavaScriptの文字列は『**シングルクォーテーション**』か『**ダブルクォーテーション**』で囲みます。  \n",
        "単数文字か複数文字かの区別はなく、どちらを使ってもよいです。  \n",
        "\n",
        "囲むときは同じものをセットで使う必要があることに注意しましょう。  \n",
        "『**ダブルクォーテーション**』を使うことが多いようです。"
      ],
      "metadata": {
        "id": "b_f6oMUBlzdS"
      }
    },
    {
      "cell_type": "code",
      "source": [
        "%%bash\n",
        "\n",
        "# 一時ファイルにコードを書き込む\n",
        "cat <<'EOF' > temp.js\n",
        "console.log('Hello World!');\n",
        "console.log(\"Hello World!\");\n",
        "EOF\n",
        "\n",
        "# 一時ファイルを実行する\n",
        "node temp.js"
      ],
      "metadata": {
        "id": "Gi40prKkmlTv",
        "colab": {
          "base_uri": "https://localhost:8080/"
        },
        "outputId": "91e6783e-b339-4331-9cea-90118dc1014a"
      },
      "execution_count": null,
      "outputs": [
        {
          "output_type": "stream",
          "name": "stdout",
          "text": [
            "Hello World!\n",
            "Hello World!\n"
          ]
        }
      ]
    },
    {
      "cell_type": "markdown",
      "source": [
        "### 文字列型の算術演算子\n",
        "以下表のような四則演算をすることができます。 \n",
        "\n",
        "|演算子|  説明  |  例  |  結果  |  \n",
        "| ---- | ---- | ---- | ---- |  \n",
        "|  +  |  連結（文字列+文字列）  |  'w' + 'w'  | ww |  \n",
        "|  .repeat  |  反復（文字列.repeat(数値)) |  'w'.repeat(3)  | www |  "
      ],
      "metadata": {
        "id": "Np-Sz1BLptD7"
      }
    },
    {
      "cell_type": "code",
      "source": [
        "%%bash\n",
        "\n",
        "# 一時ファイルにコードを書き込む\n",
        "cat <<'EOF' > temp.js\n",
        "console.log(\"Hello\" + \"World!\");\n",
        "console.log(\"Hello\".repeat(3));\n",
        "EOF\n",
        "\n",
        "# 一時ファイルを実行する\n",
        "node temp.js"
      ],
      "metadata": {
        "colab": {
          "base_uri": "https://localhost:8080/"
        },
        "id": "ij4kvcIJqDev",
        "outputId": "c127ffa5-e48b-4750-973e-ca5149aed29a"
      },
      "execution_count": null,
      "outputs": [
        {
          "output_type": "stream",
          "name": "stdout",
          "text": [
            "HelloWorld!\n",
            "HelloHelloHello\n"
          ]
        }
      ]
    },
    {
      "cell_type": "markdown",
      "source": [
        "### 数値型と文字列型の注意"
      ],
      "metadata": {
        "id": "4rRfoWXZqzp5"
      }
    },
    {
      "cell_type": "markdown",
      "source": [
        "JavaScriptでは、数値型と文字列型を結合することができます。  \n",
        "数値型と文字列型を結合する場合は、数値型が自動的に文字列型に変換されます。"
      ],
      "metadata": {
        "id": "EgGyjklGrKdU"
      }
    },
    {
      "cell_type": "code",
      "source": [
        "%%bash\n",
        "\n",
        "# 一時ファイルにコードを書き込む\n",
        "cat <<'EOF' > temp.js\n",
        "console.log(25 + 4);  // 29を出力\n",
        "console.log(\"25\" + \"4\");  // \"254\"を出力\n",
        "EOF\n",
        "\n",
        "# 一時ファイルを実行する\n",
        "node temp.js"
      ],
      "metadata": {
        "colab": {
          "base_uri": "https://localhost:8080/"
        },
        "id": "RfOhyBRu4Ubi",
        "outputId": "948c4361-d69d-4659-9141-e6352b37e140"
      },
      "execution_count": null,
      "outputs": [
        {
          "output_type": "stream",
          "name": "stdout",
          "text": [
            "29\n",
            "254\n"
          ]
        }
      ]
    },
    {
      "cell_type": "code",
      "source": [
        "%%bash\n",
        "\n",
        "# 一時ファイルにコードを書き込む\n",
        "cat <<'EOF' > temp.js\n",
        "console.log(\"25\" + 4);  // \"254\"を出力\n",
        "EOF\n",
        "\n",
        "# 一時ファイルを実行する\n",
        "node temp.js"
      ],
      "metadata": {
        "colab": {
          "base_uri": "https://localhost:8080/"
        },
        "id": "rnDW7Z4b4dhb",
        "outputId": "03c493c9-6d1b-46be-88f7-1d95164ce63f"
      },
      "execution_count": null,
      "outputs": [
        {
          "output_type": "stream",
          "name": "stdout",
          "text": [
            "254\n"
          ]
        }
      ]
    },
    {
      "cell_type": "markdown",
      "source": [
        "## 変数"
      ],
      "metadata": {
        "id": "YkaUSlO-1Opf"
      }
    },
    {
      "cell_type": "markdown",
      "source": [
        "**変数**は、データを格納するためにコンピュータ内部に準備する箱のようなものです。  \n"
      ],
      "metadata": {
        "id": "4fhDSGR-48Tx"
      }
    },
    {
      "cell_type": "markdown",
      "source": [
        "JavaScriptで変数を宣言する場合は、**`let`** もしくは **`const`** キーワードを使います。\n",
        "\n",
        "**`let`**は再代入可能な変数、**`const`**は再代入不可能な定数として宣言します。"
      ],
      "metadata": {
        "id": "g--IRbJqtzjy"
      }
    },
    {
      "cell_type": "code",
      "execution_count": null,
      "metadata": {
        "id": "UFALFvlG0DQR",
        "colab": {
          "base_uri": "https://localhost:8080/"
        },
        "outputId": "cb530517-a075-46fe-cd5f-77557317e493"
      },
      "outputs": [
        {
          "output_type": "stream",
          "name": "stdout",
          "text": [
            "Chitose\n",
            "b1998040\n",
            "25\n"
          ]
        }
      ],
      "source": [
        "%%bash\n",
        "\n",
        "# 一時ファイルにコードを書き込む\n",
        "cat <<'EOF' > temp.js\n",
        "let name = \"Chitose\";  // nameという変数に、文字列の\"Chitose\"を代入\n",
        "let number = \"b1998040\";  // numberという変数に、文字列の\"b1998040\"を代入\n",
        "let age = 25;  // ageという変数に、整数の\"25\"を代入 \n",
        "\n",
        "console.log(name);\n",
        "console.log(number);\n",
        "console.log(age);\n",
        "EOF\n",
        "\n",
        "# 一時ファイルを実行する\n",
        "node temp.js"
      ]
    },
    {
      "cell_type": "markdown",
      "source": [
        "変数のキーワードについては[JavaDriveの記事](https://www.javadrive.jp/javascript/var/)や[3PySciの記事](https://3pysci.com/javascript-3/)が参考になります。"
      ],
      "metadata": {
        "id": "Lx1EapK3B9mK"
      }
    },
    {
      "cell_type": "markdown",
      "source": [
        "### 自己代入\n",
        "変数に入っている数値を利用して計算を行い、再度その変数に書き戻す演算を**自己代入**といいます。"
      ],
      "metadata": {
        "id": "AOa8JOz-F1Tr"
      }
    },
    {
      "cell_type": "code",
      "source": [
        "%%bash\n",
        "\n",
        "# 一時ファイルにコードを書き込む\n",
        "cat <<'EOF' > temp.js\n",
        "let age = 25;\n",
        "\n",
        "// 元の変数に対して4を加算する\n",
        "age = age + 4;\n",
        "console.log(age);\n",
        "EOF\n",
        "\n",
        "# 一時ファイルを実行する\n",
        "node temp.js"
      ],
      "metadata": {
        "colab": {
          "base_uri": "https://localhost:8080/"
        },
        "id": "PXVORqLyGcR3",
        "outputId": "8bad6b54-4da7-421b-ae81-09b1378b5085"
      },
      "execution_count": null,
      "outputs": [
        {
          "output_type": "stream",
          "name": "stdout",
          "text": [
            "29\n"
          ]
        }
      ]
    },
    {
      "cell_type": "markdown",
      "source": [
        "自己代入には省略形があります。  \n",
        "以下の表を参考にしてください。\n",
        "\n",
        "|代入演算子|  記述例  |  意味  | \n",
        "| ---- | ---- | ---- |    \n",
        "| +=  |  a +=  b  |  a = a + b  |   \n",
        "|  -=  |  a -=  b  |  a = a - b  | \n",
        "|  *=  |  a *=  b  |  a = a * b  | \n",
        "|  /=  |  a /=  b  | a = a / b  |\n",
        "|  %=  |  a %=  b  |  a = a % b  | \n",
        "|  **=  |  a **=  b  | a = a ** b  |"
      ],
      "metadata": {
        "id": "pqWIvekJGw5C"
      }
    },
    {
      "cell_type": "code",
      "source": [
        "%%bash\n",
        "\n",
        "# 一時ファイルにコードを書き込む\n",
        "cat <<'EOF' > temp.js\n",
        "\n",
        "let age = 25;\n",
        "age += 4;\n",
        "console.log(age);  // 足し算\n",
        "\n",
        "age = 25;\n",
        "age -= 4;\n",
        "console.log(age);  // 引き算\n",
        "\n",
        "age = 2;\n",
        "age *= 4;\n",
        "console.log(age);  // 掛け算\n",
        "\n",
        "age = 2;\n",
        "age **= 4;\n",
        "console.log(age);  // 階乗\n",
        "\n",
        "age = 25;\n",
        "age /= 4;\n",
        "console.log(age);  // 割り算（商は実数）\n",
        "\n",
        "age = 25;\n",
        "age %= 4;\n",
        "console.log(age);  // 剰余算\n",
        "\n",
        "\n",
        "EOF\n",
        "\n",
        "# 一時ファイルを実行する\n",
        "node temp.js"
      ],
      "metadata": {
        "id": "GjlLLlkLIBev",
        "colab": {
          "base_uri": "https://localhost:8080/"
        },
        "outputId": "831b9e6a-d6e2-4557-a150-a9d3f22590b9"
      },
      "execution_count": null,
      "outputs": [
        {
          "output_type": "stream",
          "name": "stdout",
          "text": [
            "29\n",
            "21\n",
            "8\n",
            "16\n",
            "6.25\n",
            "1\n"
          ]
        }
      ]
    },
    {
      "cell_type": "markdown",
      "source": [
        "## データ型\n"
      ],
      "metadata": {
        "id": "wuwHhDUR-9tx"
      }
    },
    {
      "cell_type": "markdown",
      "source": [
        "プログラムで扱うことのできるデータの種類を**データ型**といいます。 \n",
        "\n",
        "\n"
      ],
      "metadata": {
        "id": "KIgWq6bB534f"
      }
    },
    {
      "cell_type": "markdown",
      "source": [
        "JavaScriptにおけるデータ型は以下表のようなものがあります。\n",
        "\n",
        "|種類|  型  |  例  | \n",
        "| ---- | ---- | ---- |    \n",
        "| 文字列  |  string  |  \"Taro\" , \"b2220000\"  |   \n",
        "|  整数  |  number  |  -12 , 19  | \n",
        "|  浮動小数点数  |  number  |  -0.5 , 19.0  | \n",
        "|  真偽値  |  boolean  | True , False  |"
      ],
      "metadata": {
        "id": "b6fmTOBr6FgX"
      }
    },
    {
      "cell_type": "markdown",
      "source": [
        "Pythonとは異なり、JavaScriptには明示的に型を指定する必要がありません。  \n",
        "JavaScriptでは、変数に代入された値に基づいて、その変数の型が自動的に決まります。"
      ],
      "metadata": {
        "id": "6evVkrpP6CbY"
      }
    },
    {
      "cell_type": "markdown",
      "source": [
        "**Pythonでは、変数代入した値によってそのデータ型が決まります。**\n",
        "\n",
        "Pythonの柔軟性がよく分かるでしょう。"
      ],
      "metadata": {
        "id": "71nYdnJUEFv2"
      }
    },
    {
      "cell_type": "markdown",
      "source": [
        "### typeof演算子"
      ],
      "metadata": {
        "id": "ZxzP8gMb6Kz_"
      }
    },
    {
      "cell_type": "markdown",
      "source": [
        "\n",
        "**typeof演算子**を使うと、変数にどのような型の値が格納されているかを調べることができます。"
      ],
      "metadata": {
        "id": "Kfl_ofFXFjLk"
      }
    },
    {
      "cell_type": "code",
      "source": [
        "%%bash\n",
        "\n",
        "# 一時ファイルにコードを書き込む\n",
        "cat <<'EOF' > temp.js\n",
        "\n",
        "let name = \"Chitose\";\n",
        "let number = \"b1998040\";\n",
        "let age = 25;\n",
        "\n",
        "console.log(typeof name);\n",
        "console.log(typeof number);\n",
        "console.log(typeof age);\n",
        "\n",
        "\n",
        "EOF\n",
        "\n",
        "# 一時ファイルを実行する\n",
        "node temp.js"
      ],
      "metadata": {
        "colab": {
          "base_uri": "https://localhost:8080/"
        },
        "id": "priOCf83KmYq",
        "outputId": "196180c3-e5d3-4799-8d9a-363e79b494f9"
      },
      "execution_count": null,
      "outputs": [
        {
          "output_type": "stream",
          "name": "stdout",
          "text": [
            "string\n",
            "string\n",
            "number\n"
          ]
        }
      ]
    },
    {
      "cell_type": "markdown",
      "source": [
        "### 型変換\n"
      ],
      "metadata": {
        "id": "8Xh-2yJhK6MY"
      }
    },
    {
      "cell_type": "markdown",
      "source": [
        "データ型を別のものに変換する際には、**型変換**を行います。\n"
      ],
      "metadata": {
        "id": "0NxENh586Veg"
      }
    },
    {
      "cell_type": "markdown",
      "source": [
        "JavaScriptでは、以下のように変換する先の型を表す関数を使用します。\n",
        "\n",
        "|種類|  変換先の型名 | \n",
        "| ---- | ---- |   \n",
        "| 文字列  |  String()  |   \n",
        "|  整数  |  parseInt()  |\n",
        "|  浮動小数点数  |  parseFloat()  |\n",
        "|  真偽値  |  Boolean()  |"
      ],
      "metadata": {
        "id": "AUrIceYK6d-7"
      }
    },
    {
      "cell_type": "code",
      "source": [
        "%%bash\n",
        "\n",
        "# 一時ファイルにコードを書き込む\n",
        "cat <<'EOF' > temp.js\n",
        "\n",
        "let age = \"25\";\n",
        "console.log(typeof age); // 最初は文字列型です\n",
        "\n",
        "age = parseInt(age);\n",
        "console.log(typeof age); // 型変換して整数型になりました\n",
        "\n",
        "EOF\n",
        "\n",
        "# 一時ファイルを実行する\n",
        "node temp.js"
      ],
      "metadata": {
        "colab": {
          "base_uri": "https://localhost:8080/"
        },
        "id": "WkV0PFvM6tUX",
        "outputId": "9a1dcde6-5740-487e-9721-178b09593b4e"
      },
      "execution_count": null,
      "outputs": [
        {
          "output_type": "stream",
          "name": "stdout",
          "text": [
            "string\n",
            "number\n"
          ]
        }
      ]
    },
    {
      "cell_type": "markdown",
      "source": [
        "数値と文字列の間で演算が行われる場合は、 数値型に揃えられてから演算が行われます。  \n",
        "\n",
        "このように自動的に型変換が行われる仕組みを**暗黙の型変換**といいます。  \n",
        "ただし、真偽値と文字列の間では暗黙の型変換は行われません。"
      ],
      "metadata": {
        "id": "7HG0TAPwLz5f"
      }
    },
    {
      "cell_type": "code",
      "source": [
        "%%bash\n",
        "\n",
        "# 一時ファイルにコードを書き込む\n",
        "cat <<'EOF' > temp.js\n",
        "\n",
        "let age = 25;\n",
        "console.log(typeof age);\n",
        "\n",
        "let plus = 0.5;\n",
        "console.log(typeof plus);\n",
        "\n",
        "age += plus; // ageが浮動小数点に揃えられて演算\n",
        "console.log(typeof age);\n",
        "\n",
        "EOF\n",
        "\n",
        "# 一時ファイルを実行する\n",
        "node temp.js"
      ],
      "metadata": {
        "colab": {
          "base_uri": "https://localhost:8080/"
        },
        "id": "grSQ6Dby69PJ",
        "outputId": "7b35f6f0-1f53-4310-b964-20b2c0bae35d"
      },
      "execution_count": null,
      "outputs": [
        {
          "output_type": "stream",
          "name": "stdout",
          "text": [
            "number\n",
            "number\n",
            "number\n"
          ]
        }
      ]
    },
    {
      "cell_type": "markdown",
      "source": [
        "## テンプレート文字列\n"
      ],
      "metadata": {
        "id": "U8K3EPByOy0l"
      }
    },
    {
      "cell_type": "markdown",
      "source": [
        "JavaScriptでは、テンプレート文字列を使用することで、  \n",
        "文字列の中に値を埋め込むことができます。\n",
        "\n",
        "テンプレート文字列は、バッククォート「```」で囲まれた文字列です。  \n",
        "埋め込みたい値を「**${}**」で囲んで書きます。"
      ],
      "metadata": {
        "id": "8zwPx_Rn8d3-"
      }
    },
    {
      "cell_type": "code",
      "source": [
        "%%bash\n",
        "\n",
        "# 一時ファイルにコードを書き込む\n",
        "cat <<'EOF' > temp.js\n",
        "\n",
        "const name = \"Chitose\";\n",
        "const age = 25;\n",
        "\n",
        "console.log(`${name}さんの年齢は ${age}歳 です`);\n",
        "\n",
        "EOF\n",
        "\n",
        "# 一時ファイルを実行する\n",
        "node temp.js"
      ],
      "metadata": {
        "colab": {
          "base_uri": "https://localhost:8080/"
        },
        "id": "p4Q4ZxBfSRrs",
        "outputId": "7e94d719-21c8-40c3-be85-8c72cd7ea47d"
      },
      "execution_count": null,
      "outputs": [
        {
          "output_type": "stream",
          "name": "stdout",
          "text": [
            "Chitoseさんの年齢は 25歳 です\n"
          ]
        }
      ]
    },
    {
      "cell_type": "markdown",
      "source": [
        "また、テンプレート文字列内では、式を記述することもできます。  \n",
        "\n",
        "例えば、以下のように記述することで、変数`age`に4を足した値をテンプレート文字列に埋め込んで  \n",
        "コンソールに出力することができます。"
      ],
      "metadata": {
        "id": "dCzzCuos9DWq"
      }
    },
    {
      "cell_type": "code",
      "source": [
        "%%bash\n",
        "\n",
        "# 一時ファイルにコードを書き込む\n",
        "cat <<'EOF' > temp.js\n",
        "\n",
        "const name = \"Chitose\";\n",
        "const age = 25;\n",
        "\n",
        "console.log(`${name}さんの年齢は ${age}歳 です`);\n",
        "console.log(`4年後は ${age+4}歳 です`);\n",
        "\n",
        "EOF\n",
        "\n",
        "# 一時ファイルを実行する\n",
        "node temp.js"
      ],
      "metadata": {
        "colab": {
          "base_uri": "https://localhost:8080/"
        },
        "id": "jnOvooeh9I1A",
        "outputId": "656f83d2-a948-4323-f85d-72606d99a18e"
      },
      "execution_count": null,
      "outputs": [
        {
          "output_type": "stream",
          "name": "stdout",
          "text": [
            "Chitoseさんの年齢は 25歳 です\n",
            "4年後は 29歳 です\n"
          ]
        }
      ]
    },
    {
      "cell_type": "markdown",
      "source": [
        "テンプレート文字列については、[こちら](https://developer.mozilla.org/ja/docs/Web/JavaScript/Reference/Template_literals)のページも参考になります。"
      ],
      "metadata": {
        "id": "rdIwR209UHPj"
      }
    },
    {
      "cell_type": "markdown",
      "source": [
        "## 入力を受け取る\n"
      ],
      "metadata": {
        "id": "plh2_4ucV-g7"
      }
    },
    {
      "cell_type": "markdown",
      "source": [
        "Google Colab上でのJavaScriptの実行環境は、プロンプトを表示することができないため、  \n",
        "ユーザーからの入力を受け取ることができません。"
      ],
      "metadata": {
        "id": "hn2kwvAP9Xqy"
      }
    },
    {
      "cell_type": "markdown",
      "source": [
        "`prompt`関数は、ラウザ上で実行されるJavaScriptの関数です、\n",
        "\n",
        "実行環境によっては使えるので、ぜひ試してみてください。"
      ],
      "metadata": {
        "id": "f0SoX3MEDC6h"
      }
    },
    {
      "cell_type": "markdown",
      "source": [
        "``` py\n",
        "%%bash\n",
        "\n",
        "# 一時ファイルにコードを書き込む\n",
        "# 今回はエラー吐きます\n",
        "cat <<'EOF' > temp.js\n",
        "\n",
        "const name = \"Chitose\";\n",
        "const age = prompt(\"年齢を入力してください\");  // メッセージを指定して入力を促す\n",
        "\n",
        "console.log(`${name}さんの年齢は ${age}歳 です`);\n",
        "console.log(`4年後は ${Number(age)+4}歳 です`);  // ageは文字列型なので、Number関数で数値型に変換します\n",
        "\n",
        "EOF\n",
        "\n",
        "# 一時ファイルを実行する\n",
        "node temp.js\n",
        "```"
      ],
      "metadata": {
        "id": "JRftlKr-2ztf"
      }
    },
    {
      "cell_type": "markdown",
      "source": [
        "## 乱数\n",
        "\n",
        "\n"
      ],
      "metadata": {
        "id": "7VsWDX61nFns"
      }
    },
    {
      "cell_type": "markdown",
      "source": [
        "**乱数**とは、ランダムで何が出るか分からない数字のことです。  \n",
        "確率・統計的な処理や、数値シミュレーションには欠かせません。  \n",
        "\n",
        "JavaScriptで乱数を扱う場合、Mathオブジェクトを使用します。  \n",
        "以下にまとめたものを示します。"
      ],
      "metadata": {
        "id": "-jCg-stTDq12"
      }
    },
    {
      "cell_type": "markdown",
      "source": [
        "||書き方|意味|  \n",
        "|:---:|:---|:---| \n",
        "|1|Math.random()|0以上1未満のランダムな数を返す|  \n",
        "|2|Math.floor(Math.random() * (最大値 - 最小値 + 1)) + 最小値 |最小値以上最大値以下のランダムな整数を返す|  \n",
        "|3|Math.random() * (最大値 - 最小値) + 最小値|最小値以上最大値未満のランダムな数を返す|  \n",
        "|4|データ[Math.floor(Math.random() * データ.length)]|データの中でランダムに一つだけ要素を返す|\n",
        "|5|データ.sort(() => Math.random() - 0.5)[0]|データの中からランダムに一つだけ要素を返す|  "
      ],
      "metadata": {
        "id": "C6ofbyMXnfva"
      }
    },
    {
      "cell_type": "markdown",
      "source": [
        "### Math.random()\n",
        "  "
      ],
      "metadata": {
        "id": "Sgu8nHZKnizS"
      }
    },
    {
      "cell_type": "markdown",
      "source": [
        "**0.0以上、1.0未満**のランダムな実数を返します。  \n"
      ],
      "metadata": {
        "id": "XUEiVF4NEP3l"
      }
    },
    {
      "cell_type": "markdown",
      "source": [
        "### Math.floor(Math.random() * (最大値 - 最小値 + 1)) + 最小値\n"
      ],
      "metadata": {
        "id": "yRP7QDYBnlKq"
      }
    },
    {
      "cell_type": "markdown",
      "source": [
        "**最小値 ≦ N ≦ 最大値**となるランダムな整数Nを返します。  \n",
        "以下のコードは、0~20の中から整数値をランダムに選んでいます。"
      ],
      "metadata": {
        "id": "cSkIq0BxEUJK"
      }
    },
    {
      "cell_type": "code",
      "source": [
        "%%bash\n",
        "\n",
        "# 一時ファイルにコードを書き込む\n",
        "cat <<'EOF' > temp.js\n",
        "\n",
        "console.log(Math.floor(Math.random() * (21 - 0 + 1)) + 0);\n",
        "\n",
        "EOF\n",
        "\n",
        "# 一時ファイルを実行する\n",
        "node temp.js"
      ],
      "metadata": {
        "id": "TB_qNDU2noUa",
        "colab": {
          "base_uri": "https://localhost:8080/"
        },
        "outputId": "b9c1ebc0-88ac-4c84-c4bf-5ef2639b47ab"
      },
      "execution_count": null,
      "outputs": [
        {
          "output_type": "stream",
          "name": "stdout",
          "text": [
            "2\n"
          ]
        }
      ]
    },
    {
      "cell_type": "markdown",
      "source": [
        "### Math.random() * (最大値 - 最小値) + 最小値\n"
      ],
      "metadata": {
        "id": "thI0WuFhnqUi"
      }
    },
    {
      "cell_type": "markdown",
      "source": [
        "**最小値 ≦ N ≦ 最大値**となるランダムな実数Nを返します。  \n",
        "以下のコードは、0~20の中から実数値をランダムに選んでいます。  "
      ],
      "metadata": {
        "id": "uhRdL-SrEk7M"
      }
    },
    {
      "cell_type": "code",
      "source": [
        "%%bash\n",
        "\n",
        "# 一時ファイルにコードを書き込む\n",
        "cat <<'EOF' > temp.js\n",
        "\n",
        "console.log(Math.random() * (20 - 0) + 0);\n",
        "\n",
        "EOF\n",
        "\n",
        "# 一時ファイルを実行する\n",
        "node temp.js"
      ],
      "metadata": {
        "colab": {
          "base_uri": "https://localhost:8080/"
        },
        "id": "KIDSNQnREoNN",
        "outputId": "33ff9142-a3be-4e16-fc3b-64855a0de9b3"
      },
      "execution_count": null,
      "outputs": [
        {
          "output_type": "stream",
          "name": "stdout",
          "text": [
            "8.453544298121756\n"
          ]
        }
      ]
    },
    {
      "cell_type": "markdown",
      "source": [
        "### データ[Math.floor(Math.random() * データ.length)]\n"
      ],
      "metadata": {
        "id": "F8ixf8GUnzFK"
      }
    },
    {
      "cell_type": "markdown",
      "source": [
        "**文字列**など（他に**文字列**、**Map**、**Set**）のデータからランダムに要素を1つ選んで返します。  \n",
        "以下のコードは、文字列の中からランダムな文字を表示するプログラムです。"
      ],
      "metadata": {
        "id": "FLP-HN0ZEvK8"
      }
    },
    {
      "cell_type": "code",
      "source": [
        "%%bash\n",
        "\n",
        "# 一時ファイルにコードを書き込む\n",
        "cat <<'EOF' > temp.js\n",
        "\n",
        "var string = \"ABCD\";\n",
        "console.log(string[Math.floor(Math.random() * string.length)]);\n",
        "\n",
        "EOF\n",
        "\n",
        "# 一時ファイルを実行する\n",
        "node temp.js"
      ],
      "metadata": {
        "id": "l5n44yz4nywK",
        "colab": {
          "base_uri": "https://localhost:8080/"
        },
        "outputId": "a04a6058-3473-4d6b-bba2-dd890b07b6bd"
      },
      "execution_count": null,
      "outputs": [
        {
          "output_type": "stream",
          "name": "stdout",
          "text": [
            "C\n"
          ]
        }
      ]
    },
    {
      "cell_type": "markdown",
      "source": [
        "### データ.sort(() => Math.random() - 0.5)[0]\n"
      ],
      "metadata": {
        "id": "AGO1yS67n22B"
      }
    },
    {
      "cell_type": "markdown",
      "source": [
        "配列の要素をランダムにシャッフルし、先頭の要素を返します。\n",
        "\n",
        "以下のコードは、クラスの番号4つが含まれている配列を用意し、4つの要素をシャッフルした配列`class`を表示するプログラムです。"
      ],
      "metadata": {
        "id": "6n75_T-kFDfV"
      }
    },
    {
      "cell_type": "code",
      "source": [
        "import random\n",
        "ABC_list = ['A', 'B', 'C', 'D']\n",
        "random.shuffle(ABC_list)\n",
        "print(ABC_list)"
      ],
      "metadata": {
        "id": "PrQvcmoxn3xS",
        "colab": {
          "base_uri": "https://localhost:8080/"
        },
        "outputId": "63375f2e-0801-4a11-ef5a-1c51bd5bea45"
      },
      "execution_count": null,
      "outputs": [
        {
          "output_type": "stream",
          "name": "stdout",
          "text": [
            "['D', 'B', 'C', 'A']\n"
          ]
        }
      ]
    },
    {
      "cell_type": "code",
      "source": [
        "%%bash\n",
        "\n",
        "# 一時ファイルにコードを書き込む\n",
        "cat <<'EOF' > temp.js\n",
        "\n",
        "let classes = ['A', 'B', 'C', 'D'];\n",
        "let shuffledClasses = classes.sort(() => Math.random() - 0.5);\n",
        "\n",
        "console.log(shuffledClasses);\n",
        "\n",
        "\n",
        "EOF\n",
        "\n",
        "# 一時ファイルを実行する\n",
        "node temp.js"
      ],
      "metadata": {
        "colab": {
          "base_uri": "https://localhost:8080/"
        },
        "id": "mN9Xj9-8FYdO",
        "outputId": "17bda8ca-fbb6-4808-9a24-b00499c48a5f"
      },
      "execution_count": null,
      "outputs": [
        {
          "output_type": "stream",
          "name": "stdout",
          "text": [
            "[ 'B', 'A', 'C', 'D' ]\n"
          ]
        }
      ]
    },
    {
      "cell_type": "markdown",
      "source": [
        "# 第1章補足"
      ],
      "metadata": {
        "id": "vjSOriRvk86P"
      }
    },
    {
      "cell_type": "markdown",
      "source": [
        "## コメント"
      ],
      "metadata": {
        "id": "bKrDk4Xvk_ie"
      }
    },
    {
      "cell_type": "markdown",
      "source": [
        "「//」 記号を利用すると、コメントを入力することができます。"
      ],
      "metadata": {
        "id": "pglHsv_dldTH"
      }
    },
    {
      "cell_type": "code",
      "source": [
        "%%bash\n",
        "\n",
        "# 一時ファイルにコードを書き込む\n",
        "cat <<'EOF' > temp.js\n",
        "\n",
        "// コメント\n",
        "\n",
        "EOF\n",
        "\n",
        "# 一時ファイルを実行する\n",
        "node temp.js"
      ],
      "metadata": {
        "id": "YexmCbrjmeUl"
      },
      "execution_count": null,
      "outputs": []
    },
    {
      "cell_type": "markdown",
      "source": [
        "複数コメントを入力したいときは、範囲を選択して  \n",
        "\"Ctrlキー+「/」キー\" を押すと一気にコメント化できます。"
      ],
      "metadata": {
        "id": "RhUoIRWAni5i"
      }
    },
    {
      "cell_type": "markdown",
      "source": [
        "## 全角スペース\n",
        "全角スペースは空白とはみなされません。"
      ],
      "metadata": {
        "id": "p8ojXS6On9NJ"
      }
    },
    {
      "cell_type": "markdown",
      "source": [
        "## エスケープシーケンス"
      ],
      "metadata": {
        "id": "q2604-uOoi4w"
      }
    },
    {
      "cell_type": "markdown",
      "source": [
        "「\"」や「'」などの特殊な文字列を入力するためには、  \n",
        "**エスケープシーケンス**と呼ばれる特殊な文字列を使う必要があります。"
      ],
      "metadata": {
        "id": "bp-HJUJDqaC9"
      }
    },
    {
      "cell_type": "markdown",
      "source": [
        "以下表のような特殊文字を扱うことができます。\n",
        "\n",
        "|表記|  意味  |\n",
        "| ---- | ---- |\n",
        "|  \\n  |  改行  |\n",
        "|  \\t  |  Tabキー  |\n",
        "|  \\\\\"  |  ダブルクォーテーション  | \n",
        "|  \\\\'  |  シングルクォーテーション  |\n",
        "|  \\\\  |  \\マーク  | \n"
      ],
      "metadata": {
        "id": "9GHKunsLryZZ"
      }
    },
    {
      "cell_type": "code",
      "source": [
        "%%bash\n",
        "\n",
        "# 一時ファイルにコードを書き込む\n",
        "cat <<'EOF' > temp.js\n",
        "\n",
        "console.log(\"\\\"はダブルクォーテーションと読みます\");\n",
        "console.log(\"\\'はシングルクォーテーションと読みます\");\n",
        "console.log(\"\\\\は日本語では円記号ですが、海外ではバックスラッシュと呼びます\");\n",
        "\n",
        "EOF\n",
        "\n",
        "# 一時ファイルを実行する\n",
        "node temp.js"
      ],
      "metadata": {
        "colab": {
          "base_uri": "https://localhost:8080/"
        },
        "id": "6O7BKe6XGQVK",
        "outputId": "c3a12f8d-7d86-472b-8cb3-0b544a4314cf"
      },
      "execution_count": null,
      "outputs": [
        {
          "output_type": "stream",
          "name": "stdout",
          "text": [
            "\"はダブルクォーテーションと読みます\n",
            "'はシングルクォーテーションと読みます\n",
            "\\は日本語では円記号ですが、海外ではバックスラッシュと呼びます\n"
          ]
        }
      ]
    },
    {
      "cell_type": "markdown",
      "source": [
        "## インクリメント・デクリメント演算子\n"
      ],
      "metadata": {
        "id": "-AYJ62BSYYnv"
      }
    },
    {
      "cell_type": "markdown",
      "source": [
        "JavaScriptにはインクリメント・デクリメント演算子があります。"
      ],
      "metadata": {
        "id": "Zr7ZPJRdG_ki"
      }
    },
    {
      "cell_type": "code",
      "source": [
        "%%bash\n",
        "\n",
        "# 一時ファイルにコードを書き込む\n",
        "cat <<'EOF' > temp.js\n",
        "\n",
        "let count = 1;\n",
        "\n",
        "count++; // インクリメント\n",
        "count++; // インクリメント\n",
        "count++; // インクリメント\n",
        "console.log(count); // 4\n",
        "\n",
        "count--; // デクリメント\n",
        "console.log(count); // 3\n",
        "\n",
        "EOF\n",
        "\n",
        "# 一時ファイルを実行する\n",
        "node temp.js"
      ],
      "metadata": {
        "id": "_DRZ1mWqYmH6",
        "colab": {
          "base_uri": "https://localhost:8080/"
        },
        "outputId": "f145bfb5-b400-4f0d-bd7b-c522819ef84b"
      },
      "execution_count": null,
      "outputs": [
        {
          "output_type": "stream",
          "name": "stdout",
          "text": [
            "4\n",
            "3\n"
          ]
        }
      ]
    },
    {
      "cell_type": "markdown",
      "source": [
        "ただし、自己代入演算子を使っても同じ結果を得ることができます。"
      ],
      "metadata": {
        "id": "2kA53WTzHHMq"
      }
    },
    {
      "cell_type": "code",
      "source": [
        "%%bash\n",
        "\n",
        "# 一時ファイルにコードを書き込む\n",
        "cat <<'EOF' > temp.js\n",
        "\n",
        "let count = 1;\n",
        "\n",
        "count += 1; // インクリメント\n",
        "count += 1; // インクリメント\n",
        "count += 1; // インクリメント\n",
        "console.log(count); // 4\n",
        "\n",
        "count -= 1; // デクリメント\n",
        "console.log(count); // 3\n",
        "\n",
        "\n",
        "EOF\n",
        "\n",
        "# 一時ファイルを実行する\n",
        "node temp.js"
      ],
      "metadata": {
        "colab": {
          "base_uri": "https://localhost:8080/"
        },
        "id": "5Ve787uzHIGx",
        "outputId": "5de92459-3ced-430c-ef89-9a48b8601c9e"
      },
      "execution_count": null,
      "outputs": [
        {
          "output_type": "stream",
          "name": "stdout",
          "text": [
            "4\n",
            "3\n"
          ]
        }
      ]
    },
    {
      "cell_type": "markdown",
      "source": [
        "詳しい話は[こちら](https://www.javadrive.jp/javascript/ope/index6.html)のページが参考になります。"
      ],
      "metadata": {
        "id": "Gz-dcUENHQjQ"
      }
    },
    {
      "cell_type": "markdown",
      "source": [
        "## lengthプロパティ"
      ],
      "metadata": {
        "id": "wC8LsK5qHru_"
      }
    },
    {
      "cell_type": "markdown",
      "source": [
        "JavaScriptには、文字列の長さを取得するための **`length`**プロパティ があります。"
      ],
      "metadata": {
        "id": "VAznlcsOHtxt"
      }
    },
    {
      "cell_type": "code",
      "source": [
        "%%bash\n",
        "\n",
        "# 一時ファイルにコードを書き込む\n",
        "cat <<'EOF' > temp.js\n",
        "\n",
        "let count = 1;\n",
        "\n",
        "// \"これは文字です\"を変数sに代入\n",
        "let s = 'これは文字です';\n",
        "\n",
        "// 文字列変数sの長さを出力\n",
        "console.log(s.length);\n",
        "\n",
        "EOF\n",
        "\n",
        "# 一時ファイルを実行する\n",
        "node temp.js"
      ],
      "metadata": {
        "colab": {
          "base_uri": "https://localhost:8080/"
        },
        "id": "u91BzirjHxZH",
        "outputId": "053bd053-6881-4382-ae53-eb37d940d8a6"
      },
      "execution_count": null,
      "outputs": [
        {
          "output_type": "stream",
          "name": "stdout",
          "text": [
            "7\n"
          ]
        }
      ]
    },
    {
      "cell_type": "markdown",
      "source": [
        "## 文字列とインデックス"
      ],
      "metadata": {
        "id": "5LpZy0XaIGJv"
      }
    },
    {
      "cell_type": "markdown",
      "source": [
        "文字列の場合、**添え字**（**インデックス**）を指定することで、特定の文字を取得できます。  \n",
        "添え字は**1ではなく0からスタートします**。 "
      ],
      "metadata": {
        "id": "ykmgw1edIbyq"
      }
    },
    {
      "cell_type": "markdown",
      "source": [
        "以下のコードでは、文字列の1文字目を取得しています。"
      ],
      "metadata": {
        "id": "YqypKpc0Iiqu"
      }
    },
    {
      "cell_type": "code",
      "source": [
        "%%bash\n",
        "\n",
        "# 一時ファイルにコードを書き込む\n",
        "cat <<'EOF' > temp.js\n",
        "\n",
        "// \"b2223456\"を変数numberに代入\n",
        "let number = \"b1998040\";\n",
        "\n",
        "// numberから「b」だけ取得する\n",
        "console.log(number[0]);\n",
        "\n",
        "EOF\n",
        "\n",
        "# 一時ファイルを実行する\n",
        "node temp.js"
      ],
      "metadata": {
        "colab": {
          "base_uri": "https://localhost:8080/"
        },
        "id": "3nCor0skIjzX",
        "outputId": "1b7a1364-dc76-462e-8580-493f3905e40c"
      },
      "execution_count": null,
      "outputs": [
        {
          "output_type": "stream",
          "name": "stdout",
          "text": [
            "b\n"
          ]
        }
      ]
    },
    {
      "cell_type": "markdown",
      "source": [
        "負の数を指定すると、末尾からの順番で指定することもできます。"
      ],
      "metadata": {
        "id": "tGmus5A-IqxL"
      }
    },
    {
      "cell_type": "code",
      "source": [
        "%%bash\n",
        "\n",
        "# 一時ファイルにコードを書き込む\n",
        "cat <<'EOF' > temp.js\n",
        "\n",
        "// \"b2223456\"を変数numberに代入\n",
        "let number = \"b1998040\";\n",
        "\n",
        "// numberから最後の文字「0」を取得する\n",
        "console.log(number[number.length - 1]);\n",
        "\n",
        "EOF\n",
        "\n",
        "# 一時ファイルを実行する\n",
        "node temp.js"
      ],
      "metadata": {
        "colab": {
          "base_uri": "https://localhost:8080/"
        },
        "id": "GdOuIaYSIrg1",
        "outputId": "157259d4-51d2-4674-c992-d56c453c2239"
      },
      "execution_count": null,
      "outputs": [
        {
          "output_type": "stream",
          "name": "stdout",
          "text": [
            "0\n"
          ]
        }
      ]
    },
    {
      "cell_type": "markdown",
      "source": [
        "以下のコードでは、複数の文字をまとめて取得しています。  \n",
        "このとき、**スライス**という構文を用います。"
      ],
      "metadata": {
        "id": "-yrEOt5YJNSj"
      }
    },
    {
      "cell_type": "markdown",
      "source": [
        "※`A`は**開始値**。`A:`と`B`を指定しなかった場合は添え字が`A`以上のすべての要素を参照する  \n",
        "※`B`は**終了値**。`:B`と`A`を指定しなかった場合は添え字が`B`未満のすべての要素を参照する  \n",
        "※`C`は**増減値**。`A:B`と`C`を指定しなかった場合は増減値は「+1」となる  \n",
        "※`:`とだけ指定すると、すべての要素を参照する"
      ],
      "metadata": {
        "id": "iGFfbn3qJOr7"
      }
    },
    {
      "cell_type": "code",
      "source": [
        "%%bash\n",
        "\n",
        "# 一時ファイルにコードを書き込む\n",
        "cat <<'EOF' > temp.js\n",
        "\n",
        "// \"b2223456\"を変数numberに代入\n",
        "let number = \"b1998040\";\n",
        "\n",
        "// numberから「b199」を取得する\n",
        "console.log(number.slice(0, 4));\n",
        "\n",
        "// 以下のように省略可能\n",
        "console.log(number.slice(0, 4));\n",
        "\n",
        "//添字4以降を取得\n",
        "console.log(number.slice(4));\n",
        "\n",
        "EOF\n",
        "\n",
        "# 一時ファイルを実行する\n",
        "node temp.js"
      ],
      "metadata": {
        "colab": {
          "base_uri": "https://localhost:8080/"
        },
        "id": "3OtLPaQeJWGs",
        "outputId": "b4d3b660-5937-4b64-a85e-b4ff52b9b938"
      },
      "execution_count": null,
      "outputs": [
        {
          "output_type": "stream",
          "name": "stdout",
          "text": [
            "b199\n",
            "b199\n",
            "8040\n"
          ]
        }
      ]
    },
    {
      "cell_type": "markdown",
      "source": [
        "増減値を負の数にすると、逆順にして取り出すことができます。"
      ],
      "metadata": {
        "id": "gfxpVG5dJjrd"
      }
    },
    {
      "cell_type": "code",
      "source": [
        "%%bash\n",
        "\n",
        "# 一時ファイルにコードを書き込む\n",
        "cat <<'EOF' > temp.js\n",
        "\n",
        "// \"b2223456\"を変数numberに代入\n",
        "let number = \"b1998040\";\n",
        "\n",
        "// 逆順にして取り出す\n",
        "console.log(number.split(\"\").reverse().join(\"\"));\n",
        "\n",
        "EOF\n",
        "\n",
        "# 一時ファイルを実行する\n",
        "node temp.js"
      ],
      "metadata": {
        "colab": {
          "base_uri": "https://localhost:8080/"
        },
        "id": "7J3cm97pJlKQ",
        "outputId": "f6b8f6df-1422-41b3-ab54-bbf9172a836f"
      },
      "execution_count": null,
      "outputs": [
        {
          "output_type": "stream",
          "name": "stdout",
          "text": [
            "0408991b\n"
          ]
        }
      ]
    }
  ]
}