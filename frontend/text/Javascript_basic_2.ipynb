{
  "nbformat": 4,
  "nbformat_minor": 0,
  "metadata": {
    "colab": {
      "provenance": [],
      "toc_visible": true,
      "authorship_tag": "ABX9TyPfQFKkOd5gDghuV7LAAnqC",
      "include_colab_link": true
    },
    "kernelspec": {
      "name": "python3",
      "display_name": "Python 3"
    },
    "language_info": {
      "name": "python"
    }
  },
  "cells": [
    {
      "cell_type": "markdown",
      "metadata": {
        "id": "view-in-github",
        "colab_type": "text"
      },
      "source": [
        "<a href=\"https://colab.research.google.com/github/kiryu-3/Prmn2023_DS/blob/main/frontend/text/Javascript_basic_2.ipynb\" target=\"_parent\"><img src=\"https://colab.research.google.com/assets/colab-badge.svg\" alt=\"Open In Colab\"/></a>"
      ]
    },
    {
      "cell_type": "markdown",
      "source": [
        "# 第2章"
      ],
      "metadata": {
        "id": "dE7kbqmDCk-Y"
      }
    },
    {
      "cell_type": "code",
      "execution_count": null,
      "metadata": {
        "id": "wSKwNntmCInD"
      },
      "outputs": [],
      "source": [
        "# 最初に実行してください\n",
        "!apt-get install -y nodejs"
      ]
    },
    {
      "cell_type": "markdown",
      "source": [
        "## 制御構文\n"
      ],
      "metadata": {
        "id": "Or5Si4RTCcG7"
      }
    },
    {
      "cell_type": "markdown",
      "source": [
        "文の実行順をコントロールするプログラムの構成を**制御構造**といいます。 \n",
        " \n",
        "  代表的な構造が**順次**（これまで学習してきたもの）・分岐・繰り返し（今回学習）です。  \n",
        "この3つの制御構造を組み合わせることで、どんなに複雑なプログラムでも作成できることが理論上可能です。  \n",
        "これを**構造化定理**といいます。"
      ],
      "metadata": {
        "id": "1KOw3KVSCddt"
      }
    },
    {
      "cell_type": "markdown",
      "source": [
        "## 条件式\n",
        "分岐する条件・繰り返しを続ける条件のことを**条件式**といいます。  \n",
        "分岐や繰り返しを行いたいときに利用されます。  \n",
        "\n"
      ],
      "metadata": {
        "id": "KLyM1lKfCuCx"
      }
    },
    {
      "cell_type": "markdown",
      "source": [
        "### 比較演算子\n",
        "条件式を立てるときは**比較演算子**と呼ばれる演算子を用います。  "
      ],
      "metadata": {
        "id": "JE4TPYLLEvdW"
      }
    },
    {
      "cell_type": "markdown",
      "source": [
        "|比較演算子|使い方|説明|\n",
        "|:---:| :---: | :---: |\n",
        "|==|a == b|aとbが同じである(a=b)|\n",
        "|!=|a != b|aがbではない(a≠b)|\n",
        "|<|a < b|aがbよりも小さい|\n",
        "|>|a > b|aがbよりも大きい|\n",
        "|<=|a <= b|aがb以下である(a≦b)|\n",
        "|>=|a >= b|aがb以上である(a≧b)|"
      ],
      "metadata": {
        "id": "75V6i6p7DbOX"
      }
    },
    {
      "cell_type": "markdown",
      "source": [
        "### Boolean型\n",
        "比較演算子を用いた条件式は、  \n",
        "条件が成立したら **\"true\"** 、しなければ **\"false**\" に置き換わります。\n",
        "\n",
        "\"true\"と\"false\"は**真偽値**といい、データ型は**Boolean型**です。"
      ],
      "metadata": {
        "id": "DNPr7JK_FAjF"
      }
    },
    {
      "cell_type": "markdown",
      "source": [
        "プログラムで確認してみましょう。"
      ],
      "metadata": {
        "id": "rdIJstvYG_LD"
      }
    },
    {
      "cell_type": "code",
      "execution_count": null,
      "metadata": {
        "id": "dXo8dv0e8xnk",
        "colab": {
          "base_uri": "https://localhost:8080/"
        },
        "outputId": "d0463e3f-ce52-48d9-de00-ef7b799e0edf"
      },
      "outputs": [
        {
          "output_type": "stream",
          "name": "stdout",
          "text": [
            "true\n",
            "false\n",
            "false\n",
            "false\n",
            "true\n",
            "true\n",
            "true\n",
            "true\n"
          ]
        }
      ],
      "source": [
        "%%bash\n",
        "\n",
        "# 一時ファイルにコードを書き込む\n",
        "cat <<'EOF' > temp.js\n",
        "\n",
        "console.log(4 == 4); // true\n",
        "console.log(4 != 4); // false\n",
        "\n",
        "console.log(4 < 4); // false\n",
        "console.log(4 > 4); // false\n",
        "console.log(4 <= 4); // true\n",
        "console.log(4 >= 4); // true\n",
        "\n",
        "console.log(4 == 4.0); // JavaScriptが勝手に型を調整するのでtrue\n",
        "console.log(4 == \"4.0\"); // JavaScriptが勝手に型を調整して比較するのでtrue\n",
        "\n",
        "EOF\n",
        "\n",
        "# 一時ファイルを実行する\n",
        "node temp.js"
      ]
    },
    {
      "cell_type": "markdown",
      "source": [
        "### 論理演算子"
      ],
      "metadata": {
        "id": "4fiA2lrXLMI5"
      }
    },
    {
      "cell_type": "markdown",
      "source": [
        "2つ以上の条件を組み合わせて、より複雑な条件式を使いたい場合は、  **論理演算子**を用います。"
      ],
      "metadata": {
        "id": "7JKL6jGHLYqD"
      }
    },
    {
      "cell_type": "markdown",
      "source": [
        "|論理演算子|説明|意味|\n",
        "|:---:| :---: | :---: |\n",
        "|&&|かつ|両方の条件が満たされたらTrue|\n",
        "|\\|\\||または|どちらかの条件が満たされたらTrue|\n",
        "|!|否定|条件が満たされなかったらTrue|"
      ],
      "metadata": {
        "id": "nsSxnV06LZi8"
      }
    },
    {
      "cell_type": "markdown",
      "source": [
        "プログラムで確認してみましょう。"
      ],
      "metadata": {
        "id": "COnXASlZLg4r"
      }
    },
    {
      "cell_type": "code",
      "source": [
        "%%bash\n",
        "\n",
        "# 一時ファイルにコードを書き込む\n",
        "cat <<'EOF' > temp.js\n",
        "\n",
        "const number = Math.floor(Math.random() * 16); // 0～15までの整数をランダムに取得\n",
        "console.log(number);\n",
        "\n",
        "console.log(number >= 0 && number <= 10); // 0以上10以下の値ならTrue\n",
        "console.log(number <= 0 || number >= 10); // 0以下の値か10以上の値ならTrue\n",
        "console.log(!(number == 10)); // numberが10ではなかったらTrue\n",
        "\n",
        "EOF\n",
        "\n",
        "# 一時ファイルを実行する\n",
        "node temp.js"
      ],
      "metadata": {
        "colab": {
          "base_uri": "https://localhost:8080/"
        },
        "id": "ltNg5M5LLm9I",
        "outputId": "98f0263b-028e-4f45-8a5b-2f7a1365be7b"
      },
      "execution_count": null,
      "outputs": [
        {
          "output_type": "stream",
          "name": "stdout",
          "text": [
            "0\n",
            "true\n",
            "true\n",
            "true\n"
          ]
        }
      ]
    },
    {
      "cell_type": "markdown",
      "source": [
        "## if文 "
      ],
      "metadata": {
        "id": "ycX_uNITIMOI"
      }
    },
    {
      "cell_type": "markdown",
      "source": [
        " \n",
        "条件に応じて処理を分岐させるために使用される**if文**は、  \n",
        "ほとんどのプログラミング言語で似たような構文を持っています。\n",
        "\n",
        "if文には、ifブロック、else ifブロック（省略可能）、elseブロックがあります。"
      ],
      "metadata": {
        "id": "3GlsZ3brrDgg"
      }
    },
    {
      "cell_type": "markdown",
      "source": [
        "JavaScriptでは、ブロックの範囲を波括弧（{}）で示します。"
      ],
      "metadata": {
        "id": "BosRKwD7rGbx"
      }
    },
    {
      "cell_type": "markdown",
      "source": [
        "基本形は**if-else構文**です。  \n",
        "条件式が成立したときとしなかったときで、処理を分けることができます。  \n"
      ],
      "metadata": {
        "id": "5xRVimmTK-Hz"
      }
    },
    {
      "cell_type": "markdown",
      "source": [
        "``` javascript\n",
        "if (条件式) {\n",
        "  // 条件式がtrueの場合に実行する文\n",
        "} else {\n",
        "  // 条件式がfalseの場合に実行する文\n",
        "}\n",
        "```"
      ],
      "metadata": {
        "id": "MJYM_6kqIQo_"
      }
    },
    {
      "cell_type": "markdown",
      "source": [
        "条件式が成立しなかった場合に何もしない場合は、elseブロックを省略することができます。  \n",
        "これは**ifのみの構文**となります。"
      ],
      "metadata": {
        "id": "Eu5qc1bDIxkM"
      }
    },
    {
      "cell_type": "markdown",
      "source": [
        "``` javascript\n",
        "if (条件式) {\n",
        "    // 条件式が真の場合に実行する文\n",
        "}\n",
        "```"
      ],
      "metadata": {
        "id": "5p8O34BkJDQN"
      }
    },
    {
      "cell_type": "markdown",
      "source": [
        "条件式が成立しなかった時には別の条件式で判定したい場合は、  \n",
        "ifブロックのあとにelifブロックを追加した**if-else if構文**を使用します。"
      ],
      "metadata": {
        "id": "1fui9sh9JJkl"
      }
    },
    {
      "cell_type": "markdown",
      "source": [
        "``` javascript\n",
        "if (条件式1) {\n",
        "  // 条件式1が真の場合に実行する処理\n",
        "} else if (条件式2) {\n",
        "  // 条件式1が偽で条件式2が真の場合に実行する処理\n",
        "} else {\n",
        "  // 条件式1と条件式2が偽の場合に実行する処理\n",
        "}\n",
        "```"
      ],
      "metadata": {
        "id": "Pr8I9VyIJNh2"
      }
    },
    {
      "cell_type": "markdown",
      "source": [
        "下のコードは、**if-else構文**を用いたプログラムの例です。  "
      ],
      "metadata": {
        "id": "N0BdYxf-q9mg"
      }
    },
    {
      "cell_type": "code",
      "execution_count": null,
      "metadata": {
        "id": "l6OHzcpepsXh",
        "colab": {
          "base_uri": "https://localhost:8080/"
        },
        "outputId": "3fe06bb9-ba42-4e72-8698-10d30ee09b38"
      },
      "outputs": [
        {
          "output_type": "stream",
          "name": "stdout",
          "text": [
            "この科目の合計点は32点です\n",
            "32 は偶数です\n"
          ]
        }
      ],
      "source": [
        "%%bash\n",
        "\n",
        "# 一時ファイルにコードを書き込む\n",
        "cat <<'EOF' > temp.js\n",
        "\n",
        "let number = Math.floor(Math.random() * 101); // 0～100までの整数をランダムに取得\n",
        "console.log(`この科目の合計点は${number}点です`);\n",
        "let result = number % 2;\n",
        "\n",
        "// 偶数奇数判定をするプログラム\n",
        "if (result == 0) {\n",
        "  console.log(`${number} は偶数です`);\n",
        "} else {\n",
        "  console.log(`${number} は奇数です`);\n",
        "}\n",
        "\n",
        "EOF\n",
        "\n",
        "# 一時ファイルを実行する\n",
        "node temp.js"
      ]
    },
    {
      "cell_type": "markdown",
      "source": [
        "下のコードは、**if-elif構文**を用い、  なおかつ論理演算子も用いたプログラムの例です。"
      ],
      "metadata": {
        "id": "NgNx3gtKrd7P"
      }
    },
    {
      "cell_type": "code",
      "source": [
        "%%bash\n",
        "\n",
        "# 一時ファイルにコードを書き込む\n",
        "cat <<'EOF' > temp.js\n",
        "\n",
        "let point = Math.floor(Math.random() * 101); // 0～100までの整数をランダムに取得\n",
        "console.log(`この科目の合計点は${point}点です`);\n",
        "\n",
        "if (point >= 0 && point < 60) { // 0点以上60点未満\n",
        "  console.log(\"成績はEです\");\n",
        "} else if (point >= 60 && point < 70) { // 60点以上70点未満\n",
        "  console.log(\"成績はDです\");\n",
        "} else if (point >= 70 && point < 80) { // 70点以上80点未満\n",
        "  console.log(\"成績はBです\");\n",
        "} else if (point >= 80 && point < 90) { // 80点以上90点未満\n",
        "  console.log(\"成績はAです\");\n",
        "} else if (point >= 90 && point <= 100) { // 90点以上100点以下\n",
        "  console.log(\"成績はSです\");\n",
        "} else { // エラー処理\n",
        "  console.log(\"点数を正しく入力してください\");\n",
        "}\n",
        "\n",
        "EOF\n",
        "\n",
        "# 一時ファイルを実行する\n",
        "node temp.js"
      ],
      "metadata": {
        "id": "vb2Dg-nBrfxW",
        "colab": {
          "base_uri": "https://localhost:8080/"
        },
        "outputId": "291fc06a-e5c8-4d64-ace1-c783261d78b1"
      },
      "execution_count": null,
      "outputs": [
        {
          "output_type": "stream",
          "name": "stdout",
          "text": [
            "この科目の合計点は72点です\n",
            "成績はBです\n"
          ]
        }
      ]
    },
    {
      "cell_type": "markdown",
      "source": [
        "## switch文"
      ],
      "metadata": {
        "id": "Tp0W1DXwLJPq"
      }
    },
    {
      "cell_type": "markdown",
      "source": [
        "JavaScriptには**switch文**があります。  \n",
        "switch文は、複数の条件に対して処理を分岐させる場合に使用されます。\n",
        "\n",
        "以下は、switch文の基本的な書き方です。"
      ],
      "metadata": {
        "id": "m0Ig4mvkLLUq"
      }
    },
    {
      "cell_type": "markdown",
      "source": [
        "``` javascript\n",
        "switch (式) {\n",
        "  case 値1:\n",
        "    // 値1に該当する処理\n",
        "    break;\n",
        "  case 値2:\n",
        "    // 値2に該当する処理\n",
        "    break;\n",
        "  case 値3:\n",
        "    // 値3に該当する処理\n",
        "    break;\n",
        "  default:\n",
        "    // 上記のいずれにも該当しない場合の処理\n",
        "    break;\n",
        "}\n",
        "```"
      ],
      "metadata": {
        "id": "kUcOIM0pLQGx"
      }
    },
    {
      "cell_type": "markdown",
      "source": [
        "switch文は、式の評価結果によって、値1、値2、値3のいずれかに該当する場合に、その処理を実行します。  \n",
        "該当する値がない場合は、**default**の処理を実行します。\n",
        "\n",
        "また、**break**文がない場合は、該当する処理の実行後に次の処理も実行されます。  \n",
        "（この後詳しく解説します）"
      ],
      "metadata": {
        "id": "VlTkv44ELWep"
      }
    },
    {
      "cell_type": "markdown",
      "source": [
        "## whileループ  \n",
        "回数の決まっていない繰り返しには、**whileループ**を使用することが多いです。  "
      ],
      "metadata": {
        "id": "uPh83N0quKp7"
      }
    },
    {
      "cell_type": "markdown",
      "source": [
        "``` javascript\n",
        "while (条件式) {\n",
        "  繰り返す処理\n",
        "}\n",
        "```"
      ],
      "metadata": {
        "id": "YGn3ITx8ZwXB"
      }
    },
    {
      "cell_type": "markdown",
      "source": [
        "処理を実行する前に条件式を評価します。  \n",
        "評価結果が**true**である間は、処理が繰り返し実行されます。"
      ],
      "metadata": {
        "id": "HLGxSYzeuNIB"
      }
    },
    {
      "cell_type": "markdown",
      "source": [
        " 下のコードは、第1回目～第3回目まで出力するプログラムの例です。  "
      ],
      "metadata": {
        "id": "0_3_jBcxtCCy"
      }
    },
    {
      "cell_type": "code",
      "source": [
        "%%bash\n",
        "\n",
        "# 一時ファイルにコードを書き込む\n",
        "cat <<'EOF' > temp.js\n",
        "\n",
        "let i = 0;\n",
        "while (i < 3) {\n",
        "  console.log(`${i+1}回目です`);\n",
        "  i++;\n",
        "}\n",
        "console.log(\"終了しました\");\n",
        "\n",
        "EOF\n",
        "\n",
        "# 一時ファイルを実行する\n",
        "node temp.js"
      ],
      "metadata": {
        "id": "uoPgyPOqtDop",
        "colab": {
          "base_uri": "https://localhost:8080/"
        },
        "outputId": "427322d5-9132-4df7-ef44-8d6200144dd0"
      },
      "execution_count": null,
      "outputs": [
        {
          "output_type": "stream",
          "name": "stdout",
          "text": [
            "1回目です\n",
            "2回目です\n",
            "3回目です\n",
            "終了しました\n"
          ]
        }
      ]
    },
    {
      "cell_type": "markdown",
      "source": [
        "変数`i`のように、繰り返すたびにその値が変化し、繰り返しの条件となる変数のことを  \n",
        "**カウンタ変数**または**ループ変数**（**ループカウンタ**）といいます。  "
      ],
      "metadata": {
        "id": "5zqVCu34tGYB"
      }
    },
    {
      "cell_type": "markdown",
      "source": [
        "変数`i`の値をwhileブロックの中で更新し忘れると、繰り返しが終了しません。  \n",
        "このようないつまでも続く繰り返しのことを**無限ループ**と呼びます。\n",
        "\n",
        "あえて無限ループを作るときは以下のようにしましょう。  \n"
      ],
      "metadata": {
        "id": "T8FU7bdcy_GH"
      }
    },
    {
      "cell_type": "markdown",
      "source": [
        "``` javascript\n",
        "while (true) {\n",
        "  // 無限ループの処理\n",
        "}\n",
        "```"
      ],
      "metadata": {
        "id": "huacGszkNBpV"
      }
    },
    {
      "cell_type": "markdown",
      "source": [
        "## forループ   \n",
        "コンピュータは、同じことを何回も繰り返すことができます。    \n",
        "回数の決まっている繰り返しには、**forループ**を使用することが多いです。  "
      ],
      "metadata": {
        "id": "R_pjBj0G3-wO"
      }
    },
    {
      "cell_type": "markdown",
      "source": [
        "``` javascript\n",
        "for (初期化処理; 繰り返し条件 ; 繰り返し時処理) {\n",
        "  繰り返す処理;\n",
        "}\n",
        "```"
      ],
      "metadata": {
        "id": "DN_7h0n6tOQR"
      }
    },
    {
      "cell_type": "markdown",
      "source": [
        "#### 初期化処理\n",
        "\n",
        "\n"
      ],
      "metadata": {
        "id": "hdkxNtta4AVm"
      }
    },
    {
      "cell_type": "markdown",
      "source": [
        "for文による繰り返しを始める前に、最初に一回だけ実行される文です。  \n",
        "通常、何回目のループなのかを記録する変数の宣言や初期化を行います。\n",
        "\n",
        "このような変数を**ループ変数**といいます。  \n",
        "ループ変数は1文字の変数名（特に「**i**」）にすることが多いです。  \n",
        "for文内での計算や表示などの処理に用いることができます。"
      ],
      "metadata": {
        "id": "JD8mXtX3QEGC"
      }
    },
    {
      "cell_type": "markdown",
      "source": [
        "#### 繰り返し条件\n",
        "\n"
      ],
      "metadata": {
        "id": "PfYRVvUNQBjJ"
      }
    },
    {
      "cell_type": "markdown",
      "source": [
        "ループを継続するかしないかを判定する条件式です。  \n",
        "評価結果が真である間は、処理が繰り返し実行されます。\n"
      ],
      "metadata": {
        "id": "N0J-GSz2QFq4"
      }
    },
    {
      "cell_type": "markdown",
      "source": [
        "#### 繰り返し時処理\n"
      ],
      "metadata": {
        "id": "RQ6gvtHlQCRI"
      }
    },
    {
      "cell_type": "markdown",
      "source": [
        "ループの本体で実行される文です。  \n",
        "通常は、ループ変数の値を更新する文を書きます。"
      ],
      "metadata": {
        "id": "Tk48xwEJQGyo"
      }
    },
    {
      "cell_type": "markdown",
      "source": [
        "### プログラム例"
      ],
      "metadata": {
        "id": "1Im1Z-f1Q1uX"
      }
    },
    {
      "cell_type": "markdown",
      "source": [
        "下のコードは、第0回目～第3回目まで出力するプログラムの例です。"
      ],
      "metadata": {
        "id": "A3oV8GDXtWgp"
      }
    },
    {
      "cell_type": "code",
      "source": [
        "%%bash\n",
        "\n",
        "# 一時ファイルにコードを書き込む\n",
        "cat <<'EOF' > temp.js\n",
        "\n",
        "for (let i = 0; i < 4; i++) {\n",
        "  console.log(`${i}回目です`);\n",
        "}\n",
        "console.log(\"終了しました\");\n",
        "\n",
        "EOF\n",
        "\n",
        "# 一時ファイルを実行する\n",
        "node temp.js"
      ],
      "metadata": {
        "id": "U0zf4wdetYBR",
        "colab": {
          "base_uri": "https://localhost:8080/"
        },
        "outputId": "af944b4e-9f66-40fa-c322-a67af2a0ad67"
      },
      "execution_count": null,
      "outputs": [
        {
          "output_type": "stream",
          "name": "stdout",
          "text": [
            "0回目です\n",
            "1回目です\n",
            "2回目です\n",
            "3回目です\n",
            "終了しました\n"
          ]
        }
      ]
    },
    {
      "cell_type": "markdown",
      "source": [
        "開始値と増減値は省略しています。  \n",
        "**(終了値-1)**回までの反復処理が行われることが確認できました。  "
      ],
      "metadata": {
        "id": "Ql_aQzDbtZ-o"
      }
    },
    {
      "cell_type": "markdown",
      "source": [
        "下のコードは、第1回目～第3回目まで出力するプログラムの例です。"
      ],
      "metadata": {
        "id": "78uHmhD5tbbS"
      }
    },
    {
      "cell_type": "code",
      "source": [
        "%%bash\n",
        "\n",
        "# 一時ファイルにコードを書き込む\n",
        "cat <<'EOF' > temp.js\n",
        "\n",
        "for(let i = 1; i < 6; i += 2) {\n",
        "  console.log(`${i}回目です`);\n",
        "}\n",
        "console.log(\"終了しました\");\n",
        "\n",
        "EOF\n",
        "\n",
        "# 一時ファイルを実行する\n",
        "node temp.js"
      ],
      "metadata": {
        "id": "pjmUQSe3tdZZ",
        "colab": {
          "base_uri": "https://localhost:8080/"
        },
        "outputId": "83606e2e-8df5-4f7a-9c07-6b72479715ad"
      },
      "execution_count": null,
      "outputs": [
        {
          "output_type": "stream",
          "name": "stdout",
          "text": [
            "1回目です\n",
            "3回目です\n",
            "5回目です\n",
            "終了しました\n"
          ]
        }
      ]
    },
    {
      "cell_type": "markdown",
      "source": [
        "1からスタートすることができました。   "
      ],
      "metadata": {
        "id": "FfRIRfPetelx"
      }
    },
    {
      "cell_type": "markdown",
      "source": [
        "下のコードは、第1回目～第5回目までの内奇数回を出力するプログラムの例です。"
      ],
      "metadata": {
        "id": "4isDEshutgxQ"
      }
    },
    {
      "cell_type": "code",
      "source": [
        "%%bash\n",
        "\n",
        "# 一時ファイルにコードを書き込む\n",
        "cat <<'EOF' > temp.js\n",
        "\n",
        "for (let i = 1; i < 6; i += 2) {\n",
        "  console.log(`${i}回目です`);\n",
        "}\n",
        "console.log(\"終了しました\");\n",
        "\n",
        "EOF\n",
        "\n",
        "# 一時ファイルを実行する\n",
        "node temp.js"
      ],
      "metadata": {
        "id": "6qLYuXpHtiZY",
        "colab": {
          "base_uri": "https://localhost:8080/"
        },
        "outputId": "1491f4b1-36c9-4bc2-f8fb-a6a414ecbc8f"
      },
      "execution_count": null,
      "outputs": [
        {
          "output_type": "stream",
          "name": "stdout",
          "text": [
            "1回目です\n",
            "3回目です\n",
            "5回目です\n",
            "終了しました\n"
          ]
        }
      ]
    },
    {
      "cell_type": "markdown",
      "source": [
        "for文を使って九九を表示してみましょう。"
      ],
      "metadata": {
        "id": "YeGX0-kk7XG9"
      }
    },
    {
      "cell_type": "code",
      "source": [
        "%%bash\n",
        "\n",
        "# 一時ファイルにコードを書き込む\n",
        "cat <<'EOF' > temp.js\n",
        "\n",
        "// 縦方向のループ用\n",
        "for (let num1 = 1; num1 < 10; num1++) {\n",
        "  // 横方向のループ用\n",
        "  for (let num2 = 1; num2 < 10; num2++) {\n",
        "    // 改行なしで2ケタ表示\n",
        "    process.stdout.write(`${num1 * num2 < 10 ? \" \" : \"\"}${num1 * num2} `);\n",
        "  }\n",
        "  // 1行分が終わったので改行を実施\n",
        "  console.log()\n",
        "}\n",
        "\n",
        "EOF\n",
        "\n",
        "# 一時ファイルを実行する\n",
        "node temp.js"
      ],
      "metadata": {
        "colab": {
          "base_uri": "https://localhost:8080/"
        },
        "id": "-ZDDEPZI7lL1",
        "outputId": "dcf1672d-f2be-4817-bbc2-d74e932dc86b"
      },
      "execution_count": null,
      "outputs": [
        {
          "output_type": "stream",
          "name": "stdout",
          "text": [
            " 1  2  3  4  5  6  7  8  9 \n",
            " 2  4  6  8 10 12 14 16 18 \n",
            " 3  6  9 12 15 18 21 24 27 \n",
            " 4  8 12 16 20 24 28 32 36 \n",
            " 5 10 15 20 25 30 35 40 45 \n",
            " 6 12 18 24 30 36 42 48 54 \n",
            " 7 14 21 28 35 42 49 56 63 \n",
            " 8 16 24 32 40 48 56 64 72 \n",
            " 9 18 27 36 45 54 63 72 81 \n"
          ]
        }
      ]
    },
    {
      "cell_type": "markdown",
      "source": [
        "## 繰り返しの中断\n",
        "処理によっては、繰り返しを最後まで行わずに途中で中断したいことがあります。  \n"
      ],
      "metadata": {
        "id": "Y9-kpM3Ytlc5"
      }
    },
    {
      "cell_type": "markdown",
      "source": [
        "**break文**はループそのものを中断し、ループの次に記述された処理へと進みます。 \n",
        "\n",
        "以下のコードで確認しましょう。"
      ],
      "metadata": {
        "id": "nweDhy7a8Smf"
      }
    },
    {
      "cell_type": "code",
      "source": [
        "%%bash\n",
        "\n",
        "# 一時ファイルにコードを書き込む\n",
        "cat <<'EOF' > temp.js\n",
        "\n",
        "let i = 0;\n",
        "\n",
        "while (true) {\n",
        "  console.log(`${i+1}回目です`);\n",
        "  i++;\n",
        "\n",
        "  if (i == 3) {\n",
        "    break;\n",
        "  }\n",
        "}\n",
        "\n",
        "console.log(\"終了しました\");\n",
        "\n",
        "EOF\n",
        "\n",
        "# 一時ファイルを実行する\n",
        "node temp.js"
      ],
      "metadata": {
        "colab": {
          "base_uri": "https://localhost:8080/"
        },
        "id": "DcdpYDiyS137",
        "outputId": "ceacd47b-c5cf-4610-a7f4-29efa624369d"
      },
      "execution_count": null,
      "outputs": [
        {
          "output_type": "stream",
          "name": "stdout",
          "text": [
            "1回目です\n",
            "2回目です\n",
            "3回目です\n",
            "終了しました\n"
          ]
        }
      ]
    },
    {
      "cell_type": "markdown",
      "source": [
        "一方の**continue文**は、ループの現在の回だけを中断してループの先頭へ戻り、次の回のループを継続します。  \n",
        "\n",
        "**※多重ループの場合、break文、continue文は現在のループに対してのみ有効です。**"
      ],
      "metadata": {
        "id": "vKUWscKRTXRi"
      }
    },
    {
      "cell_type": "code",
      "source": [
        "%%bash\n",
        "\n",
        "# 一時ファイルにコードを書き込む\n",
        "cat <<'EOF' > temp.js\n",
        "\n",
        "for (let i = 1; i <= 5; i++) {\n",
        "  if (i % 2 === 0) {  // 変数iが偶数のときループをスキップ\n",
        "    continue;\n",
        "  }\n",
        "  \n",
        "  console.log(`第${i}回目`);\n",
        "}\n",
        "\n",
        "console.log(\"終了しました\");\n",
        "\n",
        "EOF\n",
        "\n",
        "# 一時ファイルを実行する\n",
        "node temp.js"
      ],
      "metadata": {
        "colab": {
          "base_uri": "https://localhost:8080/"
        },
        "id": "--aNOWN5TejK",
        "outputId": "3670f5ed-dabe-4ea5-c482-923397b46e30"
      },
      "execution_count": null,
      "outputs": [
        {
          "output_type": "stream",
          "name": "stdout",
          "text": [
            "第1回目\n",
            "第3回目\n",
            "第5回目\n",
            "終了しました\n"
          ]
        }
      ]
    },
    {
      "cell_type": "markdown",
      "source": [
        "下のコードは、break文とcontinue文と無限ループを用いて、  \n",
        "成績処理を3回だけ行うプログラムの例です。"
      ],
      "metadata": {
        "id": "mXfJg3Dstq64"
      }
    },
    {
      "cell_type": "code",
      "source": [
        "%%bash\n",
        "\n",
        "# 一時ファイルにコードを書き込む\n",
        "cat <<'EOF' > temp.js\n",
        "\n",
        "let count = 1; // 成績処理回数\n",
        "\n",
        "while (true) {\n",
        "  let point = Math.floor(Math.random() * (111 - (-10) + 1) + (-10)); // -10～110までの整数をランダムに取得\n",
        "  console.log(`${count}回目`);\n",
        "  console.log(`この科目の合計点は${point}点です`);\n",
        "\n",
        "  if (point >= 0 && point < 60) { // 0点以上60点未満\n",
        "    console.log(\"成績はEです\\n\");\n",
        "  } else if (point >= 60 && point < 70) { // 60点以上70点未満\n",
        "    console.log(\"成績はDです\\n\");\n",
        "  } else if (point >= 70 && point < 80) { // 70点以上80点未満\n",
        "    console.log(\"成績はBです\\n\");\n",
        "  } else if (point >= 80 && point < 90) { // 80点以上90点未満\n",
        "    console.log(\"成績はAです\\n\");\n",
        "  } else if (point >= 90 && point <= 100) { // 90点以上100点以下\n",
        "    console.log(\"成績はSです\\n\");\n",
        "  } else { // エラー処理\n",
        "    console.log(\"点数を正しく入力してください\\n\");\n",
        "    continue; // 成績処理をしてないものとしてループの先頭へ\n",
        "  }\n",
        "\n",
        "  count += 1;\n",
        "  if (count == 4) { // 3回の成績処理を終えたらループから抜ける\n",
        "    break;\n",
        "  }\n",
        "}\n",
        "\n",
        "console.log(\"終了しました\");\n",
        "\n",
        "EOF\n",
        "\n",
        "# 一時ファイルを実行する\n",
        "node temp.js"
      ],
      "metadata": {
        "colab": {
          "base_uri": "https://localhost:8080/"
        },
        "id": "tbxqDzWETxwq",
        "outputId": "17d7c573-da41-438e-a124-1b3c0bcb680e"
      },
      "execution_count": null,
      "outputs": [
        {
          "output_type": "stream",
          "name": "stdout",
          "text": [
            "1回目\n",
            "この科目の合計点は104点です\n",
            "点数を正しく入力してください\n",
            "\n",
            "1回目\n",
            "この科目の合計点は40点です\n",
            "成績はEです\n",
            "\n",
            "2回目\n",
            "この科目の合計点は95点です\n",
            "成績はSです\n",
            "\n",
            "3回目\n",
            "この科目の合計点は68点です\n",
            "成績はDです\n",
            "\n",
            "終了しました\n"
          ]
        }
      ]
    },
    {
      "cell_type": "markdown",
      "source": [
        "## for文による参照"
      ],
      "metadata": {
        "id": "NVh_7UCPU4rI"
      }
    },
    {
      "cell_type": "markdown",
      "source": [
        "\n",
        "文字列や配列（次回学習）などのデータの集まりは、  \n",
        "forループを使って簡単に参照することができます。\n",
        "\n"
      ],
      "metadata": {
        "id": "HWMwlzBZtwC3"
      }
    },
    {
      "cell_type": "markdown",
      "source": [
        "以下のコードは、文字列\"b2223456\" を順に1文字ずつ変数numberに格納し、  \n",
        "1文字ずつ出力するプログラムです。"
      ],
      "metadata": {
        "id": "c0aq8yGFtzkP"
      }
    },
    {
      "cell_type": "code",
      "source": [
        "%%bash\n",
        "\n",
        "# 一時ファイルにコードを書き込む\n",
        "cat <<'EOF' > temp.js\n",
        "\n",
        "// numberという変数に、\"b1990040\"という文字列を入れる\n",
        "let number = \"b1990040\";\n",
        "\n",
        "// for文で文字列を1文字ずつ出力する\n",
        "for(let i=0; i<number.length; i++){\n",
        "console.log(number[i]);\n",
        "}\n",
        "\n",
        "EOF\n",
        "\n",
        "# 一時ファイルを実行する\n",
        "node temp.js"
      ],
      "metadata": {
        "id": "QHZxEleQt1Fu",
        "colab": {
          "base_uri": "https://localhost:8080/"
        },
        "outputId": "b32e60c8-9bfc-4ec6-e4e9-d19be9101493"
      },
      "execution_count": null,
      "outputs": [
        {
          "output_type": "stream",
          "name": "stdout",
          "text": [
            "b\n",
            "1\n",
            "9\n",
            "9\n",
            "0\n",
            "0\n",
            "4\n",
            "0\n"
          ]
        }
      ]
    },
    {
      "cell_type": "markdown",
      "source": [
        "今後「配列」などを学習した際に活躍します。"
      ],
      "metadata": {
        "id": "oYkBmV1YPMpZ"
      }
    },
    {
      "cell_type": "markdown",
      "source": [
        "# 第2章補足\n"
      ],
      "metadata": {
        "id": "H4ORa_hfPRMR"
      }
    },
    {
      "cell_type": "markdown",
      "source": [
        "## 文字列同士の比較"
      ],
      "metadata": {
        "id": "7vDt9h9vWUSV"
      }
    },
    {
      "cell_type": "markdown",
      "source": [
        "Javascriptにおける数字と文字列の比較では、少しだけ違いがあります。  \n",
        "C言語よりは大分簡単に扱うことができます。  "
      ],
      "metadata": {
        "id": "dmsyJ5-MWR4w"
      }
    },
    {
      "cell_type": "markdown",
      "source": [
        "|比較演算子|使い方|説明|\n",
        "|:---:| :---: | :---: |\n",
        "|==|a==b|aとbが同じである(a=b)|\n",
        "|!=|a!=b|aがbではない(a≠b)|\n",
        "|<|a<b|aがbより辞書的に前|\n",
        "|>|a>b|aがbより辞書的に後|\n",
        "|<=|a<=b|aがbより辞書的に前または同じ|\n",
        "|>=|a>=b|aがbより辞書的に後または同じ|"
      ],
      "metadata": {
        "id": "u9o6t1FtWUeF"
      }
    },
    {
      "cell_type": "code",
      "source": [
        "%%bash\n",
        "\n",
        "# 一時ファイルにコードを書き込む\n",
        "cat <<'EOF' > temp.js\n",
        "\n",
        "let name1 = \"Chitose\";\n",
        "let name2 = \"Hokudai\";\n",
        "\n",
        "console.log(name1 == name2); // \"Chitose\"と\"Hokudai\"は同じではないのでfalse\n",
        "console.log(name1 != name2); // \"Chitose\"と\"Hokudai\"は同じではないのでtrue\n",
        "\n",
        "console.log(name1 < name2); // \"Chitose\"は\"Hokudai\"より辞書的に前なのでtrue\n",
        "console.log(name1 > name2); // \"Chitose\"は\"Hokudai\"より辞書的に後ではないなのでfalse\n",
        "console.log(name1 <= name2); // \"Chitose\"は\"Hokudai\"より辞書的に前なのでtrue\n",
        "console.log(name1 >= name2); // \"Chitose\"は\"Hokudai\"より辞書的に後ではないなのでfalse\n",
        "\n",
        "EOF\n",
        "\n",
        "# 一時ファイルを実行する\n",
        "node temp.js"
      ],
      "metadata": {
        "colab": {
          "base_uri": "https://localhost:8080/"
        },
        "id": "xGtwaGKzWo7E",
        "outputId": "d4e454a0-10f1-4f50-ed64-db41ff7423f8"
      },
      "execution_count": null,
      "outputs": [
        {
          "output_type": "stream",
          "name": "stdout",
          "text": [
            "false\n",
            "true\n",
            "true\n",
            "false\n",
            "true\n",
            "false\n"
          ]
        }
      ]
    },
    {
      "cell_type": "markdown",
      "source": [
        "## .includes()\n"
      ],
      "metadata": {
        "id": "gafoFgwjYaAz"
      }
    },
    {
      "cell_type": "markdown",
      "source": [
        "JavaScriptには、文字列や配列に特定の要素が含まれるかどうかを判定するための  \n",
        "**`.includes()`**メソッドが用意されています。\n",
        "\n",
        "`.includes()`メソッドは、引数に指定した要素が  \n",
        "対象の文字列や配列に含まれる場合に true を、含まれていない場合には false を返します。"
      ],
      "metadata": {
        "id": "MAqHXo7-Xf_r"
      }
    },
    {
      "cell_type": "markdown",
      "source": [
        "|使い方|説明|\n",
        "| :---: | :---: |\n",
        "|b.includes(a)|aはbに含まれる|\n",
        "|!b.includes(a)|aがbに含まれていない|"
      ],
      "metadata": {
        "id": "QcRJsKmSYh2y"
      }
    },
    {
      "cell_type": "code",
      "source": [
        "%%bash\n",
        "\n",
        "# 一時ファイルにコードを書き込む\n",
        "cat <<'EOF' > temp.js\n",
        "\n",
        "let a = \"b1990040\";\n",
        "let b = \"b199\";\n",
        "\n",
        "console.log(a.includes(b)); // \"b199\"が\"b1990040\"に含まれるのでtrue\n",
        "console.log(!a.includes(b)); // \"b199\"が\"b199040\"に含まれるのでfalse\n",
        "\n",
        "EOF\n",
        "\n",
        "# 一時ファイルを実行する\n",
        "node temp.js"
      ],
      "metadata": {
        "colab": {
          "base_uri": "https://localhost:8080/"
        },
        "id": "weMQnOBjYlm2",
        "outputId": "d430c54f-5a4c-4169-9f08-bd0c2e0a5ad5"
      },
      "execution_count": null,
      "outputs": [
        {
          "output_type": "stream",
          "name": "stdout",
          "text": [
            "true\n",
            "false\n"
          ]
        }
      ]
    },
    {
      "cell_type": "markdown",
      "source": [
        "## 三項演算子"
      ],
      "metadata": {
        "id": "A6OBiDb9ZNxI"
      }
    },
    {
      "cell_type": "markdown",
      "source": [
        "\n",
        "JavaScriptにおける**三項演算子**は、条件式を評価して真偽値を返し、  \n",
        "真であれば第1引数を、偽であれば第2引数を返す演算子です。"
      ],
      "metadata": {
        "id": "n1WcOe1ya8nO"
      }
    },
    {
      "cell_type": "markdown",
      "source": [
        "一般的な書き方は以下の通りです。"
      ],
      "metadata": {
        "id": "nT22Yah2ZUox"
      }
    },
    {
      "cell_type": "markdown",
      "source": [
        "``` javascript\n",
        "// 一般的なfor文\n",
        "if (条件式) {\n",
        "  // 条件式がtrueの場合に実行する文\n",
        "} else {\n",
        "  // 条件式がfalseの場合に実行する文\n",
        "}\n",
        "```"
      ],
      "metadata": {
        "id": "Ni5Im0fLa0ll"
      }
    },
    {
      "cell_type": "markdown",
      "source": [
        "``` javascript\n",
        "// 三項演算子\n",
        "条件式 ? 式1 : 式2\n",
        "\n",
        "```"
      ],
      "metadata": {
        "id": "CHSRSW8pa4JW"
      }
    },
    {
      "cell_type": "markdown",
      "source": [
        "さきほどの関数のif文の箇所を1行で記述しましょう。"
      ],
      "metadata": {
        "id": "XikfLX34bHN9"
      }
    },
    {
      "cell_type": "code",
      "source": [
        "%%bash\n",
        "\n",
        "# 一時ファイルにコードを書き込む\n",
        "cat <<'EOF' > temp.js\n",
        "\n",
        "const number = Math.floor(Math.random() * 101); // 0~100の整数をランダムに取得\n",
        "console.log(`この科目の合計点は${number}点です`);\n",
        "const result = number % 2;\n",
        "\n",
        "// 偶数奇数判定をするプログラム\n",
        "result == 0 ? console.log(`${number} は偶数です`) : console.log(`${number} は奇数です`);\n",
        "\n",
        "EOF\n",
        "\n",
        "# 一時ファイルを実行する\n",
        "node temp.js"
      ],
      "metadata": {
        "colab": {
          "base_uri": "https://localhost:8080/"
        },
        "id": "LAiS53VTbYf1",
        "outputId": "fe054d6f-4f96-4053-ea87-340af8522f01"
      },
      "execution_count": null,
      "outputs": [
        {
          "output_type": "stream",
          "name": "stdout",
          "text": [
            "この科目の合計点は94点です\n",
            "94 は偶数です\n"
          ]
        }
      ]
    },
    {
      "cell_type": "markdown",
      "source": [
        "三項演算子はif文を簡潔に書くために使われることが多いです。  \n",
        "結構癖が強めです。"
      ],
      "metadata": {
        "id": "_dr6L3tbbkxX"
      }
    },
    {
      "cell_type": "markdown",
      "source": [
        "## null"
      ],
      "metadata": {
        "id": "4oNEELYhlgV4"
      }
    },
    {
      "cell_type": "markdown",
      "source": [
        "何も存在しないことを表すオブジェクトは、Pythonでは \"None\" と呼ばれますが、  \n",
        "JavaScriptには対応するものがあります。\n",
        "\n",
        "それは、 \"**null**\" という特別な値です。"
      ],
      "metadata": {
        "id": "kQ1EX0zSljNn"
      }
    },
    {
      "cell_type": "markdown",
      "source": [
        "JavaScriptでは、\"**undefined**\" という値も存在しますが、  \n",
        "PythonのNoneとは少し異なります。  \n",
        "\n",
        "undefinedは、値が設定されていないことを表し、  \n",
        "nullは、存在しないことを明示的に表します。"
      ],
      "metadata": {
        "id": "HYC0PXGqloRv"
      }
    },
    {
      "cell_type": "markdown",
      "source": [
        "例えば、変数が何らかの値を持たない場合や、オブジェクトのプロパティが存在しない場合に、    \n",
        "nullを使用することができます。"
      ],
      "metadata": {
        "id": "dut9Hsh4lw3A"
      }
    }
  ]
}