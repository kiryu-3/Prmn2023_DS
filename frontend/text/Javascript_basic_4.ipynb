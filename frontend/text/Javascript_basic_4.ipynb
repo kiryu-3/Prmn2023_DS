{
  "nbformat": 4,
  "nbformat_minor": 0,
  "metadata": {
    "colab": {
      "provenance": [],
      "toc_visible": true,
      "authorship_tag": "ABX9TyM1gsCCnGR1hwVB06/SDziN",
      "include_colab_link": true
    },
    "kernelspec": {
      "name": "python3",
      "display_name": "Python 3"
    },
    "language_info": {
      "name": "python"
    }
  },
  "cells": [
    {
      "cell_type": "markdown",
      "metadata": {
        "id": "view-in-github",
        "colab_type": "text"
      },
      "source": [
        "<a href=\"https://colab.research.google.com/github/kiryu-3/Prmn2023_DS/blob/main/frontend/text/Javascript_basic_4.ipynb\" target=\"_parent\"><img src=\"https://colab.research.google.com/assets/colab-badge.svg\" alt=\"Open In Colab\"/></a>"
      ]
    },
    {
      "cell_type": "markdown",
      "source": [
        "# 第4章"
      ],
      "metadata": {
        "id": "3zLlVA7fBCwX"
      }
    },
    {
      "cell_type": "code",
      "execution_count": null,
      "metadata": {
        "id": "2oOTkRPy-3uD"
      },
      "outputs": [],
      "source": [
        "# 最初に実行してください\n",
        "!apt-get install -y nodejs"
      ]
    },
    {
      "cell_type": "markdown",
      "source": [
        "## 関数\n",
        "様々な処理が機能として１つにまとまっているものを**関数**といいます。"
      ],
      "metadata": {
        "id": "CwrmDlZFP5Az"
      }
    },
    {
      "cell_type": "markdown",
      "source": [
        "### 組み込み関数\n"
      ],
      "metadata": {
        "id": "8t_jsanGSory"
      }
    },
    {
      "cell_type": "markdown",
      "source": [
        "Javascriptで最初から準備されている関数のことを、**組み込み関数**といいます。\n",
        "\n",
        "組み込み関数には、以下のようなものがあります。"
      ],
      "metadata": {
        "id": "BkLn5hpY2aQ7"
      }
    },
    {
      "cell_type": "markdown",
      "source": [
        "#### 文字列関数"
      ],
      "metadata": {
        "id": "zbg4SGrj29Ma"
      }
    },
    {
      "cell_type": "markdown",
      "source": [
        "文字列に関する処理を行うための関数です。\n",
        "\n",
        "``` javascript\n",
        "length: 文字列の長さを取得する関数です。\n",
        "indexOf: 指定した文字列が最初に現れる位置を取得する関数です。\n",
        "substring: 指定した範囲の文字列を取得する関数です。\n",
        "replace: 指定した文字列を別の文字列に置換する関数です。\n",
        "toUpperCase: 文字列を大文字に変換する関数です。\n",
        "toLowerCase: 文字列を小文字に変換する関数です。\n",
        "```"
      ],
      "metadata": {
        "id": "Lw8Lcu1e2_Iy"
      }
    },
    {
      "cell_type": "markdown",
      "source": [
        "#### 配列関数"
      ],
      "metadata": {
        "id": "_pVPjozO3c0q"
      }
    },
    {
      "cell_type": "markdown",
      "source": [
        "配列に関する処理を行うための関数です。  \n",
        "\n",
        "``` javascript\n",
        "push: 配列の末尾に要素を追加する関数です。\n",
        "pop: 配列の末尾の要素を削除し、その要素を取得する関数です。\n",
        "shift: 配列の先頭の要素を削除し、その要素を取得する関数です。\n",
        "unshift: 配列の先頭に要素を追加する関数です。\n",
        "slice: 配列の一部を取り出して新しい配列を作成する関数です。"
      ],
      "metadata": {
        "id": "01HQlLYX3c0r"
      }
    },
    {
      "cell_type": "markdown",
      "source": [
        "#### 数値関数"
      ],
      "metadata": {
        "id": "FW6bSKas3HqS"
      }
    },
    {
      "cell_type": "markdown",
      "source": [
        "数値に関する処理を行うための関数です。  \n",
        "[こちら](https://www.javadrive.jp/javascript/math_class/)などのページにはより詳しい解説があります。\n",
        "\n",
        "``` javascript\n",
        "parseInt: 文字列を整数に変換する関数です。\n",
        "parseFloat: 文字列を浮動小数点数に変換する関数です。\n",
        "Math.abs: 絶対値を取得する関数です。\n",
        "Math.round: 四捨五入した値を取得する関数です。\n",
        "Math.floor: 小数点以下を切り捨てた値を取得する関数です。\n",
        "```"
      ],
      "metadata": {
        "id": "EzR6JN5Q3Jbh"
      }
    },
    {
      "cell_type": "markdown",
      "source": [
        "また、最大値と最小値を求める関数もあります。\n",
        "\n",
        "``` javascript\n",
        "Math.min()：最小値を求める関数です。  \n",
        "Math.max()：最大値を求める関数です。  \n",
        "```"
      ],
      "metadata": {
        "id": "6eVlpdls3xXh"
      }
    },
    {
      "cell_type": "markdown",
      "source": [
        "試しに、リストを作成して実行してみましょう。"
      ],
      "metadata": {
        "id": "1e9lIQjK4BKT"
      }
    },
    {
      "cell_type": "code",
      "source": [
        "%%bash\n",
        "\n",
        "# 一時ファイルにコードを書き込む\n",
        "cat <<'EOF' > temp.js\n",
        "\n",
        "const l = [1, 2, 3];\n",
        "\n",
        "// 最大値を表示\n",
        "console.log(Math.max(...l)); // 出力: 3\n",
        "\n",
        "// 最小値を表示\n",
        "console.log(Math.min(...l)); // 出力: 1\n",
        "\n",
        "EOF\n",
        "\n",
        "# 一時ファイルを実行する\n",
        "node temp.js"
      ],
      "metadata": {
        "colab": {
          "base_uri": "https://localhost:8080/"
        },
        "id": "zVHe5qdQ4URn",
        "outputId": "aa2d5b61-8d19-4da4-b323-95d7025b47a8"
      },
      "execution_count": null,
      "outputs": [
        {
          "output_type": "stream",
          "name": "stdout",
          "text": [
            "3\n",
            "1\n"
          ]
        }
      ]
    },
    {
      "cell_type": "markdown",
      "source": [
        "リストを展開して関数に渡すために、「...演算子」を使用しています。"
      ],
      "metadata": {
        "id": "2Wy8DhH64Znu"
      }
    },
    {
      "cell_type": "markdown",
      "source": [
        "### 関数の定義\n"
      ],
      "metadata": {
        "id": "OYFYkVx9UKoO"
      }
    },
    {
      "cell_type": "markdown",
      "source": [
        "組み込み関数とは別に、関数は自分で作ることもできます。  "
      ],
      "metadata": {
        "id": "VcLly5Vs5FC3"
      }
    },
    {
      "cell_type": "markdown",
      "source": [
        "関数を自分で作れるようになると、プログラムを複数の部品に分けることができるようになります。  \n",
        "1つのプログラムを複数の部品に分けることを**部品化**といいます。メリットは以下の通りです。  \n",
        "\n",
        "- プログラム全体の見通しがよくなり、処理を把握しやすくなる\n",
        "- 機能ごとに関数を記述するため、修正範囲を限定できる\n",
        "- 何度も使う機能を関数にまとめることで、プログラミングの作業効率が上がる"
      ],
      "metadata": {
        "id": "X4qXmTOYWP2Q"
      }
    },
    {
      "cell_type": "markdown",
      "source": [
        "一般的に、JavaScriptの関数の定義は以下のようになります。\n",
        "\n",
        "``` javascript\n",
        "// 関数の定義\n",
        "function 関数名(){\n",
        "    // 処理内容\n",
        "}\n",
        "\n",
        "```"
      ],
      "metadata": {
        "id": "xG4EN6bE5P-h"
      }
    },
    {
      "cell_type": "markdown",
      "source": [
        "関数名の右にある()の部分は、より複雑な関数を定義するときに使います。  \n",
        "構文の2行目以降は、この関数が呼び出されたときに実行する処理を記述します。  \n",
        "\n",
        "\n",
        "この部分を**関数ブロック**といいます。"
      ],
      "metadata": {
        "id": "bPzyG_8B5uwJ"
      }
    },
    {
      "cell_type": "markdown",
      "source": [
        "シンプルな関数の場合は、次のような構文で呼び出すことができます。  \n",
        "\n",
        "``` javascript\n",
        "関数名();\n",
        "```"
      ],
      "metadata": {
        "id": "vRIfhQ6s5w5k"
      }
    },
    {
      "cell_type": "markdown",
      "source": [
        "では、呼び出されると`\"Hello\"`と表示する  \n",
        "hello関数を作成してみましょう。"
      ],
      "metadata": {
        "id": "bTKpGXZC6Q9A"
      }
    },
    {
      "cell_type": "code",
      "source": [
        "%%bash\n",
        "\n",
        "# 一時ファイルにコードを書き込む\n",
        "cat <<'EOF' > temp.js\n",
        "\n",
        "function hello() {\n",
        "  console.log(\"Hello\");\n",
        "}\n",
        "\n",
        "hello(); // 関数の呼び出し\n",
        "\n",
        "EOF\n",
        "\n",
        "# 一時ファイルを実行する\n",
        "node temp.js"
      ],
      "metadata": {
        "colab": {
          "base_uri": "https://localhost:8080/"
        },
        "id": "tnC_8fEv6OKA",
        "outputId": "8c22cca3-79b7-4a8d-b6a2-90c1602962b9"
      },
      "execution_count": null,
      "outputs": [
        {
          "output_type": "stream",
          "name": "stdout",
          "text": [
            "Hello\n"
          ]
        }
      ]
    },
    {
      "cell_type": "markdown",
      "source": [
        "関数内で準備された変数（**ローカル変数**）は、その関数の中でしか読み書きできません。  \n",
        "このようなローカル変数の性質を**独立性**といいます。"
      ],
      "metadata": {
        "id": "levNMZSl6UrZ"
      }
    },
    {
      "cell_type": "code",
      "source": [
        "\"\"\"\n",
        "実行するとエラーが出ます\n",
        "\"\"\"\n",
        "%%bash\n",
        "\n",
        "# 一時ファイルにコードを書き込む\n",
        "cat <<'EOF' > temp.js\n",
        "\n",
        "function hello() {\n",
        "  let greet = \"Hello\";\n",
        "  console.log(greet);\n",
        "}\n",
        "\n",
        "hello();\n",
        "console.log(greet); // 変数greetは利用できない\n",
        "\n",
        "EOF\n",
        "\n",
        "# 一時ファイルを実行する\n",
        "node temp.js"
      ],
      "metadata": {
        "id": "AVS2rxXx6bss"
      },
      "execution_count": null,
      "outputs": []
    },
    {
      "cell_type": "markdown",
      "source": [
        "#### 関数と引数"
      ],
      "metadata": {
        "id": "y05yi_2_6q8s"
      }
    },
    {
      "cell_type": "markdown",
      "source": [
        "\n",
        "呼び出し元から関数へデータを渡す仕組みを**引数**といいます。   \n",
        "呼び出し側で渡すデータを**実引数**、そのデータを受け取る変数を**仮引数**といいます。  \n",
        "引数には、数値や文字列のなどのオブジェクトを引き渡すことができます。    \n",
        "\n",
        "\n",
        "\n"
      ],
      "metadata": {
        "id": "5uL0o3J4bSB4"
      }
    },
    {
      "cell_type": "markdown",
      "source": [
        "``` javascript\n",
        "// 関数の定義\n",
        "function 関数名(引数1, 引数2, ...){\n",
        "    // 処理内容\n",
        "}\n",
        "\n",
        "```\n",
        "\n",
        "関数名に続くカッコの中に書いた変数名は、関数が呼び出された際に  \n",
        "データを引数で受け取り、関数内で扱っていくものです。"
      ],
      "metadata": {
        "id": "xAonk6tA7aXB"
      }
    },
    {
      "cell_type": "markdown",
      "source": [
        "引数がある関数の場合は、次のような構文で呼び出すことができます。  \n",
        "\n",
        "``` javascript\n",
        "関数名(引数1, 引数2, ...);\n",
        "```\n",
        "\n",
        "関数名の後ろのカッコ内でデータを渡しています。"
      ],
      "metadata": {
        "id": "eLmn5_hx7jjO"
      }
    },
    {
      "cell_type": "markdown",
      "source": [
        "偶数奇数判定をするhantei関数を作成してみましょう。"
      ],
      "metadata": {
        "id": "vcfKOFDZ7vwI"
      }
    },
    {
      "cell_type": "code",
      "source": [
        "%%bash\n",
        "\n",
        "# 一時ファイルにコードを書き込む\n",
        "cat <<'EOF' > temp.js\n",
        "\n",
        "function hantei(num) {  // 仮引数numで実引数numberの値を受け取る\n",
        "  if (num % 2 === 0) {\n",
        "    console.log(`${num}は偶数です`);\n",
        "  } else {\n",
        "    console.log(`${num}は奇数です`);\n",
        "  }\n",
        "}\n",
        "\n",
        "let number = 2;\n",
        "hantei(number);  // 実引数numberをhantei関数に渡す\n",
        "\n",
        "number = 3;\n",
        "hantei(number);  // 実引数numberをhantei関数に渡す\n",
        "\n",
        "EOF\n",
        "\n",
        "# 一時ファイルを実行する\n",
        "node temp.js"
      ],
      "metadata": {
        "colab": {
          "base_uri": "https://localhost:8080/"
        },
        "id": "IUc43nJ174K1",
        "outputId": "20825097-a8f7-4f59-e513-d09fbe4f3141"
      },
      "execution_count": null,
      "outputs": [
        {
          "output_type": "stream",
          "name": "stdout",
          "text": [
            "2は偶数です\n",
            "3は奇数です\n"
          ]
        }
      ]
    },
    {
      "cell_type": "markdown",
      "source": [
        "複数の引数を渡すことも可能です。  \n",
        "\n",
        "税込み価格を表示するtax_price関数を作成してみましょう。"
      ],
      "metadata": {
        "id": "z7O-vRS58Btx"
      }
    },
    {
      "cell_type": "code",
      "source": [
        "%%bash\n",
        "\n",
        "# 一時ファイルにコードを書き込む\n",
        "cat <<'EOF' > temp.js\n",
        "\n",
        "function tax_price(name, price, tax) {  // 仮引数name,price,taxで実引数の値を受け取る\n",
        "  console.log(`${name}の税抜き価格は${price}円です`);\n",
        "  console.log(`${name}の税込み価格は${price * (1+(tax*0.01))}円です\\n`);\n",
        "}\n",
        "\n",
        "tax_price(\"牛丼並盛\", 408, 10);  // 店の中で食べるときは消費税率10%\n",
        "tax_price(\"牛丼並盛\", 408, 8);   // 持ち帰って食べるときは消費税率8%\n",
        "\n",
        "EOF\n",
        "\n",
        "# 一時ファイルを実行する\n",
        "node temp.js"
      ],
      "metadata": {
        "colab": {
          "base_uri": "https://localhost:8080/"
        },
        "id": "cCD9GSWo8G9J",
        "outputId": "e27d284a-6abc-47c5-9fe4-2fc5af08a6cd"
      },
      "execution_count": null,
      "outputs": [
        {
          "output_type": "stream",
          "name": "stdout",
          "text": [
            "牛丼並盛の税抜き価格は408円です\n",
            "牛丼並盛の税込み価格は448.8円です\n",
            "\n",
            "牛丼並盛の税抜き価格は408円です\n",
            "牛丼並盛の税込み価格は440.64000000000004円です\n",
            "\n"
          ]
        }
      ]
    },
    {
      "cell_type": "markdown",
      "source": [
        "#### 関数と戻り値"
      ],
      "metadata": {
        "id": "_yJEvXVV8P1A"
      }
    },
    {
      "cell_type": "markdown",
      "source": [
        "\n",
        "関数から呼び出し元へデータを渡す仕組みを**戻り値**といいます。  \n",
        "関数で何らかの処理を行った結果を他の関数でも利用することができるようになります。 \n",
        " \n",
        "戻り値には、数値や文字列のなどのオブジェクトを引き渡すことができます。\n",
        "\n"
      ],
      "metadata": {
        "id": "QxvQXAIFQveR"
      }
    },
    {
      "cell_type": "markdown",
      "source": [
        "``` javascript\n",
        "// 関数の定義\n",
        "function 関数名(引数1, 引数2, ...){\n",
        "    // 処理内容\n",
        "    return 戻り値;\n",
        "}\n",
        "\n",
        "```\n",
        "\n",
        "関数定義の最終行には**return文**を書きます。  \n",
        "関数内の処理を終了し、呼び出し元にデータを渡すことが出来ます。  "
      ],
      "metadata": {
        "id": "nOZcR_7GYmeo"
      }
    },
    {
      "cell_type": "markdown",
      "source": [
        "引数と戻り値がある関数の場合は、次のような構文で呼び出すことができます。  \n",
        "\n",
        "``` javascript\n",
        "戻り値を受け取る変数名 = 関数名(引数1, 引数2, ...);\n",
        "```\n",
        "\n",
        "`関数名(引数1,引数2,…)`の部分は、関数の実行後に戻り値に置き換わります。  \n",
        "結果として、変数に戻り値が代入されることになります。"
      ],
      "metadata": {
        "id": "o5o1_BYB8jP5"
      }
    },
    {
      "cell_type": "markdown",
      "source": [
        "hantei関数内で偶数か奇数を判断し、その戻り値を出力しましょう。"
      ],
      "metadata": {
        "id": "LrNAuo_UbEb4"
      }
    },
    {
      "cell_type": "code",
      "source": [
        "%%bash\n",
        "\n",
        "# 一時ファイルにコードを書き込む\n",
        "cat <<'EOF' > temp.js\n",
        "\n",
        "function hantei(num) {  // 仮引数numで実引数numberの値を受け取る\n",
        "  if (num % 2 === 0) {\n",
        "    return \"偶数\";\n",
        "  } else {\n",
        "    return \"奇数\";\n",
        "  }\n",
        "}\n",
        "\n",
        "let number = 2;\n",
        "let judge = hantei(number);  // 実引数numberをhantei関数に渡す\n",
        "console.log(`${number}は${judge}です`);\n",
        "\n",
        "number = 3;\n",
        "judge = hantei(number);  // 実引数numberをhantei関数に渡す\n",
        "console.log(`${number}は${judge}です`);\n",
        "\n",
        "EOF\n",
        "\n",
        "# 一時ファイルを実行する\n",
        "node temp.js"
      ],
      "metadata": {
        "colab": {
          "base_uri": "https://localhost:8080/"
        },
        "id": "WWfrsCQ684FG",
        "outputId": "0f139d60-43aa-4b28-eea4-27fc5ee2f905"
      },
      "execution_count": null,
      "outputs": [
        {
          "output_type": "stream",
          "name": "stdout",
          "text": [
            "2は偶数です\n",
            "3は奇数です\n"
          ]
        }
      ]
    },
    {
      "cell_type": "markdown",
      "source": [
        "乱数を戻り値に指定するとサイコロ関数が出来上がります。"
      ],
      "metadata": {
        "id": "bqGFkOF_H_hw"
      }
    },
    {
      "cell_type": "code",
      "source": [
        "%%bash\n",
        "\n",
        "# 一時ファイルにコードを書き込む\n",
        "cat <<'EOF' > temp.js\n",
        "\n",
        "// サイコロを関数で表現する\n",
        "\n",
        "function saikoro() {\n",
        "return Math.floor(Math.random() * 6) + 1; // 1～6の乱数\n",
        "}\n",
        "\n",
        "for (let i = 0; i < 3; i++) {\n",
        "console.log(saikoro());\n",
        "}\n",
        "\n",
        "EOF\n",
        "\n",
        "# 一時ファイルを実行する\n",
        "node temp.js"
      ],
      "metadata": {
        "colab": {
          "base_uri": "https://localhost:8080/"
        },
        "id": "tRXgj9s59EEx",
        "outputId": "e62c40ad-10ab-472b-eb57-d90073bbdc09"
      },
      "execution_count": null,
      "outputs": [
        {
          "output_type": "stream",
          "name": "stdout",
          "text": [
            "5\n",
            "6\n",
            "4\n"
          ]
        }
      ]
    },
    {
      "cell_type": "markdown",
      "source": [
        "戻り値は複数指定することができません。  \n",
        "しかし、配列にしてしまえば複数のデータを扱うことができます。"
      ],
      "metadata": {
        "id": "g17pow8KdReT"
      }
    },
    {
      "cell_type": "markdown",
      "source": [
        "税込み価格を表示するtax_price関数を作成してみましょう。"
      ],
      "metadata": {
        "id": "P_5187xyd2ZQ"
      }
    },
    {
      "cell_type": "code",
      "source": [
        "%%bash\n",
        "\n",
        "# 一時ファイルにコードを書き込む\n",
        "cat <<'EOF' > temp.js\n",
        "\n",
        "function taxPrice(price) {\n",
        "  const keigen = price * (1 + 8 * 0.01);  // 持ち帰って食べるときは消費税率8%\n",
        "  const notKeigen = price * (1 + 10 * 0.01);  // 店の中で食べるときは消費税率10%\n",
        "  return [keigen, notKeigen];  // 戻り値は一つの配列\n",
        "}\n",
        "\n",
        "const name = \"牛丼\";\n",
        "const price = 408;\n",
        "const [keigen, notKeigen] = taxPrice(price);  // 戻り値の配列を分割代入\n",
        "console.log(`${name}の税抜き価格は${price}円です`);\n",
        "console.log(`持ち帰って食べるときの価格は${keigen}円です`);\n",
        "console.log(`店の中で食べるときの価格は${notKeigen}円です`);\n",
        "\n",
        "EOF\n",
        "\n",
        "# 一時ファイルを実行する\n",
        "node temp.js"
      ],
      "metadata": {
        "colab": {
          "base_uri": "https://localhost:8080/"
        },
        "id": "7uIGjfZQEcRn",
        "outputId": "8c800e61-7c78-486f-d09f-0726b7c93ebe"
      },
      "execution_count": null,
      "outputs": [
        {
          "output_type": "stream",
          "name": "stdout",
          "text": [
            "牛丼の税抜き価格は408円です\n",
            "持ち帰って食べるときの価格は440.64000000000004円です\n",
            "店の中で食べるときの価格は448.8円です\n"
          ]
        }
      ]
    },
    {
      "cell_type": "markdown",
      "source": [
        "### アロー関数"
      ],
      "metadata": {
        "id": "gLHWDS_I-ijT"
      }
    },
    {
      "cell_type": "markdown",
      "source": [
        "JavaScriptにおける**アロー関数**は、通常の関数定義の代替手段として使われる関数式のことです。\n",
        "\n",
        "アロー関数は、コードを簡潔にすることができるため、ES6以降では広く使われるようになっています。  \n",
        "ただし、引数の数や処理の複雑さに応じて、通常の関数定義の方が可読性が高くなる場合もあります。"
      ],
      "metadata": {
        "id": "0ezwuevb-ln8"
      }
    },
    {
      "cell_type": "markdown",
      "source": [
        "一般的には以下のような構文を持ちます。\n",
        "\n",
        "``` javascript\n",
        "const 関数名 = (引数1, 引数2, ...) => {\n",
        "  // 関数の処理\n",
        "  return 戻り値;\n",
        "};\n",
        "```"
      ],
      "metadata": {
        "id": "EKM8YbVU-3HZ"
      }
    },
    {
      "cell_type": "markdown",
      "source": [
        "または、引数が一つの場合は引数の括弧を省略することもできます。\n",
        "\n",
        "``` javascript\n",
        "const 関数名 = 引数 => {\n",
        "  // 関数の処理\n",
        "  return 戻り値;\n",
        "};\n",
        "```"
      ],
      "metadata": {
        "id": "-bnK8ZvF-6M7"
      }
    },
    {
      "cell_type": "markdown",
      "source": [
        "さらに、処理が1つの式で完結する場合はreturn文と中括弧を省略することもできます。\n",
        "\n",
        "``` javascript\n",
        "const 関数名 = 引数 => 式;\n",
        "```"
      ],
      "metadata": {
        "id": "SNdhevU0_Dis"
      }
    },
    {
      "cell_type": "markdown",
      "source": [
        "では、アロー関数を使って、先ほどまで登場してきた関数を書き換えてみましょう。"
      ],
      "metadata": {
        "id": "ilZ0dgSx_Hkr"
      }
    },
    {
      "cell_type": "code",
      "source": [
        "%%bash\n",
        "\n",
        "# 一時ファイルにコードを書き込む\n",
        "cat <<'EOF' > temp.js\n",
        "\n",
        "// 呼び出されると\"Hello\"と表示する hello関数\n",
        "const hello = () => {\n",
        "  console.log(\"Hello\");\n",
        "}\n",
        "\n",
        "hello(); // 関数の呼び出し\n",
        "\n",
        "EOF\n",
        "\n",
        "# 一時ファイルを実行する\n",
        "node temp.js"
      ],
      "metadata": {
        "colab": {
          "base_uri": "https://localhost:8080/"
        },
        "id": "HkkWok0N_Vu6",
        "outputId": "c54dfc61-2af6-4ee5-91c5-312f5b0b384c"
      },
      "execution_count": null,
      "outputs": [
        {
          "output_type": "stream",
          "name": "stdout",
          "text": [
            "Hello\n"
          ]
        }
      ]
    },
    {
      "cell_type": "code",
      "source": [
        "%%bash\n",
        "\n",
        "# 一時ファイルにコードを書き込む\n",
        "cat <<'EOF' > temp.js\n",
        "\n",
        "// 偶数奇数判定をするhantei関数\n",
        "const hantei = (num) => {  // 仮引数numで実引数numberの値を受け取る\n",
        "  if (num % 2 === 0) {\n",
        "    console.log(`${num}は偶数です`);\n",
        "  } else {\n",
        "    console.log(`${num}は奇数です`);\n",
        "  }\n",
        "}\n",
        "\n",
        "let number = 2;\n",
        "hantei(number);  // 実引数numberをhantei関数に渡す\n",
        "\n",
        "number = 3;\n",
        "hantei(number);  // 実引数numberをhantei関数に渡す\n",
        "\n",
        "EOF\n",
        "\n",
        "# 一時ファイルを実行する\n",
        "node temp.js"
      ],
      "metadata": {
        "colab": {
          "base_uri": "https://localhost:8080/"
        },
        "id": "KIccwxZ4_mhZ",
        "outputId": "5639f659-0137-4277-fd0c-6c6ee3c0c6cc"
      },
      "execution_count": null,
      "outputs": [
        {
          "output_type": "stream",
          "name": "stdout",
          "text": [
            "2は偶数です\n",
            "3は奇数です\n"
          ]
        }
      ]
    },
    {
      "cell_type": "code",
      "source": [
        "%%bash\n",
        "\n",
        "# 一時ファイルにコードを書き込む\n",
        "cat <<'EOF' > temp.js\n",
        "\n",
        "// サイコロ関数\n",
        "const saikoro = () => Math.floor(Math.random() * 6) + 1;\n",
        "\n",
        "for (let i = 0; i < 3; i++) {\n",
        "  console.log(saikoro());\n",
        "}\n",
        "\n",
        "EOF\n",
        "\n",
        "# 一時ファイルを実行する\n",
        "node temp.js"
      ],
      "metadata": {
        "colab": {
          "base_uri": "https://localhost:8080/"
        },
        "id": "iZMibEWw__mQ",
        "outputId": "ede3d535-d27b-4c9f-e393-b19fdc56cc61"
      },
      "execution_count": null,
      "outputs": [
        {
          "output_type": "stream",
          "name": "stdout",
          "text": [
            "4\n",
            "6\n",
            "3\n"
          ]
        }
      ]
    },
    {
      "cell_type": "markdown",
      "source": [
        "### グローバル変数"
      ],
      "metadata": {
        "id": "rJZS0CblAdiO"
      }
    },
    {
      "cell_type": "markdown",
      "source": [
        "JavaScriptにおいて、関数の外側で定義された変数を**グローバル変数**と呼びます。  \n",
        "グローバル変数は、どの関数からでもアクセスすることができます。\n",
        "\n",
        "※同名のローカル変数がある場合は、ローカル変数が優先して利用されます。"
      ],
      "metadata": {
        "id": "826k0FnNAdEm"
      }
    },
    {
      "cell_type": "code",
      "source": [
        "%%bash\n",
        "\n",
        "# 一時ファイルにコードを書き込む\n",
        "cat <<'EOF' > temp.js\n",
        "\n",
        "let greet = \"Hello\";\n",
        "\n",
        "function hello() {\n",
        "  console.log(greet);\n",
        "}\n",
        "\n",
        "hello();\n",
        "\n",
        "EOF\n",
        "\n",
        "# 一時ファイルを実行する\n",
        "node temp.js"
      ],
      "metadata": {
        "colab": {
          "base_uri": "https://localhost:8080/"
        },
        "id": "xTHb3ixYAqxP",
        "outputId": "042b17f0-ad6c-415c-f69e-340b80af85d3"
      },
      "execution_count": null,
      "outputs": [
        {
          "output_type": "stream",
          "name": "stdout",
          "text": [
            "Hello\n"
          ]
        }
      ]
    },
    {
      "cell_type": "markdown",
      "source": [
        "関数の**独立性**を考えると、hello関数の中身では変数が何も定義されていないので、  \n",
        "変数`greet`は使えないように思えます。 \n",
        "\n",
        "しかしエラーは出ません。それは変数`greet`がグローバル変数であるからです。"
      ],
      "metadata": {
        "id": "aJX2LquHAuIP"
      }
    },
    {
      "cell_type": "markdown",
      "source": [
        "ただし、グローバル変数はどこからでも変更できるため、誤って上書きしてしまう可能性があります。  \n",
        "そのため、グローバル変数を使用する際は、注意が必要です。\n",
        "\n",
        "関数内でのみ使用する変数は、関数内で定義し、  \n",
        "グローバル変数をできるだけ避けるようにしましょう。"
      ],
      "metadata": {
        "id": "lm5QA6yYAxnZ"
      }
    }
  ]
}