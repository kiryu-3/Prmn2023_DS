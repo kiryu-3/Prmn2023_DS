{
  "nbformat": 4,
  "nbformat_minor": 0,
  "metadata": {
    "colab": {
      "provenance": [],
      "authorship_tag": "ABX9TyMzxpnThAAxP4rbYFMi704h",
      "include_colab_link": true
    },
    "kernelspec": {
      "name": "python3",
      "display_name": "Python 3"
    },
    "language_info": {
      "name": "python"
    }
  },
  "cells": [
    {
      "cell_type": "markdown",
      "metadata": {
        "id": "view-in-github",
        "colab_type": "text"
      },
      "source": [
        "<a href=\"https://colab.research.google.com/github/kiryu-3/Prmn2023_DS/blob/main/frontend/text/CSS_basic.ipynb\" target=\"_parent\"><img src=\"https://colab.research.google.com/assets/colab-badge.svg\" alt=\"Open In Colab\"/></a>"
      ]
    },
    {
      "cell_type": "markdown",
      "source": [
        "# CSS\n"
      ],
      "metadata": {
        "id": "IdohezBnUF01"
      }
    },
    {
      "cell_type": "code",
      "source": [
        "# 最初に実行してください\n",
        "import IPython\n",
        "from IPython.display import display, HTML"
      ],
      "metadata": {
        "id": "Sk88zhWGT5jG"
      },
      "execution_count": 1,
      "outputs": []
    },
    {
      "cell_type": "markdown",
      "source": [
        "## CSSとは"
      ],
      "metadata": {
        "id": "ia5QctkqeDo0"
      }
    },
    {
      "cell_type": "markdown",
      "source": [
        "**CSS**とは、「Cascading Style Sheets」の略で、文章の見た目を装飾するための言語です。\n",
        "\n",
        "HTMLのみだと白い背景と黒い文字のWebサイトになってしまいます。  \n",
        "CSSを適用させ、HPの外装、内装を定義します。"
      ],
      "metadata": {
        "id": "GUXcUV5jeFiM"
      }
    },
    {
      "cell_type": "markdown",
      "source": [
        "### CSSを適用させる方法"
      ],
      "metadata": {
        "id": "brwXrM0KcgkG"
      }
    },
    {
      "cell_type": "markdown",
      "source": [
        "CSSを適用させる方法は、大きく分けて3つあります。\n"
      ],
      "metadata": {
        "id": "iISaNQ84clvV"
      }
    },
    {
      "cell_type": "markdown",
      "source": [
        "1つ目は、外部CSSファイルを使用する方法です。  \n",
        "\n",
        "外部CSSファイルを作成し、HTML内で**`link`要素**を使用してファイルを読み込みます。  \n",
        "この方法では、複数のHTMLファイルで同じCSSを使用することができます。"
      ],
      "metadata": {
        "id": "0j3_u3E7dhb8"
      }
    },
    {
      "cell_type": "markdown",
      "source": [
        "この方法はGoogleColabではなぜかできなかったので、コードの紹介だけにとどめます。  \n",
        "（おそらくセキュリティ上の問題）"
      ],
      "metadata": {
        "id": "NNZYeFiGzcF9"
      }
    },
    {
      "cell_type": "code",
      "source": [
        "%%writefile style.css\n",
        "@charset \"UTF-8\"\n",
        "/* 文字化け防止 必ず先頭に置く*/\n",
        "/* これ以降のコードでは省略する */\n",
        "\n",
        "p {\n",
        "  background-color: #DDFFDD;\n",
        "}"
      ],
      "metadata": {
        "colab": {
          "base_uri": "https://localhost:8080/"
        },
        "id": "P3Fyn5EUeLnp",
        "outputId": "aaa2bf60-314d-4a30-bcb5-0dfd4479e5db"
      },
      "execution_count": 2,
      "outputs": [
        {
          "output_type": "stream",
          "name": "stdout",
          "text": [
            "Writing style.css\n"
          ]
        }
      ]
    },
    {
      "cell_type": "code",
      "source": [
        "htm = HTML(f'''\\\n",
        "<html>\n",
        "  <head>\n",
        "    <!-- style.cssを読み込ませる(GoogleColab上ではできない) -->\n",
        "    <link rel=\"stylesheet\" href=\"style.css\">\n",
        "  </head>\n",
        "  <body>\n",
        "      <p>カメの平均寿命は30年ほどです</p>\n",
        "  </body>\n",
        "</html>\n",
        "''')\n",
        "display(htm)"
      ],
      "metadata": {
        "colab": {
          "resources": {
            "http://localhost:8080/style.css": {
              "data": "CjwhRE9DVFlQRSBodG1sPgo8aHRtbCBsYW5nPWVuPgogIDxtZXRhIGNoYXJzZXQ9dXRmLTg+CiAgPG1ldGEgbmFtZT12aWV3cG9ydCBjb250ZW50PSJpbml0aWFsLXNjYWxlPTEsIG1pbmltdW0tc2NhbGU9MSwgd2lkdGg9ZGV2aWNlLXdpZHRoIj4KICA8dGl0bGU+RXJyb3IgNDA0IChOb3QgRm91bmQpISExPC90aXRsZT4KICA8c3R5bGU+CiAgICAqe21hcmdpbjowO3BhZGRpbmc6MH1odG1sLGNvZGV7Zm9udDoxNXB4LzIycHggYXJpYWwsc2Fucy1zZXJpZn1odG1se2JhY2tncm91bmQ6I2ZmZjtjb2xvcjojMjIyO3BhZGRpbmc6MTVweH1ib2R5e21hcmdpbjo3JSBhdXRvIDA7bWF4LXdpZHRoOjM5MHB4O21pbi1oZWlnaHQ6MTgwcHg7cGFkZGluZzozMHB4IDAgMTVweH0qID4gYm9keXtiYWNrZ3JvdW5kOnVybCgvL3d3dy5nb29nbGUuY29tL2ltYWdlcy9lcnJvcnMvcm9ib3QucG5nKSAxMDAlIDVweCBuby1yZXBlYXQ7cGFkZGluZy1yaWdodDoyMDVweH1we21hcmdpbjoxMXB4IDAgMjJweDtvdmVyZmxvdzpoaWRkZW59aW5ze2NvbG9yOiM3Nzc7dGV4dC1kZWNvcmF0aW9uOm5vbmV9YSBpbWd7Ym9yZGVyOjB9QG1lZGlhIHNjcmVlbiBhbmQgKG1heC13aWR0aDo3NzJweCl7Ym9keXtiYWNrZ3JvdW5kOm5vbmU7bWFyZ2luLXRvcDowO21heC13aWR0aDpub25lO3BhZGRpbmctcmlnaHQ6MH19I2xvZ297YmFja2dyb3VuZDp1cmwoLy93d3cuZ29vZ2xlLmNvbS9pbWFnZXMvbG9nb3MvZXJyb3JwYWdlL2Vycm9yX2xvZ28tMTUweDU0LnBuZykgbm8tcmVwZWF0O21hcmdpbi1sZWZ0Oi01cHh9QG1lZGlhIG9ubHkgc2NyZWVuIGFuZCAobWluLXJlc29sdXRpb246MTkyZHBpKXsjbG9nb3tiYWNrZ3JvdW5kOnVybCgvL3d3dy5nb29nbGUuY29tL2ltYWdlcy9sb2dvcy9lcnJvcnBhZ2UvZXJyb3JfbG9nby0xNTB4NTQtMngucG5nKSBuby1yZXBlYXQgMCUgMCUvMTAwJSAxMDAlOy1tb3otYm9yZGVyLWltYWdlOnVybCgvL3d3dy5nb29nbGUuY29tL2ltYWdlcy9sb2dvcy9lcnJvcnBhZ2UvZXJyb3JfbG9nby0xNTB4NTQtMngucG5nKSAwfX1AbWVkaWEgb25seSBzY3JlZW4gYW5kICgtd2Via2l0LW1pbi1kZXZpY2UtcGl4ZWwtcmF0aW86Mil7I2xvZ297YmFja2dyb3VuZDp1cmwoLy93d3cuZ29vZ2xlLmNvbS9pbWFnZXMvbG9nb3MvZXJyb3JwYWdlL2Vycm9yX2xvZ28tMTUweDU0LTJ4LnBuZykgbm8tcmVwZWF0Oy13ZWJraXQtYmFja2dyb3VuZC1zaXplOjEwMCUgMTAwJX19I2xvZ297ZGlzcGxheTppbmxpbmUtYmxvY2s7aGVpZ2h0OjU0cHg7d2lkdGg6MTUwcHh9CiAgPC9zdHlsZT4KICA8YSBocmVmPS8vd3d3Lmdvb2dsZS5jb20vPjxzcGFuIGlkPWxvZ28gYXJpYS1sYWJlbD1Hb29nbGU+PC9zcGFuPjwvYT4KICA8cD48Yj40MDQuPC9iPiA8aW5zPlRoYXTigJlzIGFuIGVycm9yLjwvaW5zPgogIDxwPiAgPGlucz5UaGF04oCZcyBhbGwgd2Uga25vdy48L2lucz4K",
              "ok": false,
              "headers": [
                [
                  "content-length",
                  "1449"
                ],
                [
                  "content-type",
                  "text/html; charset=utf-8"
                ]
              ],
              "status": 404,
              "status_text": ""
            }
          },
          "base_uri": "https://localhost:8080/",
          "height": 46
        },
        "id": "S16mco2L2-7e",
        "outputId": "5d7edaf5-97f5-40ad-bd42-f9aaf4735621"
      },
      "execution_count": 3,
      "outputs": [
        {
          "output_type": "display_data",
          "data": {
            "text/plain": [
              "<IPython.core.display.HTML object>"
            ],
            "text/html": [
              "<html>\n",
              "  <head>\n",
              "    <!-- style.cssを読み込ませる(GoogleColab上ではできない) -->\n",
              "    <link rel=\"stylesheet\" href=\"style.css\">\n",
              "  </head>\n",
              "  <body>\n",
              "      <p>カメの平均寿命は30年ほどです</p>\n",
              "  </body>\n",
              "</html>\n"
            ]
          },
          "metadata": {}
        }
      ]
    },
    {
      "cell_type": "markdown",
      "source": [
        "2つ目は、`style`要素を使用する方法です。  \n",
        "\n",
        "HTMLファイル内で`style`要素を使用することで、CSSを直接適用することができます。    \n",
        "この方法では、HTMLとCSSを同じファイル内に含めることができます。"
      ],
      "metadata": {
        "id": "LFADlYfD3uqC"
      }
    },
    {
      "cell_type": "markdown",
      "source": [
        "では、CSSを適用させて、背景色を変えてみましょう。  \n",
        "（HTML編でも少し登場しました）"
      ],
      "metadata": {
        "id": "9sg9CriX4D0O"
      }
    },
    {
      "cell_type": "code",
      "source": [
        "htm = HTML(f'''\\\n",
        "<html>\n",
        "  <head>\n",
        "    <style>\n",
        "      p {{\n",
        "        background-color: #DDFFDD;\n",
        "      }}\n",
        "    </style>\n",
        "  </head>\n",
        "  <body>\n",
        "      <!-- pタグにstyle属性を適用\n",
        "          背景色を薄い緑色にする -->\n",
        "      <p>カメの平均寿命は30年ほどです</p>\n",
        "  </body>\n",
        "</html>\n",
        "''')\n",
        "display(htm)"
      ],
      "metadata": {
        "colab": {
          "base_uri": "https://localhost:8080/",
          "height": 46
        },
        "id": "Q9HUJOTl4MLU",
        "outputId": "915d605d-9029-4f81-bf21-84bafa5afad4"
      },
      "execution_count": 4,
      "outputs": [
        {
          "output_type": "display_data",
          "data": {
            "text/plain": [
              "<IPython.core.display.HTML object>"
            ],
            "text/html": [
              "<html>\n",
              "  <head>\n",
              "    <style>\n",
              "      p {\n",
              "        background-color: #DDFFDD;\n",
              "      }\n",
              "    </style>\n",
              "  </head>\n",
              "  <body>\n",
              "      <!-- pタグにstyle属性を適用\n",
              "          背景色を薄い緑色にする -->\n",
              "      <p>カメの平均寿命は30年ほどです</p>\n",
              "  </body>\n",
              "</html>\n"
            ]
          },
          "metadata": {}
        }
      ]
    },
    {
      "cell_type": "markdown",
      "source": [
        "3つ目は、インラインスタイル属性を使用する方法です。  \n",
        "\n",
        "HTML要素のスタイル属性に直接CSSを指定することで、インラインでCSSを適用することができます。    \n",
        "この方法では、HTML要素ごとにスタイルを指定することができます。\n",
        "\n"
      ],
      "metadata": {
        "id": "C61navva4_Pr"
      }
    },
    {
      "cell_type": "markdown",
      "source": [
        "HTML編で登場したやり方と同じですが、確認がてら実行してみましょう。"
      ],
      "metadata": {
        "id": "EKRljLFbd5na"
      }
    },
    {
      "cell_type": "code",
      "source": [
        "htm = HTML('''\\\n",
        "<body>\n",
        "    <!-- pタグにstyle属性を適用\n",
        "         背景色を薄い緑色にする -->\n",
        "    <p style=\"background-color: #DDFFDD\">カメの平均寿命は30年ほどです</p>\n",
        "</body>\n",
        "''')\n",
        " \n",
        "display(htm)"
      ],
      "metadata": {
        "colab": {
          "base_uri": "https://localhost:8080/",
          "height": 46
        },
        "id": "MnrQQ_gK58qi",
        "outputId": "8c6ecc0b-5f9e-42ad-cdf6-167119871a7a"
      },
      "execution_count": 5,
      "outputs": [
        {
          "output_type": "display_data",
          "data": {
            "text/plain": [
              "<IPython.core.display.HTML object>"
            ],
            "text/html": [
              "<body>\n",
              "    <!-- pタグにstyle属性を適用\n",
              "         背景色を薄い緑色にする -->\n",
              "    <p style=\"background-color: #DDFFDD\">カメの平均寿命は30年ほどです</p>\n",
              "</body>\n"
            ]
          },
          "metadata": {}
        }
      ]
    },
    {
      "cell_type": "markdown",
      "source": [
        "一番ベストな方法は、1番目の方法である、外部CSSファイルを使用する方法です。  \n",
        "外部CSSファイルを使用することで、HTMLとCSSを分離でき、作業の効率が上がります。\n",
        "\n",
        "本資料ではPythonと組み合わせることで、無理やりですが  \n",
        "HTMLとCSSを分離しようと思います。"
      ],
      "metadata": {
        "id": "tatgKWfm5a-D"
      }
    },
    {
      "cell_type": "code",
      "source": [
        "%%writefile style.css\n",
        "\n",
        "p {\n",
        "  background-color: #DDFFDD;\n",
        "}"
      ],
      "metadata": {
        "colab": {
          "base_uri": "https://localhost:8080/"
        },
        "id": "J41y5-u-6FxS",
        "outputId": "62bd6387-6daa-450f-851a-6178a1b72928"
      },
      "execution_count": 6,
      "outputs": [
        {
          "output_type": "stream",
          "name": "stdout",
          "text": [
            "Overwriting style.css\n"
          ]
        }
      ]
    },
    {
      "cell_type": "code",
      "source": [
        "with open('/content/style.css', 'r') as f:\n",
        "  css = f.read()\n",
        "\n",
        "htm = HTML(f'''\\\n",
        "<html>\n",
        "  <head>\n",
        "    <style>{css}</style>\n",
        "  </head>\n",
        "  <body>\n",
        "      <!-- pタグにstyle属性を適用\n",
        "          背景色を薄い緑色にする -->\n",
        "      <p>カメの平均寿命は30年ほどです</p>\n",
        "  </body>\n",
        "</html>\n",
        "''')\n",
        "display(htm)\n"
      ],
      "metadata": {
        "colab": {
          "base_uri": "https://localhost:8080/",
          "height": 46
        },
        "id": "Hn1gkzADkQtA",
        "outputId": "2a9be1d5-17fc-4223-a303-c70b152403ba"
      },
      "execution_count": 7,
      "outputs": [
        {
          "output_type": "display_data",
          "data": {
            "text/plain": [
              "<IPython.core.display.HTML object>"
            ],
            "text/html": [
              "<html>\n",
              "  <head>\n",
              "    <style>\n",
              "p {\n",
              "  background-color: #DDFFDD;\n",
              "}\n",
              "</style>\n",
              "  </head>\n",
              "  <body>\n",
              "      <!-- pタグにstyle属性を適用\n",
              "          背景色を薄い緑色にする -->\n",
              "      <p>カメの平均寿命は30年ほどです</p>\n",
              "  </body>\n",
              "</html>\n"
            ]
          },
          "metadata": {}
        }
      ]
    },
    {
      "cell_type": "markdown",
      "source": [
        "### CSSの基本構造"
      ],
      "metadata": {
        "id": "STL6ZeaK7vbn"
      }
    },
    {
      "cell_type": "markdown",
      "source": [
        "CSSは、以下の3つの部分を組み合わせて、スタイルを指定します。\n",
        "\n",
        "![](https://imgur.com/fAdOwMj.png)"
      ],
      "metadata": {
        "id": "Kj_-aCT98B4P"
      }
    },
    {
      "cell_type": "markdown",
      "source": [
        "〇**セレクタ**  \n",
        "→スタイルを適用する要素を指定するための識別子。HTMLの要素名、クラス名、ID名、属性値などを指定する。\n",
        "\n",
        "〇**プロパティ**  \n",
        "→スタイルの種類を指定するためのキーワード。コロン「:」を続けて書く。\n",
        "\n",
        "〇**値**  \n",
        "→プロパティに指定する具体的なスタイルの値。最後にセミコロン「;」を最後に書く。"
      ],
      "metadata": {
        "id": "RvSrbl1u8JL-"
      }
    },
    {
      "cell_type": "markdown",
      "source": [
        "では、以下のコードを実行してみましょう。"
      ],
      "metadata": {
        "id": "saWvLXihBq5s"
      }
    },
    {
      "cell_type": "code",
      "source": [
        "%%writefile style.css\n",
        "\n",
        "/* divタグ内の要素の背景色を薄い灰色にする */\n",
        "div {\n",
        "  background-color: #F2F2F2;\n",
        "}\n",
        "\n",
        "/* spanタグ内の要素の背景色を薄い緑色にする */\n",
        "span {\n",
        "  background-color: #DDFFDD\n",
        "}"
      ],
      "metadata": {
        "colab": {
          "base_uri": "https://localhost:8080/"
        },
        "id": "4D_rz4BjB2Lp",
        "outputId": "d7fe2df5-a66b-4580-aff7-1dded396506c"
      },
      "execution_count": 8,
      "outputs": [
        {
          "output_type": "stream",
          "name": "stdout",
          "text": [
            "Overwriting style.css\n"
          ]
        }
      ]
    },
    {
      "cell_type": "code",
      "source": [
        "with open('/content/style.css', 'r') as f:\n",
        "  css = f.read()\n",
        "\n",
        "htm = HTML(f'''\\\n",
        "<html>\n",
        "  <head>\n",
        "      <style>{css}</style>\n",
        "  </head>\n",
        "  <body>\n",
        "      <div>\n",
        "          <h3><span>ミドリガメ</span></h3>\n",
        "          <p><strong>最大甲長</strong>は20cm程度です</p>\n",
        "          <p><strong>野生での平均寿命</strong>は45年程度です</p>\n",
        "      </div>\n",
        "      <div>\n",
        "          <h3><span>ヤマトイシガメ</span></h3>\n",
        "          <p><strong>最大甲長</strong>は30cm程度です</p>\n",
        "          <p><strong>野生での平均寿命</strong>は15年程度です</p>\n",
        "      </div>\n",
        "      <div>\n",
        "          <h3><span>クサガメ</span></h3>\n",
        "          <p><strong>最大甲長</strong>は40cm程度です</p>\n",
        "          <p><strong>野生での平均寿命</strong>は35年程度です</p>\n",
        "      </div>\n",
        "  </body>\n",
        "</html>\n",
        "''')\n",
        "display(htm)"
      ],
      "metadata": {
        "colab": {
          "base_uri": "https://localhost:8080/",
          "height": 273
        },
        "id": "e7dEsPuQCERv",
        "outputId": "f3e2ffd8-2675-4093-e933-09cbec97c292"
      },
      "execution_count": 9,
      "outputs": [
        {
          "output_type": "display_data",
          "data": {
            "text/plain": [
              "<IPython.core.display.HTML object>"
            ],
            "text/html": [
              "<html>\n",
              "  <head>\n",
              "      <style>\n",
              "/* divタグ内の要素の背景色を薄い灰色にする */\n",
              "div {\n",
              "  background-color: #F2F2F2;\n",
              "}\n",
              "\n",
              "/* spanタグ内の要素の背景色を薄い緑色にする */\n",
              "span {\n",
              "  background-color: #DDFFDD\n",
              "}\n",
              "</style>\n",
              "  </head>\n",
              "  <body>\n",
              "      <div>\n",
              "          <h3><span>ミドリガメ</span></h3>\n",
              "          <p><strong>最大甲長</strong>は20cm程度です</p>\n",
              "          <p><strong>野生での平均寿命</strong>は45年程度です</p>\n",
              "      </div>\n",
              "      <div>\n",
              "          <h3><span>ヤマトイシガメ</span></h3>\n",
              "          <p><strong>最大甲長</strong>は30cm程度です</p>\n",
              "          <p><strong>野生での平均寿命</strong>は15年程度です</p>\n",
              "      </div>\n",
              "      <div>\n",
              "          <h3><span>クサガメ</span></h3>\n",
              "          <p><strong>最大甲長</strong>は40cm程度です</p>\n",
              "          <p><strong>野生での平均寿命</strong>は35年程度です</p>\n",
              "      </div>\n",
              "  </body>\n",
              "</html>\n"
            ]
          },
          "metadata": {}
        }
      ]
    },
    {
      "cell_type": "markdown",
      "source": [
        "`div`タグで囲んだところの背景色が薄い灰色になっています。  \n",
        "そして、`span`タグで囲んだところの背景色が薄い緑色になっています。\n",
        "\n"
      ],
      "metadata": {
        "id": "boVRMUGTDolT"
      }
    },
    {
      "cell_type": "markdown",
      "source": [
        "しかし、このままではコードの中のすべての`div`タグ内の要素が  \n",
        "上書きしない限りは薄い灰色になってしまいます。\n",
        "\n",
        "そこで、要素を識別する必要があります。"
      ],
      "metadata": {
        "id": "J8fHPQgjEUwP"
      }
    },
    {
      "cell_type": "markdown",
      "source": [
        "### クラスとID"
      ],
      "metadata": {
        "id": "imJ0lZkTAjAu"
      }
    },
    {
      "cell_type": "markdown",
      "source": [
        "**`class`属性**と**`id`属性**は、CSSでスタイルを指定する際に  \n",
        "要素を識別するために使用されます。"
      ],
      "metadata": {
        "id": "E_qX5NUlAk_-"
      }
    },
    {
      "cell_type": "markdown",
      "source": [
        "#### class属性"
      ],
      "metadata": {
        "id": "-N6tDDjvA9DQ"
      }
    },
    {
      "cell_type": "markdown",
      "source": [
        "**`class`属性**は、同じスタイルを複数の要素に適用したい場合に使用されます。  \n",
        "複数の要素で同じclass属性の値を指定することで、同じスタイルが適用されます。"
      ],
      "metadata": {
        "id": "va8zHI-0A__m"
      }
    },
    {
      "cell_type": "markdown",
      "source": [
        "CSSのスタイル定義では、「.」(ドット)を使って`class`属性を指定します。\n",
        "\n"
      ],
      "metadata": {
        "id": "HMmeu2yRBhht"
      }
    },
    {
      "cell_type": "markdown",
      "source": [
        "先ほどのコードのうち、「最大甲長」の背景色を薄い青色に、  \n",
        "「野生での平均寿命」の背景色を薄い黄色に変更します。"
      ],
      "metadata": {
        "id": "b1bAuuAzEqU5"
      }
    },
    {
      "cell_type": "code",
      "source": [
        "%%writefile style.css\n",
        "\n",
        "div {\n",
        "  background-color: #F2F2F2;\n",
        "}\n",
        "\n",
        "span {\n",
        "  background-color: #DDFFDD\n",
        "}\n",
        "\n",
        "/* \"kotyo\"クラス内の要素の背景色を薄い青色にする */\n",
        ".kotyo {\n",
        "  background-color: #D3DEF1\n",
        "}\n",
        "\n",
        "/* \"jumyo\"クラス内の要素の背景色を薄い黄色にする */\n",
        ".jumyo {\n",
        "  background-color: #fff3b8\n",
        "}"
      ],
      "metadata": {
        "colab": {
          "base_uri": "https://localhost:8080/"
        },
        "id": "MU_UobmsF1AP",
        "outputId": "38a251c0-1cb4-467a-b536-2827aadf1707"
      },
      "execution_count": 87,
      "outputs": [
        {
          "output_type": "stream",
          "name": "stdout",
          "text": [
            "Overwriting style.css\n"
          ]
        }
      ]
    },
    {
      "cell_type": "code",
      "source": [
        "with open('/content/style.css', 'r') as f:\n",
        "  css = f.read()\n",
        "\n",
        "htm = HTML(f'''\\\n",
        "<html>\n",
        "  <head>\n",
        "      <style>{css}</style>\n",
        "  </head>\n",
        "  <body>\n",
        "      <!-- \"kotyo\"クラスの要素の背景色は\"薄い青\" -->\n",
        "      <!-- \"jumyo\"クラスの要素の背景色は\"薄い黄\" -->\n",
        "      <div>\n",
        "          <h3><span>ミドリガメ</span></h3>\n",
        "          <p><strong class=\"kotyo\">最大甲長</strong>は20cm程度です</p>\n",
        "          <p><strong class=\"jumyo\">野生での平均寿命</strong>は45年程度です</p>\n",
        "      </div>\n",
        "      <div>\n",
        "          <h3><span>ヤマトイシガメ</span></h3>\n",
        "          <p><strong class=\"kotyo\">最大甲長</strong>は30cm程度です</p>\n",
        "          <p><strong class=\"jumyo\">野生での平均寿命</strong>は15年程度です</p>\n",
        "      </div>\n",
        "      <div>\n",
        "          <h3><span>クサガメ</span></h3>\n",
        "          <p><strong class=\"kotyo\">最大甲長</strong>は40cm程度です</p>\n",
        "          <p><strong class=\"jumyo\">野生での平均寿命</strong>は35年程度です</p>\n",
        "      </div>\n",
        "  </body>\n",
        "</html>\n",
        "''')\n",
        "display(htm)"
      ],
      "metadata": {
        "colab": {
          "base_uri": "https://localhost:8080/",
          "height": 273
        },
        "id": "vHw8pzWgFyCV",
        "outputId": "9301abc2-0785-42c0-e2c9-3ea7e77ed391"
      },
      "execution_count": 88,
      "outputs": [
        {
          "output_type": "display_data",
          "data": {
            "text/plain": [
              "<IPython.core.display.HTML object>"
            ],
            "text/html": [
              "<html>\n",
              "  <head>\n",
              "      <style>\n",
              "div {\n",
              "  background-color: #F2F2F2;\n",
              "}\n",
              "\n",
              "span {\n",
              "  background-color: #DDFFDD\n",
              "}\n",
              "\n",
              "/* \"kotyo\"クラス内の要素の背景色を薄い青色にする */\n",
              ".kotyo {\n",
              "  background-color: #D3DEF1\n",
              "}\n",
              "\n",
              "/* \"jumyo\"クラス内の要素の背景色を薄い黄色にする */\n",
              ".jumyo {\n",
              "  background-color: #fff3b8\n",
              "}\n",
              "</style>\n",
              "  </head>\n",
              "  <body>\n",
              "      <!-- \"kotyo\"クラスの要素の背景色は\"薄い青\" -->\n",
              "      <!-- \"jumyo\"クラスの要素の背景色は\"薄い黄\" -->\n",
              "      <div>\n",
              "          <h3><span>ミドリガメ</span></h3>\n",
              "          <p><strong class=\"kotyo\">最大甲長</strong>は20cm程度です</p>\n",
              "          <p><strong class=\"jumyo\">野生での平均寿命</strong>は45年程度です</p>\n",
              "      </div>\n",
              "      <div>\n",
              "          <h3><span>ヤマトイシガメ</span></h3>\n",
              "          <p><strong class=\"kotyo\">最大甲長</strong>は30cm程度です</p>\n",
              "          <p><strong class=\"jumyo\">野生での平均寿命</strong>は15年程度です</p>\n",
              "      </div>\n",
              "      <div>\n",
              "          <h3><span>クサガメ</span></h3>\n",
              "          <p><strong class=\"kotyo\">最大甲長</strong>は40cm程度です</p>\n",
              "          <p><strong class=\"jumyo\">野生での平均寿命</strong>は35年程度です</p>\n",
              "      </div>\n",
              "  </body>\n",
              "</html>\n"
            ]
          },
          "metadata": {}
        }
      ]
    },
    {
      "cell_type": "markdown",
      "source": [
        "#### id属性"
      ],
      "metadata": {
        "id": "XgLtZswdHjEq"
      }
    },
    {
      "cell_type": "markdown",
      "source": [
        "**`id`属性**は、一つの要素に対して一意にスタイルを指定したい場合に使用されます。  \n",
        "同じ**`id`属性**の値を複数の要素で指定することはできません。"
      ],
      "metadata": {
        "id": "TtoKXb7qHjE3"
      }
    },
    {
      "cell_type": "markdown",
      "source": [
        "CSSのスタイル定義では、「#」(シャープ)を使って`id`属性を指定します。\n",
        "\n"
      ],
      "metadata": {
        "id": "3A1LZWpBHjE3"
      }
    },
    {
      "cell_type": "markdown",
      "source": [
        "先ほどのコードのうち、「最大甲長」の最大値の背景色と、  \n",
        "「野生での平均寿命」の最大値の背景色を薄い赤色に変更します。"
      ],
      "metadata": {
        "id": "eVhqFbSPHjE3"
      }
    },
    {
      "cell_type": "code",
      "source": [
        "%%writefile style.css\n",
        "\n",
        "div {\n",
        "  background-color: #F2F2F2;\n",
        "}\n",
        "\n",
        "span {\n",
        "  background-color: #DDFFDD\n",
        "}\n",
        "\n",
        ".kotyo {\n",
        "  background-color: #D3DEF1\n",
        "}\n",
        "\n",
        ".jumyo {\n",
        "  background-color: #fff3b8\n",
        "}\n",
        "\n",
        "/* id\"kotyo_max\"の要素の背景色を薄い赤色にする */\n",
        "#kotyo_max {\n",
        "  background-color: #FADBDA\n",
        "}\n",
        "\n",
        "/* id\"jumyo_max\"の要素の背景色を薄い赤色にする */\n",
        "#jumyo_max {\n",
        "  background-color: #FADBDA\n",
        "}"
      ],
      "metadata": {
        "colab": {
          "base_uri": "https://localhost:8080/"
        },
        "outputId": "2f435645-20a9-4dd8-d159-63eb93dabbde",
        "id": "Z8Z3Y4_tHjE4"
      },
      "execution_count": 12,
      "outputs": [
        {
          "output_type": "stream",
          "name": "stdout",
          "text": [
            "Overwriting style.css\n"
          ]
        }
      ]
    },
    {
      "cell_type": "code",
      "source": [
        "with open('/content/style.css', 'r') as f:\n",
        "  css = f.read()\n",
        "\n",
        "htm = HTML(f'''\\\n",
        "<html>\n",
        "  <head>\n",
        "      <style>{css}</style>\n",
        "  </head>\n",
        "  <body>\n",
        "      <!-- id\"kotyo_max\"の要素の背景色は\"薄い赤\" -->\n",
        "      <!-- id\"jumyo_max\"の要素の背景色は\"薄い赤\" -->\n",
        "      <div>\n",
        "          <h3><span>ミドリガメ</span></h3>\n",
        "          <p><strong class=\"kotyo\">最大甲長</strong>は20cm程度です</p>\n",
        "          <p><strong class=\"jumyo\">野生での平均寿命</strong>は<span id=\"jumyo_max\">45年</span>程度です</p>\n",
        "      </div>\n",
        "      <div>\n",
        "          <h3><span>ヤマトイシガメ</span></h3>\n",
        "          <p><strong class=\"kotyo\">最大甲長</strong>は30cm程度です</p>\n",
        "          <p><strong class=\"jumyo\">野生での平均寿命</strong>は15年程度です</p>\n",
        "      </div>\n",
        "      <div>\n",
        "          <h3><span>クサガメ</span></h3>\n",
        "          <p><strong class=\"kotyo\">最大甲長</strong>は<span id=\"kotyo_max\">40cm</span>程度です</p>\n",
        "          <p><strong class=\"jumyo\">野生での平均寿命</strong>は35年程度です</p>\n",
        "      </div>\n",
        "  </body>\n",
        "</html>\n",
        "''')\n",
        "display(htm)"
      ],
      "metadata": {
        "colab": {
          "base_uri": "https://localhost:8080/",
          "height": 273
        },
        "outputId": "4be89423-c9b1-4465-c04a-79ae95cd004b",
        "id": "6UfWIjiIHjE4"
      },
      "execution_count": 13,
      "outputs": [
        {
          "output_type": "display_data",
          "data": {
            "text/plain": [
              "<IPython.core.display.HTML object>"
            ],
            "text/html": [
              "<html>\n",
              "  <head>\n",
              "      <style>\n",
              "div {\n",
              "  background-color: #F2F2F2;\n",
              "}\n",
              "\n",
              "span {\n",
              "  background-color: #DDFFDD\n",
              "}\n",
              "\n",
              ".kotyo {\n",
              "  background-color: #D3DEF1\n",
              "}\n",
              "\n",
              ".jumyo {\n",
              "  background-color: #fff3b8\n",
              "}\n",
              "\n",
              "/* id\"kotyo_max\"の要素の背景色を薄い赤色にする */\n",
              "#kotyo_max {\n",
              "  background-color: #FADBDA\n",
              "}\n",
              "\n",
              "/* id\"jumyo_max\"の要素の背景色を薄い赤色にする */\n",
              "#jumyo_max {\n",
              "  background-color: #FADBDA\n",
              "}\n",
              "</style>\n",
              "  </head>\n",
              "  <body>\n",
              "      <!-- id\"kotyo_max\"の要素の背景色は\"薄い赤\" -->\n",
              "      <!-- id\"jumyo_max\"の要素の背景色は\"薄い赤\" -->\n",
              "      <div>\n",
              "          <h3><span>ミドリガメ</span></h3>\n",
              "          <p><strong class=\"kotyo\">最大甲長</strong>は20cm程度です</p>\n",
              "          <p><strong class=\"jumyo\">野生での平均寿命</strong>は<span id=\"jumyo_max\">45年</span>程度です</p>\n",
              "      </div>\n",
              "      <div>\n",
              "          <h3><span>ヤマトイシガメ</span></h3>\n",
              "          <p><strong class=\"kotyo\">最大甲長</strong>は30cm程度です</p>\n",
              "          <p><strong class=\"jumyo\">野生での平均寿命</strong>は15年程度です</p>\n",
              "      </div>\n",
              "      <div>\n",
              "          <h3><span>クサガメ</span></h3>\n",
              "          <p><strong class=\"kotyo\">最大甲長</strong>は<span id=\"kotyo_max\">40cm</span>程度です</p>\n",
              "          <p><strong class=\"jumyo\">野生での平均寿命</strong>は35年程度です</p>\n",
              "      </div>\n",
              "  </body>\n",
              "</html>\n"
            ]
          },
          "metadata": {}
        }
      ]
    },
    {
      "cell_type": "markdown",
      "source": [
        "### 文字や文章の装飾"
      ],
      "metadata": {
        "id": "HJ5z77KMKHPW"
      }
    },
    {
      "cell_type": "markdown",
      "source": [
        "#### 文字のフォント"
      ],
      "metadata": {
        "id": "UaxEpTCeK2We"
      }
    },
    {
      "cell_type": "markdown",
      "source": [
        "**`font-family`**プロパティでは、文字のフォントを指定することができます。  \n"
      ],
      "metadata": {
        "id": "QMm15j0wK7fF"
      }
    },
    {
      "cell_type": "markdown",
      "source": [
        "以下のような値を適用することができます。\n",
        "\n",
        "〇フォント名  \n",
        "→フォントの名前を記述する。  \n",
        "　フォント名に日本語やスペースがある場合は、「'」か「\"」で囲んで指定する。  \n",
        "\n",
        "〇キーワード  \n",
        "→ `serif`(明朝系)、`sans-serif`(ゴシック系)、`monospace`(等幅)、  \n",
        "　 `cursive`(筆記体)、`fantasy`(装飾系)、`system-ui`(規定フォント) から指定する。"
      ],
      "metadata": {
        "id": "uEmeGOPJLW1M"
      }
    },
    {
      "cell_type": "markdown",
      "source": [
        "フォントの違いについて確認してみましょう。"
      ],
      "metadata": {
        "id": "8Fvrvw2pNecp"
      }
    },
    {
      "cell_type": "code",
      "source": [
        "%%writefile style.css\n",
        "\n",
        "/* ミドリガメの項目のフォントを明朝系にする */\n",
        "#midori {\n",
        "  font-family: serif;\n",
        "}\n",
        "\n",
        "/* ヤマトイシガメの項目のフォントを等幅にする */\n",
        "#yamato {\n",
        "  font-family: monospace;\n",
        "}\n",
        "\n",
        "/* クサガメの項目のフォントを筆記体にする */\n",
        "#kusa {\n",
        "  font-family: cursive;\n",
        "}"
      ],
      "metadata": {
        "colab": {
          "base_uri": "https://localhost:8080/"
        },
        "id": "49QimrypNhVx",
        "outputId": "34b42a99-ab97-4e76-df3d-4693ef2ec4db"
      },
      "execution_count": 14,
      "outputs": [
        {
          "output_type": "stream",
          "name": "stdout",
          "text": [
            "Overwriting style.css\n"
          ]
        }
      ]
    },
    {
      "cell_type": "code",
      "source": [
        "with open('/content/style.css', 'r') as f:\n",
        "  css = f.read()\n",
        "\n",
        "htm = HTML(f'''\\\n",
        "<html>\n",
        "  <head>\n",
        "      <style>{css}</style>\n",
        "  </head>\n",
        "  <body>\n",
        "      <div id=\"midori\">\n",
        "          <h3><span>ミドリガメ</span></h3>\n",
        "          <p><strong>最大甲長</strong>は20cm程度です</p>\n",
        "          <p><strong>野生での平均寿命</strong>は45年程度です</p>\n",
        "      </div>\n",
        "      <div id=\"yamato\">\n",
        "          <h3><span>ヤマトイシガメ</span></h3>\n",
        "          <p><strong>最大甲長</strong>は30cm程度です</p>\n",
        "          <p><strong>野生での平均寿命</strong>は15年程度です</p>\n",
        "      </div>\n",
        "      <div id=\"kusa\">\n",
        "          <h3><span>クサガメ</span></h3>\n",
        "          <p><strong>最大甲長</strong>は40cm程度です</p>\n",
        "          <p><strong>野生での平均寿命</strong>は35年程度です</p>\n",
        "      </div>\n",
        "  </body>\n",
        "</html>\n",
        "''')\n",
        "\n",
        "display(htm)"
      ],
      "metadata": {
        "colab": {
          "base_uri": "https://localhost:8080/",
          "height": 273
        },
        "id": "U8HvzzLcNkP5",
        "outputId": "c3e10a06-f4b5-45d1-bb10-1b78caf35cf0"
      },
      "execution_count": 15,
      "outputs": [
        {
          "output_type": "display_data",
          "data": {
            "text/plain": [
              "<IPython.core.display.HTML object>"
            ],
            "text/html": [
              "<html>\n",
              "  <head>\n",
              "      <style>\n",
              "/* ミドリガメの項目のフォントを明朝系にする */\n",
              "#midori {\n",
              "  font-family: serif;\n",
              "}\n",
              "\n",
              "/* ヤマトイシガメの項目のフォントを等幅にする */\n",
              "#yamato {\n",
              "  font-family: monospace;\n",
              "}\n",
              "\n",
              "/* クサガメの項目のフォントを筆記体にする */\n",
              "#kusa {\n",
              "  font-family: cursive;\n",
              "}\n",
              "</style>\n",
              "  </head>\n",
              "  <body>\n",
              "      <div id=\"midori\">\n",
              "          <h3><span>ミドリガメ</span></h3>\n",
              "          <p><strong>最大甲長</strong>は20cm程度です</p>\n",
              "          <p><strong>野生での平均寿命</strong>は45年程度です</p>\n",
              "      </div>\n",
              "      <div id=\"yamato\">\n",
              "          <h3><span>ヤマトイシガメ</span></h3>\n",
              "          <p><strong>最大甲長</strong>は30cm程度です</p>\n",
              "          <p><strong>野生での平均寿命</strong>は15年程度です</p>\n",
              "      </div>\n",
              "      <div id=\"kusa\">\n",
              "          <h3><span>クサガメ</span></h3>\n",
              "          <p><strong>最大甲長</strong>は40cm程度です</p>\n",
              "          <p><strong>野生での平均寿命</strong>は35年程度です</p>\n",
              "      </div>\n",
              "  </body>\n",
              "</html>\n"
            ]
          },
          "metadata": {}
        }
      ]
    },
    {
      "cell_type": "markdown",
      "source": [
        "#### 文字の大きさ"
      ],
      "metadata": {
        "id": "3VYfvqpoRNK3"
      }
    },
    {
      "cell_type": "markdown",
      "source": [
        "**`font-size`**プロパティでは、文字のサイズを指定することができます。  \n"
      ],
      "metadata": {
        "id": "WURGAg30RNLM"
      }
    },
    {
      "cell_type": "markdown",
      "source": [
        "以下のような値を適用することができます。\n",
        "\n",
        "〇数値  \n",
        "→ 数値に「px」「rem」「%」などの単位をつける。  \n",
        "\n",
        "〇キーワード  \n",
        "→ `xx-small`、`x-small`、`small`、`medium`、`large`、`x-large`、`xx-large` から指定する。"
      ],
      "metadata": {
        "id": "sTPbbfamRNLN"
      }
    },
    {
      "cell_type": "markdown",
      "source": [
        "サイズの違いについて確認してみましょう。"
      ],
      "metadata": {
        "id": "RjfTESiHRNLN"
      }
    },
    {
      "cell_type": "code",
      "source": [
        "%%writefile style.css\n",
        "\n",
        "/* ミドリガメの項目のサイズをsmallにする */\n",
        "#midori {\n",
        "  font-size: small;\n",
        "}\n",
        "\n",
        "/* ヤマトイシガメの項目のサイズをmediumにする */\n",
        "#yamato {\n",
        "  font-size: medium;\n",
        "}\n",
        "\n",
        "/* クサガメの項目のサイズをlargeにする */\n",
        "#kusa {\n",
        "  font-size: large;\n",
        "}"
      ],
      "metadata": {
        "colab": {
          "base_uri": "https://localhost:8080/"
        },
        "outputId": "b8e1bf17-0d2c-484a-b831-d4f4168791d0",
        "id": "htbDRALdRNLO"
      },
      "execution_count": 16,
      "outputs": [
        {
          "output_type": "stream",
          "name": "stdout",
          "text": [
            "Overwriting style.css\n"
          ]
        }
      ]
    },
    {
      "cell_type": "code",
      "source": [
        "with open('/content/style.css', 'r') as f:\n",
        "  css = f.read()\n",
        "\n",
        "htm = HTML(f'''\\\n",
        "<html>\n",
        "  <head>\n",
        "      <style>{css}</style>\n",
        "  </head>\n",
        "  <body>\n",
        "      <div id=\"midori\">\n",
        "          <h3><span>ミドリガメ</span></h3>\n",
        "          <p><strong>最大甲長</strong>は20cm程度です</p>\n",
        "          <p><strong>野生での平均寿命</strong>は45年程度です</p>\n",
        "      </div>\n",
        "      <div id=\"yamato\">\n",
        "          <h3><span>ヤマトイシガメ</span></h3>\n",
        "          <p><strong>最大甲長</strong>は30cm程度です</p>\n",
        "          <p><strong>野生での平均寿命</strong>は15年程度です</p>\n",
        "      </div>\n",
        "      <div id=\"kusa\">\n",
        "          <h3><span>クサガメ</span></h3>\n",
        "          <p><strong>最大甲長</strong>は40cm程度です</p>\n",
        "          <p><strong>野生での平均寿命</strong>は35年程度です</p>\n",
        "      </div>\n",
        "  </body>\n",
        "</html>\n",
        "''')\n",
        "\n",
        "display(htm)"
      ],
      "metadata": {
        "colab": {
          "base_uri": "https://localhost:8080/",
          "height": 299
        },
        "outputId": "582648aa-36b3-4b2e-a437-21ff521ba331",
        "id": "fsdYC8EbRNLP"
      },
      "execution_count": 17,
      "outputs": [
        {
          "output_type": "display_data",
          "data": {
            "text/plain": [
              "<IPython.core.display.HTML object>"
            ],
            "text/html": [
              "<html>\n",
              "  <head>\n",
              "      <style>\n",
              "/* ミドリガメの項目のサイズをsmallにする */\n",
              "#midori {\n",
              "  font-size: small;\n",
              "}\n",
              "\n",
              "/* ヤマトイシガメの項目のサイズをmediumにする */\n",
              "#yamato {\n",
              "  font-size: medium;\n",
              "}\n",
              "\n",
              "/* クサガメの項目のサイズをlargeにする */\n",
              "#kusa {\n",
              "  font-size: large;\n",
              "}\n",
              "</style>\n",
              "  </head>\n",
              "  <body>\n",
              "      <div id=\"midori\">\n",
              "          <h3><span>ミドリガメ</span></h3>\n",
              "          <p><strong>最大甲長</strong>は20cm程度です</p>\n",
              "          <p><strong>野生での平均寿命</strong>は45年程度です</p>\n",
              "      </div>\n",
              "      <div id=\"yamato\">\n",
              "          <h3><span>ヤマトイシガメ</span></h3>\n",
              "          <p><strong>最大甲長</strong>は30cm程度です</p>\n",
              "          <p><strong>野生での平均寿命</strong>は15年程度です</p>\n",
              "      </div>\n",
              "      <div id=\"kusa\">\n",
              "          <h3><span>クサガメ</span></h3>\n",
              "          <p><strong>最大甲長</strong>は40cm程度です</p>\n",
              "          <p><strong>野生での平均寿命</strong>は35年程度です</p>\n",
              "      </div>\n",
              "  </body>\n",
              "</html>\n"
            ]
          },
          "metadata": {}
        }
      ]
    },
    {
      "cell_type": "markdown",
      "source": [
        "#### 文字の太さ"
      ],
      "metadata": {
        "id": "xkB81OwUSJs4"
      }
    },
    {
      "cell_type": "markdown",
      "source": [
        "**`font-weight`**プロパティでは、文字の太さを指定することができます。  \n"
      ],
      "metadata": {
        "id": "Q2PyIr1KSJs5"
      }
    },
    {
      "cell_type": "markdown",
      "source": [
        "以下のような値を適用することができます。\n",
        "\n",
        "〇数値  \n",
        "→ 1~1000までの任意の数値を指定する。  \n",
        "\n",
        "〇キーワード  \n",
        "→ `normal`(標準)、`bold`(太字)、`lighter`(一段階細く)、 `bolder`(一段階太く) から指定する。\n"
      ],
      "metadata": {
        "id": "dfCps9PQSJs5"
      }
    },
    {
      "cell_type": "markdown",
      "source": [
        "太さの違いについて確認してみましょう。"
      ],
      "metadata": {
        "id": "2adSQzeOSJs6"
      }
    },
    {
      "cell_type": "code",
      "source": [
        "%%writefile style.css\n",
        "\n",
        "/* ミドリガメの項目の太さはそのままにする */\n",
        "#midori {\n",
        "  font-weight: normal;\n",
        "}\n",
        "\n",
        "/* ヤマトイシガメの項目の太さをlighterにする */\n",
        "#yamato {\n",
        "  font-weight: lighter;\n",
        "}\n",
        "\n",
        "/* クサガメの項目の太さをbolderにする */\n",
        "#kusa {\n",
        "  font-weight: bolder;\n",
        "}"
      ],
      "metadata": {
        "colab": {
          "base_uri": "https://localhost:8080/"
        },
        "outputId": "24d1a65e-c97e-4989-e85c-2444e7c0449b",
        "id": "fz-V10HMSJs6"
      },
      "execution_count": 18,
      "outputs": [
        {
          "output_type": "stream",
          "name": "stdout",
          "text": [
            "Overwriting style.css\n"
          ]
        }
      ]
    },
    {
      "cell_type": "code",
      "source": [
        "with open('/content/style.css', 'r') as f:\n",
        "  css = f.read()\n",
        "\n",
        "htm = HTML(f'''\\\n",
        "<html>\n",
        "  <head>\n",
        "      <style>{css}</style>\n",
        "  </head>\n",
        "  <body>\n",
        "      <div id=\"midori\">\n",
        "          <h3><span>ミドリガメ</span></h3>\n",
        "          <p>最大甲長は20cm程度です</p>\n",
        "          <p>野生での平均寿命は45年程度です</p>\n",
        "      </div>\n",
        "      <div id=\"yamato\">\n",
        "          <h3><span>ヤマトイシガメ</span></h3>\n",
        "          <p>最大甲長は30cm程度です</p>\n",
        "          <p>野生での平均寿命は15年程度です</p>\n",
        "      </div>\n",
        "      <div id=\"kusa\">\n",
        "          <h3><span>クサガメ</span></h3>\n",
        "          <p>最大甲長は40cm程度です</p>\n",
        "          <p>野生での平均寿命は35年程度です</p>\n",
        "      </div>\n",
        "  </body>\n",
        "</html>\n",
        "''')\n",
        "\n",
        "display(htm)"
      ],
      "metadata": {
        "colab": {
          "base_uri": "https://localhost:8080/",
          "height": 273
        },
        "outputId": "b05d063b-e5e8-4711-a595-fd0ba2167202",
        "id": "S8rgb5cySJs7"
      },
      "execution_count": 19,
      "outputs": [
        {
          "output_type": "display_data",
          "data": {
            "text/plain": [
              "<IPython.core.display.HTML object>"
            ],
            "text/html": [
              "<html>\n",
              "  <head>\n",
              "      <style>\n",
              "/* ミドリガメの項目の太さはそのままにする */\n",
              "#midori {\n",
              "  font-weight: normal;\n",
              "}\n",
              "\n",
              "/* ヤマトイシガメの項目の太さをlighterにする */\n",
              "#yamato {\n",
              "  font-weight: lighter;\n",
              "}\n",
              "\n",
              "/* クサガメの項目の太さをbolderにする */\n",
              "#kusa {\n",
              "  font-weight: bolder;\n",
              "}\n",
              "</style>\n",
              "  </head>\n",
              "  <body>\n",
              "      <div id=\"midori\">\n",
              "          <h3><span>ミドリガメ</span></h3>\n",
              "          <p>最大甲長は20cm程度です</p>\n",
              "          <p>野生での平均寿命は45年程度です</p>\n",
              "      </div>\n",
              "      <div id=\"yamato\">\n",
              "          <h3><span>ヤマトイシガメ</span></h3>\n",
              "          <p>最大甲長は30cm程度です</p>\n",
              "          <p>野生での平均寿命は15年程度です</p>\n",
              "      </div>\n",
              "      <div id=\"kusa\">\n",
              "          <h3><span>クサガメ</span></h3>\n",
              "          <p>最大甲長は40cm程度です</p>\n",
              "          <p>野生での平均寿命は35年程度です</p>\n",
              "      </div>\n",
              "  </body>\n",
              "</html>\n"
            ]
          },
          "metadata": {}
        }
      ]
    },
    {
      "cell_type": "markdown",
      "source": [
        "#### 文字列の水平方向の配置"
      ],
      "metadata": {
        "id": "bElO-iPbUWAm"
      }
    },
    {
      "cell_type": "markdown",
      "source": [
        "**`text-align`**プロパティでは、文字列の水平方向の配置方法を指定することができます。  \n"
      ],
      "metadata": {
        "id": "1JnR9UxhUWAt"
      }
    },
    {
      "cell_type": "markdown",
      "source": [
        "以下のような値を適用することができます。 \n",
        "\n",
        "〇キーワード  \n",
        "→ `left`(左揃え)、`right`(右揃え)、`center`(中央揃え)、`justify`(両端揃え) から指定する。"
      ],
      "metadata": {
        "id": "Jco6gBqCUWAu"
      }
    },
    {
      "cell_type": "markdown",
      "source": [
        "配置の違いについて確認してみましょう。"
      ],
      "metadata": {
        "id": "p674y0apUWAv"
      }
    },
    {
      "cell_type": "code",
      "source": [
        "%%writefile style.css\n",
        "\n",
        "/* ミドリガメの項目は左揃えにする */\n",
        "#midori {\n",
        "  text-align: left;\n",
        "}\n",
        "\n",
        "/* ヤマトイシガメの項目は中央揃えにする */\n",
        "#yamato {\n",
        "  text-align: center;\n",
        "}\n",
        "\n",
        "/* クサガメの項目は右揃えにする */\n",
        "#kusa {\n",
        "  text-align: right;\n",
        "}"
      ],
      "metadata": {
        "colab": {
          "base_uri": "https://localhost:8080/"
        },
        "outputId": "1c992ea6-3abe-409f-86f1-d882da44ac7a",
        "id": "kSG8QAwAUWAw"
      },
      "execution_count": 20,
      "outputs": [
        {
          "output_type": "stream",
          "name": "stdout",
          "text": [
            "Overwriting style.css\n"
          ]
        }
      ]
    },
    {
      "cell_type": "code",
      "source": [
        "with open('/content/style.css', 'r') as f:\n",
        "  css = f.read()\n",
        "\n",
        "htm = HTML(f'''\\\n",
        "<html>\n",
        "  <head>\n",
        "      <style>{css}</style>\n",
        "  </head>\n",
        "  <body>\n",
        "      <div id=\"midori\">\n",
        "          <h3><span>ミドリガメ</span></h3>\n",
        "          <p><strong>最大甲長</strong>は20cm程度です</p>\n",
        "          <p><strong>野生での平均寿命</strong>は45年程度です</p>\n",
        "      </div>\n",
        "      <div id=\"yamato\">\n",
        "          <h3><span>ヤマトイシガメ</span></h3>\n",
        "          <p><strong>最大甲長</strong>は30cm程度です</p>\n",
        "          <p><strong>野生での平均寿命</strong>は15年程度です</p>\n",
        "      </div>\n",
        "      <div id=\"kusa\">\n",
        "          <h3><span>クサガメ</span></h3>\n",
        "          <p><strong>最大甲長</strong>は40cm程度です</p>\n",
        "          <p><strong>野生での平均寿命</strong>は35年程度です</p>\n",
        "      </div>\n",
        "  </body>\n",
        "</html>\n",
        "''')\n",
        "\n",
        "display(htm)"
      ],
      "metadata": {
        "colab": {
          "base_uri": "https://localhost:8080/",
          "height": 273
        },
        "outputId": "bcf98ec2-e853-42b2-d341-69749af095d4",
        "id": "uf24NzHFUWAx"
      },
      "execution_count": 21,
      "outputs": [
        {
          "output_type": "display_data",
          "data": {
            "text/plain": [
              "<IPython.core.display.HTML object>"
            ],
            "text/html": [
              "<html>\n",
              "  <head>\n",
              "      <style>\n",
              "/* ミドリガメの項目は左揃えにする */\n",
              "#midori {\n",
              "  text-align: left;\n",
              "}\n",
              "\n",
              "/* ヤマトイシガメの項目は中央揃えにする */\n",
              "#yamato {\n",
              "  text-align: center;\n",
              "}\n",
              "\n",
              "/* クサガメの項目は右揃えにする */\n",
              "#kusa {\n",
              "  text-align: right;\n",
              "}\n",
              "</style>\n",
              "  </head>\n",
              "  <body>\n",
              "      <div id=\"midori\">\n",
              "          <h3><span>ミドリガメ</span></h3>\n",
              "          <p><strong>最大甲長</strong>は20cm程度です</p>\n",
              "          <p><strong>野生での平均寿命</strong>は45年程度です</p>\n",
              "      </div>\n",
              "      <div id=\"yamato\">\n",
              "          <h3><span>ヤマトイシガメ</span></h3>\n",
              "          <p><strong>最大甲長</strong>は30cm程度です</p>\n",
              "          <p><strong>野生での平均寿命</strong>は15年程度です</p>\n",
              "      </div>\n",
              "      <div id=\"kusa\">\n",
              "          <h3><span>クサガメ</span></h3>\n",
              "          <p><strong>最大甲長</strong>は40cm程度です</p>\n",
              "          <p><strong>野生での平均寿命</strong>は35年程度です</p>\n",
              "      </div>\n",
              "  </body>\n",
              "</html>\n"
            ]
          },
          "metadata": {}
        }
      ]
    },
    {
      "cell_type": "markdown",
      "source": [
        "#### 文字列の装飾"
      ],
      "metadata": {
        "id": "EE4kI-tctJRR"
      }
    },
    {
      "cell_type": "markdown",
      "source": [
        "**`text-decoration`**プロパティでは、文字列の装飾方法を指定することができます。  \n"
      ],
      "metadata": {
        "id": "tlg_lPIytJRp"
      }
    },
    {
      "cell_type": "markdown",
      "source": [
        "以下のような値を適用することができます。 \n",
        "\n",
        "〇キーワード  \n",
        "→ `underline`(下線)、`line-through`(打ち消し線)、`overline`(強調) から指定する。"
      ],
      "metadata": {
        "id": "3neeCT_AtJRq"
      }
    },
    {
      "cell_type": "markdown",
      "source": [
        "文字列を装飾してみましょう。"
      ],
      "metadata": {
        "id": "H4_oVXh1tJRq"
      }
    },
    {
      "cell_type": "code",
      "source": [
        "%%writefile style.css\n",
        "\n",
        "/* ミドリガメの項目は赤い下線を引く */\n",
        "#midori {\n",
        "  text-decoration: underline red;\n",
        "}\n",
        "\n",
        "/* ヤマトイシガメの項目は青い打ち消し線を引く */\n",
        "#yamato {\n",
        "  text-decoration: line-through blue;\n",
        "}\n",
        "\n",
        "/* クサガメの項目は強調する（上線を引く） */\n",
        "#kusa {\n",
        "  text-decoration: overline;\n",
        "}"
      ],
      "metadata": {
        "colab": {
          "base_uri": "https://localhost:8080/"
        },
        "outputId": "bf005c7e-4353-4a4b-f55f-74735cfbff06",
        "id": "URTCGQ0WtJRr"
      },
      "execution_count": 22,
      "outputs": [
        {
          "output_type": "stream",
          "name": "stdout",
          "text": [
            "Overwriting style.css\n"
          ]
        }
      ]
    },
    {
      "cell_type": "code",
      "source": [
        "with open('/content/style.css', 'r') as f:\n",
        "  css = f.read()\n",
        "\n",
        "htm = HTML(f'''\\\n",
        "<html>\n",
        "  <head>\n",
        "      <style>{css}</style>\n",
        "  </head>\n",
        "  <body>\n",
        "      <div id=\"midori\">\n",
        "          <h3><span>ミドリガメ</span></h3>\n",
        "          <p><strong>最大甲長</strong>は20cm程度です</p>\n",
        "          <p><strong>野生での平均寿命</strong>は45年程度です</p>\n",
        "      </div>\n",
        "      <div id=\"yamato\">\n",
        "          <h3><span>ヤマトイシガメ</span></h3>\n",
        "          <p><strong>最大甲長</strong>は30cm程度です</p>\n",
        "          <p><strong>野生での平均寿命</strong>は15年程度です</p>\n",
        "      </div>\n",
        "      <div id=\"kusa\">\n",
        "          <h3><span>クサガメ</span></h3>\n",
        "          <p><strong>最大甲長</strong>は40cm程度です</p>\n",
        "          <p><strong>野生での平均寿命</strong>は35年程度です</p>\n",
        "      </div>\n",
        "  </body>\n",
        "</html>\n",
        "''')\n",
        "\n",
        "display(htm)"
      ],
      "metadata": {
        "colab": {
          "base_uri": "https://localhost:8080/",
          "height": 273
        },
        "outputId": "1a6aad8d-1931-4f63-c632-6f582084bd6a",
        "id": "Tq9QbKORtJRs"
      },
      "execution_count": 23,
      "outputs": [
        {
          "output_type": "display_data",
          "data": {
            "text/plain": [
              "<IPython.core.display.HTML object>"
            ],
            "text/html": [
              "<html>\n",
              "  <head>\n",
              "      <style>\n",
              "/* ミドリガメの項目は赤い下線を引く */\n",
              "#midori {\n",
              "  text-decoration: underline red;\n",
              "}\n",
              "\n",
              "/* ヤマトイシガメの項目は青い打ち消し線を引く */\n",
              "#yamato {\n",
              "  text-decoration: line-through blue;\n",
              "}\n",
              "\n",
              "/* クサガメの項目は強調する（上線を引く） */\n",
              "#kusa {\n",
              "  text-decoration: overline;\n",
              "}\n",
              "</style>\n",
              "  </head>\n",
              "  <body>\n",
              "      <div id=\"midori\">\n",
              "          <h3><span>ミドリガメ</span></h3>\n",
              "          <p><strong>最大甲長</strong>は20cm程度です</p>\n",
              "          <p><strong>野生での平均寿命</strong>は45年程度です</p>\n",
              "      </div>\n",
              "      <div id=\"yamato\">\n",
              "          <h3><span>ヤマトイシガメ</span></h3>\n",
              "          <p><strong>最大甲長</strong>は30cm程度です</p>\n",
              "          <p><strong>野生での平均寿命</strong>は15年程度です</p>\n",
              "      </div>\n",
              "      <div id=\"kusa\">\n",
              "          <h3><span>クサガメ</span></h3>\n",
              "          <p><strong>最大甲長</strong>は40cm程度です</p>\n",
              "          <p><strong>野生での平均寿命</strong>は35年程度です</p>\n",
              "      </div>\n",
              "  </body>\n",
              "</html>\n"
            ]
          },
          "metadata": {}
        }
      ]
    },
    {
      "cell_type": "markdown",
      "source": [
        "#### 行の高さ"
      ],
      "metadata": {
        "id": "_UOIX7KbvMo-"
      }
    },
    {
      "cell_type": "markdown",
      "source": [
        "**`line-height`**プロパティでは、行の高さ（行間）を指定することができます。  \n",
        "\n",
        "おすすめの数値は**1.5~1.9**だそうです。\n"
      ],
      "metadata": {
        "id": "fuNxTkk9vMpE"
      }
    },
    {
      "cell_type": "markdown",
      "source": [
        "行の高さを変更してみましょう。"
      ],
      "metadata": {
        "id": "II_iY3xgvMpF"
      }
    },
    {
      "cell_type": "code",
      "source": [
        "%%writefile style.css\n",
        "\n",
        "/* ミドリガメの項目は行の高さはそのまま */\n",
        "#midori {\n",
        "  line-height: normal;\n",
        "  background-color: #DDFFDD;\n",
        "}\n",
        "\n",
        "/* ヤマトイシガメの項目は行の高さを\"1.7\"にする */\n",
        "#yamato {\n",
        "  line-height: 1.7;\n",
        "  background-color: #D3DEF1;\n",
        "}\n",
        "\n",
        "/* クサガメの項目は行の高さを\"2.5\"にする */\n",
        "#kusa {\n",
        "  line-height: 2.5;\n",
        "  background-color: #fff3b8;\n",
        "}"
      ],
      "metadata": {
        "colab": {
          "base_uri": "https://localhost:8080/"
        },
        "outputId": "21612bcc-0261-4dd1-ac23-5d37cefcbd8e",
        "id": "xrDx3i5MvMpF"
      },
      "execution_count": 24,
      "outputs": [
        {
          "output_type": "stream",
          "name": "stdout",
          "text": [
            "Overwriting style.css\n"
          ]
        }
      ]
    },
    {
      "cell_type": "code",
      "source": [
        "with open('/content/style.css', 'r') as f:\n",
        "  css = f.read()\n",
        "\n",
        "htm = HTML(f'''\\\n",
        "<html>\n",
        "  <head>\n",
        "      <style>{css}</style>\n",
        "  </head>\n",
        "  <body>\n",
        "      <div id=\"midori\">\n",
        "          <h3><span>ミドリガメ</span></h3>\n",
        "          <p><strong>最大甲長</strong>は20cm程度です</p>\n",
        "          <p><strong>野生での平均寿命</strong>は45年程度です</p>\n",
        "      </div>\n",
        "      <div id=\"yamato\">\n",
        "          <h3><span>ヤマトイシガメ</span></h3>\n",
        "          <p><strong>最大甲長</strong>は30cm程度です</p>\n",
        "          <p><strong>野生での平均寿命</strong>は15年程度です</p>\n",
        "      </div>\n",
        "      <div id=\"kusa\">\n",
        "          <h3><span>クサガメ</span></h3>\n",
        "          <p><strong>最大甲長</strong>は40cm程度です</p>\n",
        "          <p><strong>野生での平均寿命</strong>は35年程度です</p>\n",
        "      </div>\n",
        "  </body>\n",
        "</html>\n",
        "''')\n",
        "\n",
        "display(htm)"
      ],
      "metadata": {
        "colab": {
          "base_uri": "https://localhost:8080/",
          "height": 360
        },
        "outputId": "aa123d18-a745-4412-ced3-6c1c97693542",
        "id": "c9G_1T34vMpG"
      },
      "execution_count": 25,
      "outputs": [
        {
          "output_type": "display_data",
          "data": {
            "text/plain": [
              "<IPython.core.display.HTML object>"
            ],
            "text/html": [
              "<html>\n",
              "  <head>\n",
              "      <style>\n",
              "/* ミドリガメの項目は行の高さはそのまま */\n",
              "#midori {\n",
              "  line-height: normal;\n",
              "  background-color: #DDFFDD;\n",
              "}\n",
              "\n",
              "/* ヤマトイシガメの項目は行の高さを\"1.7\"にする */\n",
              "#yamato {\n",
              "  line-height: 1.7;\n",
              "  background-color: #D3DEF1;\n",
              "}\n",
              "\n",
              "/* クサガメの項目は行の高さを\"2.5\"にする */\n",
              "#kusa {\n",
              "  line-height: 2.5;\n",
              "  background-color: #fff3b8;\n",
              "}\n",
              "</style>\n",
              "  </head>\n",
              "  <body>\n",
              "      <div id=\"midori\">\n",
              "          <h3><span>ミドリガメ</span></h3>\n",
              "          <p><strong>最大甲長</strong>は20cm程度です</p>\n",
              "          <p><strong>野生での平均寿命</strong>は45年程度です</p>\n",
              "      </div>\n",
              "      <div id=\"yamato\">\n",
              "          <h3><span>ヤマトイシガメ</span></h3>\n",
              "          <p><strong>最大甲長</strong>は30cm程度です</p>\n",
              "          <p><strong>野生での平均寿命</strong>は15年程度です</p>\n",
              "      </div>\n",
              "      <div id=\"kusa\">\n",
              "          <h3><span>クサガメ</span></h3>\n",
              "          <p><strong>最大甲長</strong>は40cm程度です</p>\n",
              "          <p><strong>野生での平均寿命</strong>は35年程度です</p>\n",
              "      </div>\n",
              "  </body>\n",
              "</html>\n"
            ]
          },
          "metadata": {}
        }
      ]
    },
    {
      "cell_type": "markdown",
      "source": [
        "### 色を付ける"
      ],
      "metadata": {
        "id": "tPJnzrYIzB7i"
      }
    },
    {
      "cell_type": "markdown",
      "source": [
        "文字や背景の色を指定するには、**カラーコード**を使用する方法や、  \n",
        "**RGB値**を使用する方法などがあります。  \n",
        "\n",
        "RGB値を指定したときは、透明度を表す**Alpha値**を指定することができます。  \n",
        "RGB各値は0から255まで、透明度は0から1までの間で記述します。"
      ],
      "metadata": {
        "id": "e8vHYbZGzH3S"
      }
    },
    {
      "cell_type": "markdown",
      "source": [
        "#### 文字に色を付ける"
      ],
      "metadata": {
        "id": "GXutzCxl2gzw"
      }
    },
    {
      "cell_type": "markdown",
      "source": [
        "**`color`**プロパティでは、テキストの色を指定することができます。  \n",
        "\n"
      ],
      "metadata": {
        "id": "66oGd_h22gz4"
      }
    },
    {
      "cell_type": "markdown",
      "source": [
        "文字の色を変更してみましょう。"
      ],
      "metadata": {
        "id": "ZLAUGVAS2gz5"
      }
    },
    {
      "cell_type": "code",
      "source": [
        "%%writefile style.css\n",
        "\n",
        "/* ミドリガメの項目はキーワードを使って文字色を赤色にする */\n",
        "#midori {\n",
        "  color: red;\n",
        "}\n",
        "\n",
        "/* ヤマトイシガメの項目はRGB値を使って文字色を緑色にする */\n",
        "#yamato {\n",
        "  color: rgb(0, 255, 0);\n",
        "}\n",
        "\n",
        "/* クサガメの項目はRGBA値を使って文字色を緑色にする */\n",
        "/* 透明度はかなり高めに設定する */\n",
        "#kusa {\n",
        "  color: rgb(0, 0, 255, 0.2);\n",
        "}"
      ],
      "metadata": {
        "colab": {
          "base_uri": "https://localhost:8080/"
        },
        "outputId": "278ef593-b910-46c9-f70f-f168300054af",
        "id": "7obsySP_2gz6"
      },
      "execution_count": 26,
      "outputs": [
        {
          "output_type": "stream",
          "name": "stdout",
          "text": [
            "Overwriting style.css\n"
          ]
        }
      ]
    },
    {
      "cell_type": "code",
      "source": [
        "with open('/content/style.css', 'r') as f:\n",
        "  css = f.read()\n",
        "\n",
        "htm = HTML(f'''\\\n",
        "<html>\n",
        "  <head>\n",
        "      <style>{css}</style>\n",
        "  </head>\n",
        "  <body>\n",
        "      <div id=\"midori\">\n",
        "          <h3><span>ミドリガメ</span></h3>\n",
        "          <p><strong>最大甲長</strong>は20cm程度です</p>\n",
        "          <p><strong>野生での平均寿命</strong>は45年程度です</p>\n",
        "      </div>\n",
        "      <div id=\"yamato\">\n",
        "          <h3><span>ヤマトイシガメ</span></h3>\n",
        "          <p><strong>最大甲長</strong>は30cm程度です</p>\n",
        "          <p><strong>野生での平均寿命</strong>は15年程度です</p>\n",
        "      </div>\n",
        "      <div id=\"kusa\">\n",
        "          <h3><span>クサガメ</span></h3>\n",
        "          <p><strong>最大甲長</strong>は40cm程度です</p>\n",
        "          <p><strong>野生での平均寿命</strong>は35年程度です</p>\n",
        "      </div>\n",
        "  </body>\n",
        "</html>\n",
        "''')\n",
        "\n",
        "display(htm)"
      ],
      "metadata": {
        "colab": {
          "base_uri": "https://localhost:8080/",
          "height": 273
        },
        "outputId": "f5a9a02c-a91f-4117-8fd6-04bc9e776ad3",
        "id": "M4trfeHw2gz7"
      },
      "execution_count": 27,
      "outputs": [
        {
          "output_type": "display_data",
          "data": {
            "text/plain": [
              "<IPython.core.display.HTML object>"
            ],
            "text/html": [
              "<html>\n",
              "  <head>\n",
              "      <style>\n",
              "/* ミドリガメの項目はキーワードを使って文字色を赤色にする */\n",
              "#midori {\n",
              "  color: red;\n",
              "}\n",
              "\n",
              "/* ヤマトイシガメの項目はRGB値を使って文字色を緑色にする */\n",
              "#yamato {\n",
              "  color: rgb(0, 255, 0);\n",
              "}\n",
              "\n",
              "/* クサガメの項目はRGBA値を使って文字色を緑色にする */\n",
              "/* 透明度はかなり高めに設定する */\n",
              "#kusa {\n",
              "  color: rgb(0, 0, 255, 0.2);\n",
              "}\n",
              "</style>\n",
              "  </head>\n",
              "  <body>\n",
              "      <div id=\"midori\">\n",
              "          <h3><span>ミドリガメ</span></h3>\n",
              "          <p><strong>最大甲長</strong>は20cm程度です</p>\n",
              "          <p><strong>野生での平均寿命</strong>は45年程度です</p>\n",
              "      </div>\n",
              "      <div id=\"yamato\">\n",
              "          <h3><span>ヤマトイシガメ</span></h3>\n",
              "          <p><strong>最大甲長</strong>は30cm程度です</p>\n",
              "          <p><strong>野生での平均寿命</strong>は15年程度です</p>\n",
              "      </div>\n",
              "      <div id=\"kusa\">\n",
              "          <h3><span>クサガメ</span></h3>\n",
              "          <p><strong>最大甲長</strong>は40cm程度です</p>\n",
              "          <p><strong>野生での平均寿命</strong>は35年程度です</p>\n",
              "      </div>\n",
              "  </body>\n",
              "</html>\n"
            ]
          },
          "metadata": {}
        }
      ]
    },
    {
      "cell_type": "markdown",
      "source": [
        "#### 背景に色を付ける"
      ],
      "metadata": {
        "id": "5VbZZoa85E0P"
      }
    },
    {
      "cell_type": "markdown",
      "source": [
        "**`background-color`**プロパティでは、背景の色を指定することができます。  \n",
        "これまでも散々出てきました。\n",
        "\n"
      ],
      "metadata": {
        "id": "1p586VsT5E0Q"
      }
    },
    {
      "cell_type": "markdown",
      "source": [
        "背景の色を変更してみましょう。  \n",
        "ページ全体の背景に色を付けたいときは、`body`タグに対して指定します。"
      ],
      "metadata": {
        "id": "lOVg8RKH5E0Q"
      }
    },
    {
      "cell_type": "code",
      "source": [
        "%%writefile style.css\n",
        "\n",
        "/* bodyタグ内の要素の背景色を薄い灰色にする */\n",
        "body {\n",
        "  background-color: #F2F2F2;\n",
        "}\n",
        "\n",
        "/* spanタグ内の要素の背景色を薄い緑色にする */\n",
        "span {\n",
        "  background-color: #DDFFDD\n",
        "}"
      ],
      "metadata": {
        "colab": {
          "base_uri": "https://localhost:8080/"
        },
        "outputId": "bfe5f6fd-9a3f-405d-af1e-4eab4d12ddaf",
        "id": "ja48e34d5E0R"
      },
      "execution_count": 28,
      "outputs": [
        {
          "output_type": "stream",
          "name": "stdout",
          "text": [
            "Overwriting style.css\n"
          ]
        }
      ]
    },
    {
      "cell_type": "code",
      "source": [
        "with open('/content/style.css', 'r') as f:\n",
        "  css = f.read()\n",
        "\n",
        "htm = HTML(f'''\\\n",
        "<html>\n",
        "  <head>\n",
        "      <style>{css}</style>\n",
        "  </head>\n",
        "  <body>\n",
        "      <div id=\"midori\">\n",
        "          <h3><span>ミドリガメ</span></h3>\n",
        "          <p><strong>最大甲長</strong>は20cm程度です</p>\n",
        "          <p><strong>野生での平均寿命</strong>は45年程度です</p>\n",
        "      </div>\n",
        "      <div id=\"yamato\">\n",
        "          <h3><span>ヤマトイシガメ</span></h3>\n",
        "          <p><strong>最大甲長</strong>は30cm程度です</p>\n",
        "          <p><strong>野生での平均寿命</strong>は15年程度です</p>\n",
        "      </div>\n",
        "      <div id=\"kusa\">\n",
        "          <h3><span>クサガメ</span></h3>\n",
        "          <p><strong>最大甲長</strong>は40cm程度です</p>\n",
        "          <p><strong>野生での平均寿命</strong>は35年程度です</p>\n",
        "      </div>\n",
        "  </body>\n",
        "</html>\n",
        "''')\n",
        "\n",
        "display(htm)"
      ],
      "metadata": {
        "colab": {
          "base_uri": "https://localhost:8080/",
          "height": 273
        },
        "outputId": "015d34c4-b32c-4f78-9ab8-56e167667e36",
        "id": "gIkzBiNt5E0S"
      },
      "execution_count": 29,
      "outputs": [
        {
          "output_type": "display_data",
          "data": {
            "text/plain": [
              "<IPython.core.display.HTML object>"
            ],
            "text/html": [
              "<html>\n",
              "  <head>\n",
              "      <style>\n",
              "/* bodyタグ内の要素の背景色を薄い灰色にする */\n",
              "body {\n",
              "  background-color: #F2F2F2;\n",
              "}\n",
              "\n",
              "/* spanタグ内の要素の背景色を薄い緑色にする */\n",
              "span {\n",
              "  background-color: #DDFFDD\n",
              "}\n",
              "</style>\n",
              "  </head>\n",
              "  <body>\n",
              "      <div id=\"midori\">\n",
              "          <h3><span>ミドリガメ</span></h3>\n",
              "          <p><strong>最大甲長</strong>は20cm程度です</p>\n",
              "          <p><strong>野生での平均寿命</strong>は45年程度です</p>\n",
              "      </div>\n",
              "      <div id=\"yamato\">\n",
              "          <h3><span>ヤマトイシガメ</span></h3>\n",
              "          <p><strong>最大甲長</strong>は30cm程度です</p>\n",
              "          <p><strong>野生での平均寿命</strong>は15年程度です</p>\n",
              "      </div>\n",
              "      <div id=\"kusa\">\n",
              "          <h3><span>クサガメ</span></h3>\n",
              "          <p><strong>最大甲長</strong>は40cm程度です</p>\n",
              "          <p><strong>野生での平均寿命</strong>は35年程度です</p>\n",
              "      </div>\n",
              "  </body>\n",
              "</html>\n"
            ]
          },
          "metadata": {}
        }
      ]
    },
    {
      "cell_type": "markdown",
      "source": [
        "### 背景に画像を設置する"
      ],
      "metadata": {
        "id": "WgEuwn3q6NhP"
      }
    },
    {
      "cell_type": "markdown",
      "source": [
        "背景に画像を設定する際に必要なプロパティは、  \n",
        "以下に紹介する3つが主なものになります。"
      ],
      "metadata": {
        "id": "6mDpDvxz7D07"
      }
    },
    {
      "cell_type": "markdown",
      "source": [
        "#### 背景画像を指定"
      ],
      "metadata": {
        "id": "RZqFNoPs7MXH"
      }
    },
    {
      "cell_type": "markdown",
      "source": [
        "**`background-image`**プロパティでは、背景画像を指定します。  \n",
        "\n",
        "値には画像のファイルパスやURLを指定します。\n",
        "\n"
      ],
      "metadata": {
        "id": "LRS5rvMq7MXI"
      }
    },
    {
      "cell_type": "markdown",
      "source": [
        "とりあえず背景に画像を設置してみましょう。  \n",
        "今回設置する画像はこちらです。\n",
        "\n",
        "![](https://imgur.com/VctMf95.png)"
      ],
      "metadata": {
        "id": "kiU9W9Xe7MXJ"
      }
    },
    {
      "cell_type": "code",
      "source": [
        "%%writefile style.css\n",
        "\n",
        "/* 背景画像を設定する */\n",
        "body {\n",
        "  background-image: url(https://imgur.com/VctMf95.png);\n",
        "}"
      ],
      "metadata": {
        "colab": {
          "base_uri": "https://localhost:8080/"
        },
        "outputId": "8dde9a5b-8c63-4ab5-9686-77c8a558c8be",
        "id": "PsRNd0LT7MXJ"
      },
      "execution_count": 30,
      "outputs": [
        {
          "output_type": "stream",
          "name": "stdout",
          "text": [
            "Overwriting style.css\n"
          ]
        }
      ]
    },
    {
      "cell_type": "code",
      "source": [
        "with open('/content/style.css', 'r') as f:\n",
        "  css = f.read()\n",
        "\n",
        "htm = HTML(f'''\\\n",
        "<html>\n",
        "  <head>\n",
        "      <style>{css}</style>\n",
        "  </head>\n",
        "  <body>\n",
        "      <div id=\"midori\">\n",
        "          <h3><span>ミドリガメ</span></h3>\n",
        "          <p><strong>最大甲長</strong>は20cm程度です</p>\n",
        "          <p><strong>野生での平均寿命</strong>は45年程度です</p>\n",
        "      </div>\n",
        "      <div id=\"yamato\">\n",
        "          <h3><span>ヤマトイシガメ</span></h3>\n",
        "          <p><strong>最大甲長</strong>は30cm程度です</p>\n",
        "          <p><strong>野生での平均寿命</strong>は15年程度です</p>\n",
        "      </div>\n",
        "      <div id=\"kusa\">\n",
        "          <h3><span>クサガメ</span></h3>\n",
        "          <p><strong>最大甲長</strong>は40cm程度です</p>\n",
        "          <p><strong>野生での平均寿命</strong>は35年程度です</p>\n",
        "      </div>\n",
        "  </body>\n",
        "</html>\n",
        "''')\n",
        "\n",
        "display(htm)"
      ],
      "metadata": {
        "colab": {
          "base_uri": "https://localhost:8080/",
          "height": 273
        },
        "outputId": "38856b5a-c05c-414f-f3ad-f7cdcefebefa",
        "id": "olnHibWm7MXL"
      },
      "execution_count": 31,
      "outputs": [
        {
          "output_type": "display_data",
          "data": {
            "text/plain": [
              "<IPython.core.display.HTML object>"
            ],
            "text/html": [
              "<html>\n",
              "  <head>\n",
              "      <style>\n",
              "/* 背景画像を設定する */\n",
              "body {\n",
              "  background-image: url(https://imgur.com/VctMf95.png);\n",
              "}\n",
              "</style>\n",
              "  </head>\n",
              "  <body>\n",
              "      <div id=\"midori\">\n",
              "          <h3><span>ミドリガメ</span></h3>\n",
              "          <p><strong>最大甲長</strong>は20cm程度です</p>\n",
              "          <p><strong>野生での平均寿命</strong>は45年程度です</p>\n",
              "      </div>\n",
              "      <div id=\"yamato\">\n",
              "          <h3><span>ヤマトイシガメ</span></h3>\n",
              "          <p><strong>最大甲長</strong>は30cm程度です</p>\n",
              "          <p><strong>野生での平均寿命</strong>は15年程度です</p>\n",
              "      </div>\n",
              "      <div id=\"kusa\">\n",
              "          <h3><span>クサガメ</span></h3>\n",
              "          <p><strong>最大甲長</strong>は40cm程度です</p>\n",
              "          <p><strong>野生での平均寿命</strong>は35年程度です</p>\n",
              "      </div>\n",
              "  </body>\n",
              "</html>\n"
            ]
          },
          "metadata": {}
        }
      ]
    },
    {
      "cell_type": "markdown",
      "source": [
        "#### 背景画像の繰り返しを設定"
      ],
      "metadata": {
        "id": "0g0v4XNP-2mW"
      }
    },
    {
      "cell_type": "markdown",
      "source": [
        "**`background-repeat`**プロパティでは、背景画像の繰り返し方を指定します。  \n",
        "\n",
        "\n"
      ],
      "metadata": {
        "id": "l1ee7tKl-2mX"
      }
    },
    {
      "cell_type": "markdown",
      "source": [
        "以下のような値を適用することができます。 \n",
        "\n",
        "〇キーワード  \n",
        "→ `repeat`(縦・横ともに繰り返す)、`no-repeat`(繰り返さない)、  \n",
        "　`repeat-x`(横方向に繰り返す) 、`repeat-y`（縦方向に繰り返す）から指定する。"
      ],
      "metadata": {
        "id": "WejkCLNF-2mX"
      }
    },
    {
      "cell_type": "markdown",
      "source": [
        "では先ほどの画像の繰り返しを設定してみましょう。  \n",
        "デフォルトでは`repeat`が設定されていました。"
      ],
      "metadata": {
        "id": "KU_yATxPAOOE"
      }
    },
    {
      "cell_type": "code",
      "source": [
        "%%writefile style.css\n",
        "\n",
        "/* 画像を縦方向に繰り返す */\n",
        "body {\n",
        "  background-image: url(https://imgur.com/VctMf95.png);\n",
        "  background-repeat: repeat-y;\n",
        "}"
      ],
      "metadata": {
        "colab": {
          "base_uri": "https://localhost:8080/"
        },
        "outputId": "4179d777-d6c4-4408-a75b-4acf2e5246cb",
        "id": "eKwheqYJ-2mY"
      },
      "execution_count": 56,
      "outputs": [
        {
          "output_type": "stream",
          "name": "stdout",
          "text": [
            "Overwriting style.css\n"
          ]
        }
      ]
    },
    {
      "cell_type": "code",
      "source": [
        "with open('/content/style.css', 'r') as f:\n",
        "  css = f.read()\n",
        "\n",
        "htm = HTML(f'''\\\n",
        "<html>\n",
        "  <head>\n",
        "      <style>{css}</style>\n",
        "  </head>\n",
        "  <body>\n",
        "      <div id=\"midori\">\n",
        "          <h3><span>ミドリガメ</span></h3>\n",
        "          <p><strong>最大甲長</strong>は20cm程度です</p>\n",
        "          <p><strong>野生での平均寿命</strong>は45年程度です</p>\n",
        "      </div>\n",
        "      <div id=\"yamato\">\n",
        "          <h3><span>ヤマトイシガメ</span></h3>\n",
        "          <p><strong>最大甲長</strong>は30cm程度です</p>\n",
        "          <p><strong>野生での平均寿命</strong>は15年程度です</p>\n",
        "      </div>\n",
        "      <div id=\"kusa\">\n",
        "          <h3><span>クサガメ</span></h3>\n",
        "          <p><strong>最大甲長</strong>は40cm程度です</p>\n",
        "          <p><strong>野生での平均寿命</strong>は35年程度です</p>\n",
        "      </div>\n",
        "  </body>\n",
        "</html>\n",
        "''')\n",
        "\n",
        "display(htm)"
      ],
      "metadata": {
        "colab": {
          "base_uri": "https://localhost:8080/",
          "height": 273
        },
        "outputId": "0a452a76-bcae-49dd-da47-5a5a61d3d590",
        "id": "kaHQXkSg-2ma"
      },
      "execution_count": 57,
      "outputs": [
        {
          "output_type": "display_data",
          "data": {
            "text/plain": [
              "<IPython.core.display.HTML object>"
            ],
            "text/html": [
              "<html>\n",
              "  <head>\n",
              "      <style>\n",
              "/* 画像を縦方向に繰り返す */\n",
              "body {\n",
              "  background-image: url(https://imgur.com/VctMf95.png);\n",
              "  background-repeat: repeat-y;\n",
              "}\n",
              "</style>\n",
              "  </head>\n",
              "  <body>\n",
              "      <div id=\"midori\">\n",
              "          <h3><span>ミドリガメ</span></h3>\n",
              "          <p><strong>最大甲長</strong>は20cm程度です</p>\n",
              "          <p><strong>野生での平均寿命</strong>は45年程度です</p>\n",
              "      </div>\n",
              "      <div id=\"yamato\">\n",
              "          <h3><span>ヤマトイシガメ</span></h3>\n",
              "          <p><strong>最大甲長</strong>は30cm程度です</p>\n",
              "          <p><strong>野生での平均寿命</strong>は15年程度です</p>\n",
              "      </div>\n",
              "      <div id=\"kusa\">\n",
              "          <h3><span>クサガメ</span></h3>\n",
              "          <p><strong>最大甲長</strong>は40cm程度です</p>\n",
              "          <p><strong>野生での平均寿命</strong>は35年程度です</p>\n",
              "      </div>\n",
              "  </body>\n",
              "</html>\n"
            ]
          },
          "metadata": {}
        }
      ]
    },
    {
      "cell_type": "code",
      "source": [
        "%%writefile style.css\n",
        "\n",
        "/* 画像を横方向に繰り返す */\n",
        "body {\n",
        "  background-image: url(https://imgur.com/VctMf95.png);\n",
        "  background-repeat: repeat-x;\n",
        "}"
      ],
      "metadata": {
        "colab": {
          "base_uri": "https://localhost:8080/"
        },
        "id": "TMz0v-SbAkmr",
        "outputId": "3c292725-cc55-4a33-aee8-f4c8fd26dcd7"
      },
      "execution_count": 58,
      "outputs": [
        {
          "output_type": "stream",
          "name": "stdout",
          "text": [
            "Overwriting style.css\n"
          ]
        }
      ]
    },
    {
      "cell_type": "code",
      "source": [
        "with open('/content/style.css', 'r') as f:\n",
        "  css = f.read()\n",
        "\n",
        "htm = HTML(f'''\\\n",
        "<html>\n",
        "  <head>\n",
        "      <style>{css}</style>\n",
        "  </head>\n",
        "  <body>\n",
        "      <div id=\"midori\">\n",
        "          <h3><span>ミドリガメ</span></h3>\n",
        "          <p><strong>最大甲長</strong>は20cm程度です</p>\n",
        "          <p><strong>野生での平均寿命</strong>は45年程度です</p>\n",
        "      </div>\n",
        "      <div id=\"yamato\">\n",
        "          <h3><span>ヤマトイシガメ</span></h3>\n",
        "          <p><strong>最大甲長</strong>は30cm程度です</p>\n",
        "          <p><strong>野生での平均寿命</strong>は15年程度です</p>\n",
        "      </div>\n",
        "      <div id=\"kusa\">\n",
        "          <h3><span>クサガメ</span></h3>\n",
        "          <p><strong>最大甲長</strong>は40cm程度です</p>\n",
        "          <p><strong>野生での平均寿命</strong>は35年程度です</p>\n",
        "      </div>\n",
        "  </body>\n",
        "</html>\n",
        "''')\n",
        "\n",
        "display(htm)"
      ],
      "metadata": {
        "colab": {
          "base_uri": "https://localhost:8080/",
          "height": 273
        },
        "id": "Xdl0WneZAnw8",
        "outputId": "a4ab53e0-ae92-4a94-99e3-5f939823911e"
      },
      "execution_count": 59,
      "outputs": [
        {
          "output_type": "display_data",
          "data": {
            "text/plain": [
              "<IPython.core.display.HTML object>"
            ],
            "text/html": [
              "<html>\n",
              "  <head>\n",
              "      <style>\n",
              "/* 画像を横方向に繰り返す */\n",
              "body {\n",
              "  background-image: url(https://imgur.com/VctMf95.png);\n",
              "  background-repeat: repeat-x;\n",
              "}\n",
              "</style>\n",
              "  </head>\n",
              "  <body>\n",
              "      <div id=\"midori\">\n",
              "          <h3><span>ミドリガメ</span></h3>\n",
              "          <p><strong>最大甲長</strong>は20cm程度です</p>\n",
              "          <p><strong>野生での平均寿命</strong>は45年程度です</p>\n",
              "      </div>\n",
              "      <div id=\"yamato\">\n",
              "          <h3><span>ヤマトイシガメ</span></h3>\n",
              "          <p><strong>最大甲長</strong>は30cm程度です</p>\n",
              "          <p><strong>野生での平均寿命</strong>は15年程度です</p>\n",
              "      </div>\n",
              "      <div id=\"kusa\">\n",
              "          <h3><span>クサガメ</span></h3>\n",
              "          <p><strong>最大甲長</strong>は40cm程度です</p>\n",
              "          <p><strong>野生での平均寿命</strong>は35年程度です</p>\n",
              "      </div>\n",
              "  </body>\n",
              "</html>\n"
            ]
          },
          "metadata": {}
        }
      ]
    },
    {
      "cell_type": "markdown",
      "source": [
        "#### 背景画像のサイズを設定"
      ],
      "metadata": {
        "id": "yYfq5YUNBAxa"
      }
    },
    {
      "cell_type": "markdown",
      "source": [
        "**`background-size`**プロパティでは、背景画像のサイズを指定します。  \n",
        "\n",
        "\n"
      ],
      "metadata": {
        "id": "nAUfqDVyBAxb"
      }
    },
    {
      "cell_type": "markdown",
      "source": [
        "以下のような値を適用することができます。\n",
        "\n",
        "〇数値  \n",
        "→ 数値に「px」「rem」「%」などの単位をつける。  \n",
        "\n",
        "〇キーワード  \n",
        "→ `auto（元サイズ）`、`cover`、`contain`から指定する。"
      ],
      "metadata": {
        "id": "3GM72-LfD25U"
      }
    },
    {
      "cell_type": "markdown",
      "source": [
        "`cover`を指定すると、表示領域に画像が完全に収まるように大きさが調整されます。  \n",
        "画像の縦横比は維持されます。\n",
        "\n",
        "表示してみましょう。"
      ],
      "metadata": {
        "id": "2rVHCvpnBAxc"
      }
    },
    {
      "cell_type": "code",
      "source": [
        "%%writefile style.css\n",
        "\n",
        "/* 背景画像を設定する */\n",
        "body {\n",
        "  background-image: url(https://imgur.com/VctMf95.png);\n",
        "  background-repeat: no-repeat;\n",
        "  background-size: cover;\n",
        "}"
      ],
      "metadata": {
        "colab": {
          "base_uri": "https://localhost:8080/"
        },
        "outputId": "5b14e4d6-f2d2-4e9e-8ec2-eae1cf58f388",
        "id": "3w0DeVlxBAxc"
      },
      "execution_count": 36,
      "outputs": [
        {
          "output_type": "stream",
          "name": "stdout",
          "text": [
            "Overwriting style.css\n"
          ]
        }
      ]
    },
    {
      "cell_type": "code",
      "source": [
        "with open('/content/style.css', 'r') as f:\n",
        "  css = f.read()\n",
        "\n",
        "htm = HTML(f'''\\\n",
        "<html>\n",
        "  <head>\n",
        "      <style>{css}</style>\n",
        "  </head>\n",
        "  <body>\n",
        "      <div id=\"midori\">\n",
        "          <h3><span>ミドリガメ</span></h3>\n",
        "          <p><strong>最大甲長</strong>は20cm程度です</p>\n",
        "          <p><strong>野生での平均寿命</strong>は45年程度です</p>\n",
        "      </div>\n",
        "      <div id=\"yamato\">\n",
        "          <h3><span>ヤマトイシガメ</span></h3>\n",
        "          <p><strong>最大甲長</strong>は30cm程度です</p>\n",
        "          <p><strong>野生での平均寿命</strong>は15年程度です</p>\n",
        "      </div>\n",
        "      <div id=\"kusa\">\n",
        "          <h3><span>クサガメ</span></h3>\n",
        "          <p><strong>最大甲長</strong>は40cm程度です</p>\n",
        "          <p><strong>野生での平均寿命</strong>は35年程度です</p>\n",
        "      </div>\n",
        "  </body>\n",
        "</html>\n",
        "''')\n",
        "\n",
        "display(htm)"
      ],
      "metadata": {
        "colab": {
          "base_uri": "https://localhost:8080/",
          "height": 273
        },
        "outputId": "f44d0ab5-d01f-4299-be7b-6cf7524b2201",
        "id": "gzCabc0cBAxd"
      },
      "execution_count": 37,
      "outputs": [
        {
          "output_type": "display_data",
          "data": {
            "text/plain": [
              "<IPython.core.display.HTML object>"
            ],
            "text/html": [
              "<html>\n",
              "  <head>\n",
              "      <style>\n",
              "/* 背景画像を設定する */\n",
              "body {\n",
              "  background-image: url(https://imgur.com/VctMf95.png);\n",
              "  background-repeat: no-repeat;\n",
              "  background-size: cover;\n",
              "}\n",
              "</style>\n",
              "  </head>\n",
              "  <body>\n",
              "      <div id=\"midori\">\n",
              "          <h3><span>ミドリガメ</span></h3>\n",
              "          <p><strong>最大甲長</strong>は20cm程度です</p>\n",
              "          <p><strong>野生での平均寿命</strong>は45年程度です</p>\n",
              "      </div>\n",
              "      <div id=\"yamato\">\n",
              "          <h3><span>ヤマトイシガメ</span></h3>\n",
              "          <p><strong>最大甲長</strong>は30cm程度です</p>\n",
              "          <p><strong>野生での平均寿命</strong>は15年程度です</p>\n",
              "      </div>\n",
              "      <div id=\"kusa\">\n",
              "          <h3><span>クサガメ</span></h3>\n",
              "          <p><strong>最大甲長</strong>は40cm程度です</p>\n",
              "          <p><strong>野生での平均寿命</strong>は35年程度です</p>\n",
              "      </div>\n",
              "  </body>\n",
              "</html>\n"
            ]
          },
          "metadata": {}
        }
      ]
    },
    {
      "cell_type": "markdown",
      "source": [
        "表示領域に余白が発生しないように、画像が拡大しました。"
      ],
      "metadata": {
        "id": "UdSzslU--2mb"
      }
    },
    {
      "cell_type": "markdown",
      "source": [
        "`contain`を指定すると、表示領域の幅または高さに画像の幅または高さが  \n",
        "一致するように大きさが調整されます。画像の縦横比は維持されます。\n",
        "\n",
        "表示してみましょう。"
      ],
      "metadata": {
        "id": "3V1_LrxH7J-K"
      }
    },
    {
      "cell_type": "code",
      "source": [
        "%%writefile style.css\n",
        "\n",
        "/* 背景画像を設定する */\n",
        "body {\n",
        "  background-image: url(https://imgur.com/VctMf95.png);\n",
        "  background-repeat: no-repeat;\n",
        "  background-size: contain;\n",
        "}"
      ],
      "metadata": {
        "colab": {
          "base_uri": "https://localhost:8080/"
        },
        "id": "VfCuptcqIChv",
        "outputId": "30524537-0cd5-40d8-bf9c-4ac9610ba4fa"
      },
      "execution_count": 38,
      "outputs": [
        {
          "output_type": "stream",
          "name": "stdout",
          "text": [
            "Overwriting style.css\n"
          ]
        }
      ]
    },
    {
      "cell_type": "code",
      "source": [
        "with open('/content/style.css', 'r') as f:\n",
        "  css = f.read()\n",
        "\n",
        "htm = HTML(f'''\\\n",
        "<html>\n",
        "  <head>\n",
        "      <style>{css}</style>\n",
        "  </head>\n",
        "  <body>\n",
        "      <div id=\"midori\">\n",
        "          <h3><span>ミドリガメ</span></h3>\n",
        "          <p><strong>最大甲長</strong>は20cm程度です</p>\n",
        "          <p><strong>野生での平均寿命</strong>は45年程度です</p>\n",
        "      </div>\n",
        "      <div id=\"yamato\">\n",
        "          <h3><span>ヤマトイシガメ</span></h3>\n",
        "          <p><strong>最大甲長</strong>は30cm程度です</p>\n",
        "          <p><strong>野生での平均寿命</strong>は15年程度です</p>\n",
        "      </div>\n",
        "      <div id=\"kusa\">\n",
        "          <h3><span>クサガメ</span></h3>\n",
        "          <p><strong>最大甲長</strong>は40cm程度です</p>\n",
        "          <p><strong>野生での平均寿命</strong>は35年程度です</p>\n",
        "      </div>\n",
        "  </body>\n",
        "</html>\n",
        "''')\n",
        "\n",
        "display(htm)"
      ],
      "metadata": {
        "colab": {
          "base_uri": "https://localhost:8080/",
          "height": 273
        },
        "id": "mQZF5dQqIDtV",
        "outputId": "b2e8eb58-732c-48cb-e61a-4c2163aced36"
      },
      "execution_count": 39,
      "outputs": [
        {
          "output_type": "display_data",
          "data": {
            "text/plain": [
              "<IPython.core.display.HTML object>"
            ],
            "text/html": [
              "<html>\n",
              "  <head>\n",
              "      <style>\n",
              "/* 背景画像を設定する */\n",
              "body {\n",
              "  background-image: url(https://imgur.com/VctMf95.png);\n",
              "  background-repeat: no-repeat;\n",
              "  background-size: contain;\n",
              "}\n",
              "</style>\n",
              "  </head>\n",
              "  <body>\n",
              "      <div id=\"midori\">\n",
              "          <h3><span>ミドリガメ</span></h3>\n",
              "          <p><strong>最大甲長</strong>は20cm程度です</p>\n",
              "          <p><strong>野生での平均寿命</strong>は45年程度です</p>\n",
              "      </div>\n",
              "      <div id=\"yamato\">\n",
              "          <h3><span>ヤマトイシガメ</span></h3>\n",
              "          <p><strong>最大甲長</strong>は30cm程度です</p>\n",
              "          <p><strong>野生での平均寿命</strong>は15年程度です</p>\n",
              "      </div>\n",
              "      <div id=\"kusa\">\n",
              "          <h3><span>クサガメ</span></h3>\n",
              "          <p><strong>最大甲長</strong>は40cm程度です</p>\n",
              "          <p><strong>野生での平均寿命</strong>は35年程度です</p>\n",
              "      </div>\n",
              "  </body>\n",
              "</html>\n"
            ]
          },
          "metadata": {}
        }
      ]
    },
    {
      "cell_type": "markdown",
      "source": [
        "表示領域の高さと一致するように、画像の高さを拡大して合わせました。"
      ],
      "metadata": {
        "id": "gOZg5e7iIMbW"
      }
    },
    {
      "cell_type": "markdown",
      "source": [
        "### 幅と高さを指定"
      ],
      "metadata": {
        "id": "FCBfBJMoKsd2"
      }
    },
    {
      "cell_type": "markdown",
      "source": [
        "テキストや画像、背景色や枠線のサイズなど、レイアウトの各要素のサイズを指定するときは、  \n",
        "**`width`**プロパティや**`height`**プロパティを使用します。\n",
        "\n",
        "`width`プロパティで要素の横幅を、`height`プロパティで要素の縦幅を指定します。  \n",
        "単位は数値に「px」「rem」「%」などをつけたものです。"
      ],
      "metadata": {
        "id": "TQn_OL66LTqH"
      }
    },
    {
      "cell_type": "markdown",
      "source": [
        "では、ドイツの国旗を表現してみましょう。"
      ],
      "metadata": {
        "id": "Le5kBbdSO7h4"
      }
    },
    {
      "cell_type": "code",
      "source": [
        "%%writefile style.css\n",
        "\n",
        "/* 幅300px、高さ200pxの領域を設定 */\n",
        ".flag {\n",
        "  width: 300px;\n",
        "  height: 200px;\n",
        "}\n",
        "\n",
        "/* 一番上の黒い水平帯を設定 */\n",
        ".black {\n",
        "  background-color: black;\n",
        "  width: 100%;\n",
        "  height: 33.33%;\n",
        "}\n",
        "\n",
        "/* 真ん中の赤い水平帯を設定 */\n",
        ".red {\n",
        "  background-color: red;\n",
        "  width: 100%;\n",
        "  height: 33.33%;\n",
        "}\n",
        "\n",
        "/* 一番下の金の水平帯を設定 */\n",
        ".gold {\n",
        "  background-color: gold;\n",
        "  width: 100%;\n",
        "  height: 33.33%;\n",
        "}"
      ],
      "metadata": {
        "colab": {
          "base_uri": "https://localhost:8080/"
        },
        "id": "VuU7leG-Nm0v",
        "outputId": "bc2f6a35-fce7-4f2c-b4e4-b534ee931f92"
      },
      "execution_count": 40,
      "outputs": [
        {
          "output_type": "stream",
          "name": "stdout",
          "text": [
            "Overwriting style.css\n"
          ]
        }
      ]
    },
    {
      "cell_type": "code",
      "source": [
        "with open('/content/style.css', 'r') as f:\n",
        "  css = f.read()\n",
        "\n",
        "htm = HTML(f'''\\\n",
        "<html>\n",
        "  <head>\n",
        "      <style>{css}</style>\n",
        "  </head>\n",
        "  <body>\n",
        "      <div class=\"flag\">\n",
        "          <div class=\"black\"></div>\n",
        "          <div class=\"red\"></div>\n",
        "          <div class=\"gold\"></div>\n",
        "      </div>\n",
        "  </body>\n",
        "</html>\n",
        "''')\n",
        "\n",
        "display(htm)"
      ],
      "metadata": {
        "colab": {
          "base_uri": "https://localhost:8080/",
          "height": 217
        },
        "id": "PeLYAj2kOJjq",
        "outputId": "ed112b6c-8c41-44fa-d07d-8a9e8f5d3547"
      },
      "execution_count": 41,
      "outputs": [
        {
          "output_type": "display_data",
          "data": {
            "text/plain": [
              "<IPython.core.display.HTML object>"
            ],
            "text/html": [
              "<html>\n",
              "  <head>\n",
              "      <style>\n",
              "/* 幅300px、高さ200pxの領域を設定 */\n",
              ".flag {\n",
              "  width: 300px;\n",
              "  height: 200px;\n",
              "}\n",
              "\n",
              "/* 一番上の黒い水平帯を設定 */\n",
              ".black {\n",
              "  background-color: black;\n",
              "  width: 100%;\n",
              "  height: 33.33%;\n",
              "}\n",
              "\n",
              "/* 真ん中の赤い水平帯を設定 */\n",
              ".red {\n",
              "  background-color: red;\n",
              "  width: 100%;\n",
              "  height: 33.33%;\n",
              "}\n",
              "\n",
              "/* 一番下の金の水平帯を設定 */\n",
              ".gold {\n",
              "  background-color: gold;\n",
              "  width: 100%;\n",
              "  height: 33.33%;\n",
              "}\n",
              "</style>\n",
              "  </head>\n",
              "  <body>\n",
              "      <div class=\"flag\">\n",
              "          <div class=\"black\"></div>\n",
              "          <div class=\"red\"></div>\n",
              "          <div class=\"gold\"></div>\n",
              "      </div>\n",
              "  </body>\n",
              "</html>\n"
            ]
          },
          "metadata": {}
        }
      ]
    },
    {
      "cell_type": "markdown",
      "source": [
        "### 余白を指定"
      ],
      "metadata": {
        "id": "erfP9sQxbcjx"
      }
    },
    {
      "cell_type": "markdown",
      "source": [
        "余白に関するプロパティには以下のようなものがあります。\n",
        "\n",
        "〇 **margin**  \n",
        "→ 要素の外側の余白を指定する。  \n",
        "〇 **padding**    \n",
        "→ 要素の内側の余白を指定する。  \n",
        "〇 **border**    \n",
        "→ 要素の境界線を指定する。\n",
        "\n",
        "![](https://imgur.com/5j3y5Kk.png)\n"
      ],
      "metadata": {
        "id": "rGfmL90Mbcjx"
      }
    },
    {
      "cell_type": "markdown",
      "source": [
        "#### margin"
      ],
      "metadata": {
        "id": "WilHttWocvWC"
      }
    },
    {
      "cell_type": "markdown",
      "source": [
        "**`margin`プロパティ**を指定すると、上下左右の外側の余白を個別に指定できます。\n",
        "\n",
        "|指定方法|説明|  \n",
        "| ---| ---|\n",
        "|**`margin-top`**|上側の余白を指定|\n",
        "|**`margin-right`**|右側の余白を指定|\n",
        "|**`margin-bottom`**|下側の余白を指定|\n",
        "|**`margin-left`**|左側の余白を指定|"
      ],
      "metadata": {
        "id": "boVHGMzicxRJ"
      }
    },
    {
      "cell_type": "markdown",
      "source": [
        "また、半角スペースで区切ることで、  \n",
        "上から時計回りに上右下左の余白を指定することができます。\n",
        "\n",
        "|指定方法|説明|  \n",
        "| ---| ---|\n",
        "|margin: 四辺すべて;|margin: 10px;|\n",
        "|margin: 上下 左右;|margin: 10px 20px;|\n",
        "|margin: 上 左右 下;|margin: 10px 20px 30px;|\n",
        "|margin: 上 右 下 左;|margin: 10px 20px 30px 40px;|"
      ],
      "metadata": {
        "id": "BSjeRSXhdg_Q"
      }
    },
    {
      "cell_type": "markdown",
      "source": [
        "数値に「px」「rem」「%」などをつけたもので外側の余白を指定します。  \n",
        "**`auto`**を指定すると、自動設定される値が設定されます。"
      ],
      "metadata": {
        "id": "Cu_oNA3bbcjy"
      }
    },
    {
      "cell_type": "code",
      "source": [
        "%%writefile style.css\n",
        "\n",
        "/* 幅300px、高さ250pxの領域を設定 */\n",
        ".box {\n",
        "  width: 300px;\n",
        "  height: 250px;\n",
        "  background-color: #F2F2F2;\n",
        "}\n",
        "\n",
        "/* 3つの要素の高さはそれぞれ親要素の20% */\n",
        "/* 3つの要素の幅はそれぞれ親要素の80% */\n",
        "#midori {\n",
        "  height: 50px;\n",
        "  background-color: #DDFFDD;\n",
        "  margin: 0% 10% 50px 10%;\n",
        "}\n",
        "\n",
        "/* ヤマトイシガメの項目は行の高さを\"1.7\"にする */\n",
        "#yamato {\n",
        "  height: 50px;\n",
        "  background-color: #D3DEF1;\n",
        "  margin: 0% 10% 50px 10%; \n",
        "}\n",
        "\n",
        "/* クサガメの項目は行の高さを\"2.5\"にする */\n",
        "#kusa {\n",
        "  height: 50px;\n",
        "  background-color: #fff3b8;\n",
        "  margin: 0% 10% 0% 10%;\n",
        "}"
      ],
      "metadata": {
        "colab": {
          "base_uri": "https://localhost:8080/"
        },
        "id": "UJOOIVxcf-pV",
        "outputId": "222e149f-7d4b-4c0a-f22a-16c1afe27cc6"
      },
      "execution_count": 42,
      "outputs": [
        {
          "output_type": "stream",
          "name": "stdout",
          "text": [
            "Overwriting style.css\n"
          ]
        }
      ]
    },
    {
      "cell_type": "code",
      "source": [
        "with open('/content/style.css', 'r') as f:\n",
        "  css = f.read()\n",
        "\n",
        "htm = HTML(f'''\\\n",
        "<html>\n",
        "  <head>\n",
        "      <style>{css}</style>\n",
        "  </head>\n",
        "  <body>\n",
        "      <div class=\"box\">\n",
        "          <div id=\"midori\">ミドリガメ</div>\n",
        "          <div id=\"yamato\">ヤマトイシガメ</div>\n",
        "          <div id=\"kusa\">クサガメ</div>\n",
        "      </div>\n",
        "  </body>\n",
        "</html>\n",
        "''')\n",
        "\n",
        "display(htm)"
      ],
      "metadata": {
        "colab": {
          "base_uri": "https://localhost:8080/",
          "height": 267
        },
        "id": "xpr84wNoleca",
        "outputId": "90c8960f-7430-4c20-a41a-fc23a73005a3"
      },
      "execution_count": 43,
      "outputs": [
        {
          "output_type": "display_data",
          "data": {
            "text/plain": [
              "<IPython.core.display.HTML object>"
            ],
            "text/html": [
              "<html>\n",
              "  <head>\n",
              "      <style>\n",
              "/* 幅300px、高さ250pxの領域を設定 */\n",
              ".box {\n",
              "  width: 300px;\n",
              "  height: 250px;\n",
              "  background-color: #F2F2F2;\n",
              "}\n",
              "\n",
              "/* 3つの要素の高さはそれぞれ親要素の20% */\n",
              "/* 3つの要素の幅はそれぞれ親要素の80% */\n",
              "#midori {\n",
              "  height: 50px;\n",
              "  background-color: #DDFFDD;\n",
              "  margin: 0% 10% 50px 10%;\n",
              "}\n",
              "\n",
              "/* ヤマトイシガメの項目は行の高さを\"1.7\"にする */\n",
              "#yamato {\n",
              "  height: 50px;\n",
              "  background-color: #D3DEF1;\n",
              "  margin: 0% 10% 50px 10%; \n",
              "}\n",
              "\n",
              "/* クサガメの項目は行の高さを\"2.5\"にする */\n",
              "#kusa {\n",
              "  height: 50px;\n",
              "  background-color: #fff3b8;\n",
              "  margin: 0% 10% 0% 10%;\n",
              "}\n",
              "</style>\n",
              "  </head>\n",
              "  <body>\n",
              "      <div class=\"box\">\n",
              "          <div id=\"midori\">ミドリガメ</div>\n",
              "          <div id=\"yamato\">ヤマトイシガメ</div>\n",
              "          <div id=\"kusa\">クサガメ</div>\n",
              "      </div>\n",
              "  </body>\n",
              "</html>\n"
            ]
          },
          "metadata": {}
        }
      ]
    },
    {
      "cell_type": "markdown",
      "source": [
        "#### padding"
      ],
      "metadata": {
        "id": "wqM-UieD65zR"
      }
    },
    {
      "cell_type": "markdown",
      "source": [
        "**`padding`プロパティ**を指定すると、上下左右の内側の余白を個別に指定できます。\n",
        "\n",
        "|指定方法|説明|  \n",
        "| ---| ---|\n",
        "|**`padding-top`**|上側の余白を指定|\n",
        "|**`padding-right`**|右側の余白を指定|\n",
        "|**`padding-bottom`**|下側の余白を指定|\n",
        "|**`padding-left`**|左側の余白を指定|"
      ],
      "metadata": {
        "id": "C_V9t81965zm"
      }
    },
    {
      "cell_type": "code",
      "source": [
        "%%writefile style.css\n",
        "\n",
        "/* 幅300px、高さ250pxの領域を設定 */\n",
        ".box {\n",
        "  width: 300px;\n",
        "  height: 250px;\n",
        "  background-color: #F2F2F2;\n",
        "}\n",
        "\n",
        "#midori {\n",
        "  height: 50px;\n",
        "  background-color: #DDFFDD;\n",
        "  margin: 0% 10% 50px 10%;\n",
        "}\n",
        "\n",
        "/* 要素の内側の左方向に親要素の幅の10%(30px)の余白 */\n",
        "#yamato {\n",
        "  height: 50px;\n",
        "  background-color: #D3DEF1;\n",
        "  margin: 0% 10% 50px 10%; \n",
        "  padding-left: 10%;\n",
        "}\n",
        "\n",
        "/* 要素の内側の上方向に50pxの余白 */\n",
        "#kusa {\n",
        "  height: 50px;\n",
        "  background-color: #fff3b8;\n",
        "  margin: 0% 10% 0% 10%;\n",
        "  padding-top: 50px;\n",
        "}"
      ],
      "metadata": {
        "colab": {
          "base_uri": "https://localhost:8080/"
        },
        "id": "M-gGb35gtcIF",
        "outputId": "945cc0fd-22e5-4070-f06d-5abddd8be353"
      },
      "execution_count": 62,
      "outputs": [
        {
          "output_type": "stream",
          "name": "stdout",
          "text": [
            "Overwriting style.css\n"
          ]
        }
      ]
    },
    {
      "cell_type": "code",
      "source": [
        "with open('/content/style.css', 'r') as f:\n",
        "  css = f.read()\n",
        "\n",
        "htm = HTML(f'''\\\n",
        "<html>\n",
        "  <head>\n",
        "      <style>{css}</style>\n",
        "  </head>\n",
        "  <body>\n",
        "      <div class=\"box\">\n",
        "          <div id=\"midori\">ミドリガメ</div>\n",
        "          <div id=\"yamato\">ヤマトイシガメ</div>\n",
        "          <div id=\"kusa\">クサガメ</div>\n",
        "      </div>\n",
        "  </body>\n",
        "</html>\n",
        "''')\n",
        "\n",
        "display(htm)"
      ],
      "metadata": {
        "colab": {
          "base_uri": "https://localhost:8080/",
          "height": 307
        },
        "id": "xt0t4Jl6gfnz",
        "outputId": "d0e096d5-3412-4473-d2e6-fa7c8e0628fa"
      },
      "execution_count": 63,
      "outputs": [
        {
          "output_type": "display_data",
          "data": {
            "text/plain": [
              "<IPython.core.display.HTML object>"
            ],
            "text/html": [
              "<html>\n",
              "  <head>\n",
              "      <style>\n",
              "/* 幅300px、高さ250pxの領域を設定 */\n",
              ".box {\n",
              "  width: 300px;\n",
              "  height: 250px;\n",
              "  background-color: #F2F2F2;\n",
              "}\n",
              "\n",
              "#midori {\n",
              "  height: 50px;\n",
              "  background-color: #DDFFDD;\n",
              "  margin: 0% 10% 50px 10%;\n",
              "}\n",
              "\n",
              "/* 要素の内側の左方向に親要素の幅の10%(30px)の余白 */\n",
              "#yamato {\n",
              "  height: 50px;\n",
              "  background-color: #D3DEF1;\n",
              "  margin: 0% 10% 50px 10%; \n",
              "  padding-left: 10%;\n",
              "}\n",
              "\n",
              "/* 要素の内側の上方向に50pxの余白 */\n",
              "#kusa {\n",
              "  height: 50px;\n",
              "  background-color: #fff3b8;\n",
              "  margin: 0% 10% 0% 10%;\n",
              "  padding-top: 50px;\n",
              "}\n",
              "</style>\n",
              "  </head>\n",
              "  <body>\n",
              "      <div class=\"box\">\n",
              "          <div id=\"midori\">ミドリガメ</div>\n",
              "          <div id=\"yamato\">ヤマトイシガメ</div>\n",
              "          <div id=\"kusa\">クサガメ</div>\n",
              "      </div>\n",
              "  </body>\n",
              "</html>\n"
            ]
          },
          "metadata": {}
        }
      ]
    },
    {
      "cell_type": "markdown",
      "source": [
        "#### 補足"
      ],
      "metadata": {
        "id": "uv4-fdJOwFfg"
      }
    },
    {
      "cell_type": "markdown",
      "source": [
        "前回は「クサガメ」の項目は、要素の内側の上方向に50pxの余白を設定しました。\n",
        "\n",
        "このような上下の余白を、paddingやmarginの**%指定**で行おうとすると、少し値がおかしくなります。  \n",
        "以下のコードを実行してください。"
      ],
      "metadata": {
        "id": "mbEdGFOiwIBW"
      }
    },
    {
      "cell_type": "code",
      "source": [
        "%%writefile style.css\n",
        "\n",
        "/* 幅300px、高さ250pxの領域を設定 */\n",
        ".box {\n",
        "  width: 300px;\n",
        "  height: 250px;\n",
        "  background-color: #F2F2F2;\n",
        "}\n",
        "\n",
        "#midori {\n",
        "  height: 50px;\n",
        "  background-color: #DDFFDD;\n",
        "  margin: 0% 10% 50px 10%;\n",
        "}\n",
        "\n",
        "/* 要素の内側の左方向に親要素の幅の10%(30px)の余白 */\n",
        "#yamato {\n",
        "  height: 50px;\n",
        "  background-color: #D3DEF1;\n",
        "  margin: 0% 10% 50px 10%; \n",
        "  padding-left: 10%;\n",
        "}\n",
        "\n",
        "/* 誤り：要素の内側の上方向に親要素の\"高さ\"の20%(50px)の余白 */\n",
        "/* 正解：要素の内側の上方向に親要素の\"幅\"の20%(60px)の余白 */\n",
        "#kusa {\n",
        "  height: 50px;\n",
        "  background-color: #fff3b8;\n",
        "  margin: 0% 10% 0% 10%;\n",
        "  padding-top: 20%;\n",
        "}"
      ],
      "metadata": {
        "colab": {
          "base_uri": "https://localhost:8080/"
        },
        "id": "kzHr6FNqxdSF",
        "outputId": "043fc505-60ab-4028-92f9-65cbcb7b101b"
      },
      "execution_count": 54,
      "outputs": [
        {
          "output_type": "stream",
          "name": "stdout",
          "text": [
            "Overwriting style.css\n"
          ]
        }
      ]
    },
    {
      "cell_type": "code",
      "source": [
        "with open('/content/style.css', 'r') as f:\n",
        "  css = f.read()\n",
        "\n",
        "htm = HTML(f'''\\\n",
        "<html>\n",
        "  <head>\n",
        "      <style>{css}</style>\n",
        "  </head>\n",
        "  <body>\n",
        "      <div class=\"box\">\n",
        "          <div id=\"midori\">ミドリガメ</div>\n",
        "          <div id=\"yamato\">ヤマトイシガメ</div>\n",
        "          <div id=\"kusa\">クサガメ</div>\n",
        "      </div>\n",
        "  </body>\n",
        "</html>\n",
        "''')\n",
        "\n",
        "display(htm)"
      ],
      "metadata": {
        "colab": {
          "base_uri": "https://localhost:8080/",
          "height": 317
        },
        "id": "BMaZ5_H4xtmK",
        "outputId": "b01e488a-80c4-4a02-db4e-5c5dd21ccee4"
      },
      "execution_count": 55,
      "outputs": [
        {
          "output_type": "display_data",
          "data": {
            "text/plain": [
              "<IPython.core.display.HTML object>"
            ],
            "text/html": [
              "<html>\n",
              "  <head>\n",
              "      <style>\n",
              "/* 幅300px、高さ250pxの領域を設定 */\n",
              ".box {\n",
              "  width: 300px;\n",
              "  height: 250px;\n",
              "  background-color: #F2F2F2;\n",
              "}\n",
              "\n",
              "#midori {\n",
              "  height: 50px;\n",
              "  background-color: #DDFFDD;\n",
              "  margin: 0% 10% 50px 10%;\n",
              "}\n",
              "\n",
              "/* 要素の内側の左方向に親要素の幅の10%(30px)の余白 */\n",
              "#yamato {\n",
              "  height: 50px;\n",
              "  background-color: #D3DEF1;\n",
              "  margin: 0% 10% 50px 10%; \n",
              "  padding-left: 10%;\n",
              "}\n",
              "\n",
              "/* 誤り：要素の内側の上方向に親要素の\"高さ\"の20%(50px)の余白 */\n",
              "/* 正解：要素の内側の上方向に親要素の\"幅\"の20%(60px)の余白 */\n",
              "#kusa {\n",
              "  height: 50px;\n",
              "  background-color: #fff3b8;\n",
              "  margin: 0% 10% 0% 10%;\n",
              "  padding-top: 20%;\n",
              "}\n",
              "</style>\n",
              "  </head>\n",
              "  <body>\n",
              "      <div class=\"box\">\n",
              "          <div id=\"midori\">ミドリガメ</div>\n",
              "          <div id=\"yamato\">ヤマトイシガメ</div>\n",
              "          <div id=\"kusa\">クサガメ</div>\n",
              "      </div>\n",
              "  </body>\n",
              "</html>\n"
            ]
          },
          "metadata": {}
        }
      ]
    },
    {
      "cell_type": "markdown",
      "source": [
        "微妙な違いですが、`padding-top`は親要素の\"高さ\"の20%である50pxではなく、  \n",
        "親要素の\"幅\"の20pxである60pxになります。\n",
        "\n",
        "paddingやmarginを指定したときにおこる現象だそうです。    \n",
        "`width`の値を変更して実行すると、余白の違いが生まれると思います。  \n",
        "[こちら](https://diwao.com/2017/06/padding_margin_per.html)のページなどを参考にしてください。"
      ],
      "metadata": {
        "id": "8HkBNH1uxyHX"
      }
    },
    {
      "cell_type": "markdown",
      "source": [
        "### 線を引く"
      ],
      "metadata": {
        "id": "DtzDGbUIy4ZB"
      }
    },
    {
      "cell_type": "markdown",
      "source": [
        "要素に境界線を追加するときは、以下のプロパティを使用します。"
      ],
      "metadata": {
        "id": "m0Z3Bl36y8oQ"
      }
    },
    {
      "cell_type": "markdown",
      "source": [
        "#### 境界線の幅を指定"
      ],
      "metadata": {
        "id": "pbz9VkDJ0ARA"
      }
    },
    {
      "cell_type": "markdown",
      "source": [
        "**`border-width`**プロパティでは、境界線の幅を指定します。  \n",
        "\n",
        "\n"
      ],
      "metadata": {
        "id": "ZMtHCgzJ0Ktg"
      }
    },
    {
      "cell_type": "markdown",
      "source": [
        "以下のような値を適用することができます。\n",
        "\n",
        "〇数値  \n",
        "→ 数値に「px」「rem」「%」などの単位をつける。  \n",
        "\n",
        "〇キーワード  \n",
        "→ `thin`(細い線)、`medium`(普通の太さ)、`thick`(太い線) から指定する。"
      ],
      "metadata": {
        "id": "MwQp82v20Kth"
      }
    },
    {
      "cell_type": "markdown",
      "source": [
        "では線の太さを変えてみましょう。  \n",
        "この後解説しますが、線のスタイルは\"実線\"としています。"
      ],
      "metadata": {
        "id": "R12s7Eda0EcO"
      }
    },
    {
      "cell_type": "code",
      "source": [
        "%%writefile style.css\n",
        "\n",
        "\n",
        "/* 境界線の太さは普通の太さ */\n",
        "#midori {\n",
        "  border-width: medium;\n",
        "  border-style: solid;\n",
        "}\n",
        "\n",
        "/* 境界線の太さは太い線 */\n",
        "#yamato {\n",
        "  border-width: thick;\n",
        "  border-style: solid;\n",
        "}\n",
        "\n",
        "/* 境界線の太さは細い線 */\n",
        "#kusa {\n",
        "  border-width: thin;\n",
        "  border-style: solid;\n",
        "}"
      ],
      "metadata": {
        "colab": {
          "base_uri": "https://localhost:8080/"
        },
        "id": "oO5b9oNJ0AAO",
        "outputId": "7e50b61d-cb79-4af2-a102-3e8636f51a67"
      },
      "execution_count": 71,
      "outputs": [
        {
          "output_type": "stream",
          "name": "stdout",
          "text": [
            "Overwriting style.css\n"
          ]
        }
      ]
    },
    {
      "cell_type": "code",
      "source": [
        "with open('/content/style.css', 'r') as f:\n",
        "  css = f.read()\n",
        "\n",
        "htm = HTML(f'''\\\n",
        "<html>\n",
        "  <head>\n",
        "      <style>{css}</style>\n",
        "  </head>\n",
        "  <body>\n",
        "      <div class=\"box\">\n",
        "          <div id=\"midori\">ミドリガメ</div>\n",
        "          <br>\n",
        "          <br>\n",
        "          <div id=\"yamato\">ヤマトイシガメ</div>\n",
        "          <br>\n",
        "          <br>\n",
        "          <div id=\"kusa\">クサガメ</div>\n",
        "      </div>\n",
        "  </body>\n",
        "</html>\n",
        "''')\n",
        "\n",
        "display(htm)"
      ],
      "metadata": {
        "colab": {
          "base_uri": "https://localhost:8080/",
          "height": 157
        },
        "id": "W90Ij8AZ17Qm",
        "outputId": "1ecfa636-fd61-441b-968c-dd0169a8de98"
      },
      "execution_count": 72,
      "outputs": [
        {
          "output_type": "display_data",
          "data": {
            "text/plain": [
              "<IPython.core.display.HTML object>"
            ],
            "text/html": [
              "<html>\n",
              "  <head>\n",
              "      <style>\n",
              "\n",
              "/* 境界線の太さは普通の太さ */\n",
              "#midori {\n",
              "  border-width: medium;\n",
              "  border-style: solid;\n",
              "}\n",
              "\n",
              "/* 境界線の太さは太い線 */\n",
              "#yamato {\n",
              "  border-width: thick;\n",
              "  border-style: solid;\n",
              "}\n",
              "\n",
              "/* 境界線の太さは細い線 */\n",
              "#kusa {\n",
              "  border-width: thin;\n",
              "  border-style: solid;\n",
              "}\n",
              "</style>\n",
              "  </head>\n",
              "  <body>\n",
              "      <div class=\"box\">\n",
              "          <div id=\"midori\">ミドリガメ</div>\n",
              "          <br>\n",
              "          <br>\n",
              "          <div id=\"yamato\">ヤマトイシガメ</div>\n",
              "          <br>\n",
              "          <br>\n",
              "          <div id=\"kusa\">クサガメ</div>\n",
              "      </div>\n",
              "  </body>\n",
              "</html>\n"
            ]
          },
          "metadata": {}
        }
      ]
    },
    {
      "cell_type": "markdown",
      "source": [
        "#### 境界線の種類を指定"
      ],
      "metadata": {
        "id": "d7HKTtQB2FDb"
      }
    },
    {
      "cell_type": "markdown",
      "source": [
        "**`border-style`プロパティ**を指定すると、境界線の種類を指定できます。\n",
        "\n",
        "|指定方法|説明|  \n",
        "| ---| ---|\n",
        "|**`none`**|線を非表示|\n",
        "|**`solid`**|1本の実線|\n",
        "|**`double`**|2本の実線|\n",
        "|**`dashed`**|破線|\n",
        "|**`dotted`**|点線|"
      ],
      "metadata": {
        "id": "tBK94gqz2K0T"
      }
    },
    {
      "cell_type": "markdown",
      "source": [
        "では線の種類を変えてみましょう。 "
      ],
      "metadata": {
        "id": "XqeLCOL82yLr"
      }
    },
    {
      "cell_type": "code",
      "source": [
        "%%writefile style.css\n",
        "\n",
        "\n",
        "/* 境界線の種類は2本の実線 */\n",
        "#midori {\n",
        "  border-width: medium;\n",
        "  border-style: double;\n",
        "}\n",
        "\n",
        "/* 境界線の種類は点線 */\n",
        "#yamato {\n",
        "  border-width: thick;\n",
        "  border-style: dotted;\n",
        "}\n",
        "\n",
        "/* 境界線の種類は破線 */\n",
        "#kusa {\n",
        "  border-width: thin;\n",
        "  border-style: dashed;\n",
        "}"
      ],
      "metadata": {
        "colab": {
          "base_uri": "https://localhost:8080/"
        },
        "id": "crdX0D0r20kL",
        "outputId": "6b55034e-5d5e-4909-8c57-877d06f3828b"
      },
      "execution_count": 75,
      "outputs": [
        {
          "output_type": "stream",
          "name": "stdout",
          "text": [
            "Overwriting style.css\n"
          ]
        }
      ]
    },
    {
      "cell_type": "code",
      "source": [
        "with open('/content/style.css', 'r') as f:\n",
        "  css = f.read()\n",
        "\n",
        "htm = HTML(f'''\\\n",
        "<html>\n",
        "  <head>\n",
        "      <style>{css}</style>\n",
        "  </head>\n",
        "  <body>\n",
        "      <div class=\"box\">\n",
        "          <div id=\"midori\">ミドリガメ</div>\n",
        "          <br>\n",
        "          <br>\n",
        "          <div id=\"yamato\">ヤマトイシガメ</div>\n",
        "          <br>\n",
        "          <br>\n",
        "          <div id=\"kusa\">クサガメ</div>\n",
        "      </div>\n",
        "  </body>\n",
        "</html>\n",
        "''')\n",
        "\n",
        "display(htm)"
      ],
      "metadata": {
        "colab": {
          "base_uri": "https://localhost:8080/",
          "height": 157
        },
        "id": "uUttZXat3I86",
        "outputId": "a6fdad46-c55e-4277-8f20-ce6fae2a12c5"
      },
      "execution_count": 76,
      "outputs": [
        {
          "output_type": "display_data",
          "data": {
            "text/plain": [
              "<IPython.core.display.HTML object>"
            ],
            "text/html": [
              "<html>\n",
              "  <head>\n",
              "      <style>\n",
              "\n",
              "/* 境界線の種類は2本の実線 */\n",
              "#midori {\n",
              "  border-width: medium;\n",
              "  border-style: double;\n",
              "}\n",
              "\n",
              "/* 境界線の種類は点線 */\n",
              "#yamato {\n",
              "  border-width: thick;\n",
              "  border-style: dotted;\n",
              "}\n",
              "\n",
              "/* 境界線の種類は破線 */\n",
              "#kusa {\n",
              "  border-width: thin;\n",
              "  border-style: dashed;\n",
              "}\n",
              "</style>\n",
              "  </head>\n",
              "  <body>\n",
              "      <div class=\"box\">\n",
              "          <div id=\"midori\">ミドリガメ</div>\n",
              "          <br>\n",
              "          <br>\n",
              "          <div id=\"yamato\">ヤマトイシガメ</div>\n",
              "          <br>\n",
              "          <br>\n",
              "          <div id=\"kusa\">クサガメ</div>\n",
              "      </div>\n",
              "  </body>\n",
              "</html>\n"
            ]
          },
          "metadata": {}
        }
      ]
    },
    {
      "cell_type": "markdown",
      "source": [
        "#### 境界線の色を指定"
      ],
      "metadata": {
        "id": "NZ9RzMne3gcI"
      }
    },
    {
      "cell_type": "markdown",
      "source": [
        "**`border-color`プロパティ**を指定すると、境界線の色を指定できます。"
      ],
      "metadata": {
        "id": "UDUQuGvJ3rlC"
      }
    },
    {
      "cell_type": "markdown",
      "source": [
        "境界線の色を指定するには、**カラーコード**を使用する方法や、  \n",
        "**RGB値**を使用する方法などがあります。  \n",
        "\n",
        "RGB値を指定したときは、透明度を表す**Alpha値**を指定することができます。  \n",
        "RGB各値は0から255まで、透明度は0から1までの間で記述します。"
      ],
      "metadata": {
        "id": "t1772daF3kYI"
      }
    },
    {
      "cell_type": "code",
      "source": [
        "%%writefile style.css\n",
        "\n",
        "\n",
        "/* 境界線の色を指定 */\n",
        "#midori {\n",
        "  border-width: medium;\n",
        "  border-style: double;\n",
        "  border-color: tomato;\n",
        "}\n",
        "\n",
        "/* 境界線の色を上右下左それぞれで指定 */\n",
        "#yamato {\n",
        "  border-width: thick;\n",
        "  border-style: dotted;\n",
        "  border-color: tan blue tomato black;\n",
        "}\n",
        "\n",
        "/* borderプロパティで一括指定（順番は自由） */\n",
        "#kusa {\n",
        "  border: thin dashed blue;\n",
        "}"
      ],
      "metadata": {
        "colab": {
          "base_uri": "https://localhost:8080/"
        },
        "outputId": "355cc88c-c66b-40bf-b44b-b8ee49b8d065",
        "id": "WGxFjgjk4nym"
      },
      "execution_count": 79,
      "outputs": [
        {
          "output_type": "stream",
          "name": "stdout",
          "text": [
            "Overwriting style.css\n"
          ]
        }
      ]
    },
    {
      "cell_type": "code",
      "source": [
        "with open('/content/style.css', 'r') as f:\n",
        "  css = f.read()\n",
        "\n",
        "htm = HTML(f'''\\\n",
        "<html>\n",
        "  <head>\n",
        "      <style>{css}</style>\n",
        "  </head>\n",
        "  <body>\n",
        "      <div class=\"box\">\n",
        "          <div id=\"midori\">ミドリガメ</div>\n",
        "          <br>\n",
        "          <br>\n",
        "          <div id=\"yamato\">ヤマトイシガメ</div>\n",
        "          <br>\n",
        "          <br>\n",
        "          <div id=\"kusa\">クサガメ</div>\n",
        "      </div>\n",
        "  </body>\n",
        "</html>\n",
        "''')\n",
        "\n",
        "display(htm)"
      ],
      "metadata": {
        "colab": {
          "base_uri": "https://localhost:8080/",
          "height": 157
        },
        "outputId": "6095682d-5903-45f2-cb53-ef78d8458c26",
        "id": "X0IwZMSt4nyp"
      },
      "execution_count": 80,
      "outputs": [
        {
          "output_type": "display_data",
          "data": {
            "text/plain": [
              "<IPython.core.display.HTML object>"
            ],
            "text/html": [
              "<html>\n",
              "  <head>\n",
              "      <style>\n",
              "\n",
              "/* 境界線の色を指定 */\n",
              "#midori {\n",
              "  border-width: medium;\n",
              "  border-style: double;\n",
              "  border-color: tomato;\n",
              "}\n",
              "\n",
              "/* 境界線の色を上右下左それぞれで指定 */\n",
              "#yamato {\n",
              "  border-width: thick;\n",
              "  border-style: dotted;\n",
              "  border-color: tan blue tomato black;\n",
              "}\n",
              "\n",
              "/* borderプロパティで一括指定（順番は自由） */\n",
              "#kusa {\n",
              "  border: thin dashed blue;\n",
              "}\n",
              "</style>\n",
              "  </head>\n",
              "  <body>\n",
              "      <div class=\"box\">\n",
              "          <div id=\"midori\">ミドリガメ</div>\n",
              "          <br>\n",
              "          <br>\n",
              "          <div id=\"yamato\">ヤマトイシガメ</div>\n",
              "          <br>\n",
              "          <br>\n",
              "          <div id=\"kusa\">クサガメ</div>\n",
              "      </div>\n",
              "  </body>\n",
              "</html>\n"
            ]
          },
          "metadata": {}
        }
      ]
    },
    {
      "cell_type": "markdown",
      "source": [
        "### リストを修飾"
      ],
      "metadata": {
        "id": "xX1S-HwM626j"
      }
    },
    {
      "cell_type": "markdown",
      "source": [
        "リストを修飾するときは、以下のプロパティを使用します。"
      ],
      "metadata": {
        "id": "uyo8pXW665cK"
      }
    },
    {
      "cell_type": "markdown",
      "source": [
        "まずは就職前のhtmlについて確認しましょう。"
      ],
      "metadata": {
        "id": "j90exlZX7TI6"
      }
    },
    {
      "cell_type": "code",
      "source": [
        "htm = HTML('''\\\n",
        "<body>\n",
        "<h2>日本においてなじみのあるカメの種類</h2>\n",
        "<ul>\n",
        "  <li>ミドリガメ</li>\n",
        "  <li>ヤマトイシガメ</li>\n",
        "  <li>クサガメ</li>\n",
        "</ul>\n",
        "<ol start=\"0\">\n",
        "  <li>ミドリガメ</li>\n",
        "  <li>ヤマトイシガメ</li>\n",
        "  <li>クサガメ</li>\n",
        "</ol>\n",
        "<ol type=\"a\">\n",
        "  <li>ミドリガメ</li>\n",
        "  <li>ヤマトイシガメ</li>\n",
        "  <li>クサガメ</li>\n",
        "</ol>\n",
        "</body>\n",
        "''')\n",
        " \n",
        "display(htm)"
      ],
      "metadata": {
        "colab": {
          "base_uri": "https://localhost:8080/",
          "height": 265
        },
        "id": "Eu4mWd-g7VwC",
        "outputId": "35f41ee2-aed0-424a-b1de-7efbd13c3f90"
      },
      "execution_count": 82,
      "outputs": [
        {
          "output_type": "display_data",
          "data": {
            "text/plain": [
              "<IPython.core.display.HTML object>"
            ],
            "text/html": [
              "<body>\n",
              "<h2>日本においてなじみのあるカメの種類</h2>\n",
              "<ul>\n",
              "  <li>ミドリガメ</li>\n",
              "  <li>ヤマトイシガメ</li>\n",
              "  <li>クサガメ</li>\n",
              "</ul>\n",
              "<ol start=\"0\">\n",
              "  <li>ミドリガメ</li>\n",
              "  <li>ヤマトイシガメ</li>\n",
              "  <li>クサガメ</li>\n",
              "</ol>\n",
              "<ol type=\"a\">\n",
              "  <li>ミドリガメ</li>\n",
              "  <li>ヤマトイシガメ</li>\n",
              "  <li>クサガメ</li>\n",
              "</ol>\n",
              "</body>\n"
            ]
          },
          "metadata": {}
        }
      ]
    },
    {
      "cell_type": "markdown",
      "source": [
        "#### リストマーカーの種類を指定"
      ],
      "metadata": {
        "id": "XoVrNDJb7XA5"
      }
    },
    {
      "cell_type": "markdown",
      "source": [
        "**`list-style-type`プロパティ**を指定すると、リストマーカーの種類を指定できます。\n",
        "\n",
        "|指定方法|説明|  \n",
        "| ---| ---|\n",
        "|**`none`**|リストマーカーを非表示|\n",
        "|**`disc`**|黒丸|\n",
        "|**`circle`**|白丸|\n",
        "|**`square`**|四角|\n",
        "|**`decimal`**|数字|\n",
        "|**`lower-alpha`**|小文字アルファベット|\n",
        "|**`upper-alpha`**|大文字アルファベット|"
      ],
      "metadata": {
        "id": "1aok2KJ37mdF"
      }
    },
    {
      "cell_type": "markdown",
      "source": [
        "ではリストマーカーの種類を変えてみましょう。 "
      ],
      "metadata": {
        "id": "f8kSpLy67mdG"
      }
    },
    {
      "cell_type": "code",
      "source": [
        "%%writefile style.css\n",
        "/* リストマーカーの種類は白丸 */\n",
        ".normal {\n",
        "  list-style-type: circle;\n",
        "}\n",
        "\n",
        "/* リストマーカーの種類は四角 */\n",
        ".square {\n",
        "  list-style-type: square;\n",
        "}\n",
        "\n",
        "/* リストマーカーの種類は小文字アルファベット */\n",
        ".alpha {\n",
        "  list-style-type: lower-alpha;\n",
        "}"
      ],
      "metadata": {
        "colab": {
          "base_uri": "https://localhost:8080/"
        },
        "id": "BdlSqulr89ee",
        "outputId": "978f06e3-e842-4b19-9e35-a79e2c0dca4d"
      },
      "execution_count": 124,
      "outputs": [
        {
          "output_type": "stream",
          "name": "stdout",
          "text": [
            "Overwriting style.css\n"
          ]
        }
      ]
    },
    {
      "cell_type": "code",
      "source": [
        "with open('/content/style.css', 'r') as f:\n",
        "  css = f.read()\n",
        "\n",
        "htm = HTML(f'''\\\n",
        "<html>\n",
        "  <head>\n",
        "      <style>{css}</style>\n",
        "  </head>\n",
        "  <body>\n",
        "      <h2>日本においてなじみのあるカメの種類</h2>\n",
        "      <ul class=\"normal\">\n",
        "          <li>ミドリガメ</li>\n",
        "          <li>ヤマトイシガメ</li>\n",
        "          <li>クサガメ</li>\n",
        "      </ul>\n",
        "      <ol class=\"square\">\n",
        "          <li>ミドリガメ</li>\n",
        "          <li>ヤマトイシガメ</li>\n",
        "          <li>クサガメ</li>\n",
        "      </ol>\n",
        "      <ol class=\"alpha\">\n",
        "          <li>ミドリガメ</li>\n",
        "          <li>ヤマトイシガメ</li>\n",
        "          <li>クサガメ</li>\n",
        "      </ol>\n",
        "  </body>\n",
        "</html>\n",
        "''')\n",
        "\n",
        "display(htm)"
      ],
      "metadata": {
        "colab": {
          "base_uri": "https://localhost:8080/",
          "height": 265
        },
        "id": "S5-HvJslCx4J",
        "outputId": "e9434c54-7217-4eea-c130-24ff87e3f1f5"
      },
      "execution_count": 125,
      "outputs": [
        {
          "output_type": "display_data",
          "data": {
            "text/plain": [
              "<IPython.core.display.HTML object>"
            ],
            "text/html": [
              "<html>\n",
              "  <head>\n",
              "      <style>/* リストマーカーの種類は白丸 */\n",
              ".normal {\n",
              "  list-style-type: circle;\n",
              "}\n",
              "\n",
              "/* リストマーカーの種類は四角 */\n",
              ".square {\n",
              "  list-style-type: square;\n",
              "}\n",
              "\n",
              "/* リストマーカーの種類は小文字アルファベット */\n",
              ".alpha {\n",
              "  list-style-type: lower-alpha;\n",
              "}\n",
              "</style>\n",
              "  </head>\n",
              "  <body>\n",
              "      <h2>日本においてなじみのあるカメの種類</h2>\n",
              "      <ul class=\"normal\">\n",
              "        <li>ミドリガメ</li>\n",
              "        <li>ヤマトイシガメ</li>\n",
              "        <li>クサガメ</li>\n",
              "      </ul>\n",
              "      <ol class=\"square\">\n",
              "        <li>ミドリガメ</li>\n",
              "        <li>ヤマトイシガメ</li>\n",
              "        <li>クサガメ</li>\n",
              "      </ol>\n",
              "      <ol class=\"alpha\">\n",
              "        <li>ミドリガメ</li>\n",
              "        <li>ヤマトイシガメ</li>\n",
              "        <li>クサガメ</li>\n",
              "      </ol>\n",
              "  </body>\n",
              "</html>\n"
            ]
          },
          "metadata": {}
        }
      ]
    },
    {
      "cell_type": "markdown",
      "source": [
        "#### リストマーカーの位置を指定"
      ],
      "metadata": {
        "id": "MIXVm7COE0Vi"
      }
    },
    {
      "cell_type": "markdown",
      "source": [
        "**`list-style-position`プロパティ**を指定すると、リストマーカーの位置を指定できます。\n",
        "\n",
        "|指定方法|説明|  \n",
        "| ---| ---|\n",
        "|**outside**|ボックスの外側に表示|\n",
        "|**inside**|ボックスの内側に表示|"
      ],
      "metadata": {
        "id": "Nin2lGAPE0Vj"
      }
    },
    {
      "cell_type": "markdown",
      "source": [
        "ではリストマーカーの位置を変えてみましょう。   \n",
        "背景色もつけて分かりやすくします。"
      ],
      "metadata": {
        "id": "Sqb8_kErE0Vj"
      }
    },
    {
      "cell_type": "code",
      "source": [
        "%%writefile style.css\n",
        "/* それぞれの要素の<li>タグに背景色をつける\n",
        "\n",
        "/* ここは設定いじらない */\n",
        ".normal {\n",
        "  list-style-type: circle;\n",
        "}\n",
        "\n",
        ".normal li {\n",
        "  background-color: #DDFFDD;\n",
        "}\n",
        "\n",
        "/* ボックスの外側に表示 */\n",
        ".square {\n",
        "  list-style-type: square;\n",
        "  list-style-position: outside;\n",
        "}\n",
        "\n",
        ".square li {\n",
        "  background-color: #D3DEF1;\n",
        "}\n",
        "\n",
        "/* ボックスの内側に表示 */\n",
        ".alpha {\n",
        "  list-style-type: lower-alpha;\n",
        "  list-style-position: inside;\n",
        "}\n",
        "\n",
        ".alpha li {\n",
        "  background-color: #fff3b8;\n",
        "}"
      ],
      "metadata": {
        "colab": {
          "base_uri": "https://localhost:8080/"
        },
        "id": "wYDIi2whFt5Z",
        "outputId": "fec8fd73-7109-41e1-ce0d-ee31df4e687c"
      },
      "execution_count": 128,
      "outputs": [
        {
          "output_type": "stream",
          "name": "stdout",
          "text": [
            "Overwriting style.css\n"
          ]
        }
      ]
    },
    {
      "cell_type": "code",
      "source": [
        "with open('/content/style.css', 'r') as f:\n",
        "  css = f.read()\n",
        "\n",
        "htm = HTML(f'''\\\n",
        "<html>\n",
        "  <head>\n",
        "      <style>{css}</style>\n",
        "  </head>\n",
        "  <body>\n",
        "      <h2>日本においてなじみのあるカメの種類</h2>\n",
        "      <ul class=\"normal\">\n",
        "          <li>ミドリガメ</li>\n",
        "          <li>ヤマトイシガメ</li>\n",
        "          <li>クサガメ</li>\n",
        "      </ul>\n",
        "      <ol class=\"square\">\n",
        "          <li>ミドリガメ</li>\n",
        "          <li>ヤマトイシガメ</li>\n",
        "          <li>クサガメ</li>\n",
        "      </ol>\n",
        "      <ol class=\"alpha\">\n",
        "          <li>ミドリガメ</li>\n",
        "          <li>ヤマトイシガメ</li>\n",
        "          <li>クサガメ</li>\n",
        "      </ol>\n",
        "  </body>\n",
        "</html>\n",
        "''')\n",
        "\n",
        "display(htm)"
      ],
      "metadata": {
        "colab": {
          "base_uri": "https://localhost:8080/",
          "height": 265
        },
        "id": "E-WVcLuEGBfn",
        "outputId": "e9c91037-5aa8-48d6-ccd1-e06785f2d3cc"
      },
      "execution_count": 129,
      "outputs": [
        {
          "output_type": "display_data",
          "data": {
            "text/plain": [
              "<IPython.core.display.HTML object>"
            ],
            "text/html": [
              "<html>\n",
              "  <head>\n",
              "      <style>/* それぞれの要素の<li>タグに背景色をつける\n",
              "\n",
              "/* ここは設定いじらない */\n",
              ".normal {\n",
              "  list-style-type: circle;\n",
              "}\n",
              "\n",
              ".normal li {\n",
              "  background-color: #DDFFDD;\n",
              "}\n",
              "\n",
              "/* ボックスの外側に表示 */\n",
              ".square {\n",
              "  list-style-type: square;\n",
              "  list-style-position: outside;\n",
              "}\n",
              "\n",
              ".square li {\n",
              "  background-color: #D3DEF1;\n",
              "}\n",
              "\n",
              "/* ボックスの内側に表示 */\n",
              ".alpha {\n",
              "  list-style-type: lower-alpha;\n",
              "  list-style-position: inside;\n",
              "}\n",
              "\n",
              ".alpha li {\n",
              "  background-color: #fff3b8;\n",
              "}\n",
              "</style>\n",
              "  </head>\n",
              "  <body>\n",
              "      <h2>日本においてなじみのあるカメの種類</h2>\n",
              "      <ul class=\"normal\">\n",
              "          <li>ミドリガメ</li>\n",
              "          <li>ヤマトイシガメ</li>\n",
              "          <li>クサガメ</li>\n",
              "      </ul>\n",
              "      <ol class=\"square\">\n",
              "          <li>ミドリガメ</li>\n",
              "          <li>ヤマトイシガメ</li>\n",
              "          <li>クサガメ</li>\n",
              "      </ol>\n",
              "      <ol class=\"alpha\">\n",
              "          <li>ミドリガメ</li>\n",
              "          <li>ヤマトイシガメ</li>\n",
              "          <li>クサガメ</li>\n",
              "      </ol>\n",
              "  </body>\n",
              "</html>\n"
            ]
          },
          "metadata": {}
        }
      ]
    },
    {
      "cell_type": "markdown",
      "source": [
        "#### リストマーカーの画像を指定"
      ],
      "metadata": {
        "id": "XWNM6vJuHt2S"
      }
    },
    {
      "cell_type": "markdown",
      "source": [
        "**`list-style-image`プロパティ**を指定すると、リストマーカーの画像を指定できます。\n",
        "\n",
        "余り複雑な画像にするとコンテンツの邪魔になるので、注意が必要です。"
      ],
      "metadata": {
        "id": "9HDtaOgCHt2T"
      }
    },
    {
      "cell_type": "markdown",
      "source": [
        "ではリストマーカーの画像を変えてみましょう。   \n",
        "使用する画像は背景画像でも使った以下の画像です。\n",
        "\n",
        "![](https://imgur.com/RTGMDr6.png)"
      ],
      "metadata": {
        "id": "CtZL5HxfHt2T"
      }
    },
    {
      "cell_type": "code",
      "source": [
        "%%writefile style.css\n",
        "/* それぞれの要素の<li>タグに背景色をつける\n",
        "\n",
        "/* ここは設定いじらない */\n",
        ".normal {\n",
        "  list-style-type: circle;\n",
        "  list-style-image: url(https://imgur.com/RTGMDr6.png);\n",
        "}\n",
        "\n",
        ".normal li {\n",
        "  background-color: #DDFFDD;\n",
        "}\n",
        "\n",
        "/* ボックスの外側に表示 */\n",
        ".square {\n",
        "  list-style-type: square;\n",
        "  list-style-position: outside;\n",
        "}\n",
        "\n",
        ".square li {\n",
        "  background-color: #D3DEF1;\n",
        "}\n",
        "\n",
        "/* ボックスの内側に表示 */\n",
        ".alpha {\n",
        "  list-style-type: lower-alpha;\n",
        "  list-style-position: inside;\n",
        "}\n",
        "\n",
        ".alpha li {\n",
        "  background-color: #fff3b8;\n",
        "}"
      ],
      "metadata": {
        "colab": {
          "base_uri": "https://localhost:8080/"
        },
        "id": "S0-kV1Q4GcVf",
        "outputId": "7056e87e-0d47-4f17-b697-4c2e166d1d40"
      },
      "execution_count": 136,
      "outputs": [
        {
          "output_type": "stream",
          "name": "stdout",
          "text": [
            "Overwriting style.css\n"
          ]
        }
      ]
    },
    {
      "cell_type": "code",
      "source": [
        "with open('/content/style.css', 'r') as f:\n",
        "  css = f.read()\n",
        "\n",
        "htm = HTML(f'''\\\n",
        "<html>\n",
        "  <head>\n",
        "      <style>{css}</style>\n",
        "  </head>\n",
        "  <body>\n",
        "      <h2>日本においてなじみのあるカメの種類</h2>\n",
        "      <ul class=\"normal\">\n",
        "          <li>ミドリガメ</li>\n",
        "          <li>ヤマトイシガメ</li>\n",
        "          <li>クサガメ</li>\n",
        "      </ul>\n",
        "      <ol class=\"square\">\n",
        "          <li>ミドリガメ</li>\n",
        "          <li>ヤマトイシガメ</li>\n",
        "          <li>クサガメ</li>\n",
        "      </ol>\n",
        "      <ol class=\"alpha\">\n",
        "          <li>ミドリガメ</li>\n",
        "          <li>ヤマトイシガメ</li>\n",
        "          <li>クサガメ</li>\n",
        "      </ol>\n",
        "  </body>\n",
        "</html>\n",
        "''')\n",
        "\n",
        "display(htm)"
      ],
      "metadata": {
        "colab": {
          "base_uri": "https://localhost:8080/",
          "height": 286
        },
        "id": "WRw_8oHEGdx4",
        "outputId": "a8605b2d-e788-4543-e826-79aaeb2564ed"
      },
      "execution_count": 137,
      "outputs": [
        {
          "output_type": "display_data",
          "data": {
            "text/plain": [
              "<IPython.core.display.HTML object>"
            ],
            "text/html": [
              "<html>\n",
              "  <head>\n",
              "      <style>/* それぞれの要素の<li>タグに背景色をつける\n",
              "\n",
              "/* ここは設定いじらない */\n",
              ".normal {\n",
              "  list-style-type: circle;\n",
              "  list-style-image: url(https://imgur.com/RTGMDr6.png);\n",
              "}\n",
              "\n",
              ".normal li {\n",
              "  background-color: #DDFFDD;\n",
              "}\n",
              "\n",
              "/* ボックスの外側に表示 */\n",
              ".square {\n",
              "  list-style-type: square;\n",
              "  list-style-position: outside;\n",
              "}\n",
              "\n",
              ".square li {\n",
              "  background-color: #D3DEF1;\n",
              "}\n",
              "\n",
              "/* ボックスの内側に表示 */\n",
              ".alpha {\n",
              "  list-style-type: lower-alpha;\n",
              "  list-style-position: inside;\n",
              "}\n",
              "\n",
              ".alpha li {\n",
              "  background-color: #fff3b8;\n",
              "}\n",
              "</style>\n",
              "  </head>\n",
              "  <body>\n",
              "      <h2>日本においてなじみのあるカメの種類</h2>\n",
              "      <ul class=\"normal\">\n",
              "          <li>ミドリガメ</li>\n",
              "          <li>ヤマトイシガメ</li>\n",
              "          <li>クサガメ</li>\n",
              "      </ul>\n",
              "      <ol class=\"square\">\n",
              "          <li>ミドリガメ</li>\n",
              "          <li>ヤマトイシガメ</li>\n",
              "          <li>クサガメ</li>\n",
              "      </ol>\n",
              "      <ol class=\"alpha\">\n",
              "          <li>ミドリガメ</li>\n",
              "          <li>ヤマトイシガメ</li>\n",
              "          <li>クサガメ</li>\n",
              "      </ol>\n",
              "  </body>\n",
              "</html>\n"
            ]
          },
          "metadata": {}
        }
      ]
    }
  ]
}