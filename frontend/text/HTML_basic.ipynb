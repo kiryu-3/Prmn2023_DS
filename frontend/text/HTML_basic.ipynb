{
  "nbformat": 4,
  "nbformat_minor": 0,
  "metadata": {
    "colab": {
      "provenance": [],
      "toc_visible": true,
      "authorship_tag": "ABX9TyP2hfzS6Zl90ZlRn0cjGqi0",
      "include_colab_link": true
    },
    "kernelspec": {
      "name": "python3",
      "display_name": "Python 3"
    },
    "language_info": {
      "name": "python"
    }
  },
  "cells": [
    {
      "cell_type": "markdown",
      "metadata": {
        "id": "view-in-github",
        "colab_type": "text"
      },
      "source": [
        "<a href=\"https://colab.research.google.com/github/kiryu-3/Prmn2023_DS/blob/main/frontend/text/HTML_basic.ipynb\" target=\"_parent\"><img src=\"https://colab.research.google.com/assets/colab-badge.svg\" alt=\"Open In Colab\"/></a>"
      ]
    },
    {
      "cell_type": "markdown",
      "source": [
        "# HTML\n"
      ],
      "metadata": {
        "id": "IdohezBnUF01"
      }
    },
    {
      "cell_type": "code",
      "source": [
        "# 最初に実行してください\n",
        "import IPython\n",
        "from IPython.display import display, HTML"
      ],
      "metadata": {
        "id": "Sk88zhWGT5jG"
      },
      "execution_count": 1,
      "outputs": []
    },
    {
      "cell_type": "markdown",
      "source": [
        "## HTMLとは"
      ],
      "metadata": {
        "id": "V8bZF3aKUOnd"
      }
    },
    {
      "cell_type": "markdown",
      "source": [
        "**HTML**とは、「Hyper Text Markup Language」の略で、WEBページを作成するための言語です。  \n",
        "HPの構造を定義します。\n"
      ],
      "metadata": {
        "id": "dMPe2aMvUO_M"
      }
    },
    {
      "cell_type": "markdown",
      "source": [
        "## CSSとは"
      ],
      "metadata": {
        "id": "ia5QctkqeDo0"
      }
    },
    {
      "cell_type": "markdown",
      "source": [
        "**CSS**とは、「Cascading Style Sheets」の略で、文章の見た目を装飾するための言語です。\n",
        "\n",
        "HTMLのみだと白い背景と黒い文字のWebサイトになってしまいます。  \n",
        "CSSを適用させ、HPの外装、内装を定義します。"
      ],
      "metadata": {
        "id": "GUXcUV5jeFiM"
      }
    },
    {
      "cell_type": "markdown",
      "source": [
        "### タグ"
      ],
      "metadata": {
        "id": "8mNhJwRDaBgE"
      }
    },
    {
      "cell_type": "markdown",
      "source": [
        "HTMLは、**タグ**と呼ばれる記号で構成されます。  \n",
        "タグにはいろいろな種類があり、タグによって役割が変わってきます。\n",
        "\n",
        "![](https://imgur.com/w24XDEw.png)\n",
        "\n",
        "**開始タグ**と**終了タグ**は基本的にセットで使われますが、場合によっては終了タグのないものもあります。  "
      ],
      "metadata": {
        "id": "RLadQHwGUQg3"
      }
    },
    {
      "cell_type": "markdown",
      "source": [
        "まずは出力してみましょう。  \n",
        "GoogleColab上なので分かりずらいかもしれません。"
      ],
      "metadata": {
        "id": "kYNbSeS7WVox"
      }
    },
    {
      "cell_type": "code",
      "source": [
        "htm = HTML('''\\\n",
        "<!-- Doctype宣言 HTMLのバージョン指定（ここではHTML5） -->\n",
        "<!DOCTYPE html>\n",
        "<!-- Webページの言語を指定 -->\n",
        "<html lang=\"ja\">\n",
        "<!-- ページのタイトルや説明文、外部ファイルのリンクなどのページの情報を指定。\n",
        "     ブラウザに表示されない -->\n",
        "<head>\n",
        "    <!-- タイトルの指定　ページタイトルやブラウザタブ -->\n",
        "    <title>HTML①</title>\n",
        "    <!-- 文字コードの指定 -->\n",
        "    <meta charset=\"UTF-8\">\n",
        "    <!-- ページについての説明文\n",
        " 　　　　検索エンジンでページタイトルとともに表示される-->\n",
        "    <meta name=\"description\" content=\"カメについていろいろ紹介します\">\n",
        "    \n",
        "</head>\n",
        "<body>\n",
        "    # 見出しを表示する\n",
        "    <h1>カメの生態</h1>\n",
        "    # 段落を表示する\n",
        "    <p>カメの平均寿命は30年ほどです</p>\n",
        "</body>\n",
        "</html>\n",
        "''')\n",
        " \n",
        "display(htm)"
      ],
      "metadata": {
        "colab": {
          "base_uri": "https://localhost:8080/",
          "height": 139
        },
        "id": "5F82pJRXWYjK",
        "outputId": "cb30854d-5563-47e9-abe8-428d1ddbcbb8"
      },
      "execution_count": 2,
      "outputs": [
        {
          "output_type": "display_data",
          "data": {
            "text/plain": [
              "<IPython.core.display.HTML object>"
            ],
            "text/html": [
              "<!-- Doctype宣言 HTMLのバージョン指定（ここではHTML5） -->\n",
              "<!DOCTYPE html>\n",
              "<!-- Webページの言語を指定 -->\n",
              "<html lang=\"ja\">\n",
              "<!-- ページのタイトルや説明文、外部ファイルのリンクなどのページの情報を指定。\n",
              "     ブラウザに表示されない -->\n",
              "<head>\n",
              "    <!-- タイトルの指定　ページタイトルやブラウザタブ -->\n",
              "    <title>HTML①</title>\n",
              "    <!-- 文字コードの指定 -->\n",
              "    <meta charset=\"UTF-8\">\n",
              "    <!-- ページについての説明文\n",
              " 　　　　検索エンジンでページタイトルとともに表示される-->\n",
              "    <meta name=\"description\" content=\"カメについていろいろ紹介します\">\n",
              "    \n",
              "</head>\n",
              "<body>\n",
              "    # 見出しを表示する\n",
              "    <h1>カメの生態</h1>\n",
              "    # 段落を表示する\n",
              "    <p>カメの平均寿命は30年ほどです</p>\n",
              "</body>\n",
              "</html>\n"
            ]
          },
          "metadata": {}
        }
      ]
    },
    {
      "cell_type": "markdown",
      "source": [
        "**`head`タグ**では、文章のタイトルや文章に関する設定などを記述します。  \n",
        "**`body`タグ**では、HTMLの本文を記述します。"
      ],
      "metadata": {
        "id": "zHDyWoG5W4wQ"
      }
    },
    {
      "cell_type": "markdown",
      "source": [
        "### 属性"
      ],
      "metadata": {
        "id": "STLnis5Afxmy"
      }
    },
    {
      "cell_type": "markdown",
      "source": [
        "タグの中には、色々な設定を入れることができます。  \n",
        "この付加情報の種類のことを**属性**といいます。  \n",
        "\n",
        "![](https://imgur.com/Ah7tk6r.png)\n",
        "\n",
        "開始タグ名のあとに、スペースを空けてから書いていきます。\n",
        "\n"
      ],
      "metadata": {
        "id": "0FLrehAuf-wp"
      }
    },
    {
      "cell_type": "markdown",
      "source": [
        "**`style`属性**を使うと、タグの中にCSSを書くことができるようになります。\n",
        "\n",
        "CSSについては今後述べていきますが、ひとまず背景色を変化させてみましょう。"
      ],
      "metadata": {
        "id": "Jut3W_QFgaRY"
      }
    },
    {
      "cell_type": "markdown",
      "source": [
        "なお、これ以降のコードでは **`head`タグの中身は省略します**。"
      ],
      "metadata": {
        "id": "_UsaiyH8hDAe"
      }
    },
    {
      "cell_type": "code",
      "source": [
        "htm = HTML('''\\\n",
        "<body>\n",
        "    <!-- pタグにstyle属性を適用\n",
        "         背景色を薄い緑色にする -->\n",
        "    <p style=\"background-color: #DDFFDD\">カメの平均寿命は30年ほどです</p>\n",
        "</body>\n",
        "''')\n",
        " \n",
        "display(htm)"
      ],
      "metadata": {
        "colab": {
          "base_uri": "https://localhost:8080/",
          "height": 46
        },
        "id": "y0bLuh2UhVRO",
        "outputId": "f13dd70e-43b0-4741-eb1c-be7c1d092a79"
      },
      "execution_count": 3,
      "outputs": [
        {
          "output_type": "display_data",
          "data": {
            "text/plain": [
              "<IPython.core.display.HTML object>"
            ],
            "text/html": [
              "<body>\n",
              "    <!-- pタグにstyle属性を適用\n",
              "         背景色を薄い緑色にする -->\n",
              "    <p style=\"background-color: #DDFFDD\">カメの平均寿命は30年ほどです</p>\n",
              "</body>\n"
            ]
          },
          "metadata": {}
        }
      ]
    },
    {
      "cell_type": "markdown",
      "source": [
        "### divタグ"
      ],
      "metadata": {
        "id": "zHpSBeQIaFeD"
      }
    },
    {
      "cell_type": "markdown",
      "source": [
        "まだ何のタグも紹介していませんが、最初に紹介するのは**`div`**タグです。\n",
        "\n",
        "`div`タグは、特に目的がないが、複数のタグをグループ化したいときに使います。  \n",
        "`div`タグによって、ページの構造を定義することが多いです。"
      ],
      "metadata": {
        "id": "xIOi3VRSaHfs"
      }
    },
    {
      "cell_type": "code",
      "execution_count": 4,
      "metadata": {
        "colab": {
          "base_uri": "https://localhost:8080/",
          "height": 93
        },
        "id": "ZRtFCkXjlr-q",
        "outputId": "195714ad-d5da-4b2e-cbd4-8235fd72674d"
      },
      "outputs": [
        {
          "output_type": "display_data",
          "data": {
            "text/plain": [
              "<IPython.core.display.HTML object>"
            ],
            "text/html": [
              "<body>\n",
              "<!-- この大枠のdivタグの下の要素の背景色は\"薄い赤\" -->\n",
              "<div style=\"background-color: #FADBDA\">\n",
              "    <p>グループ1-1</p>\n",
              "    <div>\n",
              "        <!-- 内側のstyle属性が反映され、背景色を\"薄い緑\"に再設定する -->\n",
              "        <p style=\"background-color: #DDFFDD\">グループ2-1</p>\n",
              "        <!-- 外側のstyle属性が反映され、背景色は\"薄い赤\"のまま -->\n",
              "        <p>グループ2-2</p>\n",
              "    </div>\n",
              "</div>\n",
              "</body>\n"
            ]
          },
          "metadata": {}
        }
      ],
      "source": [
        "htm = HTML('''\\\n",
        "<body>\n",
        "<!-- この大枠のdivタグの下の要素の背景色は\"薄い赤\" -->\n",
        "<div style=\"background-color: #FADBDA\">\n",
        "    <p>グループ1-1</p>\n",
        "    <div>\n",
        "        <!-- 内側のstyle属性が反映され、背景色を\"薄い緑\"に再設定する -->\n",
        "        <p style=\"background-color: #DDFFDD\">グループ2-1</p>\n",
        "        <!-- 外側のstyle属性が反映され、背景色は\"薄い赤\"のまま -->\n",
        "        <p>グループ2-2</p>\n",
        "    </div>\n",
        "</div>\n",
        "</body>\n",
        "''')\n",
        " \n",
        "display(htm)"
      ]
    },
    {
      "cell_type": "markdown",
      "source": [
        "### spanタグ"
      ],
      "metadata": {
        "id": "5DSmslZcs-SV"
      }
    },
    {
      "cell_type": "markdown",
      "source": [
        "次に紹介するのは**`span`タグ**です。\n",
        "\n",
        "`span`タグは、CSSで文章の一部を装飾したいときに使います。  \n"
      ],
      "metadata": {
        "id": "2EKQntj8pqk5"
      }
    },
    {
      "cell_type": "markdown",
      "source": [
        "`div`タグで囲んだ要素は、1つのブロックとみなされ、\n",
        "前後に改行が入ります。  \n",
        "このような要素を**ブロック要素**といいます。\n",
        "\n",
        "反対に、`span`タグで囲んだ要素は、ブロックの中とみなされ、前後に改行が入りません。  \n",
        "このような要素を**インライン要素**といいます。"
      ],
      "metadata": {
        "id": "YSTdvNs7qF3P"
      }
    },
    {
      "cell_type": "code",
      "source": [
        "htm = HTML('''\\\n",
        "<body>\n",
        "<p>\n",
        "  <!-- このspanタグの下の要素の背景色は\"薄い赤\" -->\n",
        "  <span style=\"background-color: #DDFFDD\">緑色で表示される部分</span>\n",
        "  <!-- このspanタグの下の要素の背景色は\"薄い緑\" -->\n",
        "  <span style=\"background-color: #FADBDA\">赤色で表示される部分</span>\n",
        "</p>\n",
        "<p>\n",
        "  <!-- このspanタグの下の要素の背景色は\"薄い青\" -->\n",
        "  <span style=\"background-color: #D3DEF1\">青色で表示される部分</span>\n",
        "  <!-- このspanタグの下の要素の背景色は\"薄い黄 -->\n",
        "  <span style=\"background-color: #fff3b8\">黄色で表示される部分</span>\n",
        "</p>\n",
        "</body>\n",
        "''')\n",
        " \n",
        "display(htm)"
      ],
      "metadata": {
        "colab": {
          "base_uri": "https://localhost:8080/",
          "height": 70
        },
        "id": "kxcl-y6qrs7Q",
        "outputId": "9d32b8cf-67bf-4c4c-9763-139ba8c3c78b"
      },
      "execution_count": 5,
      "outputs": [
        {
          "output_type": "display_data",
          "data": {
            "text/plain": [
              "<IPython.core.display.HTML object>"
            ],
            "text/html": [
              "<body>\n",
              "<p>\n",
              "  <!-- このspanタグの下の要素の背景色は\"薄い赤\" -->\n",
              "  <span style=\"background-color: #DDFFDD\">緑色で表示される部分</span>\n",
              "  <!-- このspanタグの下の要素の背景色は\"薄い緑\" -->\n",
              "  <span style=\"background-color: #FADBDA\">赤色で表示される部分</span>\n",
              "</p>\n",
              "<p>\n",
              "  <!-- このspanタグの下の要素の背景色は\"薄い青\" -->\n",
              "  <span style=\"background-color: #D3DEF1\">青色で表示される部分</span>\n",
              "  <!-- このspanタグの下の要素の背景色は\"薄い黄 -->\n",
              "  <span style=\"background-color: #fff3b8\">黄色で表示される部分</span>\n",
              "</p>\n",
              "</body>\n"
            ]
          },
          "metadata": {}
        }
      ]
    },
    {
      "cell_type": "markdown",
      "source": [
        "`p`タグの中では、改行が行われていないことが分かります。"
      ],
      "metadata": {
        "id": "MOeIXklPsbUd"
      }
    },
    {
      "cell_type": "markdown",
      "source": [
        "### 基本的なタグ"
      ],
      "metadata": {
        "id": "7mREPV07s__y"
      }
    },
    {
      "cell_type": "markdown",
      "source": [
        "`div`タグ以外の、よく使われる基本的なタグについて紹介します。"
      ],
      "metadata": {
        "id": "zoJulE_YuvPM"
      }
    },
    {
      "cell_type": "markdown",
      "source": [
        "|タグ|用途|説明 |  \n",
        "| ---| ---| --- |\n",
        "|h1-h6|見出しタグ|数字が大きくなるほど小さい見出しになる|\n",
        "|p|段落を表示|囲まれた文章が段落になる|\n",
        "|a|リンクを貼る|href属性でリンク先を指定。|\n",
        "|img|画像を表示|src属性で画像を指定。alt属性で画像に代わって表示されるテキストを指定。|\n",
        "|strong|太文字を表示|囲まれた文章が太文字になる|"
      ],
      "metadata": {
        "id": "fKhlO0VWtTxD"
      }
    },
    {
      "cell_type": "markdown",
      "source": [
        "ここでは、\"OK Google\"というボタンをクリックすると、  \n",
        "Googleのトップページに行くという設定をしていきましょう。"
      ],
      "metadata": {
        "id": "LtJAZGrdvC2G"
      }
    },
    {
      "cell_type": "code",
      "source": [
        "htm = HTML('''\\\n",
        "<body>\n",
        "<div>\n",
        "  <h2>OK Google</h2>\n",
        "  <p style=\"background-color: #FADBDA\"><strong>こちら</strong>のボタンを押してください</p>\n",
        "</div>\n",
        "<div>\n",
        "  <a href=\"https://www.google.com/?hl=ja\">\n",
        "  <img src=\"https://imgur.com/pwOe016.png\" alt=\"OK Google\">\n",
        "  </a>\n",
        "</div>\n",
        "</body>\n",
        "''')\n",
        " \n",
        "display(htm)"
      ],
      "metadata": {
        "colab": {
          "base_uri": "https://localhost:8080/",
          "height": 141
        },
        "id": "9-XsKAL9vAB5",
        "outputId": "693ed348-9303-49d0-9f03-2456d2f063bd"
      },
      "execution_count": 6,
      "outputs": [
        {
          "output_type": "display_data",
          "data": {
            "text/plain": [
              "<IPython.core.display.HTML object>"
            ],
            "text/html": [
              "<body>\n",
              "<div>\n",
              "  <h2>OK Google</h2>\n",
              "  <p style=\"background-color: #FADBDA\"><strong>こちら</strong>のボタンを押してください</p>\n",
              "</div>\n",
              "<div>\n",
              "  <a href=\"https://www.google.com/?hl=ja\">\n",
              "  <img src=\"https://imgur.com/pwOe016.png\" alt=\"OK Google\">\n",
              "  </a>\n",
              "</div>\n",
              "</body>\n"
            ]
          },
          "metadata": {}
        }
      ]
    },
    {
      "cell_type": "markdown",
      "source": [
        "`img`タグを`a`タグで囲むことで、リンクを作ることができました。  \n",
        "画像を右クリックして新しいタブで開くと、Googleにジャンプできることが確認できます。\n"
      ],
      "metadata": {
        "id": "3FBfojiTw-Bl"
      }
    },
    {
      "cell_type": "markdown",
      "source": [
        "### リスト関係のタグ"
      ],
      "metadata": {
        "id": "stb_xv5upOoY"
      }
    },
    {
      "cell_type": "markdown",
      "source": [
        "リストを表現するためのタグについて触れていきます。"
      ],
      "metadata": {
        "id": "2mU8_whBpQtv"
      }
    },
    {
      "cell_type": "markdown",
      "source": [
        "**`ul`タグ**は、順序のないリスト（unordered list）を表現するための要素です。\n",
        "\n",
        "この要素内に**`li`タグ**（list item）を含めることで、リストを作成することができます。  \n",
        "**`li`**タグは、各リストの項目を表します。"
      ],
      "metadata": {
        "id": "NxkWVL4xqBhm"
      }
    },
    {
      "cell_type": "markdown",
      "source": [
        "一方、**`ol`**タグは、順序のあるリスト（ordered list）を表現するための要素です。\n",
        "\n",
        "この要素内に`li`タグを含めることで、リストを作成することができます。  \n",
        "`li`タグは、各リストの項目を表します。"
      ],
      "metadata": {
        "id": "_HPJ-J9ZqYxN"
      }
    },
    {
      "cell_type": "markdown",
      "source": [
        "`ol`タグには、属性を指定することもあります。\n",
        "\n",
        "〇`start`属性：リストの開始番号を指定する。デフォルトは1。  \n",
        "　　　　　　　正の整数を指定して好きな番号から始めることができる。\n",
        "\n",
        "〇`type`属性：リストの番号の形式を指定する。以下の4つの値を指定できる。\n",
        "\n",
        "\n",
        "|タグ|説明 |  \n",
        "| ---| ---|\n",
        "|\"1\"|デフォルトの番号形式。アラビア数字で表示する。|\n",
        "|\"A\"|アルファベットの大文字で表示する。|\n",
        "|\"a\"|アルファベットの小文字で表示する。|\n",
        "|\"I\"|ローマ数字の大文字で表示する。|\n",
        "|\"i\"|ローマ数字の小文字で表示する。|"
      ],
      "metadata": {
        "id": "mi23ALQZrBKk"
      }
    },
    {
      "cell_type": "markdown",
      "source": [
        "ではリストを表示してみましょう。"
      ],
      "metadata": {
        "id": "2lf_TreCszEz"
      }
    },
    {
      "cell_type": "code",
      "source": [
        "htm = HTML('''\\\n",
        "<body>\n",
        "<h2>日本においてなじみのあるカメの種類</h2>\n",
        "<ul>\n",
        "  <li>ミドリガメ</li>\n",
        "  <li>ヤマトイシガメ</li>\n",
        "  <li>クサガメ</li>\n",
        "</ul>\n",
        "<ol start=\"0\">\n",
        "  <li>ミドリガメ</li>\n",
        "  <li>ヤマトイシガメ</li>\n",
        "  <li>クサガメ</li>\n",
        "</ol>\n",
        "<ol type=\"a\">\n",
        "  <li>ミドリガメ</li>\n",
        "  <li>ヤマトイシガメ</li>\n",
        "  <li>クサガメ</li>\n",
        "</ol>\n",
        "</body>\n",
        "''')\n",
        " \n",
        "display(htm)"
      ],
      "metadata": {
        "colab": {
          "base_uri": "https://localhost:8080/",
          "height": 265
        },
        "id": "aIYnScLms3SJ",
        "outputId": "b57fb31f-e32d-483d-b569-e6fb5dfdeca8"
      },
      "execution_count": 7,
      "outputs": [
        {
          "output_type": "display_data",
          "data": {
            "text/plain": [
              "<IPython.core.display.HTML object>"
            ],
            "text/html": [
              "<body>\n",
              "<h2>日本においてなじみのあるカメの種類</h2>\n",
              "<ul>\n",
              "  <li>ミドリガメ</li>\n",
              "  <li>ヤマトイシガメ</li>\n",
              "  <li>クサガメ</li>\n",
              "</ul>\n",
              "<ol start=\"0\">\n",
              "  <li>ミドリガメ</li>\n",
              "  <li>ヤマトイシガメ</li>\n",
              "  <li>クサガメ</li>\n",
              "</ol>\n",
              "<ol type=\"a\">\n",
              "  <li>ミドリガメ</li>\n",
              "  <li>ヤマトイシガメ</li>\n",
              "  <li>クサガメ</li>\n",
              "</ol>\n",
              "</body>\n"
            ]
          },
          "metadata": {}
        }
      ]
    },
    {
      "cell_type": "markdown",
      "source": [
        "### 表関係のタグ"
      ],
      "metadata": {
        "id": "asTXqh4XuhLm"
      }
    },
    {
      "cell_type": "markdown",
      "source": [
        "HTMLで表を作るためには、以下の4つのタグを使用します。\n",
        "\n",
        "|タグ|説明 |  \n",
        "| ---| ---|\n",
        "|**`table`タグ**|表全体を囲むタグ。このタグの中に行を記述する。|\n",
        "|**`tr`タグ**|表の行を表すタグ。このタグの中に列を記述する。|\n",
        "|**`th`タグ**|表の見出しセルを表すタグ。通常、表の最上段に1行だけ配置される。|\n",
        "|**`td`タグ**|表のデータセルを表すタグ。このタグの中にデータを記述する。|"
      ],
      "metadata": {
        "id": "_p71gZIzuyIV"
      }
    },
    {
      "cell_type": "markdown",
      "source": [
        "ではリストを表示してみましょう。"
      ],
      "metadata": {
        "id": "S-vIX-Kau8AV"
      }
    },
    {
      "cell_type": "code",
      "source": [
        "htm = HTML('''\\\n",
        "<body>\n",
        "<h2>カメの種類とサイズと平均寿命</h2>\n",
        "<table>\n",
        "  <tr>\n",
        "    <th>種類</th>\n",
        "    <th>最大甲長</th>\n",
        "    <th>平均体重</th>\n",
        "    <th>平均寿命（野生）</th>\n",
        "    <th>平均寿命（飼育下）</th>\n",
        "  </tr>\n",
        "  <tr>\n",
        "    <td>ミドリガメ</td>\n",
        "    <td>20cm程度</td>\n",
        "    <td>1kg程度</td>\n",
        "    <td>45年程度</td>\n",
        "    <td>70年以上</td>\n",
        "  </tr>\n",
        "  <tr>\n",
        "    <td>ヤマトイシガメ</td>\n",
        "    <td>30cm程度</td>\n",
        "    <td>3kg程度</td>\n",
        "    <td>15年程度</td>\n",
        "    <td>30年以上</td>\n",
        "  </tr>\n",
        "  <tr>\n",
        "    <td>クサガメ</td>\n",
        "    <td>40cm程度</td>\n",
        "    <td>10kg程度</td>\n",
        "    <td>35年程度</td>\n",
        "    <td>50年以上</td>\n",
        "  </tr>\n",
        "</table>\n",
        "</body>\n",
        "''')\n",
        " \n",
        "display(htm)"
      ],
      "metadata": {
        "colab": {
          "base_uri": "https://localhost:8080/",
          "height": 152
        },
        "id": "I_jsKTEBwovT",
        "outputId": "f58ba44f-dc98-49f9-eaf6-9457c74fd980"
      },
      "execution_count": 8,
      "outputs": [
        {
          "output_type": "display_data",
          "data": {
            "text/plain": [
              "<IPython.core.display.HTML object>"
            ],
            "text/html": [
              "<body>\n",
              "<h2>カメの種類とサイズと平均寿命</h2>\n",
              "<table>\n",
              "  <tr>\n",
              "    <th>種類</th>\n",
              "    <th>最大甲長</th>\n",
              "    <th>平均体重</th>\n",
              "    <th>平均寿命（野生）</th>\n",
              "    <th>平均寿命（飼育下）</th>\n",
              "  </tr>\n",
              "  <tr>\n",
              "    <td>ミドリガメ</td>\n",
              "    <td>20cm程度</td>\n",
              "    <td>1kg程度</td>\n",
              "    <td>45年程度</td>\n",
              "    <td>70年以上</td>\n",
              "  </tr>\n",
              "  <tr>\n",
              "    <td>ヤマトイシガメ</td>\n",
              "    <td>30cm程度</td>\n",
              "    <td>3kg程度</td>\n",
              "    <td>15年程度</td>\n",
              "    <td>30年以上</td>\n",
              "  </tr>\n",
              "  <tr>\n",
              "    <td>クサガメ</td>\n",
              "    <td>40cm程度</td>\n",
              "    <td>10kg程度</td>\n",
              "    <td>35年程度</td>\n",
              "    <td>50年以上</td>\n",
              "  </tr>\n",
              "</table>\n",
              "</body>\n"
            ]
          },
          "metadata": {}
        }
      ]
    },
    {
      "cell_type": "markdown",
      "source": [
        "他に覚えておくと便利なタグ・属性について以下に紹介します。\n",
        "\n",
        "|タグ・属性|説明 |  \n",
        "| ---| ---|\n",
        "|**`caption`タグ**|表のタイトルを設定するタグ。tableタグの直下に記述する。|\n",
        "|**`colspan`属性**|列を結合するための属性。`td`タグや`th`タグの中に記述し、結合する列数を指定する。|\n",
        "|**`rowspan`属性**|行を結合するための属性。`td`タグや`th`タグの中に記述し、結合する行数を指定する。|\n",
        "|**`thead`タグ**|表のヘッダを区切る。|\n",
        "|**`tbody`タグ**|表のボディを区切る。|\n",
        "|**`tfoot`タグ**|表のフッタを区切る。|\n"
      ],
      "metadata": {
        "id": "FJT73oDCzU5_"
      }
    },
    {
      "cell_type": "markdown",
      "source": [
        "ではリストのレイアウトを変えてみましょう。"
      ],
      "metadata": {
        "id": "LgyJzP5O0Gzn"
      }
    },
    {
      "cell_type": "code",
      "source": [
        "htm = HTML('''\\\n",
        "<body>\n",
        "  <table>\n",
        "    <!-- 表のタイトルを指定 -->\n",
        "    <caption>カメの種類とサイズと平均寿命</caption>\n",
        "    <!-- 表のヘッダ部分を区切る -->\n",
        "    <thead>\n",
        "      <tr>\n",
        "        <!-- 種類列の見出しセルを2つの行にまたがるようにする -->\n",
        "        <th rowspan=\"2\">種類</th>\n",
        "        <!-- サイズ列と平均寿命列の見出しセルを2つの列にまたがるようにする -->\n",
        "        <th colspan=\"2\">サイズ</th>\n",
        "        <th colspan=\"2\">平均寿命</th>\n",
        "      </tr>\n",
        "      <tr>\n",
        "        <th>最大甲長</th>\n",
        "        <th>平均体重</th>\n",
        "        <th>野生</th>\n",
        "        <th>飼育下</th>\n",
        "      </tr>\n",
        "    </thead>\n",
        "    <!-- 表のボディ部分を区切る -->\n",
        "    <tbody>\n",
        "      <tr>\n",
        "        <td>ミドリガメ</td>\n",
        "        <td>20cm程度</td>\n",
        "        <td>1kg程度</td>\n",
        "        <td>45年程度</td>\n",
        "        <td>70年以上</td>\n",
        "      </tr>\n",
        "      <tr>\n",
        "        <td>ヤマトイシガメ</td>\n",
        "        <td>30cm程度</td>\n",
        "        <td>3kg程度</td>\n",
        "        <td>15年程度</td>\n",
        "        <td>30年以上</td>\n",
        "      </tr>\n",
        "      <tr>\n",
        "        <td>クサガメ</td>\n",
        "        <td>40cm程度</td>\n",
        "        <td>10kg程度</td>\n",
        "        <td>35年程度</td>\n",
        "        <td>50年以上</td>\n",
        "      </tr>\n",
        "    </tbody>\n",
        "  </table>\n",
        "</body>\n",
        "\n",
        "''')\n",
        " \n",
        "display(htm)"
      ],
      "metadata": {
        "colab": {
          "base_uri": "https://localhost:8080/",
          "height": 143
        },
        "id": "v0CEFiT5yy3g",
        "outputId": "4814a27f-9eeb-4430-fd80-f9d31fe974d0"
      },
      "execution_count": 9,
      "outputs": [
        {
          "output_type": "display_data",
          "data": {
            "text/plain": [
              "<IPython.core.display.HTML object>"
            ],
            "text/html": [
              "<body>\n",
              "  <table>\n",
              "    <!-- 表のタイトルを指定 -->\n",
              "    <caption>カメの種類とサイズと平均寿命</caption>\n",
              "    <!-- 表のヘッダ部分を区切る -->\n",
              "    <thead>\n",
              "      <tr>\n",
              "        <!-- 種類列の見出しセルを2つの行にまたがるようにする -->\n",
              "        <th rowspan=\"2\">種類</th>\n",
              "        <!-- サイズ列と平均寿命列の見出しセルを2つの列にまたがるようにする -->\n",
              "        <th colspan=\"2\">サイズ</th>\n",
              "        <th colspan=\"2\">平均寿命</th>\n",
              "      </tr>\n",
              "      <tr>\n",
              "        <th>最大甲長</th>\n",
              "        <th>平均体重</th>\n",
              "        <th>野生</th>\n",
              "        <th>飼育下</th>\n",
              "      </tr>\n",
              "    </thead>\n",
              "    <!-- 表のボディ部分を区切る -->\n",
              "    <tbody>\n",
              "      <tr>\n",
              "        <td>ミドリガメ</td>\n",
              "        <td>20cm程度</td>\n",
              "        <td>1kg程度</td>\n",
              "        <td>45年程度</td>\n",
              "        <td>70年以上</td>\n",
              "      </tr>\n",
              "      <tr>\n",
              "        <td>ヤマトイシガメ</td>\n",
              "        <td>30cm程度</td>\n",
              "        <td>3kg程度</td>\n",
              "        <td>15年程度</td>\n",
              "        <td>30年以上</td>\n",
              "      </tr>\n",
              "      <tr>\n",
              "        <td>クサガメ</td>\n",
              "        <td>40cm程度</td>\n",
              "        <td>10kg程度</td>\n",
              "        <td>35年程度</td>\n",
              "        <td>50年以上</td>\n",
              "      </tr>\n",
              "    </tbody>\n",
              "  </table>\n",
              "</body>\n",
              "\n"
            ]
          },
          "metadata": {}
        }
      ]
    },
    {
      "cell_type": "markdown",
      "source": [
        "### フォーム関係のタグ"
      ],
      "metadata": {
        "id": "mw6185Hb3QCU"
      }
    },
    {
      "cell_type": "markdown",
      "source": [
        "これからはWebサイトでもよく見かける**フォーム**を作成していきます。"
      ],
      "metadata": {
        "id": "NXs-3QpQ3SP3"
      }
    },
    {
      "cell_type": "markdown",
      "source": [
        "**`form`タグ**は、Wenページ上でのフォームを定義するためのタグです。  \n",
        "以下のような属性を持ちます。\n",
        "\n",
        "|属性|説明 |  \n",
        "| ---| ---|\n",
        "|**`action`属性**|データの送信先ページを指定。|\n",
        "|**`method`属性**|データの転送方法を指定。主に**GET**か**POST**を入力。|\n",
        "|**`name`属性**|フォームの名前を指定。|"
      ],
      "metadata": {
        "id": "-WBkc_1F4QV9"
      }
    },
    {
      "cell_type": "markdown",
      "source": [
        "**GET**は、URLにパラメータとして付与して送信する方法です。  \n",
        "**POST**は、フォームの内容をHTTPリクエストのボディに含めて送信する方法です。\n",
        "\n",
        "フォームにおいては、通常はデータを送信するときに利用する**POST**を指定します。"
      ],
      "metadata": {
        "id": "R31qjcbC5OeE"
      }
    },
    {
      "cell_type": "markdown",
      "source": [
        "#### inputタグ"
      ],
      "metadata": {
        "id": "2ZLQbGy27VaX"
      }
    },
    {
      "cell_type": "markdown",
      "source": [
        "ここからは、フォーム内で使う各パーツを設置するためのタグについて触れます。"
      ],
      "metadata": {
        "id": "Gl29nGgU6DcK"
      }
    },
    {
      "cell_type": "markdown",
      "source": [
        "**`input`タグ**はユーザーからの入力を受け取るためのタグです。  \n",
        "**`type属性`**によって、入力欄の種類を指定できます。"
      ],
      "metadata": {
        "id": "G69Nhwxu6KOC"
      }
    },
    {
      "cell_type": "markdown",
      "source": [
        "##### 1行テキスト入力欄"
      ],
      "metadata": {
        "id": "WWeKcCV47kJ4"
      }
    },
    {
      "cell_type": "markdown",
      "source": [
        "1行のテキストには入力する内容が多々あります。  \n",
        "`type`属性でその種類を変えることができます。\n",
        "\n",
        "|属性値|説明 |  \n",
        "| ---| ---|\n",
        "|**text**|1行のテキスト（初期値）|\n",
        "|**password**|パスワード|\n",
        "|**search**|検索するときのテキスト|\n",
        "|**email**|メールアドレス|\n",
        "|**url**|WebサイトのURL|"
      ],
      "metadata": {
        "id": "42fTj9yt7xRP"
      }
    },
    {
      "cell_type": "markdown",
      "source": [
        "また、**`placeholder`属性**を指定することで、  \n",
        "入力欄にあらかじめテキストを用意することができます。\n",
        "\n",
        "ユーザーが文字を入力しようとすると、`placeholder`の値は消えます。"
      ],
      "metadata": {
        "id": "wvXFtoGp9SmN"
      }
    },
    {
      "cell_type": "markdown",
      "source": [
        "ではフォームを作成してみましょう。"
      ],
      "metadata": {
        "id": "cZ5rPHuX8vmF"
      }
    },
    {
      "cell_type": "code",
      "source": [
        "htm = HTML('''\\\n",
        "<body>\n",
        "  <form action=\"https://www.google.com/?hl=ja\" method=\"post\">\n",
        "    メールアドレス：<input type=\"email\" name=\"email\" placeholder=\"b2220000@\">\n",
        "    <br> <!-- 改行 -->\n",
        "    学籍番号：<input type=\"text\" name=\"number\" placeholder=\"b2220000\">\n",
        "    <br> <!-- 改行 -->\n",
        "    パスワード：<input type=\"password\" name=\"password\">\n",
        "  </form>\n",
        "</body>\n",
        "''')\n",
        " \n",
        "display(htm)"
      ],
      "metadata": {
        "colab": {
          "base_uri": "https://localhost:8080/",
          "height": 74
        },
        "id": "DePEZdpc80HJ",
        "outputId": "e4de7a4f-1ac2-48a9-a645-05a638e6bcea"
      },
      "execution_count": 10,
      "outputs": [
        {
          "output_type": "display_data",
          "data": {
            "text/plain": [
              "<IPython.core.display.HTML object>"
            ],
            "text/html": [
              "<body>\n",
              "  <form action=\"https://www.google.com/?hl=ja\" method=\"post\">\n",
              "    メールアドレス：<input type=\"email\" name=\"email\" placeholder=\"b2220000@\">\n",
              "    <br> <!-- 改行 -->\n",
              "    学籍番号：<input type=\"text\" name=\"number\" placeholder=\"b2220000\">\n",
              "    <br> <!-- 改行 -->\n",
              "    パスワード：<input type=\"password\" name=\"password\">\n",
              "  </form>\n",
              "</body>\n"
            ]
          },
          "metadata": {}
        }
      ]
    },
    {
      "cell_type": "markdown",
      "source": [
        "CSSを適用していないので、見た目は綺麗であるとはいえません。"
      ],
      "metadata": {
        "id": "W-yzVzyI-ocr"
      }
    },
    {
      "cell_type": "markdown",
      "source": [
        "##### 送信ボタン"
      ],
      "metadata": {
        "id": "_v1vWvQd_GPN"
      }
    },
    {
      "cell_type": "markdown",
      "source": [
        "フォームに入力した内容を送信するパーツになります。  \n",
        "`type`属性の値を**`submit`**と指定します。\n",
        "\n"
      ],
      "metadata": {
        "id": "TxbtOPmc_Jk6"
      }
    },
    {
      "cell_type": "markdown",
      "source": [
        "以下のような属性を適用することができます。\n",
        "\n",
        "|属性|説明 |  \n",
        "| ---| ---|\n",
        "|**name**|ボタンの名前|\n",
        "|**value**|ボタンに表示するテキスト|"
      ],
      "metadata": {
        "id": "7IECLdqV_oSq"
      }
    },
    {
      "cell_type": "markdown",
      "source": [
        "では追加してみましょう。"
      ],
      "metadata": {
        "id": "yYNCt2db_esL"
      }
    },
    {
      "cell_type": "code",
      "source": [
        "htm = HTML('''\\\n",
        "<body>\n",
        "  <form action=\"https://www.google.com/?hl=ja\" method=\"post\">\n",
        "    メールアドレス：<input type=\"email\" name=\"email\" placeholder=\"b2220000@\">\n",
        "    <br>\n",
        "    学籍番号：<input type=\"text\" name=\"number\" placeholder=\"b2220000\">\n",
        "    <br>\n",
        "    パスワード：<input type=\"password\" name=\"password\">\n",
        "    <br>\n",
        "    <input type=\"submit\" value=\"ログイン\">\n",
        "  </form>\n",
        "</body>\n",
        "''')\n",
        " \n",
        "display(htm)"
      ],
      "metadata": {
        "colab": {
          "base_uri": "https://localhost:8080/",
          "height": 98
        },
        "id": "j5OW5ZCZ_tPe",
        "outputId": "87b5ba53-0cda-41e3-e454-27ef12d023db"
      },
      "execution_count": 11,
      "outputs": [
        {
          "output_type": "display_data",
          "data": {
            "text/plain": [
              "<IPython.core.display.HTML object>"
            ],
            "text/html": [
              "<body>\n",
              "  <form action=\"https://www.google.com/?hl=ja\" method=\"post\">\n",
              "    メールアドレス：<input type=\"email\" name=\"email\" placeholder=\"b2220000@\">\n",
              "    <br>\n",
              "    学籍番号：<input type=\"text\" name=\"number\" placeholder=\"b2220000\">\n",
              "    <br>\n",
              "    パスワード：<input type=\"password\" name=\"password\">\n",
              "    <br>\n",
              "    <input type=\"submit\" value=\"ログイン\">\n",
              "  </form>\n",
              "</body>\n"
            ]
          },
          "metadata": {}
        }
      ]
    },
    {
      "cell_type": "markdown",
      "source": [
        "`type`属性を**image**にすると、送信ボタンに画像を使うことができます。"
      ],
      "metadata": {
        "id": "c0OFe5efAPjB"
      }
    },
    {
      "cell_type": "code",
      "source": [
        "htm = HTML('''\\\n",
        "<body>\n",
        "  <form action=\"https://www.google.com/?hl=ja\" method=\"post\">\n",
        "    メールアドレス：<input type=\"email\" name=\"email\" placeholder=\"b2220000@\">\n",
        "    <br>\n",
        "    学籍番号：<input type=\"text\" name=\"number\" placeholder=\"b2220000\">\n",
        "    <br>\n",
        "    パスワード：<input type=\"password\" name=\"password\">\n",
        "    <br>\n",
        "    <input type=\"image\" src=\"https://imgur.com/cfpIWbe.png\" alt=\"送信する\">\n",
        "  </form>\n",
        "</body>\n",
        "''')\n",
        " \n",
        "display(htm)"
      ],
      "metadata": {
        "colab": {
          "base_uri": "https://localhost:8080/",
          "height": 120
        },
        "id": "L1lYK-FkBJis",
        "outputId": "fc5525ea-8ad8-4cde-e296-500e80287ea0"
      },
      "execution_count": 12,
      "outputs": [
        {
          "output_type": "display_data",
          "data": {
            "text/plain": [
              "<IPython.core.display.HTML object>"
            ],
            "text/html": [
              "<body>\n",
              "  <form action=\"https://www.google.com/?hl=ja\" method=\"post\">\n",
              "    メールアドレス：<input type=\"email\" name=\"email\" placeholder=\"b2220000@\">\n",
              "    <br>\n",
              "    学籍番号：<input type=\"text\" name=\"number\" placeholder=\"b2220000\">\n",
              "    <br>\n",
              "    パスワード：<input type=\"password\" name=\"password\">\n",
              "    <br>\n",
              "    <input type=\"image\" src=\"https://imgur.com/cfpIWbe.png\" alt=\"送信する\">\n",
              "  </form>\n",
              "</body>\n"
            ]
          },
          "metadata": {}
        }
      ]
    },
    {
      "cell_type": "markdown",
      "source": [
        "##### ラジオボタン"
      ],
      "metadata": {
        "id": "-gGkFOPMBzuc"
      }
    },
    {
      "cell_type": "markdown",
      "source": [
        "複数ある選択肢のうち、複数の選択肢の中から一つだけ選択できるようにしたいときは、  \n",
        "`type`属性に**radio**を指定します。  \n",
        "\n",
        "作成したラジオボタンには、同じ**`name`属性**を指定することで、  \n",
        "グループ化することができます。"
      ],
      "metadata": {
        "id": "eGIxGN1IDSic"
      }
    },
    {
      "cell_type": "markdown",
      "source": [
        "以下のような属性を適用することができます。\n",
        "\n",
        "|属性|説明 |  \n",
        "| ---| ---|\n",
        "|**name**|ラジオボタンの名前|\n",
        "|**value**|送信される選択肢の値|\n",
        "|**checked**|初期選択|"
      ],
      "metadata": {
        "id": "n9JtrvfLEXEo"
      }
    },
    {
      "cell_type": "code",
      "source": [
        "htm = HTML('''\\\n",
        "<body>\n",
        "  <form action=\"https://www.google.com/?hl=ja\" method=\"post\">\n",
        "    ニックネーム：<input type=\"text\" name=\"password\">\n",
        "    <br>\n",
        "    性別：\n",
        "    <input type=\"radio\" name=\"gender\" value=\"man\">男\n",
        "    <input type=\"radio\" name=\"gender\" value=\"woman\">女\n",
        "    <input type=\"radio\" name=\"gender\" value=\"others\">その他\n",
        "  </form>\n",
        "</body>\n",
        "''')\n",
        " \n",
        "display(htm)"
      ],
      "metadata": {
        "colab": {
          "base_uri": "https://localhost:8080/",
          "height": 56
        },
        "id": "QH_PWCnjD9Ah",
        "outputId": "0e57d28d-928c-48fd-86e1-8af80b46af91"
      },
      "execution_count": 13,
      "outputs": [
        {
          "output_type": "display_data",
          "data": {
            "text/plain": [
              "<IPython.core.display.HTML object>"
            ],
            "text/html": [
              "<body>\n",
              "  <form action=\"https://www.google.com/?hl=ja\" method=\"post\">\n",
              "    ニックネーム：<input type=\"text\" name=\"password\">\n",
              "    <br>\n",
              "    性別：\n",
              "    <input type=\"radio\" name=\"gender\" value=\"man\">男\n",
              "    <input type=\"radio\" name=\"gender\" value=\"woman\">女\n",
              "    <input type=\"radio\" name=\"gender\" value=\"others\">その他\n",
              "  </form>\n",
              "</body>\n"
            ]
          },
          "metadata": {}
        }
      ]
    },
    {
      "cell_type": "markdown",
      "source": [
        "##### チェックボックス"
      ],
      "metadata": {
        "id": "QE4OS60nE_kP"
      }
    },
    {
      "cell_type": "markdown",
      "source": [
        "複数ある選択肢のうち、複数の選択肢の中から複数選択できるようにしたいときは、  \n",
        "`type`属性に**checkbox**を指定します。  \n",
        "\n",
        "作成したチェックボックスには、同じ**`name`属性**を指定することで、  \n",
        "グループ化することができます。"
      ],
      "metadata": {
        "id": "OqdqlbfnFQJL"
      }
    },
    {
      "cell_type": "markdown",
      "source": [
        "以下のような属性を適用することができます。\n",
        "\n",
        "|属性|説明 |  \n",
        "| ---| ---|\n",
        "|**name**|チェックボックスの名前|\n",
        "|**value**|送信される選択肢の値|\n",
        "|**checked**|初期選択|"
      ],
      "metadata": {
        "id": "saMRyBgGFaGD"
      }
    },
    {
      "cell_type": "code",
      "source": [
        "htm = HTML('''\\\n",
        "<body>\n",
        "  <form action=\"https://www.google.com/?hl=ja\" method=\"post\">\n",
        "    ニックネーム：<input type=\"text\" name=\"password\">\n",
        "    <br>\n",
        "    性別：\n",
        "    <input type=\"radio\" name=\"gender\" value=\"man\">男\n",
        "    <input type=\"radio\" name=\"gender\" value=\"woman\">女\n",
        "    <input type=\"radio\" name=\"gender\" value=\"others\">その他\n",
        "    <br>\n",
        "    飼ってみたいカメの種類：\n",
        "    <input type=\"checkbox\" name=\"turtle\" value=\"ミドリガメ\">ミドリガメ\n",
        "    <input type=\"checkbox\" name=\"turtle\" value=\"ヤマトイシガメ\">ヤマトイシガメ\n",
        "    <input type=\"checkbox\" name=\"turtle\" value=\"クサガメ\">クサガメ\n",
        "    <input type=\"checkbox\" name=\"turtle\" value=\"その他\">その他\n",
        "    <input type=\"checkbox\" name=\"turtle\" value=\"飼ってみたくない\">興味なし\n",
        "  </form>\n",
        "</body>\n",
        "''')\n",
        " \n",
        "display(htm)"
      ],
      "metadata": {
        "colab": {
          "base_uri": "https://localhost:8080/",
          "height": 77
        },
        "id": "rk_6nvsrFfIg",
        "outputId": "721bbdfa-afea-4d91-ea48-0bd476955a62"
      },
      "execution_count": 14,
      "outputs": [
        {
          "output_type": "display_data",
          "data": {
            "text/plain": [
              "<IPython.core.display.HTML object>"
            ],
            "text/html": [
              "<body>\n",
              "  <form action=\"https://www.google.com/?hl=ja\" method=\"post\">\n",
              "    ニックネーム：<input type=\"text\" name=\"password\">\n",
              "    <br>\n",
              "    性別：\n",
              "    <input type=\"radio\" name=\"gender\" value=\"man\">男\n",
              "    <input type=\"radio\" name=\"gender\" value=\"woman\">女\n",
              "    <input type=\"radio\" name=\"gender\" value=\"others\">その他\n",
              "    <br>\n",
              "    飼ってみたいカメの種類：\n",
              "    <input type=\"checkbox\" name=\"turtle\" value=\"ミドリガメ\">ミドリガメ\n",
              "    <input type=\"checkbox\" name=\"turtle\" value=\"ヤマトイシガメ\">ヤマトイシガメ\n",
              "    <input type=\"checkbox\" name=\"turtle\" value=\"クサガメ\">クサガメ\n",
              "    <input type=\"checkbox\" name=\"turtle\" value=\"その他\">その他\n",
              "    <input type=\"checkbox\" name=\"turtle\" value=\"飼ってみたくない\">興味なし\n",
              "  </form>\n",
              "</body>\n"
            ]
          },
          "metadata": {}
        }
      ]
    },
    {
      "cell_type": "markdown",
      "source": [
        "##### ファイルの選択"
      ],
      "metadata": {
        "id": "opPvIHAQGf39"
      }
    },
    {
      "cell_type": "markdown",
      "source": [
        "ローカルのファイルをアップロードするためには、 \n",
        "`type`属性に**file**を指定します。\n",
        "\n",
        "クリックすることで、ファイルをサーバーにアップロードすることができます。"
      ],
      "metadata": {
        "id": "rhcMght4GhXF"
      }
    },
    {
      "cell_type": "markdown",
      "source": [
        "このとき、`form`タグの**`enctype`属性**で、  \n",
        "**multipart/form-data**を指定する必要があります。"
      ],
      "metadata": {
        "id": "82oc4kf8HLcR"
      }
    },
    {
      "cell_type": "code",
      "source": [
        "htm = HTML('''\\\n",
        "<body>\n",
        "  <form action=\"https://www.google.com/?hl=ja\" method=\"post\", enctype=\"multipart/form-data\">\n",
        "    <input type=\"file\">\n",
        "    <br>\n",
        "    <br>\n",
        "    <input type=\"submit\" value=\"送信\">\n",
        "  </form>\n",
        "</body>\n",
        "''')\n",
        " \n",
        "display(htm)"
      ],
      "metadata": {
        "colab": {
          "base_uri": "https://localhost:8080/",
          "height": 86
        },
        "id": "9sCxHIiqIDVi",
        "outputId": "9734e0e5-159c-4edf-81cd-566953144a99"
      },
      "execution_count": 15,
      "outputs": [
        {
          "output_type": "display_data",
          "data": {
            "text/plain": [
              "<IPython.core.display.HTML object>"
            ],
            "text/html": [
              "<body>\n",
              "  <form action=\"https://www.google.com/?hl=ja\" method=\"post\", enctype=\"multipart/form-data\">\n",
              "    <input type=\"file\">\n",
              "    <br>\n",
              "    <br>\n",
              "    <input type=\"submit\" value=\"送信\">\n",
              "  </form>\n",
              "</body>\n"
            ]
          },
          "metadata": {}
        }
      ]
    },
    {
      "cell_type": "markdown",
      "source": [
        "#### selectタグ"
      ],
      "metadata": {
        "id": "uhu5-3OYI6K5"
      }
    },
    {
      "cell_type": "markdown",
      "source": [
        "**`select`**タグは、ドロップダウンリストを作成するためのタグです。  \n",
        "**`option`**タグを指定して、リストの選択肢を定義します。"
      ],
      "metadata": {
        "id": "1nsfFwWMI9fg"
      }
    },
    {
      "cell_type": "markdown",
      "source": [
        "以下のような属性を適用することができます。\n",
        "\n",
        "＜`select`タグ＞  \n",
        "\n",
        "|属性|説明|  \n",
        "| ---| ---|\n",
        "|**name**|セレクトボックスの名前|\n",
        "|**multiple**|複数選択可能にする|\n",
        "\n",
        "＜`option`タグ＞  \n",
        "\n",
        "|属性|説明 |  \n",
        "| ---| ---|\n",
        "|**value**|送信される選択肢の値|\n",
        "|**selected**|初期選択|"
      ],
      "metadata": {
        "id": "ImhUyDWZJSiQ"
      }
    },
    {
      "cell_type": "code",
      "source": [
        "htm = HTML('''\\\n",
        "<body>\n",
        "  <form action=\"https://www.google.com/?hl=ja\" method=\"post\">\n",
        "    ニックネーム：<input type=\"text\" name=\"password\">\n",
        "    <br>\n",
        "    性別：\n",
        "    <input type=\"radio\" name=\"gender\" value=\"man\">男\n",
        "    <input type=\"radio\" name=\"gender\" value=\"woman\">女\n",
        "    <input type=\"radio\" name=\"gender\" value=\"others\">その他\n",
        "    <br>\n",
        "    飼ってみたいカメの種類：\n",
        "    <select name=\"turtle\">\n",
        "      <option value=\"ミドリガメ\">ミドリガメ</option>\n",
        "      <option value=\"ヤマトイシガメ\">ヤマトイシガメ</option>\n",
        "      <option value=\"クサガメ\">クサガメ</option>\n",
        "      <option value=\"その他\">その他</option>\n",
        "      <option value=\"興味なし\" selected>興味なし</option>\n",
        "    </select>\n",
        "  </form>\n",
        "</body>\n",
        "''')\n",
        " \n",
        "display(htm)"
      ],
      "metadata": {
        "colab": {
          "base_uri": "https://localhost:8080/",
          "height": 75
        },
        "id": "0m68XTQeJ7pf",
        "outputId": "1d92001a-a813-4577-b050-e82269e44f25"
      },
      "execution_count": 16,
      "outputs": [
        {
          "output_type": "display_data",
          "data": {
            "text/plain": [
              "<IPython.core.display.HTML object>"
            ],
            "text/html": [
              "<body>\n",
              "  <form action=\"https://www.google.com/?hl=ja\" method=\"post\">\n",
              "    ニックネーム：<input type=\"text\" name=\"password\">\n",
              "    <br>\n",
              "    性別：\n",
              "    <input type=\"radio\" name=\"gender\" value=\"man\">男\n",
              "    <input type=\"radio\" name=\"gender\" value=\"woman\">女\n",
              "    <input type=\"radio\" name=\"gender\" value=\"others\">その他\n",
              "    <br>\n",
              "    飼ってみたいカメの種類：\n",
              "    <select name=\"turtle\">\n",
              "      <option value=\"ミドリガメ\">ミドリガメ</option>\n",
              "      <option value=\"ヤマトイシガメ\">ヤマトイシガメ</option>\n",
              "      <option value=\"クサガメ\">クサガメ</option>\n",
              "      <option value=\"その他\">その他</option>\n",
              "      <option value=\"興味なし\" selected>興味なし</option>\n",
              "    </select>\n",
              "  </form>\n",
              "</body>\n"
            ]
          },
          "metadata": {}
        }
      ]
    },
    {
      "cell_type": "markdown",
      "source": [
        "#### textareaタグ"
      ],
      "metadata": {
        "id": "BdXhXq1YKrYg"
      }
    },
    {
      "cell_type": "markdown",
      "source": [
        "**`textarea`**タグは、複数行のテキスト入力欄を作成するためのタグです。 \n",
        "\n",
        "`textarea`タグで囲まれた部分が初期値として表示されます。  \n",
        "入力しようとしたときに消えるように指定したいときは、`placeholder`属性で指定すべきです。"
      ],
      "metadata": {
        "id": "vdojpZ_SKvxW"
      }
    },
    {
      "cell_type": "markdown",
      "source": [
        "**`cols`属性**を指定すると、テキストエリアの横幅を指定することができます。    \n",
        "**`rows`属性**を指定すると、テキストエリアの縦幅を指定することができます。 "
      ],
      "metadata": {
        "id": "GPGFAXSDLnPU"
      }
    },
    {
      "cell_type": "code",
      "source": [
        "htm = HTML('''\\\n",
        "<body>\n",
        "  <form action=\"https://www.google.com/?hl=ja\" method=\"post\">\n",
        "    ニックネーム：<input type=\"text\" name=\"password\">\n",
        "    <br>\n",
        "    性別：\n",
        "    <input type=\"radio\" name=\"gender\" value=\"man\">男\n",
        "    <input type=\"radio\" name=\"gender\" value=\"woman\">女\n",
        "    <input type=\"radio\" name=\"gender\" value=\"others\">その他\n",
        "    <br>\n",
        "    飼ってみたいカメの種類：\n",
        "    <select name=\"turtle\">\n",
        "      <option value=\"ミドリガメ\">ミドリガメ</option>\n",
        "      <option value=\"ヤマトイシガメ\">ヤマトイシガメ</option>\n",
        "      <option value=\"クサガメ\">クサガメ</option>\n",
        "      <option value=\"その他\">その他</option>\n",
        "      <option value=\"興味なし\" selected>興味なし</option>\n",
        "    </select>\n",
        "    <br>\n",
        "    <br>\n",
        "    <br>\n",
        "    <textarea name=\"message\" placeholder=\"メッセージを入力\"\n",
        "              cols=\"40\" rows=\"4\"></textarea>\n",
        "  </form>\n",
        "</body>\n",
        "''')\n",
        " \n",
        "display(htm)"
      ],
      "metadata": {
        "colab": {
          "base_uri": "https://localhost:8080/",
          "height": 172
        },
        "id": "YeaBVAuCLJos",
        "outputId": "ee707fcc-3fe2-40b1-e05c-d97f01d8aa5e"
      },
      "execution_count": 17,
      "outputs": [
        {
          "output_type": "display_data",
          "data": {
            "text/plain": [
              "<IPython.core.display.HTML object>"
            ],
            "text/html": [
              "<body>\n",
              "  <form action=\"https://www.google.com/?hl=ja\" method=\"post\">\n",
              "    ニックネーム：<input type=\"text\" name=\"password\">\n",
              "    <br>\n",
              "    性別：\n",
              "    <input type=\"radio\" name=\"gender\" value=\"man\">男\n",
              "    <input type=\"radio\" name=\"gender\" value=\"woman\">女\n",
              "    <input type=\"radio\" name=\"gender\" value=\"others\">その他\n",
              "    <br>\n",
              "    飼ってみたいカメの種類：\n",
              "    <select name=\"turtle\">\n",
              "      <option value=\"ミドリガメ\">ミドリガメ</option>\n",
              "      <option value=\"ヤマトイシガメ\">ヤマトイシガメ</option>\n",
              "      <option value=\"クサガメ\">クサガメ</option>\n",
              "      <option value=\"その他\">その他</option>\n",
              "      <option value=\"興味なし\" selected>興味なし</option>\n",
              "    </select>\n",
              "    <br>\n",
              "    <br>\n",
              "    <br>\n",
              "    <textarea name=\"message\" placeholder=\"メッセージを入力\"\n",
              "              cols=\"40\" rows=\"4\"></textarea>\n",
              "  </form>\n",
              "</body>\n"
            ]
          },
          "metadata": {}
        }
      ]
    },
    {
      "cell_type": "markdown",
      "source": [
        "#### buttonタグ"
      ],
      "metadata": {
        "id": "lHfnAFOPMgNc"
      }
    },
    {
      "cell_type": "markdown",
      "source": [
        "**`button`**タグは、フォームを送信するのではなく、  \n",
        "単なるボタンとして機能させたいときに使用します。"
      ],
      "metadata": {
        "id": "SJoBDvwrMirM"
      }
    },
    {
      "cell_type": "markdown",
      "source": [
        "以下のような属性を適用することができます。\n",
        "\n",
        "|属性|説明|  \n",
        "| ---| ---|\n",
        "|**`type`**|ボタンの種類を指定する。\"submit\"（送信ボタン）・\"reset\"（リセットボタン）・\"button\"（単なるボタン）|\n",
        "|**`name`**|ボタンが押されたことを判別する|\n",
        "|**`value`**|ボタンに表示されるテキストを指定する|"
      ],
      "metadata": {
        "id": "Yn9o3ydQMsq9"
      }
    },
    {
      "cell_type": "code",
      "source": [
        "htm = HTML('''\\\n",
        "<body>\n",
        "  <button type=\"submit\" name=\"submit\" value=\"送信する\">送信</button>\n",
        "  <br>\n",
        "  <br>\n",
        "  <button type=\"reset\" name=\"reset\" value=\"リセットする\">リセット</button>\n",
        "  <br>\n",
        "  <br>\n",
        "  <button type=\"button\" name=\"button\" value=\"クリックする\">クリック</button>\n",
        "</body>\n",
        "''')\n",
        " \n",
        "display(htm)"
      ],
      "metadata": {
        "colab": {
          "base_uri": "https://localhost:8080/",
          "height": 130
        },
        "id": "VZU8xOiqMsef",
        "outputId": "297dc779-0b16-4e59-805e-1316931a4485"
      },
      "execution_count": 18,
      "outputs": [
        {
          "output_type": "display_data",
          "data": {
            "text/plain": [
              "<IPython.core.display.HTML object>"
            ],
            "text/html": [
              "<body>\n",
              "  <button type=\"submit\" name=\"submit\" value=\"送信する\">送信</button>\n",
              "  <br>\n",
              "  <br>\n",
              "  <button type=\"reset\" name=\"reset\" value=\"リセットする\">リセット</button>\n",
              "  <br>\n",
              "  <br>\n",
              "  <button type=\"button\" name=\"button\" value=\"クリックする\">クリック</button>\n",
              "</body>\n"
            ]
          },
          "metadata": {}
        }
      ]
    },
    {
      "cell_type": "markdown",
      "source": [
        "#### labelタグ"
      ],
      "metadata": {
        "id": "2UHu6lMeNrZB"
      }
    },
    {
      "cell_type": "markdown",
      "source": [
        "**`label`タグ**は、フォーム部品と対応するラベルを関連付けるために使用されます。\n",
        "\n",
        "ラベルは、フォーム部品の説明や目的を提供し、  \n",
        "ユーザーにフォーム部品の使用方法を理解しやすくするために使用されます。"
      ],
      "metadata": {
        "id": "zIlHWd4tNtNJ"
      }
    },
    {
      "cell_type": "markdown",
      "source": [
        "まずは、各ラベルテキストを`label`タグで囲み、**`for`属性**を付けます。  \n",
        "次に、各フォーム部品に**`id`属性**を付けます。\n",
        "\n",
        "この**`for`属性**と**`id`属性**を同じものにすることで、  \n",
        "フォームとパーツが関連付けられます。"
      ],
      "metadata": {
        "id": "EILaTUJHONQb"
      }
    },
    {
      "cell_type": "markdown",
      "source": [
        "これにより、ユーザーがラベルをクリックした場合、  \n",
        "関連付けられたフォーム部品が選択されます。\n",
        "\n",
        "また、ラベルはフォーム部品の意味を説明するために使用されています。"
      ],
      "metadata": {
        "id": "R-xCnkv5OwoH"
      }
    },
    {
      "cell_type": "markdown",
      "source": [
        "今まで書いてきたコードに、ラベルを追加してみましょう。"
      ],
      "metadata": {
        "id": "k558150OOIQ8"
      }
    },
    {
      "cell_type": "code",
      "source": [
        "htm = HTML('''\\\n",
        "<body>\n",
        "  <form action=\"https://www.google.com/?hl=ja\" method=\"post\">\n",
        "    <label for=\"nickname\">ニックネーム：</label>\n",
        "    <input type=\"text\" name=\"nickname\" id=\"nickname\">\n",
        "    <br>\n",
        "    <label>性別：</label>\n",
        "    <input type=\"radio\" name=\"gender\" value=\"man\" id=\"gender-man\">\n",
        "    <label for=\"gender-man\">男</label>\n",
        "    <input type=\"radio\" name=\"gender\" value=\"woman\" id=\"gender-woman\">\n",
        "    <label for=\"gender-woman\">女</label>\n",
        "    <input type=\"radio\" name=\"gender\" value=\"others\" id=\"gender-others\">\n",
        "    <label for=\"gender-others\">その他</label>\n",
        "    <br>\n",
        "    <label for=\"turtle\">飼ってみたいカメの種類：</label>\n",
        "    <select name=\"turtle\" id=\"turtle\">\n",
        "      <option value=\"ミドリガメ\">ミドリガメ</option>\n",
        "      <option value=\"ヤマトイシガメ\">ヤマトイシガメ</option>\n",
        "      <option value=\"クサガメ\">クサガメ</option>\n",
        "      <option value=\"その他\">その他</option>\n",
        "      <option value=\"興味なし\" selected>興味なし</option>\n",
        "    </select>\n",
        "  </form>\n",
        "</body>\n",
        "\n",
        "''')\n",
        " \n",
        "display(htm)"
      ],
      "metadata": {
        "colab": {
          "base_uri": "https://localhost:8080/",
          "height": 75
        },
        "id": "hpsQrBPuO3u3",
        "outputId": "619cc8b6-dd82-41c2-9f12-9261a57d964e"
      },
      "execution_count": 19,
      "outputs": [
        {
          "output_type": "display_data",
          "data": {
            "text/plain": [
              "<IPython.core.display.HTML object>"
            ],
            "text/html": [
              "<body>\n",
              "  <form action=\"https://www.google.com/?hl=ja\" method=\"post\">\n",
              "    <label for=\"nickname\">ニックネーム：</label>\n",
              "    <input type=\"text\" name=\"nickname\" id=\"nickname\">\n",
              "    <br>\n",
              "    <label>性別：</label>\n",
              "    <input type=\"radio\" name=\"gender\" value=\"man\" id=\"gender-man\">\n",
              "    <label for=\"gender-man\">男</label>\n",
              "    <input type=\"radio\" name=\"gender\" value=\"woman\" id=\"gender-woman\">\n",
              "    <label for=\"gender-woman\">女</label>\n",
              "    <input type=\"radio\" name=\"gender\" value=\"others\" id=\"gender-others\">\n",
              "    <label for=\"gender-others\">その他</label>\n",
              "    <br>\n",
              "    <label for=\"turtle\">飼ってみたいカメの種類：</label>\n",
              "    <select name=\"turtle\" id=\"turtle\">\n",
              "      <option value=\"ミドリガメ\">ミドリガメ</option>\n",
              "      <option value=\"ヤマトイシガメ\">ヤマトイシガメ</option>\n",
              "      <option value=\"クサガメ\">クサガメ</option>\n",
              "      <option value=\"その他\">その他</option>\n",
              "      <option value=\"興味なし\" selected>興味なし</option>\n",
              "    </select>\n",
              "  </form>\n",
              "</body>\n",
              "\n"
            ]
          },
          "metadata": {}
        }
      ]
    },
    {
      "cell_type": "markdown",
      "source": [
        "「ニックネーム」「性別」などのラベルテキストをクリックすると、  \n",
        "関連付けられたフォーム部品が選択されています。\n"
      ],
      "metadata": {
        "id": "uJ09xrWYO6HQ"
      }
    },
    {
      "cell_type": "markdown",
      "source": [
        "#### グループ分け"
      ],
      "metadata": {
        "id": "bxgmUXtsPUYf"
      }
    },
    {
      "cell_type": "markdown",
      "source": [
        "ページ内の構造を明確にするために、以下のような区分けをするためのタグは重要です。\n",
        "\n"
      ],
      "metadata": {
        "id": "E2HtlhfxPWzu"
      }
    },
    {
      "cell_type": "markdown",
      "source": [
        "・**`header`タグ**   \n",
        "→ ページ全体のヘッダー部分を示す。通常はサイト名やロゴ、ナビゲーションなどが含まれる。 \n",
        "\n",
        "・**`main`タグ**  \n",
        "→ ページのメインコンテンツを示す。主にユーザーが求める情報が含まれる。  \n",
        "\n",
        "・**`footer`タグ**  \n",
        "→ ページ全体のフッター部分を示す。著作権表示や連絡先、サイトマップなどが含まれる。"
      ],
      "metadata": {
        "id": "p9kR6t4VQIs9"
      }
    },
    {
      "cell_type": "markdown",
      "source": [
        "今まで書いてきたコードを、分かりやすく区分けしてみましょう。"
      ],
      "metadata": {
        "id": "el7EvHbbREGL"
      }
    },
    {
      "cell_type": "code",
      "source": [
        "htm = HTML('''\\\n",
        "<body>\n",
        "  <!-- ヘッダー部分を作る -->\n",
        "  <header>\n",
        "    <h1>アンケート</h1>\n",
        "    <!-- ナビゲーションメニューを作る -->\n",
        "    <nav>\n",
        "      <ul>\n",
        "        <li><a href=\"#\">ホーム</a></li>\n",
        "        <li><a href=\"#\">お問い合わせ</a></li>\n",
        "      </ul>\n",
        "    </nav>\n",
        "  </header>\n",
        "  <!-- メイン部分を作る -->\n",
        "  <main>\n",
        "    <form action=\"https://www.google.com/?hl=ja\" method=\"post\">\n",
        "      <div>\n",
        "        <label for=\"nickname\">ニックネーム：</label>\n",
        "        <input type=\"text\" id=\"nickname\" name=\"nickname\">\n",
        "      </div>\n",
        "      <div>\n",
        "        <label>性別：</label>\n",
        "        <input type=\"radio\" name=\"gender\" value=\"man\" id=\"gender-man\">\n",
        "        <label for=\"gender-man\">男性</label>\n",
        "        <input type=\"radio\" name=\"gender\" value=\"woman\" id=\"gender-woman\">\n",
        "        <label for=\"gender-woman\">女性</label>\n",
        "        <input type=\"radio\" name=\"gender\" value=\"other\" id=\"gender-other\">\n",
        "        <label for=\"gender-other\">その他</label>\n",
        "      </div>\n",
        "      <div>\n",
        "        <label for=\"turtle\">飼ってみたいカメの種類：</label>\n",
        "        <select name=\"turtle\" id=\"turtle\">\n",
        "          <option value=\"ミドリガメ\">ミドリガメ</option>\n",
        "          <option value=\"ヤマトイシガメ\">ヤマトイシガメ</option>\n",
        "          <option value=\"クサガメ\">クサガメ</option>\n",
        "          <option value=\"その他\">その他</option>\n",
        "          <option value=\"no-interest\" selected>興味なし</option>\n",
        "        </select>\n",
        "      </div>\n",
        "      <button type=\"submit\">送信する</button>\n",
        "    </form>\n",
        "  </main>\n",
        "  <!-- フッター部分を作る -->\n",
        "  <footer>\n",
        "    <p>&copy; 2023 カメ飼育研究会</p>\n",
        "  </footer>\n",
        "</body>\n",
        "\n",
        "''')\n",
        " \n",
        "display(htm)"
      ],
      "metadata": {
        "colab": {
          "base_uri": "https://localhost:8080/",
          "height": 231
        },
        "id": "RUwTj5o_PqX9",
        "outputId": "0133f08e-9865-40db-a59e-5ce9a11d2a82"
      },
      "execution_count": 20,
      "outputs": [
        {
          "output_type": "display_data",
          "data": {
            "text/plain": [
              "<IPython.core.display.HTML object>"
            ],
            "text/html": [
              "<body>\n",
              "  <!-- ヘッダー部分を作る -->\n",
              "  <header>\n",
              "    <h1>アンケート</h1>\n",
              "    <!-- ナビゲーションメニューを作る -->\n",
              "    <nav>\n",
              "      <ul>\n",
              "        <li><a href=\"#\">ホーム</a></li>\n",
              "        <li><a href=\"#\">お問い合わせ</a></li>\n",
              "      </ul>\n",
              "    </nav>\n",
              "  </header>\n",
              "  <!-- メイン部分を作る -->\n",
              "  <main>\n",
              "    <form action=\"https://www.google.com/?hl=ja\" method=\"post\">\n",
              "      <div>\n",
              "        <label for=\"nickname\">ニックネーム：</label>\n",
              "        <input type=\"text\" id=\"nickname\" name=\"nickname\">\n",
              "      </div>\n",
              "      <div>\n",
              "        <label>性別：</label>\n",
              "        <input type=\"radio\" name=\"gender\" value=\"man\" id=\"gender-man\">\n",
              "        <label for=\"gender-man\">男性</label>\n",
              "        <input type=\"radio\" name=\"gender\" value=\"woman\" id=\"gender-woman\">\n",
              "        <label for=\"gender-woman\">女性</label>\n",
              "        <input type=\"radio\" name=\"gender\" value=\"other\" id=\"gender-other\">\n",
              "        <label for=\"gender-other\">その他</label>\n",
              "      </div>\n",
              "      <div>\n",
              "        <label for=\"turtle\">飼ってみたいカメの種類：</label>\n",
              "        <select name=\"turtle\" id=\"turtle\">\n",
              "          <option value=\"ミドリガメ\">ミドリガメ</option>\n",
              "          <option value=\"ヤマトイシガメ\">ヤマトイシガメ</option>\n",
              "          <option value=\"クサガメ\">クサガメ</option>\n",
              "          <option value=\"その他\">その他</option>\n",
              "          <option value=\"no-interest\" selected>興味なし</option>\n",
              "        </select>\n",
              "      </div>\n",
              "      <button type=\"submit\">送信する</button>\n",
              "    </form>\n",
              "  </main>\n",
              "  <!-- フッター部分を作る -->\n",
              "  <footer>\n",
              "    <p>&copy; 2023 カメ飼育研究会</p>\n",
              "  </footer>\n",
              "</body>\n",
              "\n"
            ]
          },
          "metadata": {}
        }
      ]
    }
  ]
}