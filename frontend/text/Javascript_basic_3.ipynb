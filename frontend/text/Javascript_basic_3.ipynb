{
  "nbformat": 4,
  "nbformat_minor": 0,
  "metadata": {
    "colab": {
      "provenance": [],
      "authorship_tag": "ABX9TyMtNlncv+AGssKT688WDle1",
      "include_colab_link": true
    },
    "kernelspec": {
      "name": "python3",
      "display_name": "Python 3"
    },
    "language_info": {
      "name": "python"
    }
  },
  "cells": [
    {
      "cell_type": "markdown",
      "metadata": {
        "id": "view-in-github",
        "colab_type": "text"
      },
      "source": [
        "<a href=\"https://colab.research.google.com/github/kiryu-3/Prmn2023_DS/blob/main/frontend/text/Javascript_basic_3.ipynb\" target=\"_parent\"><img src=\"https://colab.research.google.com/assets/colab-badge.svg\" alt=\"Open In Colab\"/></a>"
      ]
    },
    {
      "cell_type": "markdown",
      "source": [
        "# 第3章"
      ],
      "metadata": {
        "id": "3zLlVA7fBCwX"
      }
    },
    {
      "cell_type": "code",
      "execution_count": null,
      "metadata": {
        "id": "2oOTkRPy-3uD"
      },
      "outputs": [],
      "source": [
        "# 最初に実行してください\n",
        "!apt-get install -y nodejs"
      ]
    },
    {
      "cell_type": "markdown",
      "source": [
        "## オブジェクト"
      ],
      "metadata": {
        "id": "_MEsdGAwQZyn"
      }
    },
    {
      "cell_type": "markdown",
      "source": [
        "Javascriptでは、「数値」「文字列」「真偽値」などのあらゆる情報が  \n",
        "**『オブジェクト』**として管理されています。"
      ],
      "metadata": {
        "id": "bE_8WfrtQcUP"
      }
    },
    {
      "cell_type": "code",
      "source": [
        "%%bash\n",
        "\n",
        "# 一時ファイルにコードを書き込む\n",
        "cat <<'EOF' > temp.js\n",
        "\n",
        "let name1 = \"Chitose\";\n",
        "let name2 = \"Hokudai\";\n",
        "\n",
        "console.log(19); // 整数\n",
        "console.log(3.14);  // 浮動小数点数\n",
        "console.log(\"Hello\");\n",
        "console.log(true);\n",
        "\n",
        "EOF\n",
        "\n",
        "# 一時ファイルを実行する\n",
        "node temp.js"
      ],
      "metadata": {
        "colab": {
          "base_uri": "https://localhost:8080/"
        },
        "id": "JfbPghNcdgjH",
        "outputId": "32b6c99d-f087-4cb7-eee8-b71ee153169f"
      },
      "execution_count": null,
      "outputs": [
        {
          "output_type": "stream",
          "name": "stdout",
          "text": [
            "19\n",
            "3.14\n",
            "Hello\n",
            "true\n"
          ]
        }
      ]
    },
    {
      "cell_type": "markdown",
      "source": [
        "![python_3-1.png](https://bit.ly/3HhNMyC)"
      ],
      "metadata": {
        "id": "xPuKnMW_Rx_d"
      }
    },
    {
      "cell_type": "markdown",
      "source": [
        "## メソッド\n"
      ],
      "metadata": {
        "id": "6gkLm1wegKdy"
      }
    },
    {
      "cell_type": "markdown",
      "source": [
        "オブジェクトに何らかの操作を行うための関数のことを**メソッド**といいます。\n",
        "\n",
        "オブジェクトの種類に応じて多くのメソッドがあります。"
      ],
      "metadata": {
        "id": "Vyc7xjFbhizI"
      }
    },
    {
      "cell_type": "markdown",
      "source": [
        "## 文字列型のメソッド"
      ],
      "metadata": {
        "id": "fdOdKHJgk6oR"
      }
    },
    {
      "cell_type": "markdown",
      "source": [
        "文字を変換するためのメソッドには、以下のようなものがあります。"
      ],
      "metadata": {
        "id": "A2HcxPc3lBbB"
      }
    },
    {
      "cell_type": "markdown",
      "source": [
        "|メソッド|説明|\n",
        "|:---:| :---: |\n",
        "|toLowerCase()|すべての文字を小文字に変換|\n",
        "|toUpperCase()|すべての文字を大文字に変換|\n",
        "|indexOf()|指定した文字列が最初に現れるインデックスを取得|\n",
        "|includes()|指定した文字列が含まれるかどうかを判定|\n",
        "|slice()|指定した位置から指定した位置までの部分文字列を取得|\n",
        "|split()|指定した区切り文字で文字列を分割して、配列として取得|\n",
        "|replace()|文字列の中の指定した文字列を別の文字列に置換|"
      ],
      "metadata": {
        "id": "YvHzNoEQlazW"
      }
    },
    {
      "cell_type": "markdown",
      "source": [
        "プログラムで確認してみましょう。"
      ],
      "metadata": {
        "id": "yWSJ2AiFjz3s"
      }
    },
    {
      "cell_type": "code",
      "source": [
        "%%bash\n",
        "\n",
        "# 一時ファイルにコードを書き込む\n",
        "cat <<'EOF' > temp.js\n",
        "\n",
        "// 文字列オブジェクトを生成\n",
        "let name = \"Chitose Taro\";\n",
        "\n",
        "// 文字列を変換するメソッド\n",
        "console.log(`${name.toLowerCase()} : lower`);\n",
        "console.log(`${name.toUpperCase()} : upper`);\n",
        "\n",
        "EOF\n",
        "\n",
        "# 一時ファイルを実行する\n",
        "node temp.js"
      ],
      "metadata": {
        "colab": {
          "base_uri": "https://localhost:8080/"
        },
        "id": "J6fpEl_Xm5ve",
        "outputId": "a96a0283-2dcc-48c0-e9d8-9e176809e4dc"
      },
      "execution_count": null,
      "outputs": [
        {
          "output_type": "stream",
          "name": "stdout",
          "text": [
            "chitose taro : lower\n",
            "CHITOSE TARO : upper\n"
          ]
        }
      ]
    },
    {
      "cell_type": "code",
      "source": [
        "# 文字列オブジェクトを生成\n",
        "str = \"Hello World\"\n",
        "\n",
        "# countメソッド\n",
        "print(f\"{str.count('l')}\")"
      ],
      "metadata": {
        "colab": {
          "base_uri": "https://localhost:8080/"
        },
        "id": "08kOjM65oL7b",
        "outputId": "c6d9a1d6-415f-418b-87f5-41100926f835"
      },
      "execution_count": null,
      "outputs": [
        {
          "output_type": "stream",
          "name": "stdout",
          "text": [
            "3\n"
          ]
        }
      ]
    },
    {
      "cell_type": "code",
      "source": [
        "%%bash\n",
        "\n",
        "# 一時ファイルにコードを書き込む\n",
        "cat <<'EOF' > temp.js\n",
        "\n",
        "// spllitを変換するメソッド\n",
        "let str = \"hello world\";\n",
        "console.log(`${str.split('l').length - 1}`);\n",
        "\n",
        "EOF\n",
        "\n",
        "# 一時ファイルを実行する\n",
        "node temp.js"
      ],
      "metadata": {
        "colab": {
          "base_uri": "https://localhost:8080/"
        },
        "id": "y0yvKFuXj_6s",
        "outputId": "1541dd89-1273-4324-d958-7efb27015aaa"
      },
      "execution_count": null,
      "outputs": [
        {
          "output_type": "stream",
          "name": "stdout",
          "text": [
            "3\n"
          ]
        }
      ]
    },
    {
      "cell_type": "code",
      "source": [
        "%%bash\n",
        "\n",
        "# 一時ファイルにコードを書き込む\n",
        "cat <<'EOF' > temp.js\n",
        "\n",
        "let str = \"b1990040\";\n",
        "\n",
        "// replaceメソッド\n",
        "console.log(str.replace('b1990', 'b2019'));\n",
        "\n",
        "EOF\n",
        "\n",
        "# 一時ファイルを実行する\n",
        "node temp.js"
      ],
      "metadata": {
        "colab": {
          "base_uri": "https://localhost:8080/"
        },
        "id": "o9r2ij0hkXhT",
        "outputId": "f78d0b21-c07e-4a3d-87f0-0b8ede2377fc"
      },
      "execution_count": null,
      "outputs": [
        {
          "output_type": "stream",
          "name": "stdout",
          "text": [
            "b2019040\n"
          ]
        }
      ]
    },
    {
      "cell_type": "markdown",
      "source": [
        "文字列型のメソッドを使って他にもいろんな処理を行いたい際は、  \n",
        "[こちら](https://www.javadrive.jp/javascript/string/)のサイトを参考にしてください。"
      ],
      "metadata": {
        "id": "h2fwC_agsp_L"
      }
    },
    {
      "cell_type": "markdown",
      "source": [
        "## mutableとimmutable\n",
        "\n"
      ],
      "metadata": {
        "id": "xPaIZ5-hsnVN"
      }
    },
    {
      "cell_type": "markdown",
      "source": [
        "変更可能なオブジェクトを**「mutable」**、  \n",
        "変更不可能なオブジェクトを**「immutable」**といいます。"
      ],
      "metadata": {
        "id": "5y7MgVkfkxok"
      }
    },
    {
      "cell_type": "markdown",
      "source": [
        "|データ型|mutable or immutable|\n",
        "|:---:| :---: |\n",
        "|number|immutable|\n",
        "|string|immutable|\n",
        "|boolean|immutable|\n",
        "|null|immutable|\n",
        "|object|mutable|\n",
        "|array|mutable|\n",
        "|Map|mutable|\n",
        "|Set|mutable|"
      ],
      "metadata": {
        "id": "lhg4N7nJtqEx"
      }
    },
    {
      "cell_type": "markdown",
      "source": [
        "文字列型のオブジェクトは **immutable** なので、  \n",
        "メソッドで生成された文字列オブジェクトは、新しいものとなります。"
      ],
      "metadata": {
        "id": "1tzFbcO7upQB"
      }
    },
    {
      "cell_type": "code",
      "source": [
        "%%bash\n",
        "\n",
        "# 一時ファイルにコードを書き込む\n",
        "cat <<'EOF' > temp.js\n",
        "\n",
        "// 文字列オブジェクトを生成\n",
        "let name1 = \"Chitose Taro\";\n",
        "console.log(`置換前のname1 : ${name1}`);\n",
        "\n",
        "// lowerメソッド\n",
        "let name2 = name1.toLowerCase();\n",
        "\n",
        "console.log(`置換後のname1 : ${name1}`);\n",
        "console.log(`置換後のname2 : ${name2}`);\n",
        "\n",
        "EOF\n",
        "\n",
        "# 一時ファイルを実行する\n",
        "node temp.js"
      ],
      "metadata": {
        "colab": {
          "base_uri": "https://localhost:8080/"
        },
        "id": "meBsjBuFlN85",
        "outputId": "c7a6e131-b98e-4eea-9506-a59a19fa265a"
      },
      "execution_count": null,
      "outputs": [
        {
          "output_type": "stream",
          "name": "stdout",
          "text": [
            "置換前のname1 : Chitose Taro\n",
            "置換後のname1 : Chitose Taro\n",
            "置換後のname2 : chitose taro\n"
          ]
        }
      ]
    },
    {
      "cell_type": "markdown",
      "source": [
        "## コレクション\n"
      ],
      "metadata": {
        "id": "zRqa11AtDDFR"
      }
    },
    {
      "cell_type": "markdown",
      "source": [
        "JavaScriptには、**配列**(**Array**)、**マップ**(**Map**)、**セット**(**Set**)の3つの主要なコレクションがあります。\n",
        "\n",
        "これらは、関連するデータをグループにして、まとめて1つの変数として扱うことができます。"
      ],
      "metadata": {
        "id": "pMBpKtISBO6-"
      }
    },
    {
      "cell_type": "markdown",
      "source": [
        "## 配列\n"
      ],
      "metadata": {
        "id": "36nVj1zqBi2c"
      }
    },
    {
      "cell_type": "markdown",
      "source": [
        "**配列**は、複数の値を1列に並べて管理するためのコレクションです。  \n",
        "配列の各要素には0から始まるインデックス番号が付けられます。"
      ],
      "metadata": {
        "id": "ZeSPDeBZBkd7"
      }
    },
    {
      "cell_type": "code",
      "source": [
        "%%bash\n",
        "\n",
        "# 一時ファイルにコードを書き込む\n",
        "cat <<'EOF' > temp.js\n",
        "\n",
        "let nothing = null; // nullの代入\n",
        "\n",
        "// 変数nothingがnullかどうかで分岐\n",
        "if (nothing === null) {\n",
        "    console.log(`nothingは${nothing}です`);\n",
        "} else {\n",
        "    console.log(`nothingは${nothing}ではありません`);\n",
        "}\n",
        "\n",
        "EOF\n",
        "\n",
        "# 一時ファイルを実行する\n",
        "node temp.js"
      ],
      "metadata": {
        "colab": {
          "base_uri": "https://localhost:8080/"
        },
        "id": "ZlecBm2kmAf3",
        "outputId": "74943379-8b01-4d8e-8b4c-8a1505e44f9f"
      },
      "execution_count": null,
      "outputs": [
        {
          "output_type": "stream",
          "name": "stdout",
          "text": [
            "nothingはnullです\n"
          ]
        }
      ]
    },
    {
      "cell_type": "markdown",
      "source": [
        "上記のコードでは、nullを代入した変数nothingをif文で評価し、  \n",
        "その結果に応じてメッセージを出力しています。\n",
        "\n",
        "注意すべき点としては、Pythonと異なり、JavaScriptでは  \n",
        "比較演算子として **\"===\"** を使用する必要があることです。"
      ],
      "metadata": {
        "id": "QYvXR7uimFSP"
      }
    },
    {
      "cell_type": "markdown",
      "source": [
        "また、nullとundefinedは別物なので、  \n",
        "間違ってundefinedを評価しないように注意してください。"
      ],
      "metadata": {
        "id": "2aB3Ib6_mKNe"
      }
    },
    {
      "cell_type": "markdown",
      "source": [
        "### 配列の作成方法"
      ],
      "metadata": {
        "id": "QfqkpJBLaMoh"
      }
    },
    {
      "cell_type": "markdown",
      "source": [
        "Javascriptで配列を作成する方法はいくつかあります。"
      ],
      "metadata": {
        "id": "_5_H_WgsaPVO"
      }
    },
    {
      "cell_type": "markdown",
      "source": [
        "#### [ ]を使って配列を作成する"
      ],
      "metadata": {
        "id": "z_9IG_1AaS9O"
      }
    },
    {
      "cell_type": "markdown",
      "source": [
        "以下のようにして、空の配列を作成することができます。\n",
        "\n",
        "``` javascript\n",
        "let arrayName = []; //空の配列を作成する\n",
        "```"
      ],
      "metadata": {
        "id": "YFvzsHCkaYk-"
      }
    },
    {
      "cell_type": "markdown",
      "source": [
        "ここで `arrayName` は配列の名前で、 [ ] の中に要素を入れます。\n",
        "\n",
        "配列内の要素は、文字列、数値、真偽値、オブジェクト、配列など、  \n",
        "JavaScriptで扱えるあらゆるデータ型を格納することができます。"
      ],
      "metadata": {
        "id": "4kf8ijEwaffO"
      }
    },
    {
      "cell_type": "markdown",
      "source": [
        "#### [ ]を使って配列を初期化する"
      ],
      "metadata": {
        "id": "4xBmBJqLa8rM"
      }
    },
    {
      "cell_type": "markdown",
      "source": [
        "配列の中に要素を含めて、初期化された配列を作成することができます。  \n",
        "要素は、カンマで区切って配列の中に記述することができます。\n",
        "\n",
        "``` javascript\n",
        "let arrayName = [item1, item2, item3]; //要素を持つ配列を作成する\n",
        "```"
      ],
      "metadata": {
        "id": "olhji3e9a_gU"
      }
    },
    {
      "cell_type": "markdown",
      "source": [
        "#### `Array`コンストラクタを使って配列を作成する"
      ],
      "metadata": {
        "id": "J2WshnePbU-z"
      }
    },
    {
      "cell_type": "markdown",
      "source": [
        "この方法では、`Array()`コンストラクターを使って配列を作成します。\n",
        "\n",
        "``` javascript\n",
        "let arr = new Array(); // 空の配列を作成する\n",
        "\n",
        "```"
      ],
      "metadata": {
        "id": "adQOgjb2bbxT"
      }
    },
    {
      "cell_type": "markdown",
      "source": [
        "この方法は、引数として渡すことができる配列の長さを指定することができます。\n",
        "\n",
        "たとえば、次のようにして、長さが3の配列を作成することができます。\n",
        "\n",
        "``` javascript\n",
        "const arr = new Array(3); // 長さが3の配列を作成する\n",
        "```"
      ],
      "metadata": {
        "id": "hCA-QVSmbo4E"
      }
    },
    {
      "cell_type": "markdown",
      "source": [
        "### 配列の要素の参照"
      ],
      "metadata": {
        "id": "Td2hRKSyceXu"
      }
    },
    {
      "cell_type": "markdown",
      "source": [
        "ではまず、3つの学科の配列を作ってまとめて表示してみましょう。"
      ],
      "metadata": {
        "id": "px9Lfib1cXJG"
      }
    },
    {
      "cell_type": "code",
      "source": [
        "%%bash\n",
        "\n",
        "# 一時ファイルにコードを書き込む\n",
        "cat <<'EOF' > temp.js\n",
        "\n",
        "const gakka = [\"Ouka\", \"Denshi\", \"Josisu\"];\n",
        "console.log(gakka);\n",
        "\n",
        "EOF\n",
        "\n",
        "# 一時ファイルを実行する\n",
        "node temp.js"
      ],
      "metadata": {
        "colab": {
          "base_uri": "https://localhost:8080/"
        },
        "id": "OygNfm7JcVQG",
        "outputId": "eb5a84df-e08b-4953-9846-a09ee6ce3eb2"
      },
      "execution_count": null,
      "outputs": [
        {
          "output_type": "stream",
          "name": "stdout",
          "text": [
            "[ 'Ouka', 'Denshi', 'Josisu' ]\n"
          ]
        }
      ]
    },
    {
      "cell_type": "markdown",
      "source": [
        "配列内の特定の要素を参照することもできます。\n",
        "\n",
        "``` javascript\n",
        "arrayName[添え字]\n",
        "```"
      ],
      "metadata": {
        "id": "Z55QWU29clhw"
      }
    },
    {
      "cell_type": "markdown",
      "source": [
        "以下のコードは、配列の1番目の要素を表示するプログラムです。"
      ],
      "metadata": {
        "id": "n9pRFs1BcocY"
      }
    },
    {
      "cell_type": "code",
      "source": [
        "%%bash\n",
        "\n",
        "# 一時ファイルにコードを書き込む\n",
        "cat <<'EOF' > temp.js\n",
        "\n",
        "const gakka = [\"Ouka\", \"Denshi\", \"Josisu\"];\n",
        "console.log(gakka[1]);\n",
        "\n",
        "EOF\n",
        "\n",
        "# 一時ファイルを実行する\n",
        "node temp.js"
      ],
      "metadata": {
        "colab": {
          "base_uri": "https://localhost:8080/"
        },
        "id": "0wdoOzjXdDX9",
        "outputId": "cf8c64ab-447c-49da-ba18-7078f7c3c9fd"
      },
      "execution_count": null,
      "outputs": [
        {
          "output_type": "stream",
          "name": "stdout",
          "text": [
            "Denshi\n"
          ]
        }
      ]
    },
    {
      "cell_type": "markdown",
      "source": [
        "Javascriptでは、添え字として負の数を指定することができません。  \n",
        "最後の要素にアクセスしたいときは、以下のようにしましょう。"
      ],
      "metadata": {
        "id": "GLA6kwkddQ3o"
      }
    },
    {
      "cell_type": "code",
      "source": [
        "%%bash\n",
        "\n",
        "# 一時ファイルにコードを書き込む\n",
        "cat <<'EOF' > temp.js\n",
        "\n",
        "const gakka = [\"Ouka\", \"Denshi\", \"Josisu\"];\n",
        "console.log(gakka[gakka.length - 1]);\n",
        "\n",
        "EOF\n",
        "\n",
        "# 一時ファイルを実行する\n",
        "node temp.js"
      ],
      "metadata": {
        "colab": {
          "base_uri": "https://localhost:8080/"
        },
        "id": "EY7o6bcadZhg",
        "outputId": "d292cd06-024e-447a-f277-f74d92512511"
      },
      "execution_count": null,
      "outputs": [
        {
          "output_type": "stream",
          "name": "stdout",
          "text": [
            "Josisu\n"
          ]
        }
      ]
    },
    {
      "cell_type": "markdown",
      "source": [
        "for文を組み合わせることで、簡単にすべての中身を表示するプログラムを書けます。 "
      ],
      "metadata": {
        "id": "yENuw_KxgJhM"
      }
    },
    {
      "cell_type": "code",
      "source": [
        "%%bash\n",
        "\n",
        "# 一時ファイルにコードを書き込む\n",
        "cat <<'EOF' > temp.js\n",
        "\n",
        "const gakka = [\"Ouka\", \"Denshi\", \"Josisu\"];\n",
        "for (let p of gakka) {\n",
        "  console.log(p);\n",
        "}\n",
        "\n",
        "EOF\n",
        "\n",
        "# 一時ファイルを実行する\n",
        "node temp.js"
      ],
      "metadata": {
        "colab": {
          "base_uri": "https://localhost:8080/"
        },
        "id": "Mn7_eAOmgLb9",
        "outputId": "004c7f62-ee07-4e89-c9bf-1a35040d78c7"
      },
      "execution_count": null,
      "outputs": [
        {
          "output_type": "stream",
          "name": "stdout",
          "text": [
            "Ouka\n",
            "Denshi\n",
            "Josisu\n"
          ]
        }
      ]
    },
    {
      "cell_type": "markdown",
      "source": [
        "### 配列内の合計と要素数の取得"
      ],
      "metadata": {
        "id": "fZwAGQpVgibc"
      }
    },
    {
      "cell_type": "markdown",
      "source": [
        "JavaScriptにも、リスト（配列）の合計を求めるための方法があります。  \n",
        "それは、**`reduce()`メソッド**を使うことです。\n",
        "\n",
        "`reduce()`メソッドは、リストの要素を1つずつ加算していき、最終的な合計値を返します。"
      ],
      "metadata": {
        "id": "MT8HUJ6lgkg8"
      }
    },
    {
      "cell_type": "markdown",
      "source": [
        "各学科の人数の合計を求めてみましょう。"
      ],
      "metadata": {
        "id": "1IKKowiGg8oT"
      }
    },
    {
      "cell_type": "code",
      "source": [
        "%%bash\n",
        "\n",
        "# 一時ファイルにコードを書き込む\n",
        "cat <<'EOF' > temp.js\n",
        "\n",
        "const ninzuu = [75, 99, 94];\n",
        "const total = ninzuu.reduce((acc, curr) => acc + curr, 0);\n",
        "console.log(`合計人数は${total}人です`);\n",
        "\n",
        "EOF\n",
        "\n",
        "# 一時ファイルを実行する\n",
        "node temp.js"
      ],
      "metadata": {
        "colab": {
          "base_uri": "https://localhost:8080/"
        },
        "id": "xMJL_vZQg-Ar",
        "outputId": "011ef534-9ef9-43aa-c582-0e2a44963b52"
      },
      "execution_count": null,
      "outputs": [
        {
          "output_type": "stream",
          "name": "stdout",
          "text": [
            "合計人数は268人です\n"
          ]
        }
      ]
    },
    {
      "cell_type": "markdown",
      "source": [
        "このコードでは、`ninzuu`という配列を定義し、`reduce()`メソッドを使って配列の合計を計算しています。\n",
        "\n",
        "`reduce()`メソッドには、1つ目の引数として、加算結果を累積するための初期値として0を渡し、  \n",
        "2つ目の引数として、リストの要素を加算する関数を定義しています。\n",
        "\n",
        "この関数は、前の処理結果を示す`acc`と、次に加算する要素を示す`curr`を  \n",
        "引数に取り、それらを加算した結果を返します。"
      ],
      "metadata": {
        "id": "gY8BJpqghFnr"
      }
    },
    {
      "cell_type": "markdown",
      "source": [
        "Javascriptには、平均を求めるメソッドはありません。\n",
        "\n",
        "\n",
        "しかし、配列の要素数で合計を割ることで平均値を求めることができます。   \n",
        "**`length`プロパティ**を使います。"
      ],
      "metadata": {
        "id": "tz9gp8NphoNk"
      }
    },
    {
      "cell_type": "code",
      "source": [
        "%%bash\n",
        "\n",
        "# 一時ファイルにコードを書き込む\n",
        "cat <<'EOF' > temp.js\n",
        "\n",
        "const ninzuu = [75, 99, 94];\n",
        "const total = ninzuu.reduce((acc, curr) => acc + curr, 0);\n",
        "const ave = total / ninzuu.length;\n",
        "console.log(`平均人数は${ave}人です`);\n",
        "\n",
        "EOF\n",
        "\n",
        "# 一時ファイルを実行する\n",
        "node temp.js"
      ],
      "metadata": {
        "colab": {
          "base_uri": "https://localhost:8080/"
        },
        "id": "h8v-cfUtiFI6",
        "outputId": "b52f80bf-adea-4ac3-ff81-d7e8bc7cb5da"
      },
      "execution_count": null,
      "outputs": [
        {
          "output_type": "stream",
          "name": "stdout",
          "text": [
            "平均人数は89.33333333333333人です\n"
          ]
        }
      ]
    },
    {
      "cell_type": "markdown",
      "source": [
        "### 配列のメソッド "
      ],
      "metadata": {
        "id": "f1ilKqicjZrP"
      }
    },
    {
      "cell_type": "markdown",
      "source": [
        " \n",
        "作成したリストの要素を追加したり削除したりできます。  \n",
        "[こちら](https://www.javadrive.jp/javascript/array/)のページには紹介していないメソッドもあります。"
      ],
      "metadata": {
        "id": "URcKR0VDjY2n"
      }
    },
    {
      "cell_type": "markdown",
      "source": [
        "#### 要素のカウント"
      ],
      "metadata": {
        "id": "FNLi0m4OkVUF"
      }
    },
    {
      "cell_type": "markdown",
      "source": [
        "Pythonでいう**`count`メソッド**のようなものは、Javascriptにはありません。  \n",
        "\n",
        "**`filter`メソッド**を使えば、似たようなことができます。\n",
        "\n"
      ],
      "metadata": {
        "id": "Bo7QRKgkkXYd"
      }
    },
    {
      "cell_type": "code",
      "source": [
        "%%bash\n",
        "\n",
        "# 一時ファイルにコードを書き込む\n",
        "cat <<'EOF' > temp.js\n",
        "\n",
        "const university = [\"Hokudai\", \"Hokudai\", \"Hokudai\", \"Hokudai\", \"Hokudai\",\n",
        "                    \"Hokudai\", \"Chitose\", \"Chitose\", \"Chitose\", \"Muroran\"];\n",
        "const count = university.filter((x) => x === \"Hokudai\").length;\n",
        "console.log(count);\n",
        "\n",
        "EOF\n",
        "\n",
        "# 一時ファイルを実行する\n",
        "node temp.js"
      ],
      "metadata": {
        "colab": {
          "base_uri": "https://localhost:8080/"
        },
        "id": "LfAwTneHk6g1",
        "outputId": "4ca21800-d939-4af0-9810-f5a8a0afca0f"
      },
      "execution_count": null,
      "outputs": [
        {
          "output_type": "stream",
          "name": "stdout",
          "text": [
            "6\n"
          ]
        }
      ]
    },
    {
      "cell_type": "markdown",
      "source": [
        "このコードでは、`university`という配列を定義し、`filter()メソッド`を使って  \n",
        "`hokudai`と等しい要素だけを取り出し、その数を取得しています。\n",
        "\n",
        "`filter()`メソッドは、配列の要素を一つずつ処理し、コールバック関数で  \n",
        "条件に合致するかどうかを判定して、新しい配列を作成します。\n",
        "\n",
        "その後、`length`プロパティで、新しい配列の要素数を取得しています。"
      ],
      "metadata": {
        "id": "7SaLOl47k_hc"
      }
    },
    {
      "cell_type": "markdown",
      "source": [
        "#### 要素の追加"
      ],
      "metadata": {
        "id": "P7yyMKPxRLI0"
      }
    },
    {
      "cell_type": "markdown",
      "source": [
        "作成した配列に要素を追加するには、**`push`メソッド**を使います。  \n",
        "配列の末尾に値が追加されます。"
      ],
      "metadata": {
        "id": "0wpqyZHav9B4"
      }
    },
    {
      "cell_type": "markdown",
      "source": [
        "以下のコードは、配列`university` に要素`Hakodate`を追加しているプログラムの例です。"
      ],
      "metadata": {
        "id": "O6867Bu4wL7p"
      }
    },
    {
      "cell_type": "code",
      "source": [
        "%%bash\n",
        "\n",
        "# 一時ファイルにコードを書き込む\n",
        "cat <<'EOF' > temp.js\n",
        "\n",
        "let university = [\"Chitose\", \"Hokudai\", \"Muroran\"];\n",
        "console.log(university);\n",
        "university.push(\"Hakodate\");\n",
        "console.log(university);\n",
        "\n",
        "EOF\n",
        "\n",
        "# 一時ファイルを実行する\n",
        "node temp.js"
      ],
      "metadata": {
        "colab": {
          "base_uri": "https://localhost:8080/"
        },
        "id": "TLeYeorLl3Ei",
        "outputId": "8d0562ef-cb1b-4de2-de2f-3070f5f35ec6"
      },
      "execution_count": null,
      "outputs": [
        {
          "output_type": "stream",
          "name": "stdout",
          "text": [
            "[ 'Chitose', 'Hokudai', 'Muroran' ]\n",
            "[ 'Chitose', 'Hokudai', 'Muroran', 'Hakodate' ]\n"
          ]
        }
      ]
    },
    {
      "cell_type": "markdown",
      "source": [
        "この`push`メソッドとfor文を応用すると、以下のようなリストの作成ができます。"
      ],
      "metadata": {
        "id": "er8twV0dwQAf"
      }
    },
    {
      "cell_type": "code",
      "source": [
        "%%bash\n",
        "\n",
        "# 一時ファイルにコードを書き込む\n",
        "cat <<'EOF' > temp.js\n",
        "\n",
        "// 空の配列を作成する\n",
        "let s = [];\n",
        "\n",
        "// for文とpush()で配列の中身を追加する\n",
        "for (let i = 0; i < 5; i++) {\n",
        "  s.push(i);\n",
        "}\n",
        "\n",
        "// 結果の確認\n",
        "console.log(s);\n",
        "\n",
        "EOF\n",
        "\n",
        "# 一時ファイルを実行する\n",
        "node temp.js"
      ],
      "metadata": {
        "colab": {
          "base_uri": "https://localhost:8080/"
        },
        "id": "Ye_jeZfRmEoZ",
        "outputId": "95158653-3dbb-4385-d66b-eb9a7eeb5c17"
      },
      "execution_count": null,
      "outputs": [
        {
          "output_type": "stream",
          "name": "stdout",
          "text": [
            "[ 0, 1, 2, 3, 4 ]\n"
          ]
        }
      ]
    },
    {
      "cell_type": "markdown",
      "source": [
        "#### 要素の削除"
      ],
      "metadata": {
        "id": "TaJfxcDvm_kx"
      }
    },
    {
      "cell_type": "markdown",
      "source": [
        "**`pop`メソッド**を使うと、配列の末尾の要素を削除することができます。"
      ],
      "metadata": {
        "id": "8lM-JQOBnJxg"
      }
    },
    {
      "cell_type": "code",
      "source": [
        "%%bash\n",
        "\n",
        "# 一時ファイルにコードを書き込む\n",
        "cat <<'EOF' > temp.js\n",
        "\n",
        "let university = [\"Chitose\", \"Hokudai\", \"Muroran\"];\n",
        "console.log(university);\n",
        "university.pop();\n",
        "console.log(university);\n",
        "\n",
        "EOF\n",
        "\n",
        "# 一時ファイルを実行する\n",
        "node temp.js"
      ],
      "metadata": {
        "colab": {
          "base_uri": "https://localhost:8080/"
        },
        "id": "cF15ONsTndon",
        "outputId": "b08b645e-b94a-4d6c-d477-b85919d44ef6"
      },
      "execution_count": null,
      "outputs": [
        {
          "output_type": "stream",
          "name": "stdout",
          "text": [
            "[ 'Chitose', 'Hokudai', 'Muroran' ]\n",
            "[ 'Chitose', 'Hokudai' ]\n"
          ]
        }
      ]
    },
    {
      "cell_type": "markdown",
      "source": [
        "`length`プロパティを0に設定することで、配列内の要素をすべて削除します。"
      ],
      "metadata": {
        "id": "m54ua0konuZZ"
      }
    },
    {
      "cell_type": "code",
      "source": [
        "%%bash\n",
        "\n",
        "# 一時ファイルにコードを書き込む\n",
        "cat <<'EOF' > temp.js\n",
        "\n",
        "let university = ['Chitose', 'Hokudai', 'Hakodate', 'Muroran'];\n",
        "console.log(university);\n",
        "university.length = 0;\n",
        "console.log(university);\n",
        "\n",
        "EOF\n",
        "\n",
        "# 一時ファイルを実行する\n",
        "node temp.js"
      ],
      "metadata": {
        "colab": {
          "base_uri": "https://localhost:8080/"
        },
        "id": "3bMQcuGon2mg",
        "outputId": "483b177e-7d6e-427b-db37-62ae9ca573d8"
      },
      "execution_count": null,
      "outputs": [
        {
          "output_type": "stream",
          "name": "stdout",
          "text": [
            "[ 'Chitose', 'Hokudai', 'Hakodate', 'Muroran' ]\n",
            "[]\n"
          ]
        }
      ]
    },
    {
      "cell_type": "markdown",
      "source": [
        "#### 指定位置への要素の追加と削除"
      ],
      "metadata": {
        "id": "AtVJNkpwo9X0"
      }
    },
    {
      "cell_type": "markdown",
      "source": [
        "**`splice`メソッド**では、配列の指定された位置に新しい要素を挿入したり、既存の要素を削除したりします。"
      ],
      "metadata": {
        "id": "j2gI8dHIpux8"
      }
    },
    {
      "cell_type": "markdown",
      "source": [
        "第一引数は、挿入または削除を開始するインデックスです。  \n",
        "第二引数は、削除する要素の数です。  \n",
        "第三引数以降は、新しい要素です。"
      ],
      "metadata": {
        "id": "2AGOairep2bc"
      }
    },
    {
      "cell_type": "markdown",
      "source": [
        "下記のコードでは、2番目の位置に\"Hakodate\"を挿入し、元の要素を後ろに移動させています。"
      ],
      "metadata": {
        "id": "s1pte7PKsL2T"
      }
    },
    {
      "cell_type": "code",
      "source": [
        "%%bash\n",
        "\n",
        "# 一時ファイルにコードを書き込む\n",
        "cat <<'EOF' > temp.js\n",
        "\n",
        "let university = [\"Chitose\", \"Hokudai\", \"Muroran\"];\n",
        "console.log(university);\n",
        "university.splice(2, 0, \"Hakodate\");\n",
        "console.log(university);\n",
        "\n",
        "EOF\n",
        "\n",
        "# 一時ファイルを実行する\n",
        "node temp.js"
      ],
      "metadata": {
        "colab": {
          "base_uri": "https://localhost:8080/"
        },
        "id": "1Zhroh6VsX3I",
        "outputId": "a109efc0-c100-4518-d14a-03c96e76cf0e"
      },
      "execution_count": null,
      "outputs": [
        {
          "output_type": "stream",
          "name": "stdout",
          "text": [
            "[ 'Chitose', 'Hokudai', 'Muroran' ]\n",
            "[ 'Chitose', 'Hokudai', 'Hakodate', 'Muroran' ]\n"
          ]
        }
      ]
    },
    {
      "cell_type": "markdown",
      "source": [
        "下記のコードでは、2番目の要素を削除しています。  \n"
      ],
      "metadata": {
        "id": "n7lxogRHspGN"
      }
    },
    {
      "cell_type": "code",
      "source": [
        "%%bash\n",
        "\n",
        "# 一時ファイルにコードを書き込む\n",
        "cat <<'EOF' > temp.js\n",
        "\n",
        "let university = ['Chitose', 'Hokudai', 'Hakodate', 'Muroran'];\n",
        "console.log(university);\n",
        "university.splice(2, 1);\n",
        "console.log(university);\n",
        "\n",
        "EOF\n",
        "\n",
        "# 一時ファイルを実行する\n",
        "node temp.js"
      ],
      "metadata": {
        "colab": {
          "base_uri": "https://localhost:8080/"
        },
        "id": "WnLbclegs_ut",
        "outputId": "9647c3d4-ca37-4f54-8eec-29ba8e8c0eee"
      },
      "execution_count": null,
      "outputs": [
        {
          "output_type": "stream",
          "name": "stdout",
          "text": [
            "[ 'Chitose', 'Hokudai', 'Hakodate', 'Muroran' ]\n",
            "[ 'Chitose', 'Hokudai', 'Muroran' ]\n"
          ]
        }
      ]
    },
    {
      "cell_type": "markdown",
      "source": [
        "オブジェクトを指定して要素を削除することもできます。   \n",
        "**`indexOf()`メソッド**を使用して\"Hakodate\"のインデックスを検索しています。\n",
        "\n",
        "同じオブジェクトが2回出てくると、最初にヒットする方だけ削除されます。"
      ],
      "metadata": {
        "id": "-3PRor7VtNJE"
      }
    },
    {
      "cell_type": "code",
      "source": [
        "%%bash\n",
        "\n",
        "# 一時ファイルにコードを書き込む\n",
        "cat <<'EOF' > temp.js\n",
        "\n",
        "let university = ['Chitose', 'Hokudai', 'Hakodate', 'Muroran'];\n",
        "console.log(university);\n",
        "university.splice(university.indexOf('Hakodate'), 1);\n",
        "console.log(university);\n",
        "\n",
        "EOF\n",
        "\n",
        "# 一時ファイルを実行する\n",
        "node temp.js"
      ],
      "metadata": {
        "colab": {
          "base_uri": "https://localhost:8080/"
        },
        "id": "FLr0vCkXsza1",
        "outputId": "80495742-910e-4007-bf0b-20a2611dbc8d"
      },
      "execution_count": null,
      "outputs": [
        {
          "output_type": "stream",
          "name": "stdout",
          "text": [
            "[ 'Chitose', 'Hokudai', 'Hakodate', 'Muroran' ]\n",
            "[ 'Chitose', 'Hokudai', 'Muroran' ]\n"
          ]
        }
      ]
    },
    {
      "cell_type": "markdown",
      "source": [
        "#### 配列のソート（昇順・降順）"
      ],
      "metadata": {
        "id": "ShjsBFK-t-XK"
      }
    },
    {
      "cell_type": "markdown",
      "source": [
        "\n",
        "**`sort`メソッド**を使うと、配列の要素を昇順に並び替えることができます。    \n",
        "\n",
        "`sort`メソッドの後に**`reverse`メソッド**をつけると、降順に並び替えることができます。"
      ],
      "metadata": {
        "id": "MeBqBvFit9ku"
      }
    },
    {
      "cell_type": "code",
      "source": [
        "%%bash\n",
        "\n",
        "# 一時ファイルにコードを書き込む\n",
        "cat <<'EOF' > temp.js\n",
        "\n",
        "let university = ['Chitose', 'Hokudai', 'Hakodate', 'Muroran'];\n",
        "console.log(university);\n",
        "\n",
        "let university1 = university.sort();  // 昇順（アルファベット順）に並び替え\n",
        "console.log(university1);\n",
        "\n",
        "let university2 = university.sort().reverse();  // 降順（アルファベット順）に並び替え\n",
        "console.log(university2);\n",
        "\n",
        "EOF\n",
        "\n",
        "# 一時ファイルを実行する\n",
        "node temp.js"
      ],
      "metadata": {
        "colab": {
          "base_uri": "https://localhost:8080/"
        },
        "id": "Xrig1tAWuMLp",
        "outputId": "7c3fef23-f43f-4d1e-e846-8540e8695d6a"
      },
      "execution_count": null,
      "outputs": [
        {
          "output_type": "stream",
          "name": "stdout",
          "text": [
            "[ 'Chitose', 'Hokudai', 'Hakodate', 'Muroran' ]\n",
            "[ 'Chitose', 'Hakodate', 'Hokudai', 'Muroran' ]\n",
            "[ 'Muroran', 'Hokudai', 'Hakodate', 'Chitose' ]\n"
          ]
        }
      ]
    },
    {
      "cell_type": "markdown",
      "source": [
        "#### 配列の結合"
      ],
      "metadata": {
        "id": "9vx4trk6u6t5"
      }
    },
    {
      "cell_type": "markdown",
      "source": [
        "**`concat`メソッド**をつかうと、配列を結合することができます。"
      ],
      "metadata": {
        "id": "o-O-XsiMu85B"
      }
    },
    {
      "cell_type": "code",
      "source": [
        "%%bash\n",
        "\n",
        "# 一時ファイルにコードを書き込む\n",
        "cat <<'EOF' > temp.js\n",
        "\n",
        "let gakka_2022 = [75, 99, 94];\n",
        "let gakka_2021 = [80, 83, 90];\n",
        "let gakka = gakka_2022.concat(gakka_2021);\n",
        "console.log(gakka);\n",
        "\n",
        "EOF\n",
        "\n",
        "# 一時ファイルを実行する\n",
        "node temp.js"
      ],
      "metadata": {
        "colab": {
          "base_uri": "https://localhost:8080/"
        },
        "id": "OOJacyc_veNo",
        "outputId": "8cca666a-6baa-4b0c-c898-e4221455af4a"
      },
      "execution_count": null,
      "outputs": [
        {
          "output_type": "stream",
          "name": "stdout",
          "text": [
            "[ 75, 99, 94, 80, 83, 90 ]\n"
          ]
        }
      ]
    },
    {
      "cell_type": "markdown",
      "source": [
        "#### joinとsplit"
      ],
      "metadata": {
        "id": "q7SwVld5vn_0"
      }
    },
    {
      "cell_type": "markdown",
      "source": [
        "**`join`メソッド**を使うと、文字列の配列を一つの文字列に連結できます。  \n",
        "このとき、結合する際の区切り文字を指定できます。"
      ],
      "metadata": {
        "id": "IIWoeUlyvqM4"
      }
    },
    {
      "cell_type": "code",
      "source": [
        "%%bash\n",
        "\n",
        "# 一時ファイルにコードを書き込む\n",
        "cat <<'EOF' > temp.js\n",
        "\n",
        "let university = ['Chitose', 'Hokudai', 'Hakodate', 'Muroran'];\n",
        "\n",
        "let text = university.join(\" \");  // 空白で文字列を区切る\n",
        "console.log(text);\n",
        "\n",
        "text = university.join(\"\\\\\");  // \"\\\"で文字列を区切る\n",
        "console.log(text);\n",
        "\n",
        "EOF\n",
        "\n",
        "# 一時ファイルを実行する\n",
        "node temp.js"
      ],
      "metadata": {
        "colab": {
          "base_uri": "https://localhost:8080/"
        },
        "id": "FKFfiEmnvvLx",
        "outputId": "9a1fef63-ce13-49e6-d219-9f51d75a5faa"
      },
      "execution_count": null,
      "outputs": [
        {
          "output_type": "stream",
          "name": "stdout",
          "text": [
            "Chitose Hokudai Hakodate Muroran\n",
            "Chitose\\Hokudai\\Hakodate\\Muroran\n"
          ]
        }
      ]
    },
    {
      "cell_type": "markdown",
      "source": [
        "文字列の**`split`メソッド**を使うと、文字列の区切り文字を指定できます。\n",
        "\n",
        "引数に文字列を分割する際の区切り文字を指定します。  \n",
        "省略した場合は**空白**で文字列を分割します。"
      ],
      "metadata": {
        "id": "76I2BVYcwXNX"
      }
    },
    {
      "cell_type": "code",
      "source": [
        "%%bash\n",
        "\n",
        "# 一時ファイルにコードを書き込む\n",
        "cat <<'EOF' > temp.js\n",
        "\n",
        "let filename = \"sample.py\";\n",
        "let splitFilename = filename.split(\".\");\n",
        "console.log(splitFilename[0]); // \".\"の左側の文字列を出力\n",
        "console.log(splitFilename[1]); // \".\"の右側の文字列を出力\n",
        "\n",
        "EOF\n",
        "\n",
        "# 一時ファイルを実行する\n",
        "node temp.js"
      ],
      "metadata": {
        "colab": {
          "base_uri": "https://localhost:8080/"
        },
        "id": "RXVlzookwZem",
        "outputId": "a45000e3-2887-4a2e-d207-a7690db81952"
      },
      "execution_count": null,
      "outputs": [
        {
          "output_type": "stream",
          "name": "stdout",
          "text": [
            "sample\n",
            "py\n"
          ]
        }
      ]
    },
    {
      "cell_type": "markdown",
      "source": [
        "上記のコードでは、`split()`メソッドを使用して、  \n",
        "\".\"を区切り文字として文字列を分割しています。\n",
        "\n",
        "分割された文字列は、配列の要素として変数`splitFilename`に代入されます。  \n",
        "そして、配列のインデックスを指定して、\".\"の左側と右側の文字列を取得しています。"
      ],
      "metadata": {
        "id": "QDi_fdgQwgzO"
      }
    },
    {
      "cell_type": "markdown",
      "source": [
        "**正規表現**を使うことで、複数条件で文字列を分割することができます。  \n",
        "詳しくは[こちら](https://www.javadrive.jp/javascript/regexp/)の記事などが参考になります。"
      ],
      "metadata": {
        "id": "KprxCcOMw0ML"
      }
    },
    {
      "cell_type": "code",
      "source": [
        "%%bash\n",
        "\n",
        "# 一時ファイルにコードを書き込む\n",
        "cat <<'EOF' > temp.js\n",
        "\n",
        "let filename = \"PythonBasic_4.ipynb\";\n",
        "let splitFilename = filename.split(/[_\\.]/);\n",
        "console.log(splitFilename[0]); // \"_\"の左側の文字列を出力\n",
        "console.log(splitFilename[1]); // \"_\"の右側の文字列を出力\n",
        "console.log(splitFilename[2]); // \".\"の右側の文字列を出力\n",
        "\n",
        "EOF\n",
        "\n",
        "# 一時ファイルを実行する\n",
        "node temp.js"
      ],
      "metadata": {
        "colab": {
          "base_uri": "https://localhost:8080/"
        },
        "id": "2YkvrpsMxFAc",
        "outputId": "c2df09ae-2efd-4660-ec49-b0a4b6137fad"
      },
      "execution_count": null,
      "outputs": [
        {
          "output_type": "stream",
          "name": "stdout",
          "text": [
            "PythonBasic\n",
            "4\n",
            "ipynb\n"
          ]
        }
      ]
    },
    {
      "cell_type": "markdown",
      "source": [
        "### 要素の変更"
      ],
      "metadata": {
        "id": "UQnVDFH_xsx2"
      }
    },
    {
      "cell_type": "markdown",
      "source": [
        "配列内の特定の要素の内容は変更できます。\n",
        "\n",
        "``` javascript\n",
        "配列[添え字] = 変更値\n",
        "```"
      ],
      "metadata": {
        "id": "wGYrWrFOxuzs"
      }
    },
    {
      "cell_type": "markdown",
      "source": [
        "以下のコードは、配列の2番目の要素を変更するプログラムです。"
      ],
      "metadata": {
        "id": "CXZ_Kn4px2Sz"
      }
    },
    {
      "cell_type": "code",
      "source": [
        "%%bash\n",
        "\n",
        "# 一時ファイルにコードを書き込む\n",
        "cat <<'EOF' > temp.js\n",
        "\n",
        "let university = ['Chitose', 'Hokudai', 'Hakodate', 'Muroran'];\n",
        "university[2] = \"Kitami\";\n",
        "console.log(university);\n",
        "\n",
        "EOF\n",
        "\n",
        "# 一時ファイルを実行する\n",
        "node temp.js"
      ],
      "metadata": {
        "colab": {
          "base_uri": "https://localhost:8080/"
        },
        "id": "J5ojR2_-x5T8",
        "outputId": "31f739c4-b129-42fb-cdd1-fd029bb6822a"
      },
      "execution_count": null,
      "outputs": [
        {
          "output_type": "stream",
          "name": "stdout",
          "text": [
            "[ 'Chitose', 'Hokudai', 'Kitami', 'Muroran' ]\n"
          ]
        }
      ]
    },
    {
      "cell_type": "markdown",
      "source": [
        "`splice()`メソッドを使用しても、同じことができます。"
      ],
      "metadata": {
        "id": "0HsHXsn3yA9c"
      }
    },
    {
      "cell_type": "code",
      "source": [
        "%%bash\n",
        "\n",
        "# 一時ファイルにコードを書き込む\n",
        "cat <<'EOF' > temp.js\n",
        "\n",
        "let university = ['Chitose', 'Hokudai', 'Hakodate', 'Muroran'];\n",
        "university.splice(2, 1, \"Kitami\");\n",
        "console.log(university);\n",
        "\n",
        "EOF\n",
        "\n",
        "# 一時ファイルを実行する\n",
        "node temp.js"
      ],
      "metadata": {
        "colab": {
          "base_uri": "https://localhost:8080/"
        },
        "id": "XrBtLi6gyFJT",
        "outputId": "e4baaa19-d496-4cac-cfd2-c7aafe54a352"
      },
      "execution_count": null,
      "outputs": [
        {
          "output_type": "stream",
          "name": "stdout",
          "text": [
            "[ 'Chitose', 'Hokudai', 'Kitami', 'Muroran' ]\n"
          ]
        }
      ]
    },
    {
      "cell_type": "markdown",
      "source": [
        "### 配列の要素のスライス"
      ],
      "metadata": {
        "id": "ptlJOT6Cyd2b"
      }
    },
    {
      "cell_type": "markdown",
      "source": [
        "配列で要素を指定する際、**スライス**という構文を用いることで、  \n",
        "連続した範囲にある要素を参照することができます。\n",
        "\n",
        "``` javascript\n",
        "array.slice(start, end)\n",
        "```"
      ],
      "metadata": {
        "id": "BzimiTbvyg5i"
      }
    },
    {
      "cell_type": "markdown",
      "source": [
        "ここで、**`start`**はスライスの開始位置を指定する整数値であり、  \n",
        "**`end`**はスライスの終了位置を指定する整数値です。\n",
        "\n",
        "**`end`**で指定したインデックスはスライスには含まれないことに注意してください。"
      ],
      "metadata": {
        "id": "mHCHi_WIytky"
      }
    },
    {
      "cell_type": "markdown",
      "source": [
        "また、`start`と`end`は省略可能であり、  \n",
        "省略された場合は、配列の先頭からの最初の要素から、配列の末尾までが選択されます。\n",
        "\n",
        "`start`と`end`がどちらも省略された場合は、元の配列のコピーが返されます。\n",
        "\n"
      ],
      "metadata": {
        "id": "ub7GjHuAy38K"
      }
    },
    {
      "cell_type": "markdown",
      "source": [
        "スライスした配列は、元の配列とは別の新しい配列として返されます。"
      ],
      "metadata": {
        "id": "u7FlZ8mWzB6b"
      }
    },
    {
      "cell_type": "code",
      "source": [
        "%%bash\n",
        "\n",
        "# 一時ファイルにコードを書き込む\n",
        "cat <<'EOF' > temp.js\n",
        "\n",
        "let a = [10, 20, 30, 40, 50, 60, 70, 80, 90, 100];\n",
        "\n",
        "console.log(a.slice(1, 3));  // 添え字が1以上3未満の要素\n",
        "console.log(a.slice(2));  // 添え字が2以上の全ての要素\n",
        "console.log(a.slice(0, 3));  // 添え字が未満の全ての要素\n",
        "console.log(a.slice());  // 全ての要素\n",
        "console.log(a.filter((_, i) => i % 2 === 0));  // 2つ飛ばし\n",
        "\n",
        "EOF\n",
        "\n",
        "# 一時ファイルを実行する\n",
        "node temp.js"
      ],
      "metadata": {
        "id": "Ps7G-6nJzUKZ"
      },
      "execution_count": null,
      "outputs": []
    },
    {
      "cell_type": "markdown",
      "source": [
        "Javascriptでは、増減値を指定することができません。\n",
        "\n",
        "代わりに `filter()` メソッドを使用することで、  \n",
        "指定したステップごとに要素を取り出すことができます。"
      ],
      "metadata": {
        "id": "rxOrVBgdzWMp"
      }
    },
    {
      "cell_type": "markdown",
      "source": [
        "### .includes()"
      ],
      "metadata": {
        "id": "5O95-VSkz0K3"
      }
    },
    {
      "cell_type": "markdown",
      "source": [
        "listオブジェクトに対しても、**`.includes()`**メソッドを適用することができます。\n",
        "\n",
        "|使い方|説明|\n",
        "| :---: | :---: |\n",
        "|b.includes(a)|aはbに含まれる|\n",
        "|!b.includes(a)|aがbに含まれていない|"
      ],
      "metadata": {
        "id": "F8L-I5Xxz4bu"
      }
    },
    {
      "cell_type": "code",
      "source": [
        "%%bash\n",
        "\n",
        "# 一時ファイルにコードを書き込む\n",
        "cat <<'EOF' > temp.js\n",
        "\n",
        "let a = [10, 20, 30, 40, 50, 60, 70, 80, 90, 100];\n",
        "\n",
        "const university = ['Chitose', 'Hokudai', 'Hakodate', 'Muroran'];\n",
        "\n",
        "// 文字列\"Hokudai\"が配列内に入っているかどうか\n",
        "console.log(university.includes(\"Hokudai\"));\n",
        "// 文字列\"Hokudai\"が配列内に入っていないかどうか\n",
        "console.log(!university.includes(\"Hokudai\"));\n",
        "\n",
        "// 文字列\"Kitami\"が配列内に入っているかどうか\n",
        "console.log(university.includes(\"Kitami\"));\n",
        "// 文字列\"Kitami\"が配列内に入っていないかどうか\n",
        "console.log(!university.includes(\"Kitami\"));\n",
        "\n",
        "EOF\n",
        "\n",
        "# 一時ファイルを実行する\n",
        "node temp.js"
      ],
      "metadata": {
        "colab": {
          "base_uri": "https://localhost:8080/"
        },
        "id": "oqBLlJ5Y0Dtl",
        "outputId": "bbfd3adf-0d14-40ce-ffa8-3731451ac321"
      },
      "execution_count": null,
      "outputs": [
        {
          "output_type": "stream",
          "name": "stdout",
          "text": [
            "true\n",
            "false\n",
            "false\n",
            "true\n"
          ]
        }
      ]
    },
    {
      "cell_type": "markdown",
      "source": [
        "### 二次元配列"
      ],
      "metadata": {
        "id": "wtqy01qR0ece"
      }
    },
    {
      "cell_type": "markdown",
      "source": [
        "配列の中に配列を入れた構造は、**2次元配列**と呼ばれます。  \n",
        "表の構造を持つデータ管理などに使われます。"
      ],
      "metadata": {
        "id": "MfN660q30qsD"
      }
    },
    {
      "cell_type": "code",
      "source": [
        "%%bash\n",
        "\n",
        "# 一時ファイルにコードを書き込む\n",
        "cat <<'EOF' > temp.js\n",
        "\n",
        "let number = [\n",
        "  [\"Ouka\",80,75],   // 0行目\n",
        "  [\"Denshi\",83,99], // 1行目\n",
        "  [\"Josisu\",90,94]  // 2行目\n",
        "];\n",
        "\n",
        "console.log(number);  // リストnumber全体を参照\n",
        "console.log(number[0]);  // リストnumberの0番目だけを参照\n",
        "console.log(`${number[1][0]}の2022年の人数は${number[1][2]}人です`);  // リストnumberの1番目だけを参照\n",
        "\n",
        "EOF\n",
        "\n",
        "# 一時ファイルを実行する\n",
        "node temp.js"
      ],
      "metadata": {
        "colab": {
          "base_uri": "https://localhost:8080/"
        },
        "id": "hf-JghdR01z_",
        "outputId": "1425aae0-0e6e-4b92-868c-e2d937eaaacc"
      },
      "execution_count": null,
      "outputs": [
        {
          "output_type": "stream",
          "name": "stdout",
          "text": [
            "[ [ 'Ouka', 80, 75 ],\n",
            "  [ 'Denshi', 83, 99 ],\n",
            "  [ 'Josisu', 90, 94 ] ]\n",
            "[ 'Ouka', 80, 75 ]\n",
            "Denshiの2022年の人数は99人です\n"
          ]
        }
      ]
    }
  ]
}